{
  "cells": [
    {
      "cell_type": "markdown",
      "metadata": {
        "id": "view-in-github",
        "colab_type": "text"
      },
      "source": [
        "<a href=\"https://colab.research.google.com/github/nyksrox/NIKHILR/blob/master/Top%2010%20Encoding%20of%20Categorical%20Variables.ipynb\" target=\"_parent\"><img src=\"https://colab.research.google.com/assets/colab-badge.svg\" alt=\"Open In Colab\"/></a>"
      ]
    },
    {
      "cell_type": "code",
      "execution_count": null,
      "id": "86ee1ea3",
      "metadata": {
        "id": "86ee1ea3"
      },
      "outputs": [],
      "source": [
        "import pandas as pd\n",
        "import numpy as np\n",
        "import sklearn\n",
        "import seaborn as sns\n",
        "import pyodbc"
      ]
    },
    {
      "cell_type": "code",
      "execution_count": null,
      "id": "b1663d72",
      "metadata": {
        "id": "b1663d72"
      },
      "outputs": [],
      "source": [
        "from pandas.api.types import is_numeric_dtype\n",
        "import matplotlib.pyplot as plt\n",
        "from matplotlib.colors import ListedColormap\n",
        "import math"
      ]
    },
    {
      "cell_type": "code",
      "execution_count": null,
      "id": "14187ddb",
      "metadata": {
        "id": "14187ddb"
      },
      "outputs": [],
      "source": [
        "connection = pyodbc.connect('Driver={SQL Server};Server=10.115.74.4;DATABASE=AfterPay_V1_AI;Trusted_Connection=Yes;')"
      ]
    },
    {
      "cell_type": "code",
      "execution_count": null,
      "id": "33f51eee",
      "metadata": {
        "id": "33f51eee"
      },
      "outputs": [],
      "source": [
        "data = pd.DataFrame()\n",
        "for chunk in pd.read_sql_query('SELECT * FROM AfterPay_V1_AI.[dbo].[tbl_DynamicTemplates_Segments]',connection,chunksize=10000):\n",
        "    data = pd.concat([data,chunk],axis=0)"
      ]
    },
    {
      "cell_type": "code",
      "execution_count": null,
      "id": "a9293960",
      "metadata": {
        "id": "a9293960",
        "outputId": "c6eb7fd8-270f-49bf-cc49-b93dccdfcf4d"
      },
      "outputs": [
        {
          "name": "stdout",
          "output_type": "stream",
          "text": [
            "<class 'pandas.core.frame.DataFrame'>\n",
            "Int64Index: 139659 entries, 0 to 9658\n",
            "Data columns (total 37 columns):\n",
            " #   Column              Non-Null Count   Dtype         \n",
            "---  ------              --------------   -----         \n",
            " 0   AcctID              139659 non-null  object        \n",
            " 1   PlaceDate           139659 non-null  datetime64[ns]\n",
            " 2   CMState             139659 non-null  object        \n",
            " 3   PlaceAmt            139659 non-null  float64       \n",
            " 4   Age_Bracket         139659 non-null  object        \n",
            " 5   TU_Band             139659 non-null  object        \n",
            " 6   Ttl_Prchs_Amt       139659 non-null  float64       \n",
            " 7   Avg_Prchs_Amt       139659 non-null  float64       \n",
            " 8   Max_Prchs_Amt       139659 non-null  float64       \n",
            " 9   Ttl_Pymnt_Pd        139659 non-null  float64       \n",
            " 10  Avg_Pymnt_Pd        139659 non-null  float64       \n",
            " 11  Max_Pymnt_Pd        139659 non-null  float64       \n",
            " 12  Ttl_Pymnt_Ovrd      139659 non-null  float64       \n",
            " 13  Avg_Pymnt_Ovrd      139659 non-null  float64       \n",
            " 14  Max_Pymnt_Ovrd      139659 non-null  float64       \n",
            " 15  No_Of_Pymnts        139659 non-null  int64         \n",
            " 16  No_Of_Lt_Pymnts     139659 non-null  int64         \n",
            " 17  No_Of_Ovrd_Pymnts   139659 non-null  int64         \n",
            " 18  Ttl_LtF_Pd          139659 non-null  float64       \n",
            " 19  Ttl_Lt_Fee_Ovrd     139659 non-null  float64       \n",
            " 20  Unique_Mrchnt_Cnt   139659 non-null  int64         \n",
            " 21  Top_Mrchnt          139659 non-null  object        \n",
            " 22  Frst_Trnsctn_Dt     139659 non-null  datetime64[ns]\n",
            " 23  Lst_Trnsctn_Dt      139659 non-null  datetime64[ns]\n",
            " 24  No_of_Transactions  139659 non-null  int64         \n",
            " 25  Ttl_Tenure          139659 non-null  int64         \n",
            " 26  Max_Sequence        139659 non-null  int64         \n",
            " 27  Ttl_NR_Emails       139659 non-null  int64         \n",
            " 28  Ttl_Open            139659 non-null  int64         \n",
            " 29  Ttl_Bounce          139659 non-null  int64         \n",
            " 30  Ttl_Clicked         139659 non-null  int64         \n",
            " 31  Ttl_Unsbsrcb        139659 non-null  int64         \n",
            " 32  Ttl_Spam            139659 non-null  int64         \n",
            " 33  Open_Engagement     139659 non-null  int64         \n",
            " 34  Click_Engagement    139659 non-null  int64         \n",
            " 35  Opn_Prop            139659 non-null  float64       \n",
            " 36  Clck_Prop           139659 non-null  float64       \n",
            "dtypes: datetime64[ns](3), float64(14), int64(15), object(5)\n",
            "memory usage: 40.5+ MB\n",
            "None\n"
          ]
        }
      ],
      "source": [
        "print(data.info())"
      ]
    },
    {
      "cell_type": "code",
      "execution_count": null,
      "id": "2341e730",
      "metadata": {
        "id": "2341e730"
      },
      "outputs": [],
      "source": [
        "#print(data.dtypes)"
      ]
    },
    {
      "cell_type": "code",
      "execution_count": null,
      "id": "aa2665af",
      "metadata": {
        "id": "aa2665af"
      },
      "outputs": [],
      "source": [
        "data = data.drop(columns=['Ttl_NR_Emails', 'Ttl_Open', 'Ttl_Bounce', 'Ttl_Clicked', 'Ttl_Unsbsrcb', 'Ttl_Spam', 'Open_Engagement','Opn_Prop','Clck_Prop'])"
      ]
    },
    {
      "cell_type": "code",
      "execution_count": null,
      "id": "21563bef",
      "metadata": {
        "id": "21563bef",
        "outputId": "fd51047d-208b-4fd3-e75a-e3689b024e25"
      },
      "outputs": [
        {
          "name": "stdout",
          "output_type": "stream",
          "text": [
            "['AcctID', 'PlaceDate', 'CMState', 'PlaceAmt', 'Age_Bracket', 'TU_Band', 'Ttl_Prchs_Amt', 'Avg_Prchs_Amt', 'Max_Prchs_Amt', 'Ttl_Pymnt_Pd', 'Avg_Pymnt_Pd', 'Max_Pymnt_Pd', 'Ttl_Pymnt_Ovrd', 'Avg_Pymnt_Ovrd', 'Max_Pymnt_Ovrd', 'No_Of_Pymnts', 'No_Of_Lt_Pymnts', 'No_Of_Ovrd_Pymnts', 'Ttl_LtF_Pd', 'Ttl_Lt_Fee_Ovrd', 'Unique_Mrchnt_Cnt', 'Top_Mrchnt', 'Frst_Trnsctn_Dt', 'Lst_Trnsctn_Dt', 'No_of_Transactions', 'Ttl_Tenure', 'Max_Sequence', 'Click_Engagement']\n"
          ]
        }
      ],
      "source": [
        "print(list(data.columns))"
      ]
    },
    {
      "cell_type": "code",
      "execution_count": null,
      "id": "8261e230",
      "metadata": {
        "id": "8261e230"
      },
      "outputs": [],
      "source": [
        "df = pd.DataFrame(data)"
      ]
    },
    {
      "cell_type": "code",
      "execution_count": null,
      "id": "15b6d43e",
      "metadata": {
        "id": "15b6d43e"
      },
      "outputs": [],
      "source": [
        "#print(df.dtypes)"
      ]
    },
    {
      "cell_type": "code",
      "execution_count": null,
      "id": "f9b05c10",
      "metadata": {
        "id": "f9b05c10",
        "outputId": "199ed3c8-0542-4492-f8fc-09fb529f379a"
      },
      "outputs": [
        {
          "data": {
            "text/plain": [
              "['AcctID', 'CMState', 'Age_Bracket', 'TU_Band', 'Top_Mrchnt']"
            ]
          },
          "execution_count": 342,
          "metadata": {},
          "output_type": "execute_result"
        }
      ],
      "source": [
        "list(df.select_dtypes(['object']).columns)"
      ]
    },
    {
      "cell_type": "code",
      "execution_count": null,
      "id": "d067552b",
      "metadata": {
        "id": "d067552b"
      },
      "outputs": [],
      "source": [
        "df1 = df.drop(columns=['AcctID'])\n"
      ]
    },
    {
      "cell_type": "code",
      "execution_count": null,
      "id": "5c171fc9",
      "metadata": {
        "id": "5c171fc9",
        "outputId": "8d7c2c02-2518-4cf1-fb64-3b7ee25218b8"
      },
      "outputs": [
        {
          "name": "stdout",
          "output_type": "stream",
          "text": [
            "PlaceDate             datetime64[ns]\n",
            "CMState                       object\n",
            "PlaceAmt                     float64\n",
            "Age_Bracket                   object\n",
            "TU_Band                       object\n",
            "Ttl_Prchs_Amt                float64\n",
            "Avg_Prchs_Amt                float64\n",
            "Max_Prchs_Amt                float64\n",
            "Ttl_Pymnt_Pd                 float64\n",
            "Avg_Pymnt_Pd                 float64\n",
            "Max_Pymnt_Pd                 float64\n",
            "Ttl_Pymnt_Ovrd               float64\n",
            "Avg_Pymnt_Ovrd               float64\n",
            "Max_Pymnt_Ovrd               float64\n",
            "No_Of_Pymnts                   int64\n",
            "No_Of_Lt_Pymnts                int64\n",
            "No_Of_Ovrd_Pymnts              int64\n",
            "Ttl_LtF_Pd                   float64\n",
            "Ttl_Lt_Fee_Ovrd              float64\n",
            "Unique_Mrchnt_Cnt              int64\n",
            "Top_Mrchnt                    object\n",
            "Frst_Trnsctn_Dt       datetime64[ns]\n",
            "Lst_Trnsctn_Dt        datetime64[ns]\n",
            "No_of_Transactions             int64\n",
            "Ttl_Tenure                     int64\n",
            "Max_Sequence                   int64\n",
            "Click_Engagement               int64\n",
            "dtype: object\n"
          ]
        }
      ],
      "source": [
        "print(df1.dtypes)"
      ]
    },
    {
      "cell_type": "code",
      "execution_count": null,
      "id": "2b39b997",
      "metadata": {
        "id": "2b39b997"
      },
      "outputs": [],
      "source": [
        "#Create Transaction Window Variable\n",
        "df1['Trnsctn_Wnd'] = df1.apply(lambda row: \n",
        "                              row.Lst_Trnsctn_Dt - row.Frst_Trnsctn_Dt, axis = 1)\n",
        "df1['Trnsctn_Wnd'] = df1['Trnsctn_Wnd'].dt.days.astype('int64')"
      ]
    },
    {
      "cell_type": "code",
      "execution_count": null,
      "id": "b79d1f7d",
      "metadata": {
        "id": "b79d1f7d"
      },
      "outputs": [],
      "source": [
        "#df1 = df1.drop(columns=['Lst_Trnsctn_Dt', 'Frst_Trnsctn_Dt'])"
      ]
    },
    {
      "cell_type": "code",
      "execution_count": null,
      "id": "887dcc11",
      "metadata": {
        "id": "887dcc11",
        "outputId": "2299b919-f60a-43b9-d315-7a4f7ff73501"
      },
      "outputs": [
        {
          "data": {
            "text/plain": [
              "['CMState', 'Age_Bracket', 'TU_Band', 'Top_Mrchnt']"
            ]
          },
          "execution_count": 348,
          "metadata": {},
          "output_type": "execute_result"
        }
      ],
      "source": [
        "list(df1.select_dtypes(['object']).columns)"
      ]
    },
    {
      "cell_type": "code",
      "execution_count": null,
      "id": "28ee1473",
      "metadata": {
        "id": "28ee1473"
      },
      "outputs": [],
      "source": [
        "#TU1 = np.unique(df1['TU_Band'])\n",
        "#print(TU1)"
      ]
    },
    {
      "cell_type": "code",
      "execution_count": null,
      "id": "90ad2402",
      "metadata": {
        "id": "90ad2402"
      },
      "outputs": [],
      "source": [
        "#Age1 = np.unique(df1['Age_Bracket'])\n",
        "#print(Age1)"
      ]
    },
    {
      "cell_type": "code",
      "execution_count": null,
      "id": "b2f028d2",
      "metadata": {
        "id": "b2f028d2",
        "outputId": "958f935e-9dbb-4252-d298-1520aee8f6e8"
      },
      "outputs": [
        {
          "data": {
            "text/plain": [
              "['CMState', 'Age_Bracket', 'TU_Band', 'Top_Mrchnt']"
            ]
          },
          "execution_count": 351,
          "metadata": {},
          "output_type": "execute_result"
        }
      ],
      "source": [
        "list(df1.select_dtypes(['object']).columns)"
      ]
    },
    {
      "cell_type": "code",
      "execution_count": null,
      "id": "f9105a64",
      "metadata": {
        "id": "f9105a64",
        "outputId": "3e44175a-aa6f-4244-e5ec-3b198e888bac"
      },
      "outputs": [
        {
          "name": "stdout",
          "output_type": "stream",
          "text": [
            "PlaceDate             datetime64[ns]\n",
            "CMState                       object\n",
            "PlaceAmt                     float64\n",
            "Age_Bracket                   object\n",
            "TU_Band                       object\n",
            "Ttl_Prchs_Amt                float64\n",
            "Avg_Prchs_Amt                float64\n",
            "Max_Prchs_Amt                float64\n",
            "Ttl_Pymnt_Pd                 float64\n",
            "Avg_Pymnt_Pd                 float64\n",
            "Max_Pymnt_Pd                 float64\n",
            "Ttl_Pymnt_Ovrd               float64\n",
            "Avg_Pymnt_Ovrd               float64\n",
            "Max_Pymnt_Ovrd               float64\n",
            "No_Of_Pymnts                   int64\n",
            "No_Of_Lt_Pymnts                int64\n",
            "No_Of_Ovrd_Pymnts              int64\n",
            "Ttl_LtF_Pd                   float64\n",
            "Ttl_Lt_Fee_Ovrd              float64\n",
            "Unique_Mrchnt_Cnt              int64\n",
            "Top_Mrchnt                    object\n",
            "Frst_Trnsctn_Dt       datetime64[ns]\n",
            "Lst_Trnsctn_Dt        datetime64[ns]\n",
            "No_of_Transactions             int64\n",
            "Ttl_Tenure                     int64\n",
            "Max_Sequence                   int64\n",
            "Click_Engagement               int64\n",
            "Trnsctn_Wnd                    int64\n",
            "dtype: object\n"
          ]
        }
      ],
      "source": [
        "print(df1.dtypes)"
      ]
    },
    {
      "cell_type": "code",
      "execution_count": null,
      "id": "13eb31d8",
      "metadata": {
        "id": "13eb31d8"
      },
      "outputs": [],
      "source": [
        "#Create functions for EDA\n",
        "# def eda_categorical(data, variable, ax=None):\n",
        "#     variable_df = data[variable].value_counts(normalize = True).reset_index()\n",
        "#     n_colors = len(variable_df)\n",
        "#     variable_df.set_index('index').T.plot(kind = 'barh', \n",
        "#                                          stacked = True, \n",
        "#                                          colormap = ListedColormap(sns.color_palette(\"Set1\", n_colors)), \n",
        "#                                          width = 0.15, ax=ax)\n",
        "\n",
        "# def multiple_eda_categorical(data, list_categorical):\n",
        "#     n_rows = math.ceil(len(list_categorical)/2)\n",
        "#     fig = plt.figure(figsize=(12, n_rows*3))\n",
        "    \n",
        "#     for i, variable in enumerate(list_categorical):\n",
        "#         ax = fig.add_subplot(n_rows, 2, i+1)\n",
        "#         eda_categorical(data, variable, ax=ax)\n",
        "#         plt.tight_layout()\n",
        "        \n",
        "#         plt.show()\n",
        "\n",
        "# def multiple_eda_continuous(data, list_continuous):\n",
        "#     n_rows = math.ceil(len(list_continuous)/3)\n",
        "#     fig = plt.figure(figsize=(12, n_rows*5))\n",
        "#     palette = sns.color_palette('Set1', 3)\n",
        "    \n",
        "#     for i, variable in enumerate(list_continuous):\n",
        "#         ax = fig.add_subplot(n_rows, 6, i+1)\n",
        "#         sns.boxplot(x=variable, data=data, orient='v', palette=[palette[i]], ax=ax)\n",
        "#         ax.set_ylabel('')\n",
        "#         ax.set_title(variable)\n",
        "        \n",
        "#         plt.show()"
      ]
    },
    {
      "cell_type": "code",
      "execution_count": null,
      "id": "381406eb",
      "metadata": {
        "id": "381406eb"
      },
      "outputs": [],
      "source": [
        "#list(df1.select_dtypes(include=np.number).columns) #Name numeric type columns"
      ]
    },
    {
      "cell_type": "code",
      "execution_count": null,
      "id": "5c6198ef",
      "metadata": {
        "id": "5c6198ef"
      },
      "outputs": [],
      "source": [
        "#list(df1.select_dtypes(exclude=np.number).columns) #Name non-numeric type columns"
      ]
    },
    {
      "cell_type": "code",
      "execution_count": null,
      "id": "a9a8b7f0",
      "metadata": {
        "id": "a9a8b7f0"
      },
      "outputs": [],
      "source": [
        "#df1 = df1.drop(columns=['PlaceDate','Frst_Trnsctn_Dt','Lst_Trnsctn_Dt'])"
      ]
    },
    {
      "cell_type": "markdown",
      "id": "75021fe5",
      "metadata": {
        "id": "75021fe5"
      },
      "source": [
        "# WOE and IV"
      ]
    },
    {
      "cell_type": "code",
      "execution_count": null,
      "id": "f6e5790a",
      "metadata": {
        "id": "f6e5790a"
      },
      "outputs": [],
      "source": [
        "#Create parser for columns\n",
        "continuous, categorical = [], []\n",
        "filter = ['CMState', 'Age_Bracket','TU_Band','Top_Mrchnt']\n",
        "\n",
        "for col in [c for c in df1.columns if c not in filter and c != 'Opn_Prop']:\n",
        "    if is_numeric_dtype(df1[col]):\n",
        "        continuous.append(col)\n",
        "    else:\n",
        "        categorical.append(col)"
      ]
    },
    {
      "cell_type": "code",
      "execution_count": null,
      "id": "b38c2be4",
      "metadata": {
        "id": "b38c2be4"
      },
      "outputs": [],
      "source": [
        "#multiple_eda_categorical(df1, categorical)"
      ]
    },
    {
      "cell_type": "code",
      "execution_count": null,
      "id": "7a7892b9",
      "metadata": {
        "id": "7a7892b9"
      },
      "outputs": [],
      "source": [
        "#EDA for continuous features\n",
        "df12 = df1.drop(columns=['CMState', 'Age_Bracket','TU_Band','Top_Mrchnt'])\n",
        "#df12_num = df12.select_dtypes(include=['float64', 'int64'])\n",
        "#df12_num.hist(figsize=(16, 20), bins=50, xlabelsize=8, ylabelsize=8)"
      ]
    },
    {
      "cell_type": "code",
      "execution_count": null,
      "id": "23f2234a",
      "metadata": {
        "id": "23f2234a"
      },
      "outputs": [],
      "source": [
        "#Run WoE and IV on all independent variables\n",
        "\n",
        "#Define IV and WoE data\n",
        "def iv_woe(data, target, bins=10, show_woe=False):\n",
        "    \n",
        "    #Empty Dataframe\n",
        "    newDF= pd.DataFrame()\n",
        "    woeDF= pd.DataFrame()\n",
        "    \n",
        "    #Extract Columns Names\n",
        "    cols = data.columns\n",
        "    \n",
        "    #Run WOE and IV on all the independent variables\n",
        "    for ivars in cols[~cols.isin([target])]:\n",
        "        if (data[ivars].dtype.kind in 'bifc') and (len(np.unique(data[ivars]))>10):\n",
        "            binned_x = pd.qcut(data[ivars], bins,  duplicates='drop')\n",
        "            d0 = pd.DataFrame({'x': binned_x, 'y': data[target]})\n",
        "        else:\n",
        "            d0 = pd.DataFrame({'x': data[ivars], 'y': data[target]})\n",
        "        \n",
        "        #Calculate the number of events in each group\n",
        "        d = d0.groupby(\"x\", as_index=False).agg({\"y\": [\"count\", \"sum\"]})\n",
        "        d.columns = ['Cutoff', 'N', 'Events']\n",
        "        # Calculate % of events in each group\n",
        "        d['% of Events'] = np.maximum(d['Events'], 0.5) / d['Events'].sum()\n",
        "        \n",
        "        # Calculate the non events in each group.\n",
        "        d['Non-Events'] = d['N'] - d['Events']\n",
        "        # Calculate % of non events in each group.\n",
        "        d['% of Non-Events'] = np.maximum(d['Non-Events'], 0.5) / d['Non-Events'].sum()\n",
        "        \n",
        "        # Calculate WOE by taking natural log of division of % of non-events and % of events\n",
        "        d['WoE'] = np.log(d['% of Events']/d['% of Non-Events'])\n",
        "        #Calculate by multiplying delta of events and non-events with WoE\n",
        "        d['IV'] = d['WoE'] * (d['% of Events'] - d['% of Non-Events'])\n",
        "        d.insert(loc=0, column='Variable', value=ivars)\n",
        "        \n",
        "        print(\"Information value of \" + ivars + \" is \" + str(round(d['IV'].sum(),6)))\n",
        "        temp =pd.DataFrame({\"Variable\" : [ivars], \"IV\" : [d['IV'].sum()]}, columns = [\"Variable\", \"IV\"])\n",
        "        \n",
        "        newDF=pd.concat([newDF,temp], axis=0)\n",
        "        woeDF=pd.concat([woeDF,d], axis=0)\n",
        "        \n",
        "        #Show WoE Table\n",
        "        if show_woe == True:\n",
        "            print(d)\n",
        "        \n",
        "    return newDF, woeDF"
      ]
    },
    {
      "cell_type": "code",
      "execution_count": null,
      "id": "cbc91da3",
      "metadata": {
        "id": "cbc91da3",
        "outputId": "f8bbd26d-ff15-412f-c89c-8faa6c351dd2"
      },
      "outputs": [
        {
          "name": "stdout",
          "output_type": "stream",
          "text": [
            "Information value of CMState is 0.008639\n",
            "   Variable Cutoff      N  Events  % of Events  Non-Events  % of Non-Events  \\\n",
            "0   CMState     AK    101      14     0.000632          87         0.000740   \n",
            "1   CMState     AL   4679     792     0.035771        3887         0.033076   \n",
            "2   CMState     AR   1659     262     0.011833        1397         0.011888   \n",
            "3   CMState     AZ   2717     445     0.020098        2272         0.019333   \n",
            "4   CMState     CA  13129    2207     0.099679       10922         0.092939   \n",
            "5   CMState     CO   1352     240     0.010840        1112         0.009462   \n",
            "6   CMState     CT   1806     298     0.013459        1508         0.012832   \n",
            "7   CMState     DC    685     103     0.004652         582         0.004952   \n",
            "8   CMState     DE    740     110     0.004968         630         0.005361   \n",
            "9   CMState     FL  11498    1781     0.080439        9717         0.082685   \n",
            "10  CMState     GA  10590    1747     0.078903        8843         0.075248   \n",
            "11  CMState     HI    126      41     0.001852          85         0.000723   \n",
            "12  CMState     IA    775     137     0.006188         638         0.005429   \n",
            "13  CMState     ID    352      59     0.002665         293         0.002493   \n",
            "14  CMState     IL   6625    1067     0.048191        5558         0.047295   \n",
            "15  CMState     IN      2       1     0.000045           1         0.000009   \n",
            "16  CMState     KS    782     134     0.006052         648         0.005514   \n",
            "17  CMState     KY   2044     284     0.012827        1760         0.014976   \n",
            "18  CMState     LA   4136     641     0.028951        3495         0.029740   \n",
            "19  CMState     MA   2162     355     0.016034        1807         0.015376   \n",
            "20  CMState     MD   4682     766     0.034596        3916         0.033323   \n",
            "21  CMState     ME    261      42     0.001897         219         0.001864   \n",
            "22  CMState     MI   4791     804     0.036313        3987         0.033927   \n",
            "23  CMState     MN   1218     198     0.008943        1020         0.008680   \n",
            "24  CMState     MO   2740     403     0.018202        2337         0.019886   \n",
            "25  CMState     MS   3313     560     0.025292        2753         0.023426   \n",
            "26  CMState     NC   7584    1125     0.050811        6459         0.054962   \n",
            "27  CMState     ND    131      14     0.000632         117         0.000996   \n",
            "28  CMState     NE    447      80     0.003613         367         0.003123   \n",
            "29  CMState     NJ   4793     762     0.034416        4031         0.034301   \n",
            "30  CMState     NM    604      92     0.004155         512         0.004357   \n",
            "31  CMState     NV   1634     254     0.011472        1380         0.011743   \n",
            "32  CMState     OH      3       2     0.000090           1         0.000009   \n",
            "33  CMState     OK   1331     199     0.008988        1132         0.009633   \n",
            "34  CMState     PA   6191     938     0.042365        5253         0.044700   \n",
            "35  CMState     RI    531      76     0.003433         455         0.003872   \n",
            "36  CMState     SC   4616     694     0.031345        3922         0.033374   \n",
            "37  CMState     SD    133      26     0.001174         107         0.000910   \n",
            "38  CMState     TN   4058     707     0.031932        3351         0.028515   \n",
            "39  CMState     TX  16580    2340     0.105686       14240         0.121173   \n",
            "40  CMState     UT    669     114     0.005149         555         0.004723   \n",
            "41  CMState     VA   5015     841     0.037984        4174         0.035518   \n",
            "42  CMState     VT     95      16     0.000723          79         0.000672   \n",
            "43  CMState     WA   1452     261     0.011788        1191         0.010135   \n",
            "44  CMState     WV    747      86     0.003884         661         0.005625   \n",
            "45  CMState     WY     80      23     0.001039          57         0.000485   \n",
            "\n",
            "         WoE            IV  \n",
            "0  -0.157690  1.703072e-05  \n",
            "1   0.078329  2.110930e-04  \n",
            "2  -0.004577  2.485094e-07  \n",
            "3   0.038819  2.970623e-05  \n",
            "4   0.070015  4.719303e-04  \n",
            "5   0.135884  1.871445e-04  \n",
            "6   0.047714  2.992246e-05  \n",
            "7  -0.062581  1.880121e-05  \n",
            "8  -0.076079  2.987793e-05  \n",
            "9  -0.027542  6.186376e-05  \n",
            "10  0.047434  1.733886e-04  \n",
            "11  0.940081  1.060858e-03  \n",
            "12  0.130803  9.923507e-05  \n",
            "13  0.066525  1.140938e-05  \n",
            "14  0.018773  1.682547e-05  \n",
            "15  1.669160  6.118432e-05  \n",
            "16  0.093110  5.009959e-05  \n",
            "17 -0.154934  3.330388e-04  \n",
            "18 -0.026899  2.123147e-05  \n",
            "19  0.041855  2.750852e-05  \n",
            "20  0.037517  4.779220e-05  \n",
            "21  0.017758  5.929319e-07  \n",
            "22  0.067965  1.621657e-04  \n",
            "23  0.029870  7.860591e-06  \n",
            "24 -0.088526  1.491482e-04  \n",
            "25  0.076651  1.430490e-04  \n",
            "26 -0.078531  3.259887e-04  \n",
            "27 -0.453956  1.649137e-04  \n",
            "28  0.145825  7.149524e-05  \n",
            "29  0.003337  3.826494e-07  \n",
            "30 -0.047376  9.550556e-06  \n",
            "31 -0.023344  6.325129e-06  \n",
            "32  2.362308  1.932859e-04  \n",
            "33 -0.069276  4.466338e-05  \n",
            "34 -0.053644  1.252428e-04  \n",
            "35 -0.120404  5.288145e-05  \n",
            "36 -0.062725  1.272712e-04  \n",
            "37  0.254428  6.711641e-05  \n",
            "38  0.113177  3.867178e-04  \n",
            "39 -0.136744  2.117699e-03  \n",
            "40  0.086391  3.681440e-05  \n",
            "41  0.067122  1.655140e-04  \n",
            "42  0.072301  3.644260e-06  \n",
            "43  0.151132  2.498923e-04  \n",
            "44 -0.370246  6.444036e-04  \n",
            "45  0.761603  4.217491e-04  \n",
            "Information value of PlaceAmt is 0.028725\n",
            "   Variable             Cutoff      N  Events  % of Events  Non-Events  \\\n",
            "0  PlaceAmt    (15.009, 31.96]  13977    1886     0.085181       12091   \n",
            "1  PlaceAmt     (31.96, 44.59]  13966    1927     0.087033       12039   \n",
            "2  PlaceAmt     (44.59, 60.14]  13959    1951     0.088117       12008   \n",
            "3  PlaceAmt      (60.14, 79.2]  13972    1995     0.090104       11977   \n",
            "4  PlaceAmt     (79.2, 103.52]  13956    2141     0.096698       11815   \n",
            "5  PlaceAmt   (103.52, 134.11]  13967    2210     0.099815       11757   \n",
            "6  PlaceAmt   (134.11, 175.96]  13965    2236     0.100989       11729   \n",
            "7  PlaceAmt    (175.96, 243.0]  13970    2309     0.104286       11661   \n",
            "8  PlaceAmt   (243.0, 370.732]  13961    2441     0.110248       11520   \n",
            "9  PlaceAmt  (370.732, 2445.2]  13966    3045     0.137528       10921   \n",
            "\n",
            "   % of Non-Events       WoE            IV  \n",
            "0         0.102886 -0.188843  3.343467e-03  \n",
            "1         0.102444 -0.163027  2.512366e-03  \n",
            "2         0.102180 -0.148071  2.082321e-03  \n",
            "3         0.101916 -0.123184  1.455042e-03  \n",
            "4         0.100538 -0.038936  1.494911e-04  \n",
            "5         0.100044 -0.002296  5.267314e-07  \n",
            "6         0.099806  0.011785  1.394265e-05  \n",
            "7         0.099227  0.049725  2.515496e-04  \n",
            "8         0.098028  0.117484  1.435698e-03  \n",
            "9         0.092930  0.391974  1.748094e-02  \n",
            "Information value of Age_Bracket is 0.00264\n",
            "      Variable   Cutoff      N  Events  % of Events  Non-Events  \\\n",
            "0  Age_Bracket    18-30  62207    9404     0.424732       52803   \n",
            "1  Age_Bracket    30-45  58535    9583     0.432817       48952   \n",
            "2  Age_Bracket    45-60  15805    2665     0.120365       13140   \n",
            "3  Age_Bracket  60 Plus   3112     489     0.022086        2623   \n",
            "\n",
            "   % of Non-Events       WoE        IV  \n",
            "0         0.449318 -0.056272  0.001384  \n",
            "1         0.416549  0.038311  0.000623  \n",
            "2         0.111813  0.073703  0.000630  \n",
            "3         0.022320 -0.010551  0.000002  \n",
            "Information value of TU_Band is 0.02229\n",
            "  Variable         Cutoff      N  Events  % of Events  Non-Events  \\\n",
            "0  TU_Band          0-550  13480    1964     0.088704       11516   \n",
            "1  TU_Band        551-603  23687    3145     0.142044       20542   \n",
            "2  TU_Band        604-710  84301   13317     0.601463       70984   \n",
            "3  TU_Band        711-780  17287    3483     0.157310       13804   \n",
            "4  TU_Band        781-850    845     214     0.009665         631   \n",
            "5  TU_Band  Not Avaialble     59      18     0.000813          41   \n",
            "\n",
            "   % of Non-Events       WoE        IV  \n",
            "0         0.097993 -0.099594  0.000925  \n",
            "1         0.174799 -0.207497  0.006796  \n",
            "2         0.604027 -0.004253  0.000011  \n",
            "3         0.117463  0.292096  0.011639  \n",
            "4         0.005369  0.587831  0.002525  \n",
            "5         0.000349  0.845960  0.000393  \n",
            "Information value of Ttl_Prchs_Amt is 0.037043\n",
            "        Variable              Cutoff      N  Events  % of Events  Non-Events  \\\n",
            "0  Ttl_Prchs_Amt      (20.049, 70.1]  13968    1737     0.078452       12231   \n",
            "1  Ttl_Prchs_Amt     (70.1, 100.966]  13964    1876     0.084730       12088   \n",
            "2  Ttl_Prchs_Amt  (100.966, 135.564]  13966    1990     0.089879       11976   \n",
            "3  Ttl_Prchs_Amt   (135.564, 172.39]  13967    2015     0.091008       11952   \n",
            "4  Ttl_Prchs_Amt    (172.39, 214.38]  13965    2096     0.094666       11869   \n",
            "5  Ttl_Prchs_Amt     (214.38, 269.9]  13971    2138     0.096563       11833   \n",
            "6  Ttl_Prchs_Amt     (269.9, 341.97]  13961    2282     0.103067       11679   \n",
            "7  Ttl_Prchs_Amt   (341.97, 451.284]  13965    2395     0.108170       11570   \n",
            "8  Ttl_Prchs_Amt  (451.284, 662.136]  13966    2520     0.113816       11446   \n",
            "9  Ttl_Prchs_Amt  (662.136, 4228.25]  13966    3092     0.139650       10874   \n",
            "\n",
            "   % of Non-Events       WoE        IV  \n",
            "0         0.104078 -0.282654  0.007243  \n",
            "1         0.102861 -0.193911  0.003516  \n",
            "2         0.101908 -0.125610  0.001511  \n",
            "3         0.101704 -0.111119  0.001189  \n",
            "4         0.100997 -0.064739  0.000410  \n",
            "5         0.100691 -0.041861  0.000173  \n",
            "6         0.099381  0.036420  0.000134  \n",
            "7         0.098453  0.094128  0.000915  \n",
            "8         0.097398  0.155779  0.002558  \n",
            "9         0.092531  0.411604  0.019395  \n",
            "Information value of Avg_Prchs_Amt is 0.009258\n",
            "        Variable              Cutoff      N  Events  % of Events  Non-Events  \\\n",
            "0  Avg_Prchs_Amt       (7.97, 60.49]  13967    1793     0.080981       12174   \n",
            "1  Avg_Prchs_Amt       (60.49, 80.8]  13968    2053     0.092724       11915   \n",
            "2  Avg_Prchs_Amt     (80.8, 100.012]  13963    2144     0.096834       11819   \n",
            "3  Avg_Prchs_Amt    (100.012, 120.5]  13972    2298     0.103789       11674   \n",
            "4  Avg_Prchs_Amt     (120.5, 143.03]  13962    2182     0.098550       11780   \n",
            "5  Avg_Prchs_Amt    (143.03, 168.88]  13967    2309     0.104286       11658   \n",
            "6  Avg_Prchs_Amt    (168.88, 200.31]  13964    2336     0.105506       11628   \n",
            "7  Avg_Prchs_Amt   (200.31, 246.191]  13964    2244     0.101350       11720   \n",
            "8  Avg_Prchs_Amt  (246.191, 326.414]  13966    2347     0.106002       11619   \n",
            "9  Avg_Prchs_Amt  (326.414, 1988.35]  13966    2435     0.109977       11531   \n",
            "\n",
            "   % of Non-Events       WoE        IV  \n",
            "0         0.103593 -0.246252  0.005568  \n",
            "1         0.101389 -0.089336  0.000774  \n",
            "2         0.100572 -0.037875  0.000142  \n",
            "3         0.099338  0.043835  0.000195  \n",
            "4         0.100240 -0.017001  0.000029  \n",
            "5         0.099202  0.049982  0.000254  \n",
            "6         0.098947  0.064185  0.000421  \n",
            "7         0.099729  0.016124  0.000026  \n",
            "8         0.098870  0.069657  0.000497  \n",
            "9         0.098121  0.114068  0.001352  \n",
            "Information value of Max_Prchs_Amt is 0.017865\n",
            "        Variable              Cutoff      N  Events  % of Events  Non-Events  \\\n",
            "0  Max_Prchs_Amt     (11.439, 64.64]  13980    1739     0.078542       12241   \n",
            "1  Max_Prchs_Amt      (64.64, 89.28]  13953    1936     0.087440       12017   \n",
            "2  Max_Prchs_Amt      (89.28, 113.3]  13968    2067     0.093356       11901   \n",
            "3  Max_Prchs_Amt     (113.3, 140.44]  13965    2130     0.096202       11835   \n",
            "4  Max_Prchs_Amt    (140.44, 169.54]  13967    2186     0.098731       11781   \n",
            "5  Max_Prchs_Amt   (169.54, 200.468]  13962    2273     0.102660       11689   \n",
            "6  Max_Prchs_Amt   (200.468, 241.24]  13968    2295     0.103654       11673   \n",
            "7  Max_Prchs_Amt     (241.24, 299.0]  13972    2454     0.110835       11518   \n",
            "8  Max_Prchs_Amt    (299.0, 387.504]  13958    2487     0.112326       11471   \n",
            "9  Max_Prchs_Amt  (387.504, 1988.35]  13966    2574     0.116255       11392   \n",
            "\n",
            "   % of Non-Events       WoE        IV  \n",
            "0         0.104163 -0.282320  0.007233  \n",
            "1         0.102257 -0.156538  0.002319  \n",
            "2         0.101270 -0.081364  0.000644  \n",
            "3         0.100708 -0.045779  0.000206  \n",
            "4         0.100248 -0.015254  0.000023  \n",
            "5         0.099466  0.031613  0.000101  \n",
            "6         0.099329  0.042615  0.000184  \n",
            "7         0.098011  0.122969  0.001577  \n",
            "8         0.097611  0.140415  0.002066  \n",
            "9         0.096938  0.181710  0.003510  \n",
            "Information value of Ttl_Pymnt_Pd is 0.035333\n",
            "       Variable              Cutoff      N  Events  % of Events  Non-Events  \\\n",
            "0  Ttl_Pymnt_Pd     (-0.001, 27.04]  13969    1665     0.075200       12304   \n",
            "1  Ttl_Pymnt_Pd     (27.04, 47.466]  13963    1920     0.086717       12043   \n",
            "2  Ttl_Pymnt_Pd     (47.466, 64.36]  13972    1902     0.085904       12070   \n",
            "3  Ttl_Pymnt_Pd      (64.36, 83.35]  13961    2066     0.093311       11895   \n",
            "4  Ttl_Pymnt_Pd     (83.35, 106.83]  13965    2126     0.096021       11839   \n",
            "5  Ttl_Pymnt_Pd    (106.83, 136.44]  13968    2243     0.101305       11725   \n",
            "6  Ttl_Pymnt_Pd    (136.44, 175.18]  13965    2267     0.102389       11698   \n",
            "7  Ttl_Pymnt_Pd     (175.18, 235.3]  13965    2390     0.107945       11575   \n",
            "8  Ttl_Pymnt_Pd    (235.3, 348.832]  13965    2616     0.118152       11349   \n",
            "9  Ttl_Pymnt_Pd  (348.832, 2243.61]  13966    2946     0.133056       11020   \n",
            "\n",
            "   % of Non-Events       WoE        IV  \n",
            "0         0.104699 -0.330939  0.009762  \n",
            "1         0.102478 -0.166998  0.002632  \n",
            "2         0.102708 -0.178657  0.003002  \n",
            "3         0.101219 -0.081343  0.000643  \n",
            "4         0.100742 -0.047996  0.000227  \n",
            "5         0.099772  0.015251  0.000023  \n",
            "6         0.099542  0.028200  0.000080  \n",
            "7         0.098496  0.091606  0.000866  \n",
            "8         0.096572  0.201677  0.004352  \n",
            "9         0.093773  0.349897  0.013745  \n",
            "Information value of Avg_Pymnt_Pd is 0.01\n",
            "       Variable              Cutoff      N  Events  % of Events  Non-Events  \\\n",
            "0  Avg_Pymnt_Pd     (-0.001, 23.06]  13969    1789     0.080800       12180   \n",
            "1  Avg_Pymnt_Pd     (23.06, 34.775]  13965    2008     0.090691       11957   \n",
            "2  Avg_Pymnt_Pd     (34.775, 46.69]  13968    2170     0.098008       11798   \n",
            "3  Avg_Pymnt_Pd      (46.69, 57.18]  13969    2169     0.097963       11800   \n",
            "4  Avg_Pymnt_Pd     (57.18, 69.696]  13959    2265     0.102299       11694   \n",
            "5  Avg_Pymnt_Pd     (69.696, 83.96]  13974    2394     0.108125       11580   \n",
            "6  Avg_Pymnt_Pd     (83.96, 103.12]  13961    2310     0.104331       11651   \n",
            "7  Avg_Pymnt_Pd    (103.12, 131.04]  13964    2369     0.106996       11595   \n",
            "8  Avg_Pymnt_Pd   (131.04, 180.452]  13964    2271     0.102570       11693   \n",
            "9  Avg_Pymnt_Pd  (180.452, 1655.66]  13966    2396     0.108216       11570   \n",
            "\n",
            "   % of Non-Events       WoE        IV  \n",
            "0         0.103644 -0.248978  0.005687  \n",
            "1         0.101746 -0.115017  0.001271  \n",
            "2         0.100393 -0.024042  0.000057  \n",
            "3         0.100410 -0.024673  0.000060  \n",
            "4         0.099508  0.027659  0.000077  \n",
            "5         0.098538  0.092847  0.000890  \n",
            "6         0.099142  0.051016  0.000265  \n",
            "7         0.098666  0.081054  0.000675  \n",
            "8         0.099500  0.030390  0.000093  \n",
            "9         0.098453  0.094546  0.000923  \n",
            "Information value of Max_Pymnt_Pd is 0.020022\n",
            "       Variable              Cutoff      N  Events  % of Events  Non-Events  \\\n",
            "0  Max_Pymnt_Pd      (-0.001, 24.9]  13974    1708     0.077142       12266   \n",
            "1  Max_Pymnt_Pd       (24.9, 40.46]  13962    1925     0.086943       12037   \n",
            "2  Max_Pymnt_Pd      (40.46, 53.74]  13976    2040     0.092137       11936   \n",
            "3  Max_Pymnt_Pd      (53.74, 68.22]  13976    2070     0.093492       11906   \n",
            "4  Max_Pymnt_Pd      (68.22, 83.25]  13951    2262     0.102163       11689   \n",
            "5  Max_Pymnt_Pd      (83.25, 102.0]  13957    2297     0.103744       11660   \n",
            "6  Max_Pymnt_Pd     (102.0, 125.47]  13966    2341     0.105731       11625   \n",
            "7  Max_Pymnt_Pd     (125.47, 158.1]  13968    2456     0.110925       11512   \n",
            "8  Max_Pymnt_Pd    (158.1, 216.604]  13963    2456     0.110925       11507   \n",
            "9  Max_Pymnt_Pd  (216.604, 1655.66]  13966    2586     0.116797       11380   \n",
            "\n",
            "   % of Non-Events       WoE        IV  \n",
            "0         0.104375 -0.302348  0.008234  \n",
            "1         0.102427 -0.163899  0.002538  \n",
            "2         0.101567 -0.097449  0.000919  \n",
            "3         0.101312 -0.080333  0.000628  \n",
            "4         0.099466  0.026762  0.000072  \n",
            "5         0.099219  0.044600  0.000202  \n",
            "6         0.098921  0.066581  0.000453  \n",
            "7         0.097959  0.124304  0.001612  \n",
            "8         0.097917  0.124739  0.001623  \n",
            "9         0.096836  0.187415  0.003741  \n",
            "Information value of Ttl_Pymnt_Ovrd is 0.028035\n",
            "         Variable              Cutoff      N  Events  % of Events  Non-Events  \\\n",
            "0  Ttl_Pymnt_Ovrd     (15.009, 26.47]  13972    1907     0.086130       12065   \n",
            "1  Ttl_Pymnt_Ovrd      (26.47, 37.82]  13961    1914     0.086446       12047   \n",
            "2  Ttl_Pymnt_Ovrd      (37.82, 52.07]  13969    1940     0.087620       12029   \n",
            "3  Ttl_Pymnt_Ovrd      (52.07, 69.86]  13969    1982     0.089517       11987   \n",
            "4  Ttl_Pymnt_Ovrd      (69.86, 91.43]  13960    2142     0.096744       11818   \n",
            "5  Ttl_Pymnt_Ovrd    (91.43, 119.998]  13964    2220     0.100266       11744   \n",
            "6  Ttl_Pymnt_Ovrd   (119.998, 158.53]  13969    2247     0.101486       11722   \n",
            "7  Ttl_Pymnt_Ovrd   (158.53, 221.168]  13963    2324     0.104964       11639   \n",
            "8  Ttl_Pymnt_Ovrd  (221.168, 340.164]  13966    2446     0.110474       11520   \n",
            "9  Ttl_Pymnt_Ovrd  (340.164, 1999.96]  13966    3019     0.136353       10947   \n",
            "\n",
            "   % of Non-Events       WoE        IV  \n",
            "0         0.102665 -0.175617  0.002904  \n",
            "1         0.102512 -0.170460  0.002739  \n",
            "2         0.102359 -0.155472  0.002291  \n",
            "3         0.102001 -0.130556  0.001630  \n",
            "4         0.100563 -0.038723  0.000148  \n",
            "5         0.099934  0.003325  0.000001  \n",
            "6         0.099746  0.017289  0.000030  \n",
            "7         0.099040  0.058089  0.000344  \n",
            "8         0.098028  0.119530  0.001488  \n",
            "9         0.093152  0.381021  0.016461  \n",
            "Information value of Avg_Pymnt_Ovrd is 0.005373\n",
            "         Variable                       Cutoff      N  Events  % of Events  \\\n",
            "0  Avg_Pymnt_Ovrd  (3.2920000000000003, 23.04]  13978    1931     0.087214   \n",
            "1  Avg_Pymnt_Ovrd               (23.04, 31.25]  13967    2090     0.094395   \n",
            "2  Avg_Pymnt_Ovrd              (31.25, 39.542]  13954    2059     0.092995   \n",
            "3  Avg_Pymnt_Ovrd              (39.542, 49.22]  13972    2271     0.102570   \n",
            "4  Avg_Pymnt_Ovrd              (49.22, 60.515]  13959    2228     0.100628   \n",
            "5  Avg_Pymnt_Ovrd              (60.515, 74.68]  13971    2236     0.100989   \n",
            "6  Avg_Pymnt_Ovrd              (74.68, 92.576]  13960    2358     0.106499   \n",
            "7  Avg_Pymnt_Ovrd            (92.576, 118.971]  13966    2292     0.103518   \n",
            "8  Avg_Pymnt_Ovrd           (118.971, 165.371]  13966    2322     0.104873   \n",
            "9  Avg_Pymnt_Ovrd           (165.371, 1132.49]  13966    2354     0.106319   \n",
            "\n",
            "   Non-Events  % of Non-Events       WoE        IV  \n",
            "0       12047         0.102512 -0.161617  0.002472  \n",
            "1       11877         0.101065 -0.068279  0.000455  \n",
            "2       11895         0.101219 -0.084737  0.000697  \n",
            "3       11701         0.099568  0.029706  0.000089  \n",
            "4       11731         0.099823  0.008030  0.000006  \n",
            "5       11735         0.099857  0.011273  0.000013  \n",
            "6       11602         0.098725  0.075797  0.000589  \n",
            "7       11674         0.099338  0.041221  0.000172  \n",
            "8       11644         0.099083  0.056798  0.000329  \n",
            "9       11612         0.098810  0.073237  0.000550  \n",
            "Information value of Max_Pymnt_Ovrd is 0.013293\n",
            "         Variable                      Cutoff      N  Events  % of Events  \\\n",
            "0  Max_Pymnt_Ovrd  (5.218999999999999, 24.62]  13983    1895     0.085588   \n",
            "1  Max_Pymnt_Ovrd              (24.62, 34.45]  13992    2013     0.090917   \n",
            "2  Max_Pymnt_Ovrd              (34.45, 44.97]  13924    1966     0.088795   \n",
            "3  Max_Pymnt_Ovrd              (44.97, 57.17]  13966    2155     0.097331   \n",
            "4  Max_Pymnt_Ovrd              (57.17, 73.07]  13974    2098     0.094756   \n",
            "5  Max_Pymnt_Ovrd              (73.07, 91.49]  13959    2309     0.104286   \n",
            "6  Max_Pymnt_Ovrd            (91.49, 115.896]  13963    2282     0.103067   \n",
            "7  Max_Pymnt_Ovrd           (115.896, 150.49]  13970    2404     0.108577   \n",
            "8  Max_Pymnt_Ovrd           (150.49, 214.292]  13962    2419     0.109254   \n",
            "9  Max_Pymnt_Ovrd          (214.292, 1132.49]  13966    2600     0.117429   \n",
            "\n",
            "   Non-Events  % of Non-Events       WoE        IV  \n",
            "0       12088         0.102861 -0.183834  0.003175  \n",
            "1       11979         0.101933 -0.114369  0.001260  \n",
            "2       11958         0.101755 -0.136239  0.001766  \n",
            "3       11811         0.100504 -0.032080  0.000102  \n",
            "4       11876         0.101057 -0.064375  0.000406  \n",
            "5       11650         0.099134  0.050669  0.000261  \n",
            "6       11681         0.099398  0.036249  0.000133  \n",
            "7       11566         0.098419  0.098225  0.000998  \n",
            "8       11543         0.098223  0.106435  0.001174  \n",
            "9       11366         0.096717  0.194045  0.004019  \n",
            "Information value of No_Of_Pymnts is 0.0314\n",
            "       Variable         Cutoff      N  Events  % of Events  Non-Events  \\\n",
            "0  No_Of_Pymnts  (-0.001, 1.0]  82939   11974     0.540807       70965   \n",
            "1  No_Of_Pymnts     (1.0, 2.0]  31813    4989     0.225329       26824   \n",
            "2  No_Of_Pymnts     (2.0, 4.0]  16020    3108     0.140373       12912   \n",
            "3  No_Of_Pymnts    (4.0, 63.0]   8887    2070     0.093492        6817   \n",
            "\n",
            "   % of Non-Events       WoE        IV  \n",
            "0         0.603865 -0.110289  0.006955  \n",
            "1         0.228254 -0.012901  0.000038  \n",
            "2         0.109873  0.244983  0.007472  \n",
            "3         0.058008  0.477290  0.016936  \n",
            "Information value of No_Of_Lt_Pymnts is 0.002145\n",
            "          Variable  Cutoff       N  Events  % of Events  Non-Events  \\\n",
            "0  No_Of_Lt_Pymnts       0  125524   19709     0.890159      105815   \n",
            "1  No_Of_Lt_Pymnts       1   12157    2031     0.091730       10126   \n",
            "2  No_Of_Lt_Pymnts       2    1552     303     0.013685        1249   \n",
            "3  No_Of_Lt_Pymnts       3     287      64     0.002891         223   \n",
            "4  No_Of_Lt_Pymnts       4      79      19     0.000858          60   \n",
            "5  No_Of_Lt_Pymnts       5      32       6     0.000271          26   \n",
            "6  No_Of_Lt_Pymnts       6      17       6     0.000271          11   \n",
            "7  No_Of_Lt_Pymnts       7       9       3     0.000135           6   \n",
            "8  No_Of_Lt_Pymnts       9       1       0     0.000023           1   \n",
            "9  No_Of_Lt_Pymnts      11       1       0     0.000023           1   \n",
            "\n",
            "   % of Non-Events       WoE        IV  \n",
            "0         0.900415 -0.011456  0.000118  \n",
            "1         0.086166  0.062582  0.000348  \n",
            "2         0.010628  0.252795  0.000773  \n",
            "3         0.001898  0.420872  0.000418  \n",
            "4         0.000511  0.519255  0.000180  \n",
            "5         0.000221  0.202823  0.000010  \n",
            "6         0.000094  1.063025  0.000189  \n",
            "7         0.000051  0.976013  0.000082  \n",
            "8         0.000009  0.976013  0.000014  \n",
            "9         0.000009  0.976013  0.000014  \n",
            "Information value of No_Of_Ovrd_Pymnts is 0.02192\n",
            "            Variable         Cutoff      N  Events  % of Events  Non-Events  \\\n",
            "0  No_Of_Ovrd_Pymnts  (-0.001, 1.0]  94728   14053     0.634705       80675   \n",
            "1  No_Of_Ovrd_Pymnts     (1.0, 2.0]  25224    4000     0.180660       21224   \n",
            "2  No_Of_Ovrd_Pymnts     (2.0, 3.0]   8096    1563     0.070593        6533   \n",
            "3  No_Of_Ovrd_Pymnts    (3.0, 53.0]  11611    2525     0.114042        9086   \n",
            "\n",
            "   % of Non-Events       WoE            IV  \n",
            "0         0.686491 -0.078432  4.061681e-03  \n",
            "1         0.180602  0.000322  1.874768e-08  \n",
            "2         0.055591  0.238901  3.583885e-03  \n",
            "3         0.077316  0.388667  1.427418e-02  \n",
            "Information value of Ttl_LtF_Pd is 0.001181\n",
            "     Variable          Cutoff       N  Events  % of Events  Non-Events  \\\n",
            "0  Ttl_LtF_Pd  (-0.001, 0.52]  125694   19732     0.891197      105962   \n",
            "1  Ttl_LtF_Pd    (0.52, 82.5]   13965    2409     0.108803       11556   \n",
            "\n",
            "   % of Non-Events       WoE        IV  \n",
            "0         0.901666 -0.011678  0.000122  \n",
            "1         0.098334  0.101167  0.001059  \n",
            "Information value of Ttl_Lt_Fee_Ovrd is 0.016737\n",
            "          Variable           Cutoff      N  Events  % of Events  Non-Events  \\\n",
            "0  Ttl_Lt_Fee_Ovrd    (-0.001, 1.0]  28141    4426     0.199901       23715   \n",
            "1  Ttl_Lt_Fee_Ovrd      (1.0, 4.31]  13765    1987     0.089743       11778   \n",
            "2  Ttl_Lt_Fee_Ovrd      (4.31, 7.5]  15690    2299     0.103835       13391   \n",
            "3  Ttl_Lt_Fee_Ovrd       (7.5, 8.0]  16016    2336     0.105506       13680   \n",
            "4  Ttl_Lt_Fee_Ovrd      (8.0, 15.0]  14566    2176     0.098279       12390   \n",
            "5  Ttl_Lt_Fee_Ovrd     (15.0, 16.0]  12640    2036     0.091956       10604   \n",
            "6  Ttl_Lt_Fee_Ovrd     (16.0, 24.0]  16247    2500     0.112913       13747   \n",
            "7  Ttl_Lt_Fee_Ovrd   (24.0, 38.842]   8628    1475     0.066618        7153   \n",
            "8  Ttl_Lt_Fee_Ovrd  (38.842, 464.0]  13966    2906     0.131250       11060   \n",
            "\n",
            "   % of Non-Events       WoE        IV  \n",
            "0         0.201799 -0.009451  0.000018  \n",
            "1         0.100223 -0.110447  0.001157  \n",
            "2         0.113949 -0.092948  0.000940  \n",
            "3         0.116408 -0.098334  0.001072  \n",
            "4         0.105431 -0.070241  0.000502  \n",
            "5         0.090233  0.018916  0.000033  \n",
            "6         0.116978 -0.035369  0.000144  \n",
            "7         0.060867  0.090287  0.000519  \n",
            "8         0.094113  0.332603  0.012352  \n",
            "Information value of Unique_Mrchnt_Cnt is 0.025415\n",
            "            Variable        Cutoff       N  Events  % of Events  Non-Events  \\\n",
            "0  Unique_Mrchnt_Cnt  (0.999, 2.0]  122501   18421     0.831986      104080   \n",
            "1  Unique_Mrchnt_Cnt    (2.0, 3.0]    8872    1778     0.080304        7094   \n",
            "2  Unique_Mrchnt_Cnt   (3.0, 23.0]    8286    1942     0.087711        6344   \n",
            "\n",
            "   % of Non-Events       WoE        IV  \n",
            "0         0.885652 -0.062508  0.003355  \n",
            "1         0.060365  0.285400  0.005690  \n",
            "2         0.053983  0.485369  0.016370  \n",
            "Information value of Top_Mrchnt is 0.137825\n",
            "        Variable                     Cutoff    N  Events  % of Events  \\\n",
            "0     Top_Mrchnt       #BeeJacksCorner, LLC    1       0     0.000023   \n",
            "1     Top_Mrchnt               -ING Apparel    1       0     0.000023   \n",
            "2     Top_Mrchnt              021 Originals    1       0     0.000023   \n",
            "3     Top_Mrchnt             1-800 CONTACTS  387      67     0.003026   \n",
            "4     Top_Mrchnt        10 Hours of Fashion    1       0     0.000023   \n",
            "...          ...                        ...  ...     ...          ...   \n",
            "3722  Top_Mrchnt  www.paigebarbersupply.com    1       0     0.000023   \n",
            "3723  Top_Mrchnt       www.polishedsetz.com    1       0     0.000023   \n",
            "3724  Top_Mrchnt     www.recoverapparel.net    1       0     0.000023   \n",
            "3725  Top_Mrchnt    xpensive Taste Boutique    1       0     0.000023   \n",
            "3726  Top_Mrchnt                    zoesqoq    8       1     0.000045   \n",
            "\n",
            "      Non-Events  % of Non-Events       WoE        IV  \n",
            "0              1         0.000009  0.976013  0.000014  \n",
            "1              1         0.000009  0.976013  0.000014  \n",
            "2              1         0.000009  0.976013  0.000014  \n",
            "3            320         0.002723  0.105532  0.000032  \n",
            "4              1         0.000009  0.976013  0.000014  \n",
            "...          ...              ...       ...       ...  \n",
            "3722           1         0.000009  0.976013  0.000014  \n",
            "3723           1         0.000009  0.976013  0.000014  \n",
            "3724           1         0.000009  0.976013  0.000014  \n",
            "3725           1         0.000009  0.976013  0.000014  \n",
            "3726           7         0.000060 -0.276750  0.000004  \n",
            "\n",
            "[3727 rows x 9 columns]\n",
            "Information value of No_of_Transactions is 0.030541\n",
            "             Variable        Cutoff       N  Events  % of Events  Non-Events  \\\n",
            "0  No_of_Transactions  (0.999, 2.0]  114481   16898     0.763199       97583   \n",
            "1  No_of_Transactions    (2.0, 4.0]   15958    3101     0.140057       12857   \n",
            "2  No_of_Transactions   (4.0, 63.0]    9220    2142     0.096744        7078   \n",
            "\n",
            "   % of Non-Events       WoE        IV  \n",
            "0         0.830366 -0.084348  0.005665  \n",
            "1         0.109405  0.246997  0.007571  \n",
            "2         0.060229  0.473909  0.017305  \n",
            "Information value of Ttl_Tenure is 0.017632\n",
            "     Variable        Cutoff      N  Events  % of Events  Non-Events  \\\n",
            "0  Ttl_Tenure  (0.999, 9.0]  17972    3513     0.158665       14459   \n",
            "1  Ttl_Tenure   (9.0, 15.0]  11505    2012     0.090872        9493   \n",
            "2  Ttl_Tenure  (15.0, 21.0]  15590    2384     0.107674       13206   \n",
            "3  Ttl_Tenure  (21.0, 27.0]  19713    2634     0.118965       17079   \n",
            "4  Ttl_Tenure  (27.0, 30.0]   7511    1087     0.049094        6424   \n",
            "5  Ttl_Tenure  (30.0, 37.0]  11948    1910     0.086265       10038   \n",
            "6  Ttl_Tenure  (37.0, 45.0]  13582    1969     0.088930       11613   \n",
            "7  Ttl_Tenure  (45.0, 56.0]  15558    2388     0.107854       13170   \n",
            "8  Ttl_Tenure  (56.0, 69.0]  13268    2147     0.096969       11121   \n",
            "9  Ttl_Tenure  (69.0, 87.0]  13012    2097     0.094711       10915   \n",
            "\n",
            "   % of Non-Events       WoE        IV  \n",
            "0         0.123036  0.254314  0.009061  \n",
            "1         0.080779  0.117735  0.001188  \n",
            "2         0.112374 -0.042731  0.000201  \n",
            "3         0.145331 -0.200186  0.005278  \n",
            "4         0.054664 -0.107459  0.000598  \n",
            "5         0.085417  0.009886  0.000008  \n",
            "6         0.098819 -0.105439  0.001043  \n",
            "7         0.112068 -0.038325  0.000161  \n",
            "8         0.094632  0.024397  0.000057  \n",
            "9         0.092879  0.019530  0.000036  \n",
            "Information value of Max_Sequence is 0.025817\n",
            "       Variable        Cutoff      N  Events  % of Events  Non-Events  \\\n",
            "0  Max_Sequence  (1.999, 4.0]  18226    3694     0.166840       14532   \n",
            "1  Max_Sequence    (4.0, 6.0]  11727    2222     0.100357        9505   \n",
            "2  Max_Sequence    (6.0, 8.0]  15692    2500     0.112913       13192   \n",
            "3  Max_Sequence   (8.0, 10.0]  19776    2683     0.121178       17093   \n",
            "4  Max_Sequence  (10.0, 11.0]   7532    1103     0.049817        6429   \n",
            "5  Max_Sequence  (11.0, 13.0]  11979    1941     0.087665       10038   \n",
            "6  Max_Sequence  (13.0, 16.0]  15999    2341     0.105731       13658   \n",
            "7  Max_Sequence  (16.0, 19.0]  12930    1870     0.084459       11060   \n",
            "8  Max_Sequence  (19.0, 23.0]  12970    1960     0.088524       11010   \n",
            "9  Max_Sequence  (23.0, 33.0]  12828    1827     0.082517       11001   \n",
            "\n",
            "   % of Non-Events       WoE        IV  \n",
            "0         0.123658  0.299517  0.012934  \n",
            "1         0.080881  0.215750  0.004202  \n",
            "2         0.112255  0.005841  0.000004  \n",
            "3         0.145450 -0.182573  0.004431  \n",
            "4         0.054707 -0.093625  0.000458  \n",
            "5         0.085417  0.025986  0.000058  \n",
            "6         0.116220 -0.094587  0.000992  \n",
            "7         0.094113 -0.108236  0.001045  \n",
            "8         0.093688 -0.056699  0.000293  \n",
            "9         0.093611 -0.126150  0.001400  \n",
            "Information value of Trnsctn_Wnd is 0.028404\n",
            "      Variable         Cutoff      N  Events  % of Events  Non-Events  \\\n",
            "0  Trnsctn_Wnd  (-0.001, 2.0]  99040   14346     0.647938       84694   \n",
            "1  Trnsctn_Wnd     (2.0, 9.0]  13306    2290     0.103428       11016   \n",
            "2  Trnsctn_Wnd    (9.0, 19.0]  13353    2524     0.113997       10829   \n",
            "3  Trnsctn_Wnd   (19.0, 69.0]  13960    2981     0.134637       10979   \n",
            "\n",
            "   % of Non-Events       WoE        IV  \n",
            "0         0.720690 -0.106413  0.007742  \n",
            "1         0.093739  0.098363  0.000953  \n",
            "2         0.092148  0.212778  0.004649  \n",
            "3         0.093424  0.365435  0.015061  \n",
            "        Variable         Cutoff      N  Events  % of Events  Non-Events  \\\n",
            "0        CMState             AK    101      14     0.000632          87   \n",
            "1        CMState             AL   4679     792     0.035771        3887   \n",
            "2        CMState             AR   1659     262     0.011833        1397   \n",
            "3        CMState             AZ   2717     445     0.020098        2272   \n",
            "4        CMState             CA  13129    2207     0.099679       10922   \n",
            "..           ...            ...    ...     ...          ...         ...   \n",
            "9   Max_Sequence   (23.0, 33.0]  12828    1827     0.082517       11001   \n",
            "0    Trnsctn_Wnd  (-0.001, 2.0]  99040   14346     0.647938       84694   \n",
            "1    Trnsctn_Wnd     (2.0, 9.0]  13306    2290     0.103428       11016   \n",
            "2    Trnsctn_Wnd    (9.0, 19.0]  13353    2524     0.113997       10829   \n",
            "3    Trnsctn_Wnd   (19.0, 69.0]  13960    2981     0.134637       10979   \n",
            "\n",
            "    % of Non-Events       WoE            IV  \n",
            "0          0.000740 -0.157690  1.703072e-05  \n",
            "1          0.033076  0.078329  2.110930e-04  \n",
            "2          0.011888 -0.004577  2.485094e-07  \n",
            "3          0.019333  0.038819  2.970623e-05  \n",
            "4          0.092939  0.070015  4.719303e-04  \n",
            "..              ...       ...           ...  \n",
            "9          0.093611 -0.126150  1.399588e-03  \n",
            "0          0.720690 -0.106413  7.741706e-03  \n",
            "1          0.093739  0.098363  9.530632e-04  \n",
            "2          0.092148  0.212778  4.648994e-03  \n",
            "3          0.093424  0.365435  1.506071e-02  \n",
            "\n",
            "[3942 rows x 9 columns]\n",
            "             Variable        IV\n",
            "0             CMState  0.008639\n",
            "0            PlaceAmt  0.028725\n",
            "0         Age_Bracket  0.002640\n",
            "0             TU_Band  0.022290\n",
            "0       Ttl_Prchs_Amt  0.037043\n",
            "0       Avg_Prchs_Amt  0.009258\n",
            "0       Max_Prchs_Amt  0.017865\n",
            "0        Ttl_Pymnt_Pd  0.035333\n",
            "0        Avg_Pymnt_Pd  0.010000\n",
            "0        Max_Pymnt_Pd  0.020022\n",
            "0      Ttl_Pymnt_Ovrd  0.028035\n",
            "0      Avg_Pymnt_Ovrd  0.005373\n",
            "0      Max_Pymnt_Ovrd  0.013293\n",
            "0        No_Of_Pymnts  0.031400\n",
            "0     No_Of_Lt_Pymnts  0.002145\n",
            "0   No_Of_Ovrd_Pymnts  0.021920\n",
            "0          Ttl_LtF_Pd  0.001181\n",
            "0     Ttl_Lt_Fee_Ovrd  0.016737\n",
            "0   Unique_Mrchnt_Cnt  0.025415\n",
            "0          Top_Mrchnt  0.137825\n",
            "0  No_of_Transactions  0.030541\n",
            "0          Ttl_Tenure  0.017632\n",
            "0        Max_Sequence  0.025817\n",
            "0         Trnsctn_Wnd  0.028404\n"
          ]
        }
      ],
      "source": [
        "#Calculate WoE and IV for all variables\n",
        "iv, woe = iv_woe(data=df1, target='Click_Engagement', bins=10, show_woe=True)\n",
        "print(woe)\n",
        "print(iv)"
      ]
    },
    {
      "cell_type": "code",
      "execution_count": null,
      "id": "82aeb37f",
      "metadata": {
        "id": "82aeb37f",
        "outputId": "c6484b62-fe53-493c-9a28-00e8ed6ba145"
      },
      "outputs": [
        {
          "data": {
            "text/html": [
              "<div>\n",
              "<style scoped>\n",
              "    .dataframe tbody tr th:only-of-type {\n",
              "        vertical-align: middle;\n",
              "    }\n",
              "\n",
              "    .dataframe tbody tr th {\n",
              "        vertical-align: top;\n",
              "    }\n",
              "\n",
              "    .dataframe thead th {\n",
              "        text-align: right;\n",
              "    }\n",
              "</style>\n",
              "<table border=\"1\" class=\"dataframe\">\n",
              "  <thead>\n",
              "    <tr style=\"text-align: right;\">\n",
              "      <th></th>\n",
              "      <th>Variable</th>\n",
              "      <th>IV</th>\n",
              "    </tr>\n",
              "  </thead>\n",
              "  <tbody>\n",
              "    <tr>\n",
              "      <th>0</th>\n",
              "      <td>CMState</td>\n",
              "      <td>0.008639</td>\n",
              "    </tr>\n",
              "    <tr>\n",
              "      <th>0</th>\n",
              "      <td>PlaceAmt</td>\n",
              "      <td>0.028725</td>\n",
              "    </tr>\n",
              "    <tr>\n",
              "      <th>0</th>\n",
              "      <td>Age_Bracket</td>\n",
              "      <td>0.002640</td>\n",
              "    </tr>\n",
              "    <tr>\n",
              "      <th>0</th>\n",
              "      <td>TU_Band</td>\n",
              "      <td>0.022290</td>\n",
              "    </tr>\n",
              "    <tr>\n",
              "      <th>0</th>\n",
              "      <td>Ttl_Prchs_Amt</td>\n",
              "      <td>0.037043</td>\n",
              "    </tr>\n",
              "    <tr>\n",
              "      <th>0</th>\n",
              "      <td>Avg_Prchs_Amt</td>\n",
              "      <td>0.009258</td>\n",
              "    </tr>\n",
              "    <tr>\n",
              "      <th>0</th>\n",
              "      <td>Max_Prchs_Amt</td>\n",
              "      <td>0.017865</td>\n",
              "    </tr>\n",
              "    <tr>\n",
              "      <th>0</th>\n",
              "      <td>Ttl_Pymnt_Pd</td>\n",
              "      <td>0.035333</td>\n",
              "    </tr>\n",
              "    <tr>\n",
              "      <th>0</th>\n",
              "      <td>Avg_Pymnt_Pd</td>\n",
              "      <td>0.010000</td>\n",
              "    </tr>\n",
              "    <tr>\n",
              "      <th>0</th>\n",
              "      <td>Max_Pymnt_Pd</td>\n",
              "      <td>0.020022</td>\n",
              "    </tr>\n",
              "    <tr>\n",
              "      <th>0</th>\n",
              "      <td>Ttl_Pymnt_Ovrd</td>\n",
              "      <td>0.028035</td>\n",
              "    </tr>\n",
              "    <tr>\n",
              "      <th>0</th>\n",
              "      <td>Avg_Pymnt_Ovrd</td>\n",
              "      <td>0.005373</td>\n",
              "    </tr>\n",
              "    <tr>\n",
              "      <th>0</th>\n",
              "      <td>Max_Pymnt_Ovrd</td>\n",
              "      <td>0.013293</td>\n",
              "    </tr>\n",
              "    <tr>\n",
              "      <th>0</th>\n",
              "      <td>No_Of_Pymnts</td>\n",
              "      <td>0.031400</td>\n",
              "    </tr>\n",
              "    <tr>\n",
              "      <th>0</th>\n",
              "      <td>No_Of_Lt_Pymnts</td>\n",
              "      <td>0.002145</td>\n",
              "    </tr>\n",
              "    <tr>\n",
              "      <th>0</th>\n",
              "      <td>No_Of_Ovrd_Pymnts</td>\n",
              "      <td>0.021920</td>\n",
              "    </tr>\n",
              "    <tr>\n",
              "      <th>0</th>\n",
              "      <td>Ttl_LtF_Pd</td>\n",
              "      <td>0.001181</td>\n",
              "    </tr>\n",
              "    <tr>\n",
              "      <th>0</th>\n",
              "      <td>Ttl_Lt_Fee_Ovrd</td>\n",
              "      <td>0.016737</td>\n",
              "    </tr>\n",
              "    <tr>\n",
              "      <th>0</th>\n",
              "      <td>Unique_Mrchnt_Cnt</td>\n",
              "      <td>0.025415</td>\n",
              "    </tr>\n",
              "    <tr>\n",
              "      <th>0</th>\n",
              "      <td>Top_Mrchnt</td>\n",
              "      <td>0.137825</td>\n",
              "    </tr>\n",
              "    <tr>\n",
              "      <th>0</th>\n",
              "      <td>No_of_Transactions</td>\n",
              "      <td>0.030541</td>\n",
              "    </tr>\n",
              "    <tr>\n",
              "      <th>0</th>\n",
              "      <td>Ttl_Tenure</td>\n",
              "      <td>0.017632</td>\n",
              "    </tr>\n",
              "    <tr>\n",
              "      <th>0</th>\n",
              "      <td>Max_Sequence</td>\n",
              "      <td>0.025817</td>\n",
              "    </tr>\n",
              "    <tr>\n",
              "      <th>0</th>\n",
              "      <td>Trnsctn_Wnd</td>\n",
              "      <td>0.028404</td>\n",
              "    </tr>\n",
              "  </tbody>\n",
              "</table>\n",
              "</div>"
            ],
            "text/plain": [
              "             Variable        IV\n",
              "0             CMState  0.008639\n",
              "0            PlaceAmt  0.028725\n",
              "0         Age_Bracket  0.002640\n",
              "0             TU_Band  0.022290\n",
              "0       Ttl_Prchs_Amt  0.037043\n",
              "0       Avg_Prchs_Amt  0.009258\n",
              "0       Max_Prchs_Amt  0.017865\n",
              "0        Ttl_Pymnt_Pd  0.035333\n",
              "0        Avg_Pymnt_Pd  0.010000\n",
              "0        Max_Pymnt_Pd  0.020022\n",
              "0      Ttl_Pymnt_Ovrd  0.028035\n",
              "0      Avg_Pymnt_Ovrd  0.005373\n",
              "0      Max_Pymnt_Ovrd  0.013293\n",
              "0        No_Of_Pymnts  0.031400\n",
              "0     No_Of_Lt_Pymnts  0.002145\n",
              "0   No_Of_Ovrd_Pymnts  0.021920\n",
              "0          Ttl_LtF_Pd  0.001181\n",
              "0     Ttl_Lt_Fee_Ovrd  0.016737\n",
              "0   Unique_Mrchnt_Cnt  0.025415\n",
              "0          Top_Mrchnt  0.137825\n",
              "0  No_of_Transactions  0.030541\n",
              "0          Ttl_Tenure  0.017632\n",
              "0        Max_Sequence  0.025817\n",
              "0         Trnsctn_Wnd  0.028404"
            ]
          },
          "execution_count": 362,
          "metadata": {},
          "output_type": "execute_result"
        }
      ],
      "source": [
        "#View Information for all variables\n",
        "iv"
      ]
    },
    {
      "cell_type": "code",
      "execution_count": null,
      "id": "187410e1",
      "metadata": {
        "id": "187410e1"
      },
      "outputs": [],
      "source": [
        "#Create a list of conditions for IV\n",
        "conditions = [\n",
        "    (iv['IV'] <= 0.02), \n",
        "    (iv['IV']> 0.02) & (iv['IV'] <= 0.1), \n",
        "    (iv['IV']> 0.1) & (iv['IV'] <= 0.3), \n",
        "    (iv['IV']> 0.3) & (iv['IV'] <= 0.5), \n",
        "    (iv['IV']> 0.5)\n",
        "]\n",
        "\n",
        "#Create a list of values we want to assign for each condition\n",
        "definition = ['Not Useful', 'Weak', 'Medium', 'Strong', 'Suspicious']\n",
        "\n",
        "# Create a new column and use np.select to assign values to it using our lists as arguments\n",
        "iv['Predictor'] = np.select(conditions, definition)"
      ]
    },
    {
      "cell_type": "code",
      "execution_count": null,
      "id": "b33f275d",
      "metadata": {
        "id": "b33f275d",
        "outputId": "371be130-fbf7-4868-ecaa-44a001307593"
      },
      "outputs": [
        {
          "data": {
            "text/html": [
              "<div>\n",
              "<style scoped>\n",
              "    .dataframe tbody tr th:only-of-type {\n",
              "        vertical-align: middle;\n",
              "    }\n",
              "\n",
              "    .dataframe tbody tr th {\n",
              "        vertical-align: top;\n",
              "    }\n",
              "\n",
              "    .dataframe thead th {\n",
              "        text-align: right;\n",
              "    }\n",
              "</style>\n",
              "<table border=\"1\" class=\"dataframe\">\n",
              "  <thead>\n",
              "    <tr style=\"text-align: right;\">\n",
              "      <th></th>\n",
              "      <th>Variable</th>\n",
              "      <th>IV</th>\n",
              "      <th>Predictor</th>\n",
              "    </tr>\n",
              "  </thead>\n",
              "  <tbody>\n",
              "    <tr>\n",
              "      <th>0</th>\n",
              "      <td>CMState</td>\n",
              "      <td>0.008639</td>\n",
              "      <td>Not Useful</td>\n",
              "    </tr>\n",
              "    <tr>\n",
              "      <th>0</th>\n",
              "      <td>PlaceAmt</td>\n",
              "      <td>0.028725</td>\n",
              "      <td>Weak</td>\n",
              "    </tr>\n",
              "    <tr>\n",
              "      <th>0</th>\n",
              "      <td>Age_Bracket</td>\n",
              "      <td>0.002640</td>\n",
              "      <td>Not Useful</td>\n",
              "    </tr>\n",
              "    <tr>\n",
              "      <th>0</th>\n",
              "      <td>TU_Band</td>\n",
              "      <td>0.022290</td>\n",
              "      <td>Weak</td>\n",
              "    </tr>\n",
              "    <tr>\n",
              "      <th>0</th>\n",
              "      <td>Ttl_Prchs_Amt</td>\n",
              "      <td>0.037043</td>\n",
              "      <td>Weak</td>\n",
              "    </tr>\n",
              "    <tr>\n",
              "      <th>0</th>\n",
              "      <td>Avg_Prchs_Amt</td>\n",
              "      <td>0.009258</td>\n",
              "      <td>Not Useful</td>\n",
              "    </tr>\n",
              "    <tr>\n",
              "      <th>0</th>\n",
              "      <td>Max_Prchs_Amt</td>\n",
              "      <td>0.017865</td>\n",
              "      <td>Not Useful</td>\n",
              "    </tr>\n",
              "    <tr>\n",
              "      <th>0</th>\n",
              "      <td>Ttl_Pymnt_Pd</td>\n",
              "      <td>0.035333</td>\n",
              "      <td>Weak</td>\n",
              "    </tr>\n",
              "    <tr>\n",
              "      <th>0</th>\n",
              "      <td>Avg_Pymnt_Pd</td>\n",
              "      <td>0.010000</td>\n",
              "      <td>Not Useful</td>\n",
              "    </tr>\n",
              "    <tr>\n",
              "      <th>0</th>\n",
              "      <td>Max_Pymnt_Pd</td>\n",
              "      <td>0.020022</td>\n",
              "      <td>Weak</td>\n",
              "    </tr>\n",
              "    <tr>\n",
              "      <th>0</th>\n",
              "      <td>Ttl_Pymnt_Ovrd</td>\n",
              "      <td>0.028035</td>\n",
              "      <td>Weak</td>\n",
              "    </tr>\n",
              "    <tr>\n",
              "      <th>0</th>\n",
              "      <td>Avg_Pymnt_Ovrd</td>\n",
              "      <td>0.005373</td>\n",
              "      <td>Not Useful</td>\n",
              "    </tr>\n",
              "    <tr>\n",
              "      <th>0</th>\n",
              "      <td>Max_Pymnt_Ovrd</td>\n",
              "      <td>0.013293</td>\n",
              "      <td>Not Useful</td>\n",
              "    </tr>\n",
              "    <tr>\n",
              "      <th>0</th>\n",
              "      <td>No_Of_Pymnts</td>\n",
              "      <td>0.031400</td>\n",
              "      <td>Weak</td>\n",
              "    </tr>\n",
              "    <tr>\n",
              "      <th>0</th>\n",
              "      <td>No_Of_Lt_Pymnts</td>\n",
              "      <td>0.002145</td>\n",
              "      <td>Not Useful</td>\n",
              "    </tr>\n",
              "    <tr>\n",
              "      <th>0</th>\n",
              "      <td>No_Of_Ovrd_Pymnts</td>\n",
              "      <td>0.021920</td>\n",
              "      <td>Weak</td>\n",
              "    </tr>\n",
              "    <tr>\n",
              "      <th>0</th>\n",
              "      <td>Ttl_LtF_Pd</td>\n",
              "      <td>0.001181</td>\n",
              "      <td>Not Useful</td>\n",
              "    </tr>\n",
              "    <tr>\n",
              "      <th>0</th>\n",
              "      <td>Ttl_Lt_Fee_Ovrd</td>\n",
              "      <td>0.016737</td>\n",
              "      <td>Not Useful</td>\n",
              "    </tr>\n",
              "    <tr>\n",
              "      <th>0</th>\n",
              "      <td>Unique_Mrchnt_Cnt</td>\n",
              "      <td>0.025415</td>\n",
              "      <td>Weak</td>\n",
              "    </tr>\n",
              "    <tr>\n",
              "      <th>0</th>\n",
              "      <td>Top_Mrchnt</td>\n",
              "      <td>0.137825</td>\n",
              "      <td>Medium</td>\n",
              "    </tr>\n",
              "    <tr>\n",
              "      <th>0</th>\n",
              "      <td>No_of_Transactions</td>\n",
              "      <td>0.030541</td>\n",
              "      <td>Weak</td>\n",
              "    </tr>\n",
              "    <tr>\n",
              "      <th>0</th>\n",
              "      <td>Ttl_Tenure</td>\n",
              "      <td>0.017632</td>\n",
              "      <td>Not Useful</td>\n",
              "    </tr>\n",
              "    <tr>\n",
              "      <th>0</th>\n",
              "      <td>Max_Sequence</td>\n",
              "      <td>0.025817</td>\n",
              "      <td>Weak</td>\n",
              "    </tr>\n",
              "    <tr>\n",
              "      <th>0</th>\n",
              "      <td>Trnsctn_Wnd</td>\n",
              "      <td>0.028404</td>\n",
              "      <td>Weak</td>\n",
              "    </tr>\n",
              "  </tbody>\n",
              "</table>\n",
              "</div>"
            ],
            "text/plain": [
              "             Variable        IV   Predictor\n",
              "0             CMState  0.008639  Not Useful\n",
              "0            PlaceAmt  0.028725        Weak\n",
              "0         Age_Bracket  0.002640  Not Useful\n",
              "0             TU_Band  0.022290        Weak\n",
              "0       Ttl_Prchs_Amt  0.037043        Weak\n",
              "0       Avg_Prchs_Amt  0.009258  Not Useful\n",
              "0       Max_Prchs_Amt  0.017865  Not Useful\n",
              "0        Ttl_Pymnt_Pd  0.035333        Weak\n",
              "0        Avg_Pymnt_Pd  0.010000  Not Useful\n",
              "0        Max_Pymnt_Pd  0.020022        Weak\n",
              "0      Ttl_Pymnt_Ovrd  0.028035        Weak\n",
              "0      Avg_Pymnt_Ovrd  0.005373  Not Useful\n",
              "0      Max_Pymnt_Ovrd  0.013293  Not Useful\n",
              "0        No_Of_Pymnts  0.031400        Weak\n",
              "0     No_Of_Lt_Pymnts  0.002145  Not Useful\n",
              "0   No_Of_Ovrd_Pymnts  0.021920        Weak\n",
              "0          Ttl_LtF_Pd  0.001181  Not Useful\n",
              "0     Ttl_Lt_Fee_Ovrd  0.016737  Not Useful\n",
              "0   Unique_Mrchnt_Cnt  0.025415        Weak\n",
              "0          Top_Mrchnt  0.137825      Medium\n",
              "0  No_of_Transactions  0.030541        Weak\n",
              "0          Ttl_Tenure  0.017632  Not Useful\n",
              "0        Max_Sequence  0.025817        Weak\n",
              "0         Trnsctn_Wnd  0.028404        Weak"
            ]
          },
          "execution_count": 369,
          "metadata": {},
          "output_type": "execute_result"
        }
      ],
      "source": [
        "iv"
      ]
    },
    {
      "cell_type": "code",
      "execution_count": null,
      "id": "1c347e2f",
      "metadata": {
        "id": "1c347e2f"
      },
      "outputs": [],
      "source": [
        "# #Apply one hot encoder to both categorical columns\n",
        "\n",
        "# from sklearn.preprocessing import OneHotEncoder\n",
        "# ohe = OneHotEncoder(categories='auto')\n",
        "\n",
        "# array_hot_encoded = ohe.fit_transform(df1[['Age_Bracket','TU_Band']]).toarray() #fit transform to arrays\n",
        "# feature_labels = ohe.get_feature_names()     #Extract categories\n",
        "# feature_labels = np.array(feature_labels).ravel()\n",
        "\n",
        "# features = pd.DataFrame(array_hot_encoded, columns=feature_labels)\n",
        "# df6 = features"
      ]
    },
    {
      "cell_type": "code",
      "execution_count": null,
      "id": "c69b2bce",
      "metadata": {
        "id": "c69b2bce"
      },
      "outputs": [],
      "source": [
        "df21 = df1['CMState']"
      ]
    },
    {
      "cell_type": "markdown",
      "id": "304ae549",
      "metadata": {
        "id": "304ae549"
      },
      "source": [
        "# Top 10 Encoding"
      ]
    },
    {
      "cell_type": "code",
      "execution_count": null,
      "id": "37c0d24b",
      "metadata": {
        "id": "37c0d24b",
        "outputId": "965fa1df-e5d5-40a3-cc18-0d7a922e1573"
      },
      "outputs": [
        {
          "data": {
            "text/plain": [
              "['TX', 'CA', 'FL', 'GA', 'NC', 'IL', 'PA', 'VA', 'NJ', 'MI']"
            ]
          },
          "execution_count": 375,
          "metadata": {},
          "output_type": "execute_result"
        }
      ],
      "source": [
        "# make list with top 10 variables\n",
        "top_10 = [x for x in df1.CMState.value_counts().sort_values(ascending=False).head(10).index]\n",
        "top_10"
      ]
    },
    {
      "cell_type": "code",
      "execution_count": null,
      "id": "c5b06ce8",
      "metadata": {
        "id": "c5b06ce8",
        "outputId": "a9c1337f-4a3c-4e90-9030-19ed19a2312d"
      },
      "outputs": [
        {
          "data": {
            "text/plain": [
              "['Fashion Nova',\n",
              " 'SHEIN US OLD',\n",
              " 'SHEIN US',\n",
              " 'Ugg',\n",
              " 'GOAT',\n",
              " 'Finish Line',\n",
              " 'Gift cards by Afterpay US',\n",
              " \"Dillard's, Inc.\",\n",
              " 'GAP',\n",
              " \"Children's Place\"]"
            ]
          },
          "execution_count": 395,
          "metadata": {},
          "output_type": "execute_result"
        }
      ],
      "source": [
        "top_10n = [x for x in df1.Top_Mrchnt.value_counts().sort_values(ascending=False).head(10).index]\n",
        "top_10n"
      ]
    },
    {
      "cell_type": "code",
      "execution_count": null,
      "id": "7407d103",
      "metadata": {
        "id": "7407d103"
      },
      "outputs": [],
      "source": [
        "# for all categorical variables we selected - Function Creation \n",
        "def top_x(df1,variable,top_x_labels):\n",
        "    for label in top_x_labels:\n",
        "        df1[variable +'_'+label] = np.where(data[variable]==label,1,0)"
      ]
    },
    {
      "cell_type": "code",
      "execution_count": null,
      "id": "c134e17f",
      "metadata": {
        "id": "c134e17f",
        "outputId": "1b7e397f-f4cd-4db1-b93f-b05be5e8d193"
      },
      "outputs": [
        {
          "data": {
            "text/html": [
              "<div>\n",
              "<style scoped>\n",
              "    .dataframe tbody tr th:only-of-type {\n",
              "        vertical-align: middle;\n",
              "    }\n",
              "\n",
              "    .dataframe tbody tr th {\n",
              "        vertical-align: top;\n",
              "    }\n",
              "\n",
              "    .dataframe thead th {\n",
              "        text-align: right;\n",
              "    }\n",
              "</style>\n",
              "<table border=\"1\" class=\"dataframe\">\n",
              "  <thead>\n",
              "    <tr style=\"text-align: right;\">\n",
              "      <th></th>\n",
              "      <th>AcctID</th>\n",
              "      <th>PlaceDate</th>\n",
              "      <th>CMState</th>\n",
              "      <th>PlaceAmt</th>\n",
              "      <th>Age_Bracket</th>\n",
              "      <th>TU_Band</th>\n",
              "      <th>Ttl_Prchs_Amt</th>\n",
              "      <th>Avg_Prchs_Amt</th>\n",
              "      <th>Max_Prchs_Amt</th>\n",
              "      <th>Ttl_Pymnt_Pd</th>\n",
              "      <th>...</th>\n",
              "      <th>CMState_TX</th>\n",
              "      <th>CMState_CA</th>\n",
              "      <th>CMState_FL</th>\n",
              "      <th>CMState_GA</th>\n",
              "      <th>CMState_NC</th>\n",
              "      <th>CMState_IL</th>\n",
              "      <th>CMState_PA</th>\n",
              "      <th>CMState_VA</th>\n",
              "      <th>CMState_NJ</th>\n",
              "      <th>CMState_MI</th>\n",
              "    </tr>\n",
              "  </thead>\n",
              "  <tbody>\n",
              "    <tr>\n",
              "      <th>0</th>\n",
              "      <td>552052</td>\n",
              "      <td>2022-01-21 16:00:39.540</td>\n",
              "      <td>FL</td>\n",
              "      <td>72.68</td>\n",
              "      <td>18-30</td>\n",
              "      <td>604-710</td>\n",
              "      <td>76.91</td>\n",
              "      <td>76.91</td>\n",
              "      <td>76.91</td>\n",
              "      <td>19.23</td>\n",
              "      <td>...</td>\n",
              "      <td>0</td>\n",
              "      <td>0</td>\n",
              "      <td>1</td>\n",
              "      <td>0</td>\n",
              "      <td>0</td>\n",
              "      <td>0</td>\n",
              "      <td>0</td>\n",
              "      <td>0</td>\n",
              "      <td>0</td>\n",
              "      <td>0</td>\n",
              "    </tr>\n",
              "    <tr>\n",
              "      <th>1</th>\n",
              "      <td>552054</td>\n",
              "      <td>2022-01-21 16:00:39.570</td>\n",
              "      <td>TN</td>\n",
              "      <td>28.47</td>\n",
              "      <td>18-30</td>\n",
              "      <td>604-710</td>\n",
              "      <td>40.95</td>\n",
              "      <td>40.95</td>\n",
              "      <td>40.95</td>\n",
              "      <td>20.48</td>\n",
              "      <td>...</td>\n",
              "      <td>0</td>\n",
              "      <td>0</td>\n",
              "      <td>0</td>\n",
              "      <td>0</td>\n",
              "      <td>0</td>\n",
              "      <td>0</td>\n",
              "      <td>0</td>\n",
              "      <td>0</td>\n",
              "      <td>0</td>\n",
              "      <td>0</td>\n",
              "    </tr>\n",
              "    <tr>\n",
              "      <th>2</th>\n",
              "      <td>552055</td>\n",
              "      <td>2022-01-21 16:00:39.583</td>\n",
              "      <td>MA</td>\n",
              "      <td>465.00</td>\n",
              "      <td>18-30</td>\n",
              "      <td>0-550</td>\n",
              "      <td>600.00</td>\n",
              "      <td>600.00</td>\n",
              "      <td>600.00</td>\n",
              "      <td>150.00</td>\n",
              "      <td>...</td>\n",
              "      <td>0</td>\n",
              "      <td>0</td>\n",
              "      <td>0</td>\n",
              "      <td>0</td>\n",
              "      <td>0</td>\n",
              "      <td>0</td>\n",
              "      <td>0</td>\n",
              "      <td>0</td>\n",
              "      <td>0</td>\n",
              "      <td>0</td>\n",
              "    </tr>\n",
              "    <tr>\n",
              "      <th>3</th>\n",
              "      <td>552063</td>\n",
              "      <td>2022-01-21 16:00:39.700</td>\n",
              "      <td>UT</td>\n",
              "      <td>172.13</td>\n",
              "      <td>30-45</td>\n",
              "      <td>604-710</td>\n",
              "      <td>197.91</td>\n",
              "      <td>197.91</td>\n",
              "      <td>197.91</td>\n",
              "      <td>49.48</td>\n",
              "      <td>...</td>\n",
              "      <td>0</td>\n",
              "      <td>0</td>\n",
              "      <td>0</td>\n",
              "      <td>0</td>\n",
              "      <td>0</td>\n",
              "      <td>0</td>\n",
              "      <td>0</td>\n",
              "      <td>0</td>\n",
              "      <td>0</td>\n",
              "      <td>0</td>\n",
              "    </tr>\n",
              "    <tr>\n",
              "      <th>4</th>\n",
              "      <td>552064</td>\n",
              "      <td>2022-01-21 16:00:39.720</td>\n",
              "      <td>RI</td>\n",
              "      <td>95.50</td>\n",
              "      <td>30-45</td>\n",
              "      <td>604-710</td>\n",
              "      <td>127.33</td>\n",
              "      <td>127.33</td>\n",
              "      <td>127.33</td>\n",
              "      <td>31.83</td>\n",
              "      <td>...</td>\n",
              "      <td>0</td>\n",
              "      <td>0</td>\n",
              "      <td>0</td>\n",
              "      <td>0</td>\n",
              "      <td>0</td>\n",
              "      <td>0</td>\n",
              "      <td>0</td>\n",
              "      <td>0</td>\n",
              "      <td>0</td>\n",
              "      <td>0</td>\n",
              "    </tr>\n",
              "  </tbody>\n",
              "</table>\n",
              "<p>5 rows × 38 columns</p>\n",
              "</div>"
            ],
            "text/plain": [
              "   AcctID               PlaceDate CMState  PlaceAmt Age_Bracket  TU_Band  \\\n",
              "0  552052 2022-01-21 16:00:39.540      FL     72.68       18-30  604-710   \n",
              "1  552054 2022-01-21 16:00:39.570      TN     28.47       18-30  604-710   \n",
              "2  552055 2022-01-21 16:00:39.583      MA    465.00       18-30    0-550   \n",
              "3  552063 2022-01-21 16:00:39.700      UT    172.13       30-45  604-710   \n",
              "4  552064 2022-01-21 16:00:39.720      RI     95.50       30-45  604-710   \n",
              "\n",
              "   Ttl_Prchs_Amt  Avg_Prchs_Amt  Max_Prchs_Amt  Ttl_Pymnt_Pd  ...  CMState_TX  \\\n",
              "0          76.91          76.91          76.91         19.23  ...           0   \n",
              "1          40.95          40.95          40.95         20.48  ...           0   \n",
              "2         600.00         600.00         600.00        150.00  ...           0   \n",
              "3         197.91         197.91         197.91         49.48  ...           0   \n",
              "4         127.33         127.33         127.33         31.83  ...           0   \n",
              "\n",
              "   CMState_CA  CMState_FL  CMState_GA  CMState_NC  CMState_IL  CMState_PA  \\\n",
              "0           0           1           0           0           0           0   \n",
              "1           0           0           0           0           0           0   \n",
              "2           0           0           0           0           0           0   \n",
              "3           0           0           0           0           0           0   \n",
              "4           0           0           0           0           0           0   \n",
              "\n",
              "   CMState_VA  CMState_NJ  CMState_MI  \n",
              "0           0           0           0  \n",
              "1           0           0           0  \n",
              "2           0           0           0  \n",
              "3           0           0           0  \n",
              "4           0           0           0  \n",
              "\n",
              "[5 rows x 38 columns]"
            ]
          },
          "execution_count": 393,
          "metadata": {},
          "output_type": "execute_result"
        }
      ],
      "source": [
        "# read the data again\n",
        "#data = pd.read_csv('D://xdatasets/train.csv',usecols = ['Neighborhood','Exterior1st','Exterior2nd'])\n",
        "#encode Nighborhood into the 10 most frequent categories\n",
        "top_x(data,'CMState',top_10)\n",
        "# display data\n",
        "data.head()"
      ]
    },
    {
      "cell_type": "code",
      "execution_count": null,
      "id": "7ee07150",
      "metadata": {
        "id": "7ee07150",
        "outputId": "ff9cae2c-f44c-430d-96d6-ac2cd650af5f"
      },
      "outputs": [
        {
          "data": {
            "text/html": [
              "<div>\n",
              "<style scoped>\n",
              "    .dataframe tbody tr th:only-of-type {\n",
              "        vertical-align: middle;\n",
              "    }\n",
              "\n",
              "    .dataframe tbody tr th {\n",
              "        vertical-align: top;\n",
              "    }\n",
              "\n",
              "    .dataframe thead th {\n",
              "        text-align: right;\n",
              "    }\n",
              "</style>\n",
              "<table border=\"1\" class=\"dataframe\">\n",
              "  <thead>\n",
              "    <tr style=\"text-align: right;\">\n",
              "      <th></th>\n",
              "      <th>AcctID</th>\n",
              "      <th>PlaceDate</th>\n",
              "      <th>CMState</th>\n",
              "      <th>PlaceAmt</th>\n",
              "      <th>Age_Bracket</th>\n",
              "      <th>TU_Band</th>\n",
              "      <th>Ttl_Prchs_Amt</th>\n",
              "      <th>Avg_Prchs_Amt</th>\n",
              "      <th>Max_Prchs_Amt</th>\n",
              "      <th>Ttl_Pymnt_Pd</th>\n",
              "      <th>...</th>\n",
              "      <th>Top_Mrchnt_Fashion Nova</th>\n",
              "      <th>Top_Mrchnt_SHEIN US OLD</th>\n",
              "      <th>Top_Mrchnt_SHEIN US</th>\n",
              "      <th>Top_Mrchnt_Ugg</th>\n",
              "      <th>Top_Mrchnt_GOAT</th>\n",
              "      <th>Top_Mrchnt_Finish Line</th>\n",
              "      <th>Top_Mrchnt_Gift cards by Afterpay US</th>\n",
              "      <th>Top_Mrchnt_Dillard's, Inc.</th>\n",
              "      <th>Top_Mrchnt_GAP</th>\n",
              "      <th>Top_Mrchnt_Children's Place</th>\n",
              "    </tr>\n",
              "  </thead>\n",
              "  <tbody>\n",
              "    <tr>\n",
              "      <th>0</th>\n",
              "      <td>552052</td>\n",
              "      <td>2022-01-21 16:00:39.540</td>\n",
              "      <td>FL</td>\n",
              "      <td>72.68</td>\n",
              "      <td>18-30</td>\n",
              "      <td>604-710</td>\n",
              "      <td>76.91</td>\n",
              "      <td>76.91</td>\n",
              "      <td>76.91</td>\n",
              "      <td>19.23</td>\n",
              "      <td>...</td>\n",
              "      <td>0</td>\n",
              "      <td>0</td>\n",
              "      <td>0</td>\n",
              "      <td>0</td>\n",
              "      <td>0</td>\n",
              "      <td>0</td>\n",
              "      <td>0</td>\n",
              "      <td>0</td>\n",
              "      <td>0</td>\n",
              "      <td>0</td>\n",
              "    </tr>\n",
              "    <tr>\n",
              "      <th>1</th>\n",
              "      <td>552054</td>\n",
              "      <td>2022-01-21 16:00:39.570</td>\n",
              "      <td>TN</td>\n",
              "      <td>28.47</td>\n",
              "      <td>18-30</td>\n",
              "      <td>604-710</td>\n",
              "      <td>40.95</td>\n",
              "      <td>40.95</td>\n",
              "      <td>40.95</td>\n",
              "      <td>20.48</td>\n",
              "      <td>...</td>\n",
              "      <td>0</td>\n",
              "      <td>0</td>\n",
              "      <td>0</td>\n",
              "      <td>0</td>\n",
              "      <td>0</td>\n",
              "      <td>0</td>\n",
              "      <td>0</td>\n",
              "      <td>0</td>\n",
              "      <td>0</td>\n",
              "      <td>0</td>\n",
              "    </tr>\n",
              "    <tr>\n",
              "      <th>2</th>\n",
              "      <td>552055</td>\n",
              "      <td>2022-01-21 16:00:39.583</td>\n",
              "      <td>MA</td>\n",
              "      <td>465.00</td>\n",
              "      <td>18-30</td>\n",
              "      <td>0-550</td>\n",
              "      <td>600.00</td>\n",
              "      <td>600.00</td>\n",
              "      <td>600.00</td>\n",
              "      <td>150.00</td>\n",
              "      <td>...</td>\n",
              "      <td>0</td>\n",
              "      <td>0</td>\n",
              "      <td>0</td>\n",
              "      <td>0</td>\n",
              "      <td>0</td>\n",
              "      <td>0</td>\n",
              "      <td>0</td>\n",
              "      <td>0</td>\n",
              "      <td>0</td>\n",
              "      <td>0</td>\n",
              "    </tr>\n",
              "    <tr>\n",
              "      <th>3</th>\n",
              "      <td>552063</td>\n",
              "      <td>2022-01-21 16:00:39.700</td>\n",
              "      <td>UT</td>\n",
              "      <td>172.13</td>\n",
              "      <td>30-45</td>\n",
              "      <td>604-710</td>\n",
              "      <td>197.91</td>\n",
              "      <td>197.91</td>\n",
              "      <td>197.91</td>\n",
              "      <td>49.48</td>\n",
              "      <td>...</td>\n",
              "      <td>0</td>\n",
              "      <td>0</td>\n",
              "      <td>0</td>\n",
              "      <td>0</td>\n",
              "      <td>0</td>\n",
              "      <td>0</td>\n",
              "      <td>0</td>\n",
              "      <td>0</td>\n",
              "      <td>0</td>\n",
              "      <td>1</td>\n",
              "    </tr>\n",
              "    <tr>\n",
              "      <th>4</th>\n",
              "      <td>552064</td>\n",
              "      <td>2022-01-21 16:00:39.720</td>\n",
              "      <td>RI</td>\n",
              "      <td>95.50</td>\n",
              "      <td>30-45</td>\n",
              "      <td>604-710</td>\n",
              "      <td>127.33</td>\n",
              "      <td>127.33</td>\n",
              "      <td>127.33</td>\n",
              "      <td>31.83</td>\n",
              "      <td>...</td>\n",
              "      <td>0</td>\n",
              "      <td>0</td>\n",
              "      <td>0</td>\n",
              "      <td>0</td>\n",
              "      <td>0</td>\n",
              "      <td>0</td>\n",
              "      <td>0</td>\n",
              "      <td>0</td>\n",
              "      <td>0</td>\n",
              "      <td>0</td>\n",
              "    </tr>\n",
              "  </tbody>\n",
              "</table>\n",
              "<p>5 rows × 48 columns</p>\n",
              "</div>"
            ],
            "text/plain": [
              "   AcctID               PlaceDate CMState  PlaceAmt Age_Bracket  TU_Band  \\\n",
              "0  552052 2022-01-21 16:00:39.540      FL     72.68       18-30  604-710   \n",
              "1  552054 2022-01-21 16:00:39.570      TN     28.47       18-30  604-710   \n",
              "2  552055 2022-01-21 16:00:39.583      MA    465.00       18-30    0-550   \n",
              "3  552063 2022-01-21 16:00:39.700      UT    172.13       30-45  604-710   \n",
              "4  552064 2022-01-21 16:00:39.720      RI     95.50       30-45  604-710   \n",
              "\n",
              "   Ttl_Prchs_Amt  Avg_Prchs_Amt  Max_Prchs_Amt  Ttl_Pymnt_Pd  ...  \\\n",
              "0          76.91          76.91          76.91         19.23  ...   \n",
              "1          40.95          40.95          40.95         20.48  ...   \n",
              "2         600.00         600.00         600.00        150.00  ...   \n",
              "3         197.91         197.91         197.91         49.48  ...   \n",
              "4         127.33         127.33         127.33         31.83  ...   \n",
              "\n",
              "   Top_Mrchnt_Fashion Nova  Top_Mrchnt_SHEIN US OLD  Top_Mrchnt_SHEIN US  \\\n",
              "0                        0                        0                    0   \n",
              "1                        0                        0                    0   \n",
              "2                        0                        0                    0   \n",
              "3                        0                        0                    0   \n",
              "4                        0                        0                    0   \n",
              "\n",
              "   Top_Mrchnt_Ugg  Top_Mrchnt_GOAT  Top_Mrchnt_Finish Line  \\\n",
              "0               0                0                       0   \n",
              "1               0                0                       0   \n",
              "2               0                0                       0   \n",
              "3               0                0                       0   \n",
              "4               0                0                       0   \n",
              "\n",
              "   Top_Mrchnt_Gift cards by Afterpay US  Top_Mrchnt_Dillard's, Inc.  \\\n",
              "0                                     0                           0   \n",
              "1                                     0                           0   \n",
              "2                                     0                           0   \n",
              "3                                     0                           0   \n",
              "4                                     0                           0   \n",
              "\n",
              "   Top_Mrchnt_GAP  Top_Mrchnt_Children's Place  \n",
              "0               0                            0  \n",
              "1               0                            0  \n",
              "2               0                            0  \n",
              "3               0                            1  \n",
              "4               0                            0  \n",
              "\n",
              "[5 rows x 48 columns]"
            ]
          },
          "execution_count": 396,
          "metadata": {},
          "output_type": "execute_result"
        }
      ],
      "source": [
        "top_x(data,'Top_Mrchnt',top_10n)\n",
        "# display data\n",
        "data.head()"
      ]
    },
    {
      "cell_type": "code",
      "execution_count": null,
      "id": "3b5c8254",
      "metadata": {
        "id": "3b5c8254",
        "outputId": "71f3bd55-ee26-4b2d-9886-8f7ccbb2e593"
      },
      "outputs": [
        {
          "name": "stdout",
          "output_type": "stream",
          "text": [
            "['AcctID', 'PlaceDate', 'CMState', 'PlaceAmt', 'Age_Bracket', 'TU_Band', 'Ttl_Prchs_Amt', 'Avg_Prchs_Amt', 'Max_Prchs_Amt', 'Ttl_Pymnt_Pd', 'Avg_Pymnt_Pd', 'Max_Pymnt_Pd', 'Ttl_Pymnt_Ovrd', 'Avg_Pymnt_Ovrd', 'Max_Pymnt_Ovrd', 'No_Of_Pymnts', 'No_Of_Lt_Pymnts', 'No_Of_Ovrd_Pymnts', 'Ttl_LtF_Pd', 'Ttl_Lt_Fee_Ovrd', 'Unique_Mrchnt_Cnt', 'Top_Mrchnt', 'Frst_Trnsctn_Dt', 'Lst_Trnsctn_Dt', 'No_of_Transactions', 'Ttl_Tenure', 'Max_Sequence', 'Click_Engagement', 'CMState_TX', 'CMState_CA', 'CMState_FL', 'CMState_GA', 'CMState_NC', 'CMState_IL', 'CMState_PA', 'CMState_VA', 'CMState_NJ', 'CMState_MI', 'Top_Mrchnt_Fashion Nova', 'Top_Mrchnt_SHEIN US OLD', 'Top_Mrchnt_SHEIN US', 'Top_Mrchnt_Ugg', 'Top_Mrchnt_GOAT', 'Top_Mrchnt_Finish Line', 'Top_Mrchnt_Gift cards by Afterpay US', \"Top_Mrchnt_Dillard's, Inc.\", 'Top_Mrchnt_GAP', \"Top_Mrchnt_Children's Place\"]\n"
          ]
        }
      ],
      "source": [
        "print(list(data.columns))"
      ]
    },
    {
      "cell_type": "code",
      "execution_count": null,
      "id": "65e1335a",
      "metadata": {
        "id": "65e1335a"
      },
      "outputs": [],
      "source": [
        "data = data.drop(columns=['AcctID'])"
      ]
    },
    {
      "cell_type": "code",
      "execution_count": null,
      "id": "361a0649",
      "metadata": {
        "id": "361a0649"
      },
      "outputs": [],
      "source": [
        "#Create Transaction Window Variable\n",
        "data['Trnsctn_Wnd'] = data.apply(lambda row: \n",
        "                              row.Lst_Trnsctn_Dt - row.Frst_Trnsctn_Dt, axis = 1)\n",
        "data['Trnsctn_Wnd'] = data['Trnsctn_Wnd'].dt.days.astype('int64')"
      ]
    },
    {
      "cell_type": "code",
      "execution_count": null,
      "id": "5f77c8b8",
      "metadata": {
        "id": "5f77c8b8",
        "outputId": "33cbfe5a-ba91-49b3-fe38-9efd1b5536bf"
      },
      "outputs": [
        {
          "data": {
            "text/plain": [
              "['CMState', 'Age_Bracket', 'TU_Band', 'Top_Mrchnt']"
            ]
          },
          "execution_count": 402,
          "metadata": {},
          "output_type": "execute_result"
        }
      ],
      "source": [
        "list(data.select_dtypes('object'))"
      ]
    },
    {
      "cell_type": "code",
      "execution_count": null,
      "id": "fef803f7",
      "metadata": {
        "id": "fef803f7",
        "outputId": "5c73cd80-4bf9-47f0-cfef-e33c6967983c"
      },
      "outputs": [
        {
          "name": "stdout",
          "output_type": "stream",
          "text": [
            "['PlaceDate', 'CMState', 'PlaceAmt', 'Age_Bracket', 'TU_Band', 'Ttl_Prchs_Amt', 'Avg_Prchs_Amt', 'Max_Prchs_Amt', 'Ttl_Pymnt_Pd', 'Avg_Pymnt_Pd', 'Max_Pymnt_Pd', 'Ttl_Pymnt_Ovrd', 'Avg_Pymnt_Ovrd', 'Max_Pymnt_Ovrd', 'No_Of_Pymnts', 'No_Of_Lt_Pymnts', 'No_Of_Ovrd_Pymnts', 'Ttl_LtF_Pd', 'Ttl_Lt_Fee_Ovrd', 'Unique_Mrchnt_Cnt', 'Top_Mrchnt', 'Frst_Trnsctn_Dt', 'Lst_Trnsctn_Dt', 'No_of_Transactions', 'Ttl_Tenure', 'Max_Sequence', 'Click_Engagement', 'CMState_TX', 'CMState_CA', 'CMState_FL', 'CMState_GA', 'CMState_NC', 'CMState_IL', 'CMState_PA', 'CMState_VA', 'CMState_NJ', 'CMState_MI', 'Top_Mrchnt_Fashion Nova', 'Top_Mrchnt_SHEIN US OLD', 'Top_Mrchnt_SHEIN US', 'Top_Mrchnt_Ugg', 'Top_Mrchnt_GOAT', 'Top_Mrchnt_Finish Line', 'Top_Mrchnt_Gift cards by Afterpay US', \"Top_Mrchnt_Dillard's, Inc.\", 'Top_Mrchnt_GAP', \"Top_Mrchnt_Children's Place\", 'Trnsctn_Wnd']\n"
          ]
        }
      ],
      "source": [
        "print(list(data.columns))"
      ]
    },
    {
      "cell_type": "code",
      "execution_count": null,
      "id": "52d27aee",
      "metadata": {
        "id": "52d27aee"
      },
      "outputs": [],
      "source": [
        "df61 = data.drop(columns=['TU_Band','Age_Bracket'])"
      ]
    },
    {
      "cell_type": "markdown",
      "id": "cafeda82",
      "metadata": {
        "id": "cafeda82"
      },
      "source": [
        "# One Hot Encoding"
      ]
    },
    {
      "cell_type": "code",
      "execution_count": null,
      "id": "474cbee3",
      "metadata": {
        "id": "474cbee3"
      },
      "outputs": [],
      "source": [
        "from sklearn.preprocessing import OneHotEncoder\n",
        "ohe = OneHotEncoder(categories='auto')\n",
        "\n",
        "array_hot_encoded = ohe.fit_transform(data[['Age_Bracket','TU_Band']]).toarray() #fit transform to arrays\n",
        "feature_labels = ohe.get_feature_names()     #Extract categories\n",
        "feature_labels = np.array(feature_labels).ravel()\n",
        "\n",
        "features = pd.DataFrame(array_hot_encoded, columns=feature_labels)\n",
        "df6 = features"
      ]
    },
    {
      "cell_type": "code",
      "execution_count": null,
      "id": "ed2648cf",
      "metadata": {
        "id": "ed2648cf"
      },
      "outputs": [],
      "source": [
        "df61 = df61.reset_index(drop=True)\n",
        "df6 = df6.reset_index(drop=True)\n",
        "dffinal = pd.concat([df61, df6], axis=1)"
      ]
    },
    {
      "cell_type": "code",
      "execution_count": null,
      "id": "eb98ac82",
      "metadata": {
        "id": "eb98ac82"
      },
      "outputs": [],
      "source": [
        "#df12 = df12.reset_index(drop=True)\n",
        "#dfnew = dfnew.reset_index(drop=True)\n",
        "#dffinal = pd.concat([df12, dfnew], axis=1)"
      ]
    },
    {
      "cell_type": "code",
      "execution_count": null,
      "id": "e38d9132",
      "metadata": {
        "id": "e38d9132"
      },
      "outputs": [],
      "source": [
        "#print(len(df12.columns))"
      ]
    },
    {
      "cell_type": "code",
      "execution_count": null,
      "id": "8913a421",
      "metadata": {
        "id": "8913a421",
        "outputId": "357eb84e-d1d0-4cd5-9ff5-230babd06d32"
      },
      "outputs": [
        {
          "name": "stdout",
          "output_type": "stream",
          "text": [
            "PlaceDate                               datetime64[ns]\n",
            "CMState                                         object\n",
            "PlaceAmt                                       float64\n",
            "Ttl_Prchs_Amt                                  float64\n",
            "Avg_Prchs_Amt                                  float64\n",
            "Max_Prchs_Amt                                  float64\n",
            "Ttl_Pymnt_Pd                                   float64\n",
            "Avg_Pymnt_Pd                                   float64\n",
            "Max_Pymnt_Pd                                   float64\n",
            "Ttl_Pymnt_Ovrd                                 float64\n",
            "Avg_Pymnt_Ovrd                                 float64\n",
            "Max_Pymnt_Ovrd                                 float64\n",
            "No_Of_Pymnts                                     int64\n",
            "No_Of_Lt_Pymnts                                  int64\n",
            "No_Of_Ovrd_Pymnts                                int64\n",
            "Ttl_LtF_Pd                                     float64\n",
            "Ttl_Lt_Fee_Ovrd                                float64\n",
            "Unique_Mrchnt_Cnt                                int64\n",
            "Top_Mrchnt                                      object\n",
            "Frst_Trnsctn_Dt                         datetime64[ns]\n",
            "Lst_Trnsctn_Dt                          datetime64[ns]\n",
            "No_of_Transactions                               int64\n",
            "Ttl_Tenure                                       int64\n",
            "Max_Sequence                                     int64\n",
            "Click_Engagement                                 int64\n",
            "CMState_TX                                       int32\n",
            "CMState_CA                                       int32\n",
            "CMState_FL                                       int32\n",
            "CMState_GA                                       int32\n",
            "CMState_NC                                       int32\n",
            "CMState_IL                                       int32\n",
            "CMState_PA                                       int32\n",
            "CMState_VA                                       int32\n",
            "CMState_NJ                                       int32\n",
            "CMState_MI                                       int32\n",
            "Top_Mrchnt_Fashion Nova                          int32\n",
            "Top_Mrchnt_SHEIN US OLD                          int32\n",
            "Top_Mrchnt_SHEIN US                              int32\n",
            "Top_Mrchnt_Ugg                                   int32\n",
            "Top_Mrchnt_GOAT                                  int32\n",
            "Top_Mrchnt_Finish Line                           int32\n",
            "Top_Mrchnt_Gift cards by Afterpay US             int32\n",
            "Top_Mrchnt_Dillard's, Inc.                       int32\n",
            "Top_Mrchnt_GAP                                   int32\n",
            "Top_Mrchnt_Children's Place                      int32\n",
            "Trnsctn_Wnd                                      int64\n",
            "x0_18-30                                       float64\n",
            "x0_30-45                                       float64\n",
            "x0_45-60                                       float64\n",
            "x0_60 Plus                                     float64\n",
            "x1_0-550                                       float64\n",
            "x1_551-603                                     float64\n",
            "x1_604-710                                     float64\n",
            "x1_711-780                                     float64\n",
            "x1_781-850                                     float64\n",
            "x1_Not Avaialble                               float64\n",
            "dtype: object\n"
          ]
        }
      ],
      "source": [
        "df7 = dffinal\n",
        "#df7.head()\n",
        "print(df7.dtypes)"
      ]
    },
    {
      "cell_type": "code",
      "execution_count": null,
      "id": "ab1f136c",
      "metadata": {
        "id": "ab1f136c"
      },
      "outputs": [],
      "source": [
        "#print(df7.dtypes)"
      ]
    },
    {
      "cell_type": "code",
      "execution_count": null,
      "id": "43138cf9",
      "metadata": {
        "id": "43138cf9",
        "outputId": "40a52e6a-1a4c-44a7-d7f3-39ca8e5cf933"
      },
      "outputs": [
        {
          "name": "stdout",
          "output_type": "stream",
          "text": [
            "['PlaceDate', 'CMState', 'PlaceAmt', 'Ttl_Prchs_Amt', 'Avg_Prchs_Amt', 'Max_Prchs_Amt', 'Ttl_Pymnt_Pd', 'Avg_Pymnt_Pd', 'Max_Pymnt_Pd', 'Ttl_Pymnt_Ovrd', 'Avg_Pymnt_Ovrd', 'Max_Pymnt_Ovrd', 'No_Of_Pymnts', 'No_Of_Lt_Pymnts', 'No_Of_Ovrd_Pymnts', 'Ttl_LtF_Pd', 'Ttl_Lt_Fee_Ovrd', 'Unique_Mrchnt_Cnt', 'Top_Mrchnt', 'Frst_Trnsctn_Dt', 'Lst_Trnsctn_Dt', 'No_of_Transactions', 'Ttl_Tenure', 'Max_Sequence', 'Click_Engagement', 'CMState_TX', 'CMState_CA', 'CMState_FL', 'CMState_GA', 'CMState_NC', 'CMState_IL', 'CMState_PA', 'CMState_VA', 'CMState_NJ', 'CMState_MI', 'Top_Mrchnt_Fashion Nova', 'Top_Mrchnt_SHEIN US OLD', 'Top_Mrchnt_SHEIN US', 'Top_Mrchnt_Ugg', 'Top_Mrchnt_GOAT', 'Top_Mrchnt_Finish Line', 'Top_Mrchnt_Gift cards by Afterpay US', \"Top_Mrchnt_Dillard's, Inc.\", 'Top_Mrchnt_GAP', \"Top_Mrchnt_Children's Place\", 'Trnsctn_Wnd', 'x0_18-30', 'x0_30-45', 'x0_45-60', 'x0_60 Plus', 'x1_0-550', 'x1_551-603', 'x1_604-710', 'x1_711-780', 'x1_781-850', 'x1_Not Avaialble']\n"
          ]
        }
      ],
      "source": [
        "print(list(df7.columns))"
      ]
    },
    {
      "cell_type": "code",
      "execution_count": null,
      "id": "15ec7803",
      "metadata": {
        "id": "15ec7803"
      },
      "outputs": [],
      "source": [
        "#df7.drop(df7.columns[len(df7.columns)-1], axis=1, inplace=True)"
      ]
    },
    {
      "cell_type": "code",
      "execution_count": null,
      "id": "2de47581",
      "metadata": {
        "id": "2de47581"
      },
      "outputs": [],
      "source": [
        "df7 = df7.drop(columns=['Top_Mrchnt','CMState'])"
      ]
    },
    {
      "cell_type": "code",
      "execution_count": null,
      "id": "72f3fa0b",
      "metadata": {
        "id": "72f3fa0b",
        "outputId": "e3e94390-85bc-4e2e-f133-91b71b189d19"
      },
      "outputs": [
        {
          "name": "stdout",
          "output_type": "stream",
          "text": [
            "PlaceDate                               datetime64[ns]\n",
            "PlaceAmt                                       float64\n",
            "Ttl_Prchs_Amt                                  float64\n",
            "Avg_Prchs_Amt                                  float64\n",
            "Max_Prchs_Amt                                  float64\n",
            "Ttl_Pymnt_Pd                                   float64\n",
            "Avg_Pymnt_Pd                                   float64\n",
            "Max_Pymnt_Pd                                   float64\n",
            "Ttl_Pymnt_Ovrd                                 float64\n",
            "Avg_Pymnt_Ovrd                                 float64\n",
            "Max_Pymnt_Ovrd                                 float64\n",
            "No_Of_Pymnts                                     int64\n",
            "No_Of_Lt_Pymnts                                  int64\n",
            "No_Of_Ovrd_Pymnts                                int64\n",
            "Ttl_LtF_Pd                                     float64\n",
            "Ttl_Lt_Fee_Ovrd                                float64\n",
            "Unique_Mrchnt_Cnt                                int64\n",
            "Frst_Trnsctn_Dt                         datetime64[ns]\n",
            "Lst_Trnsctn_Dt                          datetime64[ns]\n",
            "No_of_Transactions                               int64\n",
            "Ttl_Tenure                                       int64\n",
            "Max_Sequence                                     int64\n",
            "Click_Engagement                                 int64\n",
            "CMState_TX                                       int32\n",
            "CMState_CA                                       int32\n",
            "CMState_FL                                       int32\n",
            "CMState_GA                                       int32\n",
            "CMState_NC                                       int32\n",
            "CMState_IL                                       int32\n",
            "CMState_PA                                       int32\n",
            "CMState_VA                                       int32\n",
            "CMState_NJ                                       int32\n",
            "CMState_MI                                       int32\n",
            "Top_Mrchnt_Fashion Nova                          int32\n",
            "Top_Mrchnt_SHEIN US OLD                          int32\n",
            "Top_Mrchnt_SHEIN US                              int32\n",
            "Top_Mrchnt_Ugg                                   int32\n",
            "Top_Mrchnt_GOAT                                  int32\n",
            "Top_Mrchnt_Finish Line                           int32\n",
            "Top_Mrchnt_Gift cards by Afterpay US             int32\n",
            "Top_Mrchnt_Dillard's, Inc.                       int32\n",
            "Top_Mrchnt_GAP                                   int32\n",
            "Top_Mrchnt_Children's Place                      int32\n",
            "Trnsctn_Wnd                                      int64\n",
            "x0_18-30                                       float64\n",
            "x0_30-45                                       float64\n",
            "x0_45-60                                       float64\n",
            "x0_60 Plus                                     float64\n",
            "x1_0-550                                       float64\n",
            "x1_551-603                                     float64\n",
            "x1_604-710                                     float64\n",
            "x1_711-780                                     float64\n",
            "x1_781-850                                     float64\n",
            "x1_Not Avaialble                               float64\n",
            "dtype: object\n"
          ]
        }
      ],
      "source": [
        "print(df7.dtypes)"
      ]
    },
    {
      "cell_type": "code",
      "execution_count": null,
      "id": "ee60735d",
      "metadata": {
        "id": "ee60735d"
      },
      "outputs": [],
      "source": [
        "#df7['New_Trnsctn_Wnd'] = df7['Trnsctn_Wnd'].seconds()"
      ]
    },
    {
      "cell_type": "code",
      "execution_count": null,
      "id": "fda7c118",
      "metadata": {
        "id": "fda7c118"
      },
      "outputs": [],
      "source": [
        "df7 = df7.drop(columns=['PlaceDate','Frst_Trnsctn_Dt','Lst_Trnsctn_Dt'])"
      ]
    },
    {
      "cell_type": "code",
      "execution_count": null,
      "id": "e3af097b",
      "metadata": {
        "id": "e3af097b",
        "outputId": "5efc1100-7aa5-40a9-8dc2-55bac3f295a7"
      },
      "outputs": [
        {
          "data": {
            "text/plain": [
              "[]"
            ]
          },
          "execution_count": 439,
          "metadata": {},
          "output_type": "execute_result"
        }
      ],
      "source": [
        "#print(df.select_dtypes('Object'))\n",
        "#pd.to_numeric(df7['Trnsctn_Wnd'])\n",
        "#df7.astype({'Trnsctn_Wnd': 'float64'})\n",
        "list(df7.select_dtypes(['object']).columns)\n",
        "#list(df7.select_dtypes(['datetime64[ns]']).columns)\n",
        "#list(df7.select_dtypes(['timedelta64[ns]']).columns)\n",
        "\n"
      ]
    },
    {
      "cell_type": "code",
      "execution_count": null,
      "id": "e92eeb35",
      "metadata": {
        "id": "e92eeb35"
      },
      "outputs": [],
      "source": [
        "from sklearn.impute import SimpleImputer\n",
        "\n",
        "imp = SimpleImputer(strategy=\"most_frequent\")\n",
        "df7 = pd.DataFrame(imp.fit_transform(df7), columns=df7.columns, index=df7.index)"
      ]
    },
    {
      "cell_type": "code",
      "execution_count": null,
      "id": "3ce864c9",
      "metadata": {
        "id": "3ce864c9",
        "outputId": "a2edb3c8-4e7d-4d5b-e809-8beae8397856"
      },
      "outputs": [
        {
          "data": {
            "text/plain": [
              "[]"
            ]
          },
          "execution_count": 441,
          "metadata": {},
          "output_type": "execute_result"
        }
      ],
      "source": [
        "list(df7.select_dtypes(['object']).columns)"
      ]
    },
    {
      "cell_type": "markdown",
      "id": "68bfe526",
      "metadata": {
        "id": "68bfe526"
      },
      "source": [
        "# Model Development"
      ]
    },
    {
      "cell_type": "code",
      "execution_count": null,
      "id": "aada12e8",
      "metadata": {
        "id": "aada12e8"
      },
      "outputs": [],
      "source": [
        "#Create X & Y for model building\n",
        "X = df7.drop(columns=['Click_Engagement'])\n",
        "Y = df7['Click_Engagement']"
      ]
    },
    {
      "cell_type": "code",
      "execution_count": null,
      "id": "d7e978cf",
      "metadata": {
        "id": "d7e978cf"
      },
      "outputs": [],
      "source": [
        "#Create test train split\n",
        "from sklearn.model_selection import train_test_split\n",
        "\n",
        "X_train, X_test, Y_train, Y_test = train_test_split(X, Y, test_size=0.25)"
      ]
    },
    {
      "cell_type": "code",
      "execution_count": null,
      "id": "4c34ab26",
      "metadata": {
        "id": "4c34ab26",
        "outputId": "fd7d231a-d0b3-4740-9826-45e249f510e2"
      },
      "outputs": [
        {
          "data": {
            "text/plain": [
              "LogisticRegressionCV(cv=10, solver='liblinear')"
            ]
          },
          "execution_count": 444,
          "metadata": {},
          "output_type": "execute_result"
        }
      ],
      "source": [
        "#Import and train Logistic Regression CLassifier\n",
        "from sklearn.linear_model import LogisticRegressionCV\n",
        "\n",
        "clf = LogisticRegressionCV(cv=10,solver='liblinear') #Model function with 10 fold cross validation\n",
        "\n",
        "clf.fit(X_train, Y_train) #Train the model using the training sets y_pred=clf.predict(X_test)"
      ]
    },
    {
      "cell_type": "code",
      "execution_count": null,
      "id": "ee2bb9db",
      "metadata": {
        "id": "ee2bb9db"
      },
      "outputs": [],
      "source": [
        "Y_pred = clf.predict(X_test)\n",
        "Y_pred_train = clf.predict(X_train)"
      ]
    },
    {
      "cell_type": "code",
      "execution_count": null,
      "id": "8e0783a0",
      "metadata": {
        "id": "8e0783a0",
        "outputId": "bd5d801f-90cd-4d1a-bfc5-452bad162868"
      },
      "outputs": [
        {
          "name": "stdout",
          "output_type": "stream",
          "text": [
            "Model Metrics\n",
            "Test Accuracy: 0.8490333667478162\n",
            "Train Accuracy: 0.8483731765065302\n",
            "Test Recall: 0.051463902527732315\n",
            "Train Recall: 0.05389977166205985\n",
            "Test Precision 0.8372781065088757\n",
            "Train Precision 0.867504835589942\n"
          ]
        }
      ],
      "source": [
        "#Model Performance Metrics\n",
        "print(\"Model Metrics\")\n",
        "\n",
        "#Accuracy without cross validation\n",
        "#Import scikit-learn metrics module for accuracy calculation\n",
        "from sklearn import metrics\n",
        "# Model Accuracy, how often is the classifier correct?\n",
        "print(\"Test Accuracy:\",metrics.accuracy_score(Y_test, Y_pred))\n",
        "print(\"Train Accuracy:\",metrics.accuracy_score(Y_train, Y_pred_train))\n",
        "\n",
        "## Confusion Matrix\n",
        "from sklearn.metrics import confusion_matrix\n",
        "confusion_matrix(Y_test, Y_pred,labels=[1,0])\n",
        "\n",
        "## Recall Score\n",
        "recall1 = sklearn.metrics.recall_score(Y_test,Y_pred)\n",
        "print(\"Test Recall:\", recall1)\n",
        "\n",
        "recall1 = sklearn.metrics.recall_score(Y_train,Y_pred_train)\n",
        "print(\"Train Recall:\", recall1)\n",
        "\n",
        "## Precision Score\n",
        "precision1 = sklearn.metrics.precision_score(Y_test,Y_pred)\n",
        "print(\"Test Precision\", precision1)\n",
        "\n",
        "precision1 = sklearn.metrics.precision_score(Y_train,Y_pred_train)\n",
        "print(\"Train Precision\", precision1)"
      ]
    },
    {
      "cell_type": "code",
      "execution_count": null,
      "id": "15525f43",
      "metadata": {
        "id": "15525f43"
      },
      "outputs": [],
      "source": [
        ""
      ]
    }
  ],
  "metadata": {
    "kernelspec": {
      "display_name": "Python 3",
      "language": "python",
      "name": "python3"
    },
    "language_info": {
      "codemirror_mode": {
        "name": "ipython",
        "version": 3
      },
      "file_extension": ".py",
      "mimetype": "text/x-python",
      "name": "python",
      "nbconvert_exporter": "python",
      "pygments_lexer": "ipython3",
      "version": "3.8.8"
    },
    "colab": {
      "name": "AfterPay_Dynamic Templates_Click Engagement_v2.ipynb",
      "provenance": [],
      "include_colab_link": true
    }
  },
  "nbformat": 4,
  "nbformat_minor": 5
}