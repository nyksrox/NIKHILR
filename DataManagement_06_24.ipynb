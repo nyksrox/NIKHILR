{
  "nbformat": 4,
  "nbformat_minor": 0,
  "metadata": {
    "colab": {
      "name": "DataManagement.ipynb",
      "provenance": [],
      "collapsed_sections": [],
      "authorship_tag": "ABX9TyN7HQoL3p+7fNb6I3psieGI",
      "include_colab_link": true
    },
    "kernelspec": {
      "name": "python3",
      "display_name": "Python 3"
    },
    "accelerator": "GPU"
  },
  "cells": [
    {
      "cell_type": "markdown",
      "metadata": {
        "id": "view-in-github",
        "colab_type": "text"
      },
      "source": [
        "<a href=\"https://colab.research.google.com/github/nyksrox/NIKHILR/blob/master/DataManagement_06_24.ipynb\" target=\"_parent\"><img src=\"https://colab.research.google.com/assets/colab-badge.svg\" alt=\"Open In Colab\"/></a>"
      ]
    },
    {
      "cell_type": "code",
      "metadata": {
        "id": "8ZoCzvSoi2Bz",
        "colab_type": "code",
        "colab": {}
      },
      "source": [
        "import xgboost as xgb\n",
        "import pandas as pd"
      ],
      "execution_count": null,
      "outputs": []
    },
    {
      "cell_type": "code",
      "metadata": {
        "id": "OpYE_vNajeZR",
        "colab_type": "code",
        "colab": {}
      },
      "source": [
        "from numpy import loadtxt\n",
        "from xgboost import XGBClassifier\n",
        "from sklearn.model_selection import train_test_split\n",
        "from sklearn.metrics import accuracy_score\n"
      ],
      "execution_count": null,
      "outputs": []
    },
    {
      "cell_type": "code",
      "metadata": {
        "id": "IRHUdDRfXYlI",
        "colab_type": "code",
        "colab": {}
      },
      "source": [
        "import statistics as st"
      ],
      "execution_count": null,
      "outputs": []
    },
    {
      "cell_type": "code",
      "metadata": {
        "id": "6SSDQkdJj1Qe",
        "colab_type": "code",
        "colab": {
          "resources": {
            "http://localhost:8080/nbextensions/google.colab/files.js": {
              "data": "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",
              "ok": true,
              "headers": [
                [
                  "content-type",
                  "application/javascript"
                ]
              ],
              "status": 200,
              "status_text": "OK"
            }
          },
          "base_uri": "https://localhost:8080/",
          "height": 74
        },
        "outputId": "2c50a6c7-0537-4239-e4b1-632504e5e205"
      },
      "source": [
        "## loading data from desktop\n",
        "from google.colab import files\n",
        "uploaded = files.upload()"
      ],
      "execution_count": null,
      "outputs": [
        {
          "output_type": "display_data",
          "data": {
            "text/html": [
              "\n",
              "     <input type=\"file\" id=\"files-50fec3a3-07ba-47cc-8f97-30cc940e77b6\" name=\"files[]\" multiple disabled />\n",
              "     <output id=\"result-50fec3a3-07ba-47cc-8f97-30cc940e77b6\">\n",
              "      Upload widget is only available when the cell has been executed in the\n",
              "      current browser session. Please rerun this cell to enable.\n",
              "      </output>\n",
              "      <script src=\"/nbextensions/google.colab/files.js\"></script> "
            ],
            "text/plain": [
              "<IPython.core.display.HTML object>"
            ]
          },
          "metadata": {
            "tags": []
          }
        },
        {
          "output_type": "stream",
          "text": [
            "Saving JMH_Data.csv to JMH_Data.csv\n"
          ],
          "name": "stdout"
        }
      ]
    },
    {
      "cell_type": "code",
      "metadata": {
        "id": "l2jHXQfeLH-u",
        "colab_type": "code",
        "colab": {
          "base_uri": "https://localhost:8080/",
          "height": 71
        },
        "outputId": "56953ab5-6607-4774-b192-4322ad9ab8e2"
      },
      "source": [
        "## converting into dataframe\n",
        "import io\n",
        "df = pd.read_csv(io.BytesIO(uploaded['JMH_Data.csv']))"
      ],
      "execution_count": null,
      "outputs": [
        {
          "output_type": "stream",
          "text": [
            "/usr/local/lib/python3.6/dist-packages/IPython/core/interactiveshell.py:2718: DtypeWarning: Columns (69,71) have mixed types. Specify dtype option on import or set low_memory=False.\n",
            "  interactivity=interactivity, compiler=compiler, result=result)\n"
          ],
          "name": "stderr"
        }
      ]
    },
    {
      "cell_type": "code",
      "metadata": {
        "id": "PesSOhzQoaIF",
        "colab_type": "code",
        "colab": {
          "base_uri": "https://localhost:8080/",
          "height": 221
        },
        "outputId": "c8949373-19b8-4afa-8175-e6683564bd73"
      },
      "source": [
        "## Calculating patient age and issue age\n",
        "import numpy as np\n",
        "df['AGE'] = (pd.datetime.now() - pd.to_datetime(df['DOB']))\n",
        "df['AGE_ISSUE'] = (pd.datetime.now() - pd.to_datetime(df['LIST DT']))\n",
        "#print(df['AGE'].dtype)\n",
        "df['AGE'].astype('timedelta64[D]')\n",
        "df['AGE_ISSUE'].astype('timedelta64[D]')\n"
      ],
      "execution_count": null,
      "outputs": [
        {
          "output_type": "execute_result",
          "data": {
            "text/plain": [
              "0        716.0\n",
              "1        793.0\n",
              "2        793.0\n",
              "3        793.0\n",
              "4        793.0\n",
              "         ...  \n",
              "56111    430.0\n",
              "56112    430.0\n",
              "56113    430.0\n",
              "56114    430.0\n",
              "56115    430.0\n",
              "Name: AGE_ISSUE, Length: 56116, dtype: float64"
            ]
          },
          "metadata": {
            "tags": []
          },
          "execution_count": 7
        }
      ]
    },
    {
      "cell_type": "code",
      "metadata": {
        "id": "nknq5ZXfLjXJ",
        "colab_type": "code",
        "colab": {
          "base_uri": "https://localhost:8080/",
          "height": 221
        },
        "outputId": "fc59e2bf-6851-4fc1-e5cd-ec5e455cfe60"
      },
      "source": [
        "print(df.dtypes)"
      ],
      "execution_count": null,
      "outputs": [
        {
          "output_type": "stream",
          "text": [
            "FACS #                      int64\n",
            "DISP                       object\n",
            "CALLS                       int64\n",
            "DU413_CALLS                 int64\n",
            "ZIP5                      float64\n",
            "                       ...       \n",
            "PROC CODE 2                object\n",
            "IA SCORE                   object\n",
            "Payment Status              int64\n",
            "AGE               timedelta64[ns]\n",
            "AGE_ISSUE         timedelta64[ns]\n",
            "Length: 77, dtype: object\n"
          ],
          "name": "stdout"
        }
      ]
    },
    {
      "cell_type": "code",
      "metadata": {
        "id": "Xy4fDxoXEKTt",
        "colab_type": "code",
        "colab": {}
      },
      "source": [
        "## handling dates\n",
        "\n",
        "df['LIST DT']=pd.to_datetime(df['LIST DT'])\n",
        "df['LIST DT'] = df['LIST DT'].apply(lambda x: x.toordinal())\n",
        "\n",
        "df['ADMIT DT']=pd.to_datetime(df['ADMIT DT'])\n",
        "df['ADMIT DT'] = df['ADMIT DT'].apply(lambda x: x.toordinal())\n",
        "\n",
        "df['DSCHG DT']=pd.to_datetime(df['DSCHG DT'])\n",
        "df['DSCHG DT'] = df['DSCHG DT'].apply(lambda x: x.toordinal())\n",
        "\n",
        "df['DOB']=pd.to_datetime(df['DOB'])\n",
        "df['DOB'] = df['DOB'].apply(lambda x: x.toordinal())\n",
        "\n",
        "\n",
        "\n",
        "\n",
        "\n",
        "\n"
      ],
      "execution_count": null,
      "outputs": []
    },
    {
      "cell_type": "code",
      "metadata": {
        "id": "dR8udBsrtYPj",
        "colab_type": "code",
        "colab": {}
      },
      "source": [
        "## Filling NaTs in datetimecolumns in priproc date and accident date\n",
        "\n",
        "\n",
        "df['PRI PROC DATE']=pd.to_datetime(df['PRI PROC DATE'])\n",
        "df['ACCIDENT DATE']=pd.to_datetime(df['ACCIDENT DATE'])\n",
        "\n",
        "end = pd.to_datetime('2017-12-15')\n",
        "\n",
        "df['PRI PROC DATE'].fillna(end,inplace=True)\n",
        "df['ACCIDENT DATE'].fillna(end,inplace=True)\n",
        "\n",
        "#df['ACCIDENT DATE'].isnull()\n",
        "#df['PRI PROC DATE'].isnull()"
      ],
      "execution_count": null,
      "outputs": []
    },
    {
      "cell_type": "code",
      "metadata": {
        "id": "9z2_XmWLuu4J",
        "colab_type": "code",
        "colab": {}
      },
      "source": [
        "## Converting Accident Date and PriProc Date into Dates and Ordinal\n",
        "df['ACCIDENT DATE']=pd.to_datetime(df['ACCIDENT DATE'])\n",
        "df['ACCIDENT DATE'] = df['ACCIDENT DATE'].apply(lambda x: x.toordinal())\n",
        "\n",
        "df['PRI PROC DATE']=pd.to_datetime(df['PRI PROC DATE'])\n",
        "df['PRI PROC DATE'] = df['PRI PROC DATE'].apply(lambda x: x.toordinal())"
      ],
      "execution_count": null,
      "outputs": []
    },
    {
      "cell_type": "code",
      "metadata": {
        "id": "vAeiUZvVTPHq",
        "colab_type": "code",
        "colab": {}
      },
      "source": [
        "## handling object data type (looking for non numeric values in supposedly numeric columns\n",
        "for x in range(0,56115):\n",
        "  if (str.isdecimal(df.iloc[x,1])) == False :\n",
        "    df.iloc[x,1] = st.mode(df.iloc[:,1])\n",
        "  \n",
        "\n",
        "\n",
        "  \n",
        "  \n",
        "\n"
      ],
      "execution_count": null,
      "outputs": []
    },
    {
      "cell_type": "code",
      "metadata": {
        "id": "aZIs9dPPDEiN",
        "colab_type": "code",
        "colab": {}
      },
      "source": [
        "## handling blank space in supposedly numeric columns\n",
        "\n",
        "for x in range(0,56115):\n",
        "  if df.iloc[x,2] == '':  \n",
        "    df.iloc[x,2] = st.mode(df.iloc[:,2])\n",
        "  if df.iloc[x,3] == '':\n",
        "    df.iloc[x,3] = st.mode(df.iloc[:,3])\n",
        "  if df.iloc[x,4] == '':\n",
        "    df.iloc[x,4] = st.mode(df.iloc[:,4])\n",
        "  if df.iloc[x,5] == '':\n",
        "    df.iloc[x,5] = st.mode(df.iloc[:,5])\n",
        "  if df.iloc[x,9] == '':\n",
        "    df.iloc[x,9] = st.mode(df.iloc[:,9])\n",
        "  if df.iloc[x,10] == '':\n",
        "    df.iloc[x,10] = st.mode(df.iloc[:,10])\n",
        "  if df.iloc[x,15] == '':\n",
        "    df.iloc[x,15] = st.mode(df.iloc[:,15])\n",
        "  if df.iloc[x,17] == '':\n",
        "    df.iloc[x,17] = st.mode(df.iloc[:,17])\n",
        "  if df.iloc[x,17] == '':\n",
        "    df.iloc[x,17] = st.mode(df.iloc[:,17])\n",
        "  if df.iloc[x,22] == '':\n",
        "    df.iloc[x,22] = st.mode(df.iloc[:,22])\n",
        "  if df.iloc[x,23] == '':\n",
        "    df.iloc[x,23] = st.mode(df.iloc[:,23])\n",
        "  if df.iloc[x,24] == '':\n",
        "    df.iloc[x,24] = st.mode(df.iloc[:,24])\n",
        "  if df.iloc[x,25] == '':\n",
        "    df.iloc[x,25] = st.mode(df.iloc[:,25])\n",
        "  if df.iloc[x,26] == '':\n",
        "    df.iloc[x,26] = st.mode(df.iloc[:,26])\n",
        "  if df.iloc[x,27] == '':\n",
        "    df.iloc[x,27] = st.mode(df.iloc[:,27])\n",
        "  if df.iloc[x,30] == '':\n",
        "    df.iloc[x,30] = st.mode(df.iloc[:,30])\n",
        "  if df.iloc[x,31] == '':\n",
        "    df.iloc[x,31] = st.mode(df.iloc[:,31])\n",
        "  if df.iloc[x,33] == '':\n",
        "    df.iloc[x,33] = st.mode(df.iloc[:,33])\n",
        "  if df.iloc[x,35] == '':\n",
        "    df.iloc[x,35] = st.mode(df.iloc[:,35])\n",
        "  if df.iloc[x,37] == '':\n",
        "    df.iloc[x,37] = st.mode(df.iloc[:,37])\n",
        "  if df.iloc[x,38] == '':\n",
        "    df.iloc[x,38] = st.mode(df.iloc[:,38])\n",
        "## For DOD\n",
        "  if df.iloc[x,39] == '':\n",
        "    df.iloc[x,39] = st.mode(df.iloc[:,39])  \n",
        "  if df.iloc[x,41] == '':\n",
        "    df.iloc[x,41] = st.mode(df.iloc[:,41])\n",
        "  if df.iloc[x,44] == '':\n",
        "    df.iloc[x,44] = st.mode(df.iloc[:,44])\n",
        "  if df.iloc[x,45] == '':\n",
        "    df.iloc[x,45] = st.mode(df.iloc[:,45])\n",
        "  if df.iloc[x,46] == '':\n",
        "    df.iloc[x,46] = st.mode(df.iloc[:,46])\n",
        "  if df.iloc[x,47] == '':\n",
        "    df.iloc[x,47] = st.mode(df.iloc[:,47])\n",
        "  if df.iloc[x,48] == '':\n",
        "    df.iloc[x,48] = st.mode(df.iloc[:,48])\n",
        "  if df.iloc[x,55] == '':\n",
        "    df.iloc[x,55] = st.mode(df.iloc[:,55])\n",
        "  if df.iloc[x,57] == '':\n",
        "    df.iloc[x,57] = st.mode(df.iloc[:,57])\n",
        "  if df.iloc[x,67] == '':\n",
        "    df.iloc[x,67] = st.mode(df.iloc[:,67])\n",
        "## For DRG CODE\n",
        "  if df.iloc[x,68] == '':\n",
        "    df.iloc[x,68] = st.mode(df.iloc[:,68])    \n",
        "  \n",
        "\n",
        "    #df['ACCIDENT DATE']=pd.to_datetime(df['ACCIDENT DATE'])\n",
        "#df['ACCIDENT DATE'] = df['ACCIDENT DATE'].apply(lambda x: x.toordinal())\n",
        "\n",
        "#df['PRI PROC DATE']=pd.to_datetime(df['PRI PROC DATE'])\n",
        "#df['PRI PROC DATE'] = df['PRI PROC DATE'].apply(lambda x: x.toordinal())        \n",
        "\n",
        "\n",
        "\n"
      ],
      "execution_count": null,
      "outputs": []
    },
    {
      "cell_type": "code",
      "metadata": {
        "id": "TaD1ExdbBARP",
        "colab_type": "code",
        "colab": {}
      },
      "source": [
        "#print(df['AGE_ISSUE'])"
      ],
      "execution_count": null,
      "outputs": []
    },
    {
      "cell_type": "code",
      "metadata": {
        "id": "_6ybQCfUC9_d",
        "colab_type": "code",
        "colab": {}
      },
      "source": [
        "from sklearn import preprocessing"
      ],
      "execution_count": null,
      "outputs": []
    },
    {
      "cell_type": "code",
      "metadata": {
        "id": "391GRx09WJ5e",
        "colab_type": "code",
        "colab": {}
      },
      "source": [
        "#enc = preprocessing.OneHotEncoder(handle_unknown='ignore')"
      ],
      "execution_count": null,
      "outputs": []
    },
    {
      "cell_type": "code",
      "metadata": {
        "id": "ftrZWCLnb9ta",
        "colab_type": "code",
        "colab": {}
      },
      "source": [
        "le = preprocessing.LabelEncoder()\n",
        "df['STATE'] = le.fit_transform(df['STATE'].astype(str))"
      ],
      "execution_count": null,
      "outputs": []
    },
    {
      "cell_type": "code",
      "metadata": {
        "id": "WqlZOTb_cw7E",
        "colab_type": "code",
        "colab": {}
      },
      "source": [
        "df['CITY'] = le.fit_transform(df['STATE'].astype(str))"
      ],
      "execution_count": null,
      "outputs": []
    },
    {
      "cell_type": "code",
      "metadata": {
        "id": "2MKAevJieaHf",
        "colab_type": "code",
        "colab": {}
      },
      "source": [
        "df['PT SEX'] = le.fit_transform(df['PT SEX'].astype(str))"
      ],
      "execution_count": null,
      "outputs": []
    },
    {
      "cell_type": "code",
      "metadata": {
        "id": "QgfHYVmVefui",
        "colab_type": "code",
        "colab": {}
      },
      "source": [
        "df['PT MS'] = le.fit_transform(df['PT MS'].astype(str))"
      ],
      "execution_count": null,
      "outputs": []
    },
    {
      "cell_type": "code",
      "metadata": {
        "id": "TKFSUET7eqGK",
        "colab_type": "code",
        "colab": {}
      },
      "source": [
        "df['PT PF'] = le.fit_transform(df['PT PF'].astype(str))\n",
        "df['RP PF'] = le.fit_transform(df['RP PF'].astype(str))\n",
        "df['ADMIT TYPE'] = le.fit_transform(df['ADMIT TYPE'].astype(str))\n",
        "df['F/C'] = le.fit_transform(df['F/C'].astype(str))\n",
        "df['INS CO NAME'] = le.fit_transform(df['INS CO NAME'].astype(str))\n",
        "df['LD CAUSE'] = le.fit_transform(df['LD CAUSE'].astype(str))\n",
        "df['AGENCY CODE'] = le.fit_transform(df['AGENCY CODE'].astype(str))\n",
        "df['Service Locatn'] = le.fit_transform(df['Service Locatn'].astype(str))\n",
        "df['IA SCORE'] = le.fit_transform(df['IA SCORE'].astype(str))\n",
        "df['ASSGN INDICATOR'] = le.fit_transform(df['ASSGN INDICATOR'].astype(str))\n",
        "df['CHAPTER'] = le.fit_transform(df['CHAPTER'].astype(str))\n",
        "df['FLD DATA 1'] = le.fit_transform(df['FLD DATA 1'].astype(str))\n",
        "df['CLIENT NAME'] = le.fit_transform(df['CLIENT NAME'].astype(str))\n",
        "\n",
        "\n"
      ],
      "execution_count": null,
      "outputs": []
    },
    {
      "cell_type": "code",
      "metadata": {
        "id": "HHoHQTaMu9lU",
        "colab_type": "code",
        "colab": {}
      },
      "source": [
        "df.drop([\"FACS #\"],inplace = True,axis=1)\n",
        "df.drop([\"FC\"],inplace = True,axis=1)\n",
        "df.drop([\"ADMTING DIAGNOS\"],inplace = True,axis=1)\n",
        "df.drop([\"RELEASE INDICAT\"],inplace = True,axis=1)\n",
        "df.drop([\"LOCATION CODE\"],inplace = True,axis=1)\n",
        "df.drop([\"ACCOUNT TYPE\"],inplace = True,axis=1)\n",
        "df.drop([\"PRIMRY LANGUAGE\"],inplace = True,axis=1)\n",
        "df.drop([\"CRB TU\"],inplace = True,axis=1)\n",
        "df.drop([\"POE NAME\"],inplace = True,axis=1)\n",
        "df.drop([\"FLD DATA 1\"],inplace = True,axis=1)\n",
        "df.drop([\"INS CO PHONE#\"],inplace = True,axis=1)\n",
        "df.drop([\"Doctor Physicn\"],inplace = True,axis=1)\n",
        "df.drop([\"ETHNIC GROUP\"],inplace = True,axis=1)\n",
        "df.drop([\"INS CO NAME213\"],inplace = True,axis=1)\n",
        "df.drop([\"INS CO NAME214\"],inplace = True,axis=1)\n",
        "df.drop([\"INSURANCE CO215\"],inplace = True,axis=1)\n",
        "df.drop([\"INSURANCE CO216\"],inplace = True,axis=1)\n",
        "df.drop([\"PTNTL GD INS #1\"],inplace = True,axis=1)\n",
        "df.drop([\"PTNTL GD INS #2\"],inplace = True,axis=1)\n",
        "df.drop([\"PTNTL GD INS #3\"],inplace = True,axis=1)\n",
        "df.drop([\"PTNTL GD INS #4\"],inplace = True,axis=1)\n",
        "df.drop([\"PRI DIAG CODE\"],inplace = True,axis=1)\n",
        "df.drop([\"PRI PROC CODE\"],inplace = True,axis=1)\n",
        "df.drop([\"PROC CODE 1\"],inplace = True,axis=1)\n",
        "df.drop([\"PROC CODE 2\"],inplace = True,axis=1)\n",
        "df.drop([\"DOD\"],inplace = True,axis=1)\n",
        "df.drop([\"RP AREA\"],inplace = True,axis=1)\n",
        "df.drop([\"VISIT ID\"],inplace = True,axis=1)\n",
        "df.drop([\"IA SCORE\"],inplace = True,axis=1)                           "
      ],
      "execution_count": null,
      "outputs": []
    },
    {
      "cell_type": "code",
      "metadata": {
        "id": "CUpZmFrIPp2D",
        "colab_type": "code",
        "colab": {}
      },
      "source": [
        "df['DISP'] = df['DISP'].astype('int')\n",
        "df['AGE'] = df['AGE'].astype('int')\n",
        "df['AGE_ISSUE'] = df['AGE_ISSUE'].astype('int')"
      ],
      "execution_count": null,
      "outputs": []
    },
    {
      "cell_type": "code",
      "metadata": {
        "id": "m7oeCNRHPzef",
        "colab_type": "code",
        "colab": {
          "base_uri": "https://localhost:8080/",
          "height": 850
        },
        "outputId": "ccd05673-e37d-4f13-86ea-6ab2834ab2ac"
      },
      "source": [
        "print(df.dtypes)"
      ],
      "execution_count": null,
      "outputs": [
        {
          "output_type": "stream",
          "text": [
            "DISP                 int64\n",
            "CALLS                int64\n",
            "DU413_CALLS          int64\n",
            "ZIP5               float64\n",
            "DOB                  int64\n",
            "CITY                 int64\n",
            "STATE                int64\n",
            "INIT BAL           float64\n",
            "CHARGES            float64\n",
            "CLIENT NAME          int64\n",
            "PT SEX               int64\n",
            "PT MS                int64\n",
            "LIST DT              int64\n",
            "PT AREA            float64\n",
            "PT PF                int64\n",
            "RP PF                int64\n",
            "SEED #               int64\n",
            "ADMIT DT             int64\n",
            "DSCHG DT             int64\n",
            "TU SCORE             int64\n",
            "BNKCRD AVLBLE        int64\n",
            "AMT PDUE 12 MNT      int64\n",
            "NUM DEROGAT ITM      int64\n",
            "TOTL PRIOR PMTS      int64\n",
            "ADMIT TYPE           int64\n",
            "ASSGN INDICATOR      int64\n",
            "F/C                  int64\n",
            "INS CO NAME          int64\n",
            "CHAPTER              int64\n",
            "LD CAUSE             int64\n",
            "BCARD HIGH CRDT      int64\n",
            "AGENCY CODE          int64\n",
            "ACCIDENT DATE        int64\n",
            "PAT TOT PMTS       float64\n",
            "PAT TOT ADJS       float64\n",
            "ALL INS PMTS       float64\n",
            "ALL INS ADJS       float64\n",
            "ACCT TOT CHRGS     float64\n",
            "COMISSION RATE       int64\n",
            "SERIES NUM           int64\n",
            "Service Locatn       int64\n",
            "Total Paid         float64\n",
            "Service Type         int64\n",
            "DRG CODE           float64\n",
            "PRI PROC DATE        int64\n",
            "Payment Status       int64\n",
            "AGE                  int64\n",
            "AGE_ISSUE            int64\n",
            "dtype: object\n"
          ],
          "name": "stdout"
        }
      ]
    },
    {
      "cell_type": "code",
      "metadata": {
        "id": "bXCpzsRNQtF7",
        "colab_type": "code",
        "colab": {}
      },
      "source": [
        "from google.colab import files\n",
        "df.to_csv('NewHealthCare_27_02.csv') \n",
        "files.download('NewHealthCare_27_02.csv')"
      ],
      "execution_count": null,
      "outputs": []
    },
    {
      "cell_type": "code",
      "metadata": {
        "id": "xS2j5T0t-pZ1",
        "colab_type": "code",
        "colab": {}
      },
      "source": [
        "a = df.corr()"
      ],
      "execution_count": null,
      "outputs": []
    },
    {
      "cell_type": "code",
      "metadata": {
        "id": "qmcuyWSy-syK",
        "colab_type": "code",
        "colab": {}
      },
      "source": [
        "a.to_csv('CorrelationMatrix.csv')\n",
        "files.download('CorrelationMatrix.csv')\n"
      ],
      "execution_count": null,
      "outputs": []
    },
    {
      "cell_type": "code",
      "metadata": {
        "id": "cj7RGnJKH9bL",
        "colab_type": "code",
        "colab": {}
      },
      "source": [
        "#print(len(df.columns))\n",
        "#print(df.count(0))"
      ],
      "execution_count": null,
      "outputs": []
    },
    {
      "cell_type": "code",
      "metadata": {
        "id": "DDT496CVJmy-",
        "colab_type": "code",
        "colab": {}
      },
      "source": [
        "## dropping column which did not have any value and was creating problem for the next line imputation(number of columns was coming different in index and in value)\n",
        "#df.drop([\"VISIT ID\"],inplace = True,axis=1)\n",
        "##df.isna()"
      ],
      "execution_count": null,
      "outputs": []
    },
    {
      "cell_type": "code",
      "metadata": {
        "id": "cEi_L1VjSj96",
        "colab_type": "code",
        "colab": {}
      },
      "source": [
        "from sklearn.impute import SimpleImputer\n",
        "imp = SimpleImputer(strategy=\"most_frequent\")\n",
        "data1 = pd.DataFrame(imp.fit_transform(df),columns=df.columns, index=df.index)"
      ],
      "execution_count": null,
      "outputs": []
    },
    {
      "cell_type": "code",
      "metadata": {
        "id": "E2s4C8IvYacm",
        "colab_type": "code",
        "colab": {}
      },
      "source": [
        "#df.isna()"
      ],
      "execution_count": null,
      "outputs": []
    },
    {
      "cell_type": "code",
      "metadata": {
        "id": "75OCoRazVAaq",
        "colab_type": "code",
        "colab": {
          "base_uri": "https://localhost:8080/",
          "height": 68
        },
        "outputId": "ca96657c-4cd7-415e-d748-b16d9c185b95"
      },
      "source": [
        "print(\"Before OverSampling, counts of label '1': {}\".format(sum(data1['Payment Status']==1)))\n",
        "print(\"Before OverSampling, counts of label '0': {} \\n\".format(sum(data1['Payment Status']==0)))\n",
        "\n"
      ],
      "execution_count": null,
      "outputs": [
        {
          "output_type": "stream",
          "text": [
            "Before OverSampling, counts of label '1': 7793\n",
            "Before OverSampling, counts of label '0': 48323 \n",
            "\n"
          ],
          "name": "stdout"
        }
      ]
    },
    {
      "cell_type": "code",
      "metadata": {
        "id": "CDE_co_5YttE",
        "colab_type": "code",
        "colab": {
          "base_uri": "https://localhost:8080/",
          "height": 34
        },
        "outputId": "26431769-9886-495b-ee3c-7e9fd928ba68"
      },
      "source": [
        "X = data1.drop(columns=['Payment Status'])\n",
        "y = data1['Payment Status']\n",
        "\n",
        "from sklearn.model_selection import train_test_split\n",
        "X_train, X_test, y_train, y_test = train_test_split(X, y, test_size=0.33, random_state=42)\n",
        "\n",
        "\n",
        "trainDf = pd.concat([X_train,y_train],axis=1)\n",
        "print(len(trainDf))\n",
        "\n"
      ],
      "execution_count": null,
      "outputs": [
        {
          "output_type": "stream",
          "text": [
            "37597\n"
          ],
          "name": "stdout"
        }
      ]
    },
    {
      "cell_type": "code",
      "metadata": {
        "id": "1Z7fT0HpfMBK",
        "colab_type": "code",
        "colab": {
          "base_uri": "https://localhost:8080/",
          "height": 850
        },
        "outputId": "10fe7ebc-5e88-4b91-ff30-0b7e59940773"
      },
      "source": [
        "print(trainDf.dtypes)"
      ],
      "execution_count": null,
      "outputs": [
        {
          "output_type": "stream",
          "text": [
            "DISP               float64\n",
            "CALLS              float64\n",
            "DU413_CALLS        float64\n",
            "ZIP5               float64\n",
            "DOB                float64\n",
            "CITY               float64\n",
            "STATE              float64\n",
            "INIT BAL           float64\n",
            "CHARGES            float64\n",
            "CLIENT NAME        float64\n",
            "PT SEX             float64\n",
            "PT MS              float64\n",
            "LIST DT            float64\n",
            "PT AREA            float64\n",
            "PT PF              float64\n",
            "RP PF              float64\n",
            "SEED #             float64\n",
            "ADMIT DT           float64\n",
            "DSCHG DT           float64\n",
            "TU SCORE           float64\n",
            "BNKCRD AVLBLE      float64\n",
            "AMT PDUE 12 MNT    float64\n",
            "NUM DEROGAT ITM    float64\n",
            "TOTL PRIOR PMTS    float64\n",
            "ADMIT TYPE         float64\n",
            "ASSGN INDICATOR    float64\n",
            "F/C                float64\n",
            "INS CO NAME        float64\n",
            "CHAPTER            float64\n",
            "LD CAUSE           float64\n",
            "BCARD HIGH CRDT    float64\n",
            "AGENCY CODE        float64\n",
            "ACCIDENT DATE      float64\n",
            "PAT TOT PMTS       float64\n",
            "PAT TOT ADJS       float64\n",
            "ALL INS PMTS       float64\n",
            "ALL INS ADJS       float64\n",
            "ACCT TOT CHRGS     float64\n",
            "COMISSION RATE     float64\n",
            "SERIES NUM         float64\n",
            "Service Locatn     float64\n",
            "Total Paid         float64\n",
            "Service Type       float64\n",
            "DRG CODE           float64\n",
            "PRI PROC DATE      float64\n",
            "AGE                float64\n",
            "AGE_ISSUE          float64\n",
            "Payment Status     float64\n",
            "dtype: object\n"
          ],
          "name": "stdout"
        }
      ]
    },
    {
      "cell_type": "code",
      "metadata": {
        "id": "958BrQm1VJRC",
        "colab_type": "code",
        "colab": {}
      },
      "source": [
        "# Separate majority and minority classes\n",
        "df_majority = trainDf[trainDf['Payment Status']==0]\n",
        "df_minority = trainDf[trainDf['Payment Status']==1]"
      ],
      "execution_count": null,
      "outputs": []
    },
    {
      "cell_type": "code",
      "metadata": {
        "id": "mgkpt339fy4I",
        "colab_type": "code",
        "colab": {
          "base_uri": "https://localhost:8080/",
          "height": 68
        },
        "outputId": "756a8476-b93a-4a52-90f9-6e25fcbb9293"
      },
      "source": [
        "print(\"Before OverSampling, counts of label '1': {}\".format(sum(trainDf['Payment Status']==1)))\n",
        "print(\"Before OverSampling, counts of label '0': {} \\n\".format(sum(trainDf['Payment Status']==0)))"
      ],
      "execution_count": null,
      "outputs": [
        {
          "output_type": "stream",
          "text": [
            "Before OverSampling, counts of label '1': 5190\n",
            "Before OverSampling, counts of label '0': 32407 \n",
            "\n"
          ],
          "name": "stdout"
        }
      ]
    },
    {
      "cell_type": "code",
      "metadata": {
        "id": "E8inCw0MVQT0",
        "colab_type": "code",
        "colab": {}
      },
      "source": [
        "from sklearn.utils import resample"
      ],
      "execution_count": null,
      "outputs": []
    },
    {
      "cell_type": "code",
      "metadata": {
        "id": "WCOCpVgOVVc8",
        "colab_type": "code",
        "colab": {}
      },
      "source": [
        "# Upsample minority class\n",
        "df_minority_upsampled = resample(df_minority, \n",
        "                                 replace=True,     # sample with replacement\n",
        "                                 n_samples=sum(trainDf['Payment Status']==0),    # to match majority class\n",
        "                                 random_state=123) # reproducible results"
      ],
      "execution_count": null,
      "outputs": []
    },
    {
      "cell_type": "code",
      "metadata": {
        "id": "prsAY1eyVex6",
        "colab_type": "code",
        "colab": {}
      },
      "source": [
        "# Combine majority class with upsampled minority class\n",
        "df_upsampled = pd.concat([df_majority, df_minority_upsampled])\n"
      ],
      "execution_count": null,
      "outputs": []
    },
    {
      "cell_type": "code",
      "metadata": {
        "id": "h40d6cikVgjv",
        "colab_type": "code",
        "colab": {
          "base_uri": "https://localhost:8080/",
          "height": 68
        },
        "outputId": "3ed73eb4-b966-47ca-a871-5856c951bfed"
      },
      "source": [
        "print(\"After OverSampling, counts of label '1': {}\".format(sum(df_upsampled['Payment Status']==1)))\n",
        "print(\"After OverSampling, counts of label '0': {} \\n\".format(sum(df_upsampled['Payment Status']==0)))"
      ],
      "execution_count": null,
      "outputs": [
        {
          "output_type": "stream",
          "text": [
            "After OverSampling, counts of label '1': 32407\n",
            "After OverSampling, counts of label '0': 32407 \n",
            "\n"
          ],
          "name": "stdout"
        }
      ]
    },
    {
      "cell_type": "code",
      "metadata": {
        "id": "aY9tPp8uVlZi",
        "colab_type": "code",
        "colab": {}
      },
      "source": [
        "Xtrain_new = df_upsampled.drop(columns=['Payment Status'])"
      ],
      "execution_count": null,
      "outputs": []
    },
    {
      "cell_type": "code",
      "metadata": {
        "id": "2OnlPBMCVtd2",
        "colab_type": "code",
        "colab": {}
      },
      "source": [
        "ytrain_new = df_upsampled['Payment Status']"
      ],
      "execution_count": null,
      "outputs": []
    },
    {
      "cell_type": "code",
      "metadata": {
        "id": "9ZP-eK3TQ9vu",
        "colab_type": "code",
        "colab": {}
      },
      "source": [
        "#x = df.drop(columns=['Payment Status'])"
      ],
      "execution_count": null,
      "outputs": []
    },
    {
      "cell_type": "code",
      "metadata": {
        "id": "sfXu7m_eRYyD",
        "colab_type": "code",
        "colab": {}
      },
      "source": [
        "#y = df['Payment Status']"
      ],
      "execution_count": null,
      "outputs": []
    },
    {
      "cell_type": "code",
      "metadata": {
        "id": "QrX7Cf6RRiGZ",
        "colab_type": "code",
        "colab": {}
      },
      "source": [
        "#from sklearn.model_selection import train_test_split"
      ],
      "execution_count": null,
      "outputs": []
    },
    {
      "cell_type": "code",
      "metadata": {
        "id": "VQVzEPsDRnMw",
        "colab_type": "code",
        "colab": {}
      },
      "source": [
        "#X_train, X_test, y_train, y_test = train_test_split(X, y, test_size=0.33, random_state=42)"
      ],
      "execution_count": null,
      "outputs": []
    },
    {
      "cell_type": "code",
      "metadata": {
        "id": "69xdAL3gRwBk",
        "colab_type": "code",
        "colab": {}
      },
      "source": [
        "import xgboost as xgb\n",
        "import pandas as pd\n",
        "from numpy import loadtxt\n",
        "from xgboost import XGBClassifier\n",
        "from sklearn.model_selection import train_test_split\n",
        "from sklearn.metrics import accuracy_score"
      ],
      "execution_count": null,
      "outputs": []
    },
    {
      "cell_type": "code",
      "metadata": {
        "id": "3ti3kXOxSKeY",
        "colab_type": "code",
        "colab": {
          "base_uri": "https://localhost:8080/",
          "height": 136
        },
        "outputId": "41d22573-7241-4872-d4b3-7f9cea198417"
      },
      "source": [
        "# fit model on reconstructed training data\n",
        "model1 = XGBClassifier()\n",
        "model1.fit(Xtrain_new, ytrain_new)"
      ],
      "execution_count": null,
      "outputs": [
        {
          "output_type": "execute_result",
          "data": {
            "text/plain": [
              "XGBClassifier(base_score=0.5, booster='gbtree', colsample_bylevel=1,\n",
              "              colsample_bynode=1, colsample_bytree=1, gamma=0,\n",
              "              learning_rate=0.1, max_delta_step=0, max_depth=3,\n",
              "              min_child_weight=1, missing=None, n_estimators=100, n_jobs=1,\n",
              "              nthread=None, objective='binary:logistic', random_state=0,\n",
              "              reg_alpha=0, reg_lambda=1, scale_pos_weight=1, seed=None,\n",
              "              silent=None, subsample=1, verbosity=1)"
            ]
          },
          "metadata": {
            "tags": []
          },
          "execution_count": 37
        }
      ]
    },
    {
      "cell_type": "code",
      "metadata": {
        "id": "j4WZNTBX9kv7",
        "colab_type": "code",
        "colab": {}
      },
      "source": [
        "# fit model on training data\n",
        "#model1 = XGBClassifier()\n",
        "#model1.fit(Xtrain_new, ytrain_new)"
      ],
      "execution_count": null,
      "outputs": []
    },
    {
      "cell_type": "code",
      "metadata": {
        "id": "yiiXkqOFeEaD",
        "colab_type": "code",
        "colab": {}
      },
      "source": [
        "# make predictions for test data\n",
        "y_pred = model1.predict(X_test)\n",
        "predictions_test = [round(value) for value in y_pred]\n",
        "testPredict = pd.DataFrame(predictions_test)\n",
        "testActual = pd.DataFrame(y_test)\n",
        "testActual.to_csv('TestActuals.csv')\n",
        "testPredict.to_csv('TestPredictions.csv')\n",
        "probTest1 = model1.predict_proba(X_test)\n",
        "prob_Test1 = probTest1[:,1]\n",
        "a1 = pd.DataFrame(prob_Test1)\n",
        "a1.to_csv('TestProbabilities.csv')\n",
        "files.download('TestPredictions.csv')\n",
        "files.download('TestActuals.csv')\n",
        "files.download('TestProbabilities.csv')"
      ],
      "execution_count": null,
      "outputs": []
    },
    {
      "cell_type": "code",
      "metadata": {
        "id": "YOInS0VbefDZ",
        "colab_type": "code",
        "colab": {
          "base_uri": "https://localhost:8080/",
          "height": 34
        },
        "outputId": "500c91d1-769d-48f1-e334-b5ca8527ff1b"
      },
      "source": [
        "# evaluate predictions on Test Data\n",
        "accuracy = accuracy_score(y_test, predictions_test)\n",
        "print(\" Testing Accuracy: %.2f%%\" % (accuracy * 100.0))"
      ],
      "execution_count": null,
      "outputs": [
        {
          "output_type": "stream",
          "text": [
            " Testing Accuracy: 85.59%\n"
          ],
          "name": "stdout"
        }
      ]
    },
    {
      "cell_type": "code",
      "metadata": {
        "id": "DJgl_mgUemwK",
        "colab_type": "code",
        "colab": {
          "base_uri": "https://localhost:8080/",
          "height": 68
        },
        "outputId": "5fa64f2c-5bc2-4d1a-ad2c-e71f89828fe2"
      },
      "source": [
        "from sklearn import metrics\n",
        "cnf_matrix = metrics.confusion_matrix(y_test, y_pred)\n",
        "print(\"Confusion Matrix For Test Data :\")\n",
        "print(cnf_matrix)\n",
        "y_test.to_csv('TestActuals.csv')\n",
        "y_pred.to_csv('TestPred.csv')\n"
      ],
      "execution_count": null,
      "outputs": [
        {
          "output_type": "stream",
          "text": [
            "Confusion Matrix For Test Data :\n",
            "[[13876  2040]\n",
            " [  628  1975]]\n"
          ],
          "name": "stdout"
        }
      ]
    },
    {
      "cell_type": "code",
      "metadata": {
        "id": "2mY7v0e-oH9l",
        "colab_type": "code",
        "colab": {}
      },
      "source": [
        "# make predictions for Train data\n",
        "y_pred = model1.predict(X_train)\n",
        "predictions_train = [round(value) for value in y_pred]\n",
        "trainPredict = pd.DataFrame(predictions_train)\n",
        "trainActual = pd.DataFrame(y_train)\n",
        "trainPredict.to_csv('TrainPredictions.csv')\n",
        "trainActual.to_csv('TrainActual.csv') \n",
        "files.download('TrainPredictions.csv')\n",
        "files.download('TrainActual.csv')"
      ],
      "execution_count": null,
      "outputs": []
    },
    {
      "cell_type": "code",
      "metadata": {
        "id": "PQuuqr1ynjan",
        "colab_type": "code",
        "colab": {
          "base_uri": "https://localhost:8080/",
          "height": 34
        },
        "outputId": "874fe4d2-56be-4382-88a8-3bab2921fb60"
      },
      "source": [
        "# evaluate predictions on Train Data\n",
        "accuracy = accuracy_score(y_train, predictions_train)\n",
        "print(\" Testing Accuracy: %.2f%%\" % (accuracy * 100.0))"
      ],
      "execution_count": null,
      "outputs": [
        {
          "output_type": "stream",
          "text": [
            " Testing Accuracy: 86.02%\n"
          ],
          "name": "stdout"
        }
      ]
    },
    {
      "cell_type": "code",
      "metadata": {
        "id": "Y8R_NYmzp_PS",
        "colab_type": "code",
        "colab": {
          "base_uri": "https://localhost:8080/",
          "height": 68
        },
        "outputId": "681142a2-cc35-42c6-c22f-04620147663d"
      },
      "source": [
        "cnf_matrix = metrics.confusion_matrix(y_train, predictions_train)\n",
        "print(\"Confusion Matrix For Test Data :\")\n",
        "print(cnf_matrix)"
      ],
      "execution_count": null,
      "outputs": [
        {
          "output_type": "stream",
          "text": [
            "Confusion Matrix For Test Data :\n",
            "[[28330  4077]\n",
            " [ 1179  4011]]\n"
          ],
          "name": "stdout"
        }
      ]
    },
    {
      "cell_type": "code",
      "metadata": {
        "id": "Iygm9HOaMd4j",
        "colab_type": "code",
        "colab": {}
      },
      "source": [
        "probTrain = model1.predict_proba(X_train)\n",
        "prob_train = probTrain[:,1]\n",
        "prob1 = pd.DataFrame(prob_train)\n",
        "prob1.to_csv('TrainProbability.csv') \n",
        "files.download('TrainProbability.csv')\n"
      ],
      "execution_count": null,
      "outputs": []
    },
    {
      "cell_type": "code",
      "metadata": {
        "id": "qOBZMtTzPcqa",
        "colab_type": "code",
        "colab": {
          "base_uri": "https://localhost:8080/",
          "height": 34
        },
        "outputId": "f652e00b-0fce-4b3e-c8e5-ad5e41e3e766"
      },
      "source": [
        "## AUC For Training Data \n",
        "\n",
        "from sklearn.metrics import roc_curve\n",
        "from sklearn.metrics import roc_auc_score\n",
        "\n",
        "auc1 = roc_auc_score(y_train,predictions_train)\n",
        "print('AUC: %.2f' % auc1)\n"
      ],
      "execution_count": null,
      "outputs": [
        {
          "output_type": "stream",
          "text": [
            "AUC: 0.82\n"
          ],
          "name": "stdout"
        }
      ]
    },
    {
      "cell_type": "code",
      "metadata": {
        "id": "twvOt7rjSFCE",
        "colab_type": "code",
        "colab": {
          "base_uri": "https://localhost:8080/",
          "height": 265
        },
        "outputId": "b50fe018-f516-4f80-d9af-560d407cdc2c"
      },
      "source": [
        "fpr, tpr, thresholds = roc_curve(y_train,predictions_train)\n",
        "import matplotlib.pyplot as plt\n",
        "plt.plot(fpr,tpr)\n",
        "plt.plot([0, 1], [0, 1],'r--')\n",
        "plt.show()"
      ],
      "execution_count": null,
      "outputs": [
        {
          "output_type": "display_data",
          "data": {
            "image/png": "[encoded data removed]",
            "text/plain": [
              "<Figure size 432x288 with 1 Axes>"
            ]
          },
          "metadata": {
            "tags": []
          }
        }
      ]
    },
    {
      "cell_type": "code",
      "metadata": {
        "id": "XXkuYlVz5PlI",
        "colab_type": "code",
        "colab": {}
      },
      "source": [
        "probTest = model1.predict_proba(X_test)\n",
        "prob_test = probTest[:,1]\n",
        "prob2 = pd.DataFrame(prob_test)\n",
        "prob2.to_csv('TestProbability.csv') \n",
        "files.download('TestProbability.csv')"
      ],
      "execution_count": null,
      "outputs": []
    },
    {
      "cell_type": "code",
      "metadata": {
        "id": "cQ4RKDz7TL43",
        "colab_type": "code",
        "colab": {
          "base_uri": "https://localhost:8080/",
          "height": 265
        },
        "outputId": "a5c39db5-089b-49ad-e87c-e1af5bb5e663"
      },
      "source": [
        "fpr, tpr, thresholds = roc_curve(y_test,predictions_test)\n",
        "import matplotlib.pyplot as plt\n",
        "plt.plot(fpr,tpr)\n",
        "plt.plot([0, 1], [0, 1],'r--')\n",
        "plt.show()"
      ],
      "execution_count": null,
      "outputs": [
        {
          "output_type": "display_data",
          "data": {
            "image/png": "[encoded data removed]",
            "text/plain": [
              "<Figure size 432x288 with 1 Axes>"
            ]
          },
          "metadata": {
            "tags": []
          }
        }
      ]
    },
    {
      "cell_type": "code",
      "metadata": {
        "id": "56v_KRoqQA0y",
        "colab_type": "code",
        "colab": {
          "base_uri": "https://localhost:8080/",
          "height": 34
        },
        "outputId": "eb863158-fc39-4b53-ee55-4cf20b82159a"
      },
      "source": [
        "## AUC For Testing Data \n",
        "\n",
        "from sklearn.metrics import roc_curve\n",
        "from sklearn.metrics import roc_auc_score\n",
        "\n",
        "auc1 = roc_auc_score(y_test, predictions_test)\n",
        "print('AUC: %.2f' % auc1)"
      ],
      "execution_count": null,
      "outputs": [
        {
          "output_type": "stream",
          "text": [
            "AUC: 0.82\n"
          ],
          "name": "stdout"
        }
      ]
    },
    {
      "cell_type": "code",
      "metadata": {
        "id": "T94Gu4r154O-",
        "colab_type": "code",
        "colab": {}
      },
      "source": [
        "!pip install -U -q PyDrive\n",
        "from pydrive.auth import GoogleAuth\n",
        "from pydrive.drive import GoogleDrive \n",
        "from google.colab import auth \n",
        "from oauth2client.client import GoogleCredentials"
      ],
      "execution_count": null,
      "outputs": []
    },
    {
      "cell_type": "code",
      "metadata": {
        "id": "DMDfSIoq80uQ",
        "colab_type": "code",
        "colab": {}
      },
      "source": [
        "auth.authenticate_user()\n",
        "gauth = GoogleAuth()\n",
        "gauth.credentials = GoogleCredentials.get_application_default()                       \n",
        "drive = GoogleDrive(gauth)"
      ],
      "execution_count": null,
      "outputs": []
    },
    {
      "cell_type": "code",
      "metadata": {
        "id": "KenJlx8Z9Oxa",
        "colab_type": "code",
        "colab": {
          "base_uri": "https://localhost:8080/",
          "height": 214
        },
        "outputId": "0923a8cf-6158-49d4-a99e-f732b4dac1fe"
      },
      "source": [
        "model.save('model1.h5')\n",
        "model_file = drive.CreateFile({'title' : 'model.h5'})                       \n",
        "model_file.SetContentFile('model.h5')                       \n",
        "model_file.Upload()"
      ],
      "execution_count": null,
      "outputs": [
        {
          "output_type": "error",
          "ename": "AttributeError",
          "evalue": "ignored",
          "traceback": [
            "\u001b[0;31m---------------------------------------------------------------------------\u001b[0m",
            "\u001b[0;31mAttributeError\u001b[0m                            Traceback (most recent call last)",
            "\u001b[0;32m<ipython-input-53-09cd00950236>\u001b[0m in \u001b[0;36m<module>\u001b[0;34m()\u001b[0m\n\u001b[0;32m----> 1\u001b[0;31m \u001b[0mmodel\u001b[0m\u001b[0;34m.\u001b[0m\u001b[0msave\u001b[0m\u001b[0;34m(\u001b[0m\u001b[0;34m'model1.h5'\u001b[0m\u001b[0;34m)\u001b[0m\u001b[0;34m\u001b[0m\u001b[0;34m\u001b[0m\u001b[0m\n\u001b[0m\u001b[1;32m      2\u001b[0m \u001b[0mmodel_file\u001b[0m \u001b[0;34m=\u001b[0m \u001b[0mdrive\u001b[0m\u001b[0;34m.\u001b[0m\u001b[0mCreateFile\u001b[0m\u001b[0;34m(\u001b[0m\u001b[0;34m{\u001b[0m\u001b[0;34m'title'\u001b[0m \u001b[0;34m:\u001b[0m \u001b[0;34m'model.h5'\u001b[0m\u001b[0;34m}\u001b[0m\u001b[0;34m)\u001b[0m\u001b[0;34m\u001b[0m\u001b[0;34m\u001b[0m\u001b[0m\n\u001b[1;32m      3\u001b[0m \u001b[0mmodel_file\u001b[0m\u001b[0;34m.\u001b[0m\u001b[0mSetContentFile\u001b[0m\u001b[0;34m(\u001b[0m\u001b[0;34m'model.h5'\u001b[0m\u001b[0;34m)\u001b[0m\u001b[0;34m\u001b[0m\u001b[0;34m\u001b[0m\u001b[0m\n\u001b[1;32m      4\u001b[0m \u001b[0mmodel_file\u001b[0m\u001b[0;34m.\u001b[0m\u001b[0mUpload\u001b[0m\u001b[0;34m(\u001b[0m\u001b[0;34m)\u001b[0m\u001b[0;34m\u001b[0m\u001b[0;34m\u001b[0m\u001b[0m\n",
            "\u001b[0;31mAttributeError\u001b[0m: 'XGBClassifier' object has no attribute 'save'"
          ]
        }
      ]
    },
    {
      "cell_type": "code",
      "metadata": {
        "id": "kPMlwZc-84Zw",
        "colab_type": "code",
        "colab": {}
      },
      "source": [
        "from sklearn.externals import joblib \n",
        "  \n",
        "# Save the model as a pickle in a file \n",
        "joblib.dump(model1, 'xgBoostnew.pkl') \n",
        "  \n",
        "# Load the model from the file \n",
        "#knn_from_joblib = joblib.load('filename.pkl')  \n",
        "  \n",
        "# Use the loaded model to make predictions \n",
        "#knn_from_joblib.predict(X_test) \n",
        "\n",
        "files.download('xgBoostnew.pkl')"
      ],
      "execution_count": null,
      "outputs": []
    }
  ]
}