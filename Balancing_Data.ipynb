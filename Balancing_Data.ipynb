{
  "nbformat": 4,
  "nbformat_minor": 0,
  "metadata": {
    "kernelspec": {
      "display_name": "Python 3",
      "language": "python",
      "name": "python3"
    },
    "language_info": {
      "codemirror_mode": {
        "name": "ipython",
        "version": 3
      },
      "file_extension": ".py",
      "mimetype": "text/x-python",
      "name": "python",
      "nbconvert_exporter": "python",
      "pygments_lexer": "ipython3",
      "version": "3.7.3"
    },
    "colab": {
      "name": "Balancing Data.ipynb",
      "provenance": [],
      "collapsed_sections": [],
      "include_colab_link": true
    }
  },
  "cells": [
    {
      "cell_type": "markdown",
      "metadata": {
        "id": "view-in-github",
        "colab_type": "text"
      },
      "source": [
        "<a href=\"https://colab.research.google.com/github/nyksrox/NIKHILR/blob/master/Balancing_Data.ipynb\" target=\"_parent\"><img src=\"https://colab.research.google.com/assets/colab-badge.svg\" alt=\"Open In Colab\"/></a>"
      ]
    },
    {
      "cell_type": "code",
      "metadata": {
        "id": "cWOxTOrFHqsB",
        "colab_type": "code",
        "colab": {}
      },
      "source": [
        "import pandas as pd\n",
        "import numpy as np\n",
        "import sklearn\n",
        "from matplotlib import pyplot as plt\n",
        "from datetime import datetime\n"
      ],
      "execution_count": null,
      "outputs": []
    },
    {
      "cell_type": "code",
      "metadata": {
        "id": "6BFwRnsZHqsM",
        "colab_type": "code",
        "colab": {}
      },
      "source": [
        "data = pd.read_csv(\"C:\\\\Users\\\\nikhilran\\\\Desktop\\\\HealthCareExperiments\\\\N\\\\JMH_Data_V1.csv\")"
      ],
      "execution_count": null,
      "outputs": []
    },
    {
      "cell_type": "code",
      "metadata": {
        "id": "CZj7UtslHqsT",
        "colab_type": "code",
        "colab": {}
      },
      "source": [
        "data['LIST DT']=pd.to_datetime(data['LIST DT'])\n",
        "data['LIST DT'] = data['LIST DT'].apply(lambda x: x.toordinal())\n",
        "\n",
        "data['ADMIT DT']=pd.to_datetime(data['ADMIT DT'])\n",
        "data['ADMIT DT'] = data['ADMIT DT'].apply(lambda x: x.toordinal())\n",
        "\n",
        "data['DSCHG DT']=pd.to_datetime(data['DSCHG DT'])\n",
        "data['DSCHG DT'] = data['DSCHG DT'].apply(lambda x: x.toordinal())\n",
        "\n",
        "data['DOB']=pd.to_datetime(data['DOB'])\n",
        "data['DOB'] = data['DOB'].apply(lambda x: x.toordinal())"
      ],
      "execution_count": null,
      "outputs": []
    },
    {
      "cell_type": "code",
      "metadata": {
        "id": "O63Ext4jHqsZ",
        "colab_type": "code",
        "colab": {}
      },
      "source": [
        ""
      ],
      "execution_count": null,
      "outputs": []
    },
    {
      "cell_type": "code",
      "metadata": {
        "id": "LKmR55q3Hqse",
        "colab_type": "code",
        "colab": {}
      },
      "source": [
        "##data =data[~data.isin([np.nan, np.inf, -np.inf]).any(1)]"
      ],
      "execution_count": null,
      "outputs": []
    },
    {
      "cell_type": "code",
      "metadata": {
        "id": "OLS4Z8YtHqsi",
        "colab_type": "code",
        "colab": {},
        "outputId": "24cba29b-d323-448a-b300-0249a16749aa"
      },
      "source": [
        "print(data.dtypes)"
      ],
      "execution_count": null,
      "outputs": [
        {
          "output_type": "stream",
          "text": [
            "FACS #               int64\n",
            "CALLS                int64\n",
            "DU413_CALLS          int64\n",
            "ZIP5               float64\n",
            "DOB                  int64\n",
            "INIT BAL           float64\n",
            "CHARGES            float64\n",
            "PT SEX               int64\n",
            "LIST DT              int64\n",
            "PT AREA            float64\n",
            "RP AREA            float64\n",
            "SEED #               int64\n",
            "ADMIT DT             int64\n",
            "DSCHG DT             int64\n",
            "TU SCORE             int64\n",
            "BNKCRD AVLBLE        int64\n",
            "AMT PDUE 12 MNT      int64\n",
            "NUM DEROGAT ITM      int64\n",
            "LOCATION CODE        int64\n",
            "F/C                  int64\n",
            "ACCOUNT TYPE         int64\n",
            "DOD                float64\n",
            "BCARD HIGH CRDT      int64\n",
            "AGENCY CODE          int64\n",
            "PAT TOT PMTS       float64\n",
            "PAT TOT ADJS       float64\n",
            "ALL INS PMTS       float64\n",
            "ALL INS ADJS       float64\n",
            "ACCT TOT CHRGS     float64\n",
            "Total Paid         float64\n",
            "Service Type         int64\n",
            "DRG CODE           float64\n",
            "IA SCORE             int64\n",
            "Payment Status       int64\n",
            "dtype: object\n"
          ],
          "name": "stdout"
        }
      ]
    },
    {
      "cell_type": "code",
      "metadata": {
        "id": "FZoVfFBIHqsm",
        "colab_type": "code",
        "colab": {}
      },
      "source": [
        "#d = datetime.strptime(data['LIST DT'], '%Y-%m-%d').date()\n",
        "#data['LIST DT']=pd.to_datetime(data['LIST DT'])\n",
        "#data['LIST DT'] = data['LIST DT'].toordinal()\n",
        "\n"
      ],
      "execution_count": null,
      "outputs": []
    },
    {
      "cell_type": "code",
      "metadata": {
        "id": "DDSunr1zHqsr",
        "colab_type": "code",
        "colab": {}
      },
      "source": [
        "#data['LIST DT'] = data['LIST DT'].apply(lambda x: x.toordinal())"
      ],
      "execution_count": null,
      "outputs": []
    },
    {
      "cell_type": "code",
      "metadata": {
        "id": "xNoiQAwVHqsv",
        "colab_type": "code",
        "colab": {}
      },
      "source": [
        "#data['ADMIT DT']=pd.to_datetime(data['ADMIT DT'])\n",
        "#data['ADMIT DT'] = data['ADMIT DT'].apply(lambda x: x.toordinal())"
      ],
      "execution_count": null,
      "outputs": []
    },
    {
      "cell_type": "code",
      "metadata": {
        "id": "-069rVPAHqsz",
        "colab_type": "code",
        "colab": {}
      },
      "source": [
        "#data['DSCHG DT']=pd.to_datetime(data['DSCHG DT'])\n",
        "#data['DSCHG DT'] = data['DSCHG DT'].apply(lambda x: x.toordinal())"
      ],
      "execution_count": null,
      "outputs": []
    },
    {
      "cell_type": "code",
      "metadata": {
        "id": "X45YKFdHHqs3",
        "colab_type": "code",
        "colab": {}
      },
      "source": [
        "#data['DOB']=pd.to_datetime(data['DOB'])\n",
        "#data['DOB'] = data['DOB'].apply(lambda x: x.toordinal())"
      ],
      "execution_count": null,
      "outputs": []
    },
    {
      "cell_type": "code",
      "metadata": {
        "id": "jefJfFHiHqs7",
        "colab_type": "code",
        "colab": {}
      },
      "source": [
        "from sklearn.impute import SimpleImputer\n",
        "imp = SimpleImputer(strategy=\"most_frequent\")\n",
        "data0 = pd.DataFrame(imp.fit_transform(data),columns=data.columns, index=data.index)\n",
        "#print(imp.fit_transform(data))"
      ],
      "execution_count": null,
      "outputs": []
    },
    {
      "cell_type": "code",
      "metadata": {
        "id": "ElJn1cUzHqs_",
        "colab_type": "code",
        "colab": {},
        "outputId": "babd6660-ea67-48a3-99be-548a721d0270"
      },
      "source": [
        "print(data0.dtypes)"
      ],
      "execution_count": null,
      "outputs": [
        {
          "output_type": "stream",
          "text": [
            "FACS #             float64\n",
            "CALLS              float64\n",
            "DU413_CALLS        float64\n",
            "ZIP5               float64\n",
            "DOB                float64\n",
            "INIT BAL           float64\n",
            "CHARGES            float64\n",
            "PT SEX             float64\n",
            "LIST DT            float64\n",
            "PT AREA            float64\n",
            "RP AREA            float64\n",
            "SEED #             float64\n",
            "ADMIT DT           float64\n",
            "DSCHG DT           float64\n",
            "TU SCORE           float64\n",
            "BNKCRD AVLBLE      float64\n",
            "AMT PDUE 12 MNT    float64\n",
            "NUM DEROGAT ITM    float64\n",
            "LOCATION CODE      float64\n",
            "F/C                float64\n",
            "ACCOUNT TYPE       float64\n",
            "DOD                float64\n",
            "BCARD HIGH CRDT    float64\n",
            "AGENCY CODE        float64\n",
            "PAT TOT PMTS       float64\n",
            "PAT TOT ADJS       float64\n",
            "ALL INS PMTS       float64\n",
            "ALL INS ADJS       float64\n",
            "ACCT TOT CHRGS     float64\n",
            "Total Paid         float64\n",
            "Service Type       float64\n",
            "DRG CODE           float64\n",
            "IA SCORE           float64\n",
            "Payment Status     float64\n",
            "dtype: object\n"
          ],
          "name": "stdout"
        }
      ]
    },
    {
      "cell_type": "code",
      "metadata": {
        "id": "dQedkfm_HqtD",
        "colab_type": "code",
        "colab": {}
      },
      "source": [
        "#data3 = data0.drop(columns=['ACCIDENT DATE'])\n",
        "#data2 = data0.drop(columns=['INS CO PHONE#'])\n",
        "#data1 = data2.drop(columns=['RP PF'])\n",
        "\n",
        "data1 = data0\n",
        "\n"
      ],
      "execution_count": null,
      "outputs": []
    },
    {
      "cell_type": "code",
      "metadata": {
        "id": "r7jetlOHHqtH",
        "colab_type": "code",
        "colab": {},
        "outputId": "00506491-1eb8-4d3a-ba50-0bd6f99f833a"
      },
      "source": [
        "print(\"Before OverSampling, counts of label '1': {}\".format(sum(data1['Payment Status']==1)))\n",
        "print(\"Before OverSampling, counts of label '0': {} \\n\".format(sum(data1['Payment Status']==0)))\n",
        "\n"
      ],
      "execution_count": null,
      "outputs": [
        {
          "output_type": "stream",
          "text": [
            "Before OverSampling, counts of label '1': 7793\n",
            "Before OverSampling, counts of label '0': 48323 \n",
            "\n"
          ],
          "name": "stdout"
        }
      ]
    },
    {
      "cell_type": "code",
      "metadata": {
        "id": "50W5ht4uHqtL",
        "colab_type": "code",
        "colab": {}
      },
      "source": [
        "# Separate majority and minority classes\n",
        "df_majority = data1[data1['Payment Status']==0]\n",
        "df_minority = data1[data1['Payment Status']==1]"
      ],
      "execution_count": null,
      "outputs": []
    },
    {
      "cell_type": "code",
      "metadata": {
        "id": "B06loOLGHqtR",
        "colab_type": "code",
        "colab": {}
      },
      "source": [
        "from sklearn.utils import resample"
      ],
      "execution_count": null,
      "outputs": []
    },
    {
      "cell_type": "code",
      "metadata": {
        "id": "4pyO8r8HHqtV",
        "colab_type": "code",
        "colab": {}
      },
      "source": [
        "# Upsample minority class\n",
        "df_minority_upsampled = resample(df_minority, \n",
        "                                 replace=True,     # sample with replacement\n",
        "                                 n_samples=48323,    # to match majority class\n",
        "                                 random_state=123) # reproducible results"
      ],
      "execution_count": null,
      "outputs": []
    },
    {
      "cell_type": "code",
      "metadata": {
        "id": "WDyW7JcVHqtb",
        "colab_type": "code",
        "colab": {}
      },
      "source": [
        "# Combine majority class with upsampled minority class\n",
        "df_upsampled = pd.concat([df_majority, df_minority_upsampled])\n"
      ],
      "execution_count": null,
      "outputs": []
    },
    {
      "cell_type": "code",
      "metadata": {
        "id": "ZWao309EHqtf",
        "colab_type": "code",
        "colab": {},
        "outputId": "72b13837-431e-48e8-a2ca-0007dd230054"
      },
      "source": [
        "print(df_upsampled.head())"
      ],
      "execution_count": null,
      "outputs": [
        {
          "output_type": "stream",
          "text": [
            "       FACS #  CALLS  DU413_CALLS     ZIP5       DOB  INIT BAL   CHARGES  \\\n",
            "1  46504655.0    1.0          4.0  33193.0  719897.0    595.00  31697.50   \n",
            "2  46504667.0    0.0          1.0  33055.0  711556.0   1316.00  29164.35   \n",
            "4  46504676.0    0.0          4.0  33168.0  722419.0    887.46  55061.59   \n",
            "5  46504678.0    0.0          0.0  33056.0  712759.0   1316.90  30128.98   \n",
            "7  46504786.0    0.0         10.0  33167.0  730851.0   9384.00  65317.00   \n",
            "\n",
            "   PT SEX   LIST DT  PT AREA  ...  PAT TOT PMTS  PAT TOT ADJS  ALL INS PMTS  \\\n",
            "1     1.0  736696.0    305.0  ...         -5.00     -31097.50          0.00   \n",
            "2     1.0  736696.0    305.0  ...     -10419.60     -17428.75     -10419.60   \n",
            "4     0.0  736696.0    786.0  ...      -5887.54     -48286.59      -5887.54   \n",
            "5     1.0  736696.0    786.0  ...     -11629.85     -17183.13     -11629.85   \n",
            "7     1.0  736696.0    305.0  ...          0.00     -55933.00          0.00   \n",
            "\n",
            "   ALL INS ADJS  ACCT TOT CHRGS  Total Paid  Service Type  DRG CODE  IA SCORE  \\\n",
            "1     -31097.50        31697.50       -5.00         210.0       0.0       2.0   \n",
            "2     -17428.75        29164.35   -10419.60         336.0     292.0       3.0   \n",
            "4     -48286.59        55061.59    -5887.54         210.0     765.0       1.0   \n",
            "5     -17182.23        30128.98   -11629.85         336.0     640.0       3.0   \n",
            "7     -55933.00        65317.00        0.00         210.0     956.0       3.0   \n",
            "\n",
            "   Payment Status  \n",
            "1             0.0  \n",
            "2             0.0  \n",
            "4             0.0  \n",
            "5             0.0  \n",
            "7             0.0  \n",
            "\n",
            "[5 rows x 34 columns]\n"
          ],
          "name": "stdout"
        }
      ]
    },
    {
      "cell_type": "code",
      "metadata": {
        "id": "Q849dQz4Hqtj",
        "colab_type": "code",
        "colab": {},
        "outputId": "27c68f4d-bf9a-498f-dc11-079a8240d5f3"
      },
      "source": [
        "print(\"After OverSampling, counts of label '1': {}\".format(sum(df_upsampled['Payment Status']==1)))\n",
        "print(\"After OverSampling, counts of label '0': {} \\n\".format(sum(df_upsampled['Payment Status']==0)))"
      ],
      "execution_count": null,
      "outputs": [
        {
          "output_type": "stream",
          "text": [
            "After OverSampling, counts of label '1': 48323\n",
            "After OverSampling, counts of label '0': 48323 \n",
            "\n"
          ],
          "name": "stdout"
        }
      ]
    },
    {
      "cell_type": "code",
      "metadata": {
        "id": "dVFBUdJmHqtn",
        "colab_type": "code",
        "colab": {}
      },
      "source": [
        "X = df_upsampled.drop(columns=['Payment Status'])\n",
        "#x = x1.drop(columns=['IA SCORE'])"
      ],
      "execution_count": null,
      "outputs": []
    },
    {
      "cell_type": "code",
      "metadata": {
        "id": "zz0BYqGzHqtr",
        "colab_type": "code",
        "colab": {}
      },
      "source": [
        "y = df_upsampled['Payment Status']"
      ],
      "execution_count": null,
      "outputs": []
    },
    {
      "cell_type": "code",
      "metadata": {
        "id": "gdX3mTjHHqtu",
        "colab_type": "code",
        "colab": {},
        "outputId": "e205c893-6b3d-445a-fad3-6bbf86cba87a"
      },
      "source": [
        "print(X.head())"
      ],
      "execution_count": null,
      "outputs": [
        {
          "output_type": "stream",
          "text": [
            "       FACS #  CALLS  DU413_CALLS     ZIP5       DOB  INIT BAL   CHARGES  \\\n",
            "0  46653954.0    4.0          0.0  33142.0  717044.0   1039.29   3464.30   \n",
            "1  46504655.0    1.0          4.0  33193.0  719897.0    595.00  31697.50   \n",
            "2  46504667.0    0.0          1.0  33055.0  711556.0   1316.00  29164.35   \n",
            "3  46504673.0    0.0          1.0  33138.0  716533.0   5901.69  79677.58   \n",
            "4  46504676.0    0.0          4.0  33168.0  722419.0    887.46  55061.59   \n",
            "\n",
            "   PT SEX   LIST DT  PT AREA  ...  AGENCY CODE  PAT TOT PMTS  PAT TOT ADJS  \\\n",
            "0     1.0  736773.0    786.0  ...          1.0          0.00          0.00   \n",
            "1     1.0  736696.0    305.0  ...          1.0         -5.00     -31097.50   \n",
            "2     1.0  736696.0    305.0  ...          0.0     -10419.60     -17428.75   \n",
            "3     0.0  736696.0    786.0  ...          0.0     -49872.62     -23903.27   \n",
            "4     0.0  736696.0    786.0  ...          0.0      -5887.54     -48286.59   \n",
            "\n",
            "   ALL INS PMTS  ALL INS ADJS  ACCT TOT CHRGS  Total Paid  Service Type  \\\n",
            "0      -2078.58       -346.43         3464.30        0.00           0.0   \n",
            "1          0.00     -31097.50        31697.50       -5.00         210.0   \n",
            "2     -10419.60     -17428.75        29164.35   -10419.60         336.0   \n",
            "3     -49872.62     -23903.27        79677.58   -49872.62         210.0   \n",
            "4      -5887.54     -48286.59        55061.59    -5887.54         210.0   \n",
            "\n",
            "   DRG CODE  IA SCORE  \n",
            "0       0.0       2.0  \n",
            "1       0.0       2.0  \n",
            "2     292.0       3.0  \n",
            "3     645.0       3.0  \n",
            "4     765.0       1.0  \n",
            "\n",
            "[5 rows x 33 columns]\n"
          ],
          "name": "stdout"
        }
      ]
    },
    {
      "cell_type": "code",
      "metadata": {
        "id": "7zgSSsaMHqty",
        "colab_type": "code",
        "colab": {}
      },
      "source": [
        "from sklearn.model_selection import train_test_split"
      ],
      "execution_count": null,
      "outputs": []
    },
    {
      "cell_type": "code",
      "metadata": {
        "id": "Xt2tsKoLHqt1",
        "colab_type": "code",
        "colab": {}
      },
      "source": [
        "X_train, X_test, y_train, y_test = train_test_split(X, y, test_size=0.33, random_state=42)"
      ],
      "execution_count": null,
      "outputs": []
    },
    {
      "cell_type": "code",
      "metadata": {
        "id": "JQYAnXRRHqt5",
        "colab_type": "code",
        "colab": {}
      },
      "source": [
        "from sklearn.linear_model import LogisticRegression"
      ],
      "execution_count": null,
      "outputs": []
    },
    {
      "cell_type": "code",
      "metadata": {
        "id": "EQU0ZNzmHqt8",
        "colab_type": "code",
        "colab": {},
        "outputId": "60d11e4a-4e60-474a-e5cd-d9f63f532179"
      },
      "source": [
        "clf = LogisticRegression(random_state=0, solver='lbfgs',multi_class='multinomial').fit(X_train, y_train)"
      ],
      "execution_count": null,
      "outputs": [
        {
          "output_type": "stream",
          "text": [
            "C:\\ProgramData\\Anaconda\\lib\\site-packages\\sklearn\\linear_model\\logistic.py:758: ConvergenceWarning: lbfgs failed to converge. Increase the number of iterations.\n",
            "  \"of iterations.\", ConvergenceWarning)\n"
          ],
          "name": "stderr"
        }
      ]
    },
    {
      "cell_type": "code",
      "metadata": {
        "id": "hDRD1S_RHqt_",
        "colab_type": "code",
        "colab": {}
      },
      "source": [
        "#float_formatter = \"{:.2f}\".format"
      ],
      "execution_count": null,
      "outputs": []
    },
    {
      "cell_type": "code",
      "metadata": {
        "id": "xuac1OkWHquF",
        "colab_type": "code",
        "colab": {}
      },
      "source": [
        "#np.set_printoptions(formatter={'float_kind':float_formatter})"
      ],
      "execution_count": null,
      "outputs": []
    },
    {
      "cell_type": "code",
      "metadata": {
        "id": "AZH3GOC_HquJ",
        "colab_type": "code",
        "colab": {}
      },
      "source": [
        "y_pred=clf.predict(X_test)"
      ],
      "execution_count": null,
      "outputs": []
    },
    {
      "cell_type": "code",
      "metadata": {
        "id": "twT4GUXOHquO",
        "colab_type": "code",
        "colab": {}
      },
      "source": [
        " #y_new = np.round(y_pred,2)"
      ],
      "execution_count": null,
      "outputs": []
    },
    {
      "cell_type": "code",
      "metadata": {
        "id": "G-g2gb13HquS",
        "colab_type": "code",
        "colab": {}
      },
      "source": [
        "#y_pred.to_frame()\n",
        "#print(y_pred)\n",
        "np.savetxt(\"C:\\\\Users\\\\nikhilran\\\\Desktop\\\\HealthCareExperiments\\\\N\\\\testPrediction1.csv\",y_new, delimiter=\",\")"
      ],
      "execution_count": null,
      "outputs": []
    },
    {
      "cell_type": "code",
      "metadata": {
        "id": "0BskH8YLHquW",
        "colab_type": "code",
        "colab": {}
      },
      "source": [
        "np.savetxt(\"C:\\\\Users\\\\nikhilran\\\\Desktop\\\\HealthCareExperiments\\\\N\\\\testVariables.csv\",X_test, delimiter=\",\")"
      ],
      "execution_count": null,
      "outputs": []
    },
    {
      "cell_type": "code",
      "metadata": {
        "id": "bKIrA2nYHqub",
        "colab_type": "code",
        "colab": {}
      },
      "source": [
        "from sklearn import metrics"
      ],
      "execution_count": null,
      "outputs": []
    },
    {
      "cell_type": "code",
      "metadata": {
        "id": "UVIZ_sk4Hqug",
        "colab_type": "code",
        "colab": {}
      },
      "source": [
        "#print(\"Accuracy:\",metrics.accuracy_score(y_test, y_pred))\n",
        "#print(\"Precision:\",metrics.precision_score(y_test, y_pred))\n",
        "#print(\"Recall:\",metrics.recall_score(y_test, y_pred))\n",
        "\n",
        "Accuracy = metrics.accuracy_score(y_test,y_pred)\n",
        "acc = Accuracy*100"
      ],
      "execution_count": null,
      "outputs": []
    },
    {
      "cell_type": "code",
      "metadata": {
        "id": "Sb7gFNkIHquk",
        "colab_type": "code",
        "colab": {},
        "outputId": "06cd9e80-0ffe-4034-85de-4ab15d858852"
      },
      "source": [
        "print(\"Accuracy:\",acc,\"%\")"
      ],
      "execution_count": null,
      "outputs": [
        {
          "output_type": "stream",
          "text": [
            "Accuracy: 69.99749169122718 %\n"
          ],
          "name": "stdout"
        }
      ]
    },
    {
      "cell_type": "code",
      "metadata": {
        "id": "4VFYpoRcHquo",
        "colab_type": "code",
        "colab": {},
        "outputId": "ce862b3d-c8eb-449c-aff0-96a98e6573ed"
      },
      "source": [
        "cnf_matrix = metrics.confusion_matrix(y_test, y_pred)\n",
        "print(cnf_matrix)"
      ],
      "execution_count": null,
      "outputs": [
        {
          "output_type": "stream",
          "text": [
            "[[13536  2464]\n",
            " [ 7105  8789]]\n"
          ],
          "name": "stdout"
        }
      ]
    },
    {
      "cell_type": "code",
      "metadata": {
        "id": "ZNiy5VQHHqur",
        "colab_type": "code",
        "colab": {}
      },
      "source": [
        "import numpy as np\n",
        "import matplotlib.pyplot as plt\n",
        "import seaborn as sns\n",
        "%matplotlib inline"
      ],
      "execution_count": null,
      "outputs": []
    },
    {
      "cell_type": "code",
      "metadata": {
        "id": "NOxw-FeFHquu",
        "colab_type": "code",
        "colab": {},
        "outputId": "bb71f9e3-fd25-4266-e757-5ea96ae2e9b3"
      },
      "source": [
        "class_names=[0,1] # name  of classes\n",
        "fig, ax = plt.subplots()\n",
        "tick_marks = np.arange(len(class_names))\n",
        "plt.xticks(tick_marks, class_names)\n",
        "plt.yticks(tick_marks, class_names)\n",
        "# create heatmap\n",
        "sns.heatmap(pd.DataFrame(cnf_matrix), annot=True, cmap=\"YlGnBu\" ,fmt='g')\n",
        "ax.xaxis.set_label_position(\"top\")\n",
        "plt.tight_layout()\n",
        "plt.title('Confusion matrix', y=1.1)\n",
        "plt.ylabel('Actual label')\n",
        "plt.xlabel('Predicted label')"
      ],
      "execution_count": null,
      "outputs": [
        {
          "output_type": "execute_result",
          "data": {
            "text/plain": [
              "Text(0.5, 257.44, 'Predicted label')"
            ]
          },
          "metadata": {
            "tags": []
          },
          "execution_count": 33
        },
        {
          "output_type": "display_data",
          "data": {
            "image/png": "[encoded data removed]",
            "text/plain": [
              "<Figure size 432x288 with 2 Axes>"
            ]
          },
          "metadata": {
            "tags": [],
            "needs_background": "light"
          }
        }
      ]
    },
    {
      "cell_type": "code",
      "metadata": {
        "id": "XosAMWggHqux",
        "colab_type": "code",
        "colab": {}
      },
      "source": [
        "from sklearn.feature_selection import RFE"
      ],
      "execution_count": null,
      "outputs": []
    },
    {
      "cell_type": "code",
      "metadata": {
        "id": "pwqwBaXLHqu1",
        "colab_type": "code",
        "colab": {}
      },
      "source": [
        "selector = RFE(clf,n_features_to_select=1)"
      ],
      "execution_count": null,
      "outputs": []
    },
    {
      "cell_type": "markdown",
      "metadata": {
        "id": "ygEitxljHqu7",
        "colab_type": "raw"
      },
      "source": [
        "selector = selector.fit(X_train,y_train)"
      ]
    },
    {
      "cell_type": "code",
      "metadata": {
        "id": "8UpBjlJPHqu8",
        "colab_type": "code",
        "colab": {},
        "outputId": "30337ce2-5e9b-44bc-beaa-298bce3914d6"
      },
      "source": [
        "order = selector.ranking_"
      ],
      "execution_count": null,
      "outputs": [
        {
          "output_type": "error",
          "ename": "AttributeError",
          "evalue": "'RFE' object has no attribute 'ranking_'",
          "traceback": [
            "\u001b[1;31m---------------------------------------------------------------------------\u001b[0m",
            "\u001b[1;31mAttributeError\u001b[0m                            Traceback (most recent call last)",
            "\u001b[1;32m<ipython-input-32-ad3e4bfd9cbf>\u001b[0m in \u001b[0;36m<module>\u001b[1;34m\u001b[0m\n\u001b[1;32m----> 1\u001b[1;33m \u001b[0morder\u001b[0m \u001b[1;33m=\u001b[0m \u001b[0mselector\u001b[0m\u001b[1;33m.\u001b[0m\u001b[0mranking_\u001b[0m\u001b[1;33m\u001b[0m\u001b[1;33m\u001b[0m\u001b[0m\n\u001b[0m",
            "\u001b[1;31mAttributeError\u001b[0m: 'RFE' object has no attribute 'ranking_'"
          ]
        }
      ]
    },
    {
      "cell_type": "code",
      "metadata": {
        "id": "q9pHzaJnHqu_",
        "colab_type": "code",
        "colab": {}
      },
      "source": [
        ""
      ],
      "execution_count": null,
      "outputs": []
    }
  ]
}