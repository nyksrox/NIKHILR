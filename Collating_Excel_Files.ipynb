{
  "nbformat": 4,
  "nbformat_minor": 0,
  "metadata": {
    "colab": {
      "name": "Collating Excel Files.ipynb",
      "provenance": [],
      "collapsed_sections": [],
      "authorship_tag": "ABX9TyNRpctXWdNAQvBzcMpc2BFJ",
      "include_colab_link": true
    },
    "kernelspec": {
      "name": "python3",
      "display_name": "Python 3"
    }
  },
  "cells": [
    {
      "cell_type": "markdown",
      "metadata": {
        "id": "view-in-github",
        "colab_type": "text"
      },
      "source": [
        "<a href=\"https://colab.research.google.com/github/nyksrox/NIKHILR/blob/master/Collating_Excel_Files.ipynb\" target=\"_parent\"><img src=\"https://colab.research.google.com/assets/colab-badge.svg\" alt=\"Open In Colab\"/></a>"
      ]
    },
    {
      "cell_type": "code",
      "metadata": {
        "id": "48oL6ZKri1Wj",
        "colab_type": "code",
        "colab": {}
      },
      "source": [
        "import pandas as pd\n",
        "import numpy as np\n",
        "import glob\n",
        "\n",
        "all_data = pd.DataFrame()\n",
        "for f in glob.glob('C:/Users/nikhilran/Desktop/OchnerEO/Transactions and Activity/COL_OCHSNER-EO-ACTIVITY*.xlsx'):\n",
        "   df = pd.read_excel(f,sheet_name='PAYMENTS')\n",
        "   all_data = all_data.append(df, ignore_index=True)"
      ],
      "execution_count": 0,
      "outputs": []
    },
    {
      "cell_type": "code",
      "metadata": {
        "id": "qDK-xT4Ti9Pd",
        "colab_type": "code",
        "colab": {}
      },
      "source": [
        "writer = pd.ExcelWriter('C:/Users/nikhilran/Desktop/OchnerEO/Transactions and Activity/payments_data.xlsx', engine='xlsxwriter')\n",
        "all_data.to_excel(writer, sheet_name='Sheet1')\n",
        "writer.save()"
      ],
      "execution_count": 0,
      "outputs": []
    }
  ]
}