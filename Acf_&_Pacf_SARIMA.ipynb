{
  "nbformat": 4,
  "nbformat_minor": 0,
  "metadata": {
    "kernelspec": {
      "display_name": "Python 3",
      "language": "python",
      "name": "python3"
    },
    "language_info": {
      "codemirror_mode": {
        "name": "ipython",
        "version": 3
      },
      "file_extension": ".py",
      "mimetype": "text/x-python",
      "name": "python",
      "nbconvert_exporter": "python",
      "pygments_lexer": "ipython3",
      "version": "3.7.3"
    },
    "colab": {
      "name": "Acf & Pacf - SARIMA.ipynb",
      "provenance": [],
      "collapsed_sections": [],
      "include_colab_link": true
    }
  },
  "cells": [
    {
      "cell_type": "markdown",
      "metadata": {
        "id": "view-in-github",
        "colab_type": "text"
      },
      "source": [
        "<a href=\"https://colab.research.google.com/github/nyksrox/NIKHILR/blob/master/Acf_%26_Pacf_SARIMA.ipynb\" target=\"_parent\"><img src=\"https://colab.research.google.com/assets/colab-badge.svg\" alt=\"Open In Colab\"/></a>"
      ]
    },
    {
      "cell_type": "code",
      "metadata": {
        "id": "70Vx_nAAGboO",
        "colab_type": "code",
        "colab": {}
      },
      "source": [
        "import statsmodels.api as sm\n",
        "import pandas as pd\n",
        "import numpy as np\n",
        "import sklearn\n",
        "from matplotlib import pyplot as plt\n",
        "#!pip install pyramid --trusted-host pypi.org --trusted-host files.pythonhosted.org --user\n",
        "import pyramid"
      ],
      "execution_count": null,
      "outputs": []
    },
    {
      "cell_type": "code",
      "metadata": {
        "id": "ZG73eGVuGboU",
        "colab_type": "code",
        "colab": {}
      },
      "source": [
        "data = pd.read_csv(\"C:\\\\Users\\\\nikhilran\\\\Desktop\\\\ts-bob\\\\RE__test_mail\\\\Train_ts_Data.csv\")\n",
        "data.Date = pd.to_datetime(data.Date)\n",
        "data.to_csv(\"C:\\\\Users\\\\nikhilran\\\\Desktop\\\\ts-bob\\\\RE__test_mail\\\\New_Overall_Call_Volume_Orignial_Model_Data.csv\")\n",
        "\n",
        "df = pd.read_csv(\"C:\\\\Users\\\\nikhilran\\\\Desktop\\\\ts-bob\\\\RE__test_mail\\\\New_Overall_Call_Volume_Orignial_Model_Data.csv\")\n",
        "\n",
        "data1 = df[['Date','Offered']]\n",
        "\n",
        "data1.reset_index(inplace=True)\n",
        "\n",
        "data1['Date'] = pd.to_datetime(data1['Date'])\n",
        "\n",
        "\n",
        "ts = data1.set_index('Date')"
      ],
      "execution_count": null,
      "outputs": []
    },
    {
      "cell_type": "code",
      "metadata": {
        "id": "KLTxHloOGboX",
        "colab_type": "code",
        "colab": {}
      },
      "source": [
        "from statsmodels.tsa.seasonal import seasonal_decompose\n",
        "decomposition = seasonal_decompose(ts)"
      ],
      "execution_count": null,
      "outputs": []
    },
    {
      "cell_type": "code",
      "metadata": {
        "id": "pglMrh2mGbob",
        "colab_type": "code",
        "colab": {}
      },
      "source": [
        "trend = decomposition.trend\n",
        "seasonal = decomposition.seasonal\n",
        "residual = decomposition.resid"
      ],
      "execution_count": null,
      "outputs": []
    },
    {
      "cell_type": "code",
      "metadata": {
        "id": "AqDOx_t4Gboe",
        "colab_type": "code",
        "colab": {}
      },
      "source": [
        "trend_diff = trend - trend.shift()\n",
        "ts_diff = ts - ts.shift()"
      ],
      "execution_count": null,
      "outputs": []
    },
    {
      "cell_type": "code",
      "metadata": {
        "id": "p9p9YPVBGboh",
        "colab_type": "code",
        "colab": {}
      },
      "source": [
        "seasonal_diff = seasonal - seasonal.shift()"
      ],
      "execution_count": null,
      "outputs": []
    },
    {
      "cell_type": "code",
      "metadata": {
        "id": "uaCtDJmoGbok",
        "colab_type": "code",
        "colab": {},
        "outputId": "f46b5ddb-ed75-404c-c5e3-177d0bb9d1b3"
      },
      "source": [
        "plt.plot(trend_diff)"
      ],
      "execution_count": null,
      "outputs": [
        {
          "output_type": "stream",
          "text": [
            "C:\\ProgramData\\Anaconda\\lib\\site-packages\\pandas\\plotting\\_converter.py:129: FutureWarning: Using an implicitly registered datetime converter for a matplotlib plotting method. The converter was registered by pandas on import. Future versions of pandas will require you to explicitly register matplotlib converters.\n",
            "\n",
            "To register the converters:\n",
            "\t>>> from pandas.plotting import register_matplotlib_converters\n",
            "\t>>> register_matplotlib_converters()\n",
            "  warnings.warn(msg, FutureWarning)\n"
          ],
          "name": "stderr"
        },
        {
          "output_type": "execute_result",
          "data": {
            "text/plain": [
              "[<matplotlib.lines.Line2D at 0x243e838e8d0>,\n",
              " <matplotlib.lines.Line2D at 0x243e839a278>]"
            ]
          },
          "metadata": {
            "tags": []
          },
          "execution_count": 8
        },
        {
          "output_type": "display_data",
          "data": {
            "image/png": "[encoded data removed]",
            "text/plain": [
              "<Figure size 432x288 with 1 Axes>"
            ]
          },
          "metadata": {
            "tags": [],
            "needs_background": "light"
          }
        }
      ]
    },
    {
      "cell_type": "code",
      "metadata": {
        "id": "Eo1JB7-jGboo",
        "colab_type": "code",
        "colab": {},
        "outputId": "fd7a34db-8d21-48f6-89b0-5e142e95d5f5"
      },
      "source": [
        "plt.plot(seasonal_diff)"
      ],
      "execution_count": null,
      "outputs": [
        {
          "output_type": "execute_result",
          "data": {
            "text/plain": [
              "[<matplotlib.lines.Line2D at 0x243e8a012b0>,\n",
              " <matplotlib.lines.Line2D at 0x243e8a2bf28>]"
            ]
          },
          "metadata": {
            "tags": []
          },
          "execution_count": 9
        },
        {
          "output_type": "display_data",
          "data": {
            "image/png": "[encoded data removed]",
            "text/plain": [
              "<Figure size 432x288 with 1 Axes>"
            ]
          },
          "metadata": {
            "tags": [],
            "needs_background": "light"
          }
        }
      ]
    },
    {
      "cell_type": "code",
      "metadata": {
        "id": "ZlfOJ6TbGbou",
        "colab_type": "code",
        "colab": {}
      },
      "source": [
        "#ACF and PACF plots:\n",
        "from statsmodels.tsa.stattools import acf, pacf"
      ],
      "execution_count": null,
      "outputs": []
    },
    {
      "cell_type": "code",
      "metadata": {
        "id": "siFhBdeRGboy",
        "colab_type": "code",
        "colab": {}
      },
      "source": [
        "lag_acf = acf(trend_diff['Offered'], nlags=20)\n",
        "\n",
        "#lag_acf = acf(trend['Offered'], nlags=20)\n",
        "\n",
        "#lag_pacf = pacf(trend['Offered'], nlags=20)\n",
        "\n",
        "lag_pacf = pacf(trend_diff['Offered'], nlags=20)"
      ],
      "execution_count": null,
      "outputs": []
    },
    {
      "cell_type": "code",
      "metadata": {
        "id": "1R_YMEeKGbo2",
        "colab_type": "code",
        "colab": {}
      },
      "source": [
        "from statsmodels.graphics.tsaplots import plot_pacf\n",
        "from statsmodels.graphics.tsaplots import plot_acf"
      ],
      "execution_count": null,
      "outputs": []
    },
    {
      "cell_type": "code",
      "metadata": {
        "id": "3I9g8u3PGbo4",
        "colab_type": "code",
        "colab": {},
        "outputId": "35c04e59-1cd7-42e3-9dae-cb39768cab44"
      },
      "source": [
        "plot_pacf(ts['Offered'], lags=20)\n",
        "plt.show()"
      ],
      "execution_count": null,
      "outputs": [
        {
          "output_type": "display_data",
          "data": {
            "image/png": "[encoded data removed]",
            "text/plain": [
              "<Figure size 432x288 with 1 Axes>"
            ]
          },
          "metadata": {
            "tags": [],
            "needs_background": "light"
          }
        }
      ]
    },
    {
      "cell_type": "code",
      "metadata": {
        "id": "ne0bJJrkGbo7",
        "colab_type": "code",
        "colab": {},
        "outputId": "d7e671cb-2e92-4000-c79c-61db58a4f141"
      },
      "source": [
        "plot_acf(ts['Offered'], lags=20)\n",
        "plt.show()"
      ],
      "execution_count": null,
      "outputs": [
        {
          "output_type": "display_data",
          "data": {
            "image/png": "[encoded data removed]",
            "text/plain": [
              "<Figure size 432x288 with 1 Axes>"
            ]
          },
          "metadata": {
            "tags": [],
            "needs_background": "light"
          }
        }
      ]
    },
    {
      "cell_type": "code",
      "metadata": {
        "id": "-awgUiDoGbo-",
        "colab_type": "code",
        "colab": {}
      },
      "source": [
        ""
      ],
      "execution_count": null,
      "outputs": []
    }
  ]
}