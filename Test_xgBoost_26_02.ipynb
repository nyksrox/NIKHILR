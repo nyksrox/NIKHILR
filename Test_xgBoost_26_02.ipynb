{
  "nbformat": 4,
  "nbformat_minor": 0,
  "metadata": {
    "colab": {
      "name": "Test_xgBoost.ipynb",
      "provenance": [],
      "collapsed_sections": [],
      "authorship_tag": "ABX9TyMQ9nubLpsm/kcI0MpMrfw+",
      "include_colab_link": true
    },
    "kernelspec": {
      "name": "python3",
      "display_name": "Python 3"
    },
    "accelerator": "GPU"
  },
  "cells": [
    {
      "cell_type": "markdown",
      "metadata": {
        "id": "view-in-github",
        "colab_type": "text"
      },
      "source": [
        "<a href=\"https://colab.research.google.com/github/nyksrox/NIKHILR/blob/master/Test_xgBoost_26_02.ipynb\" target=\"_parent\"><img src=\"https://colab.research.google.com/assets/colab-badge.svg\" alt=\"Open In Colab\"/></a>"
      ]
    },
    {
      "cell_type": "code",
      "metadata": {
        "id": "7o4lJTqA7oCG",
        "colab_type": "code",
        "colab": {}
      },
      "source": [
        "import xgboost as xgb\n",
        "import pandas as pd\n",
        "import numpy as np\n",
        "\n",
        "from numpy import loadtxt\n",
        "from xgboost import XGBClassifier\n",
        "from sklearn.model_selection import train_test_split\n",
        "from sklearn.metrics import accuracy_score\n",
        "\n",
        "import statistics as st"
      ],
      "execution_count": 0,
      "outputs": []
    },
    {
      "cell_type": "code",
      "metadata": {
        "id": "cxN0IKaCF8GI",
        "colab_type": "code",
        "outputId": "d61fb952-cc83-48d3-e531-64b01066546f",
        "colab": {
          "resources": {
            "http://localhost:8080/nbextensions/google.colab/files.js": {
              "data": "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",
              "ok": true,
              "headers": [
                [
                  "content-type",
                  "application/javascript"
                ]
              ],
              "status": 200,
              "status_text": "OK"
            }
          },
          "base_uri": "https://localhost:8080/",
          "height": 74
        }
      },
      "source": [
        "## loading test data from desktop\n",
        "from google.colab import files\n",
        "uploaded = files.upload()"
      ],
      "execution_count": 5,
      "outputs": [
        {
          "output_type": "display_data",
          "data": {
            "text/html": [
              "\n",
              "     <input type=\"file\" id=\"files-1b1518c2-acbd-488d-a683-ee503ab64da9\" name=\"files[]\" multiple disabled />\n",
              "     <output id=\"result-1b1518c2-acbd-488d-a683-ee503ab64da9\">\n",
              "      Upload widget is only available when the cell has been executed in the\n",
              "      current browser session. Please rerun this cell to enable.\n",
              "      </output>\n",
              "      <script src=\"/nbextensions/google.colab/files.js\"></script> "
            ],
            "text/plain": [
              "<IPython.core.display.HTML object>"
            ]
          },
          "metadata": {
            "tags": []
          }
        },
        {
          "output_type": "stream",
          "text": [
            "Saving JMH_Full_Analysis.csv to JMH_Full_Analysis.csv\n"
          ],
          "name": "stdout"
        }
      ]
    },
    {
      "cell_type": "code",
      "metadata": {
        "id": "tIO3kJAhGOxa",
        "colab_type": "code",
        "outputId": "b73d59ff-5fe9-4908-a74b-30c4fb2b44ff",
        "colab": {
          "base_uri": "https://localhost:8080/",
          "height": 71
        }
      },
      "source": [
        "## converting into dataframe\n",
        "import io\n",
        "df = pd.read_csv(io.BytesIO(uploaded['JMH_Full_Analysis.csv']))"
      ],
      "execution_count": 43,
      "outputs": [
        {
          "output_type": "stream",
          "text": [
            "/usr/local/lib/python3.6/dist-packages/IPython/core/interactiveshell.py:2718: DtypeWarning: Columns (4,13,14,16,18,38,41,55,78) have mixed types. Specify dtype option on import or set low_memory=False.\n",
            "  interactivity=interactivity, compiler=compiler, result=result)\n"
          ],
          "name": "stderr"
        }
      ]
    },
    {
      "cell_type": "code",
      "metadata": {
        "id": "VWM_950v1Bir",
        "colab_type": "code",
        "outputId": "2db6affa-60d8-4452-eedc-6eb795fd23eb",
        "colab": {
          "base_uri": "https://localhost:8080/",
          "height": 221
        }
      },
      "source": [
        "print(df.dtypes)"
      ],
      "execution_count": 44,
      "outputs": [
        {
          "output_type": "stream",
          "text": [
            "FACS #                        int64\n",
            "DISP                         object\n",
            "CALLS                       float64\n",
            "DU413_CALLS                 float64\n",
            "ZIP5                         object\n",
            "                             ...   \n",
            "Priority                     object\n",
            "Actual Payments             float64\n",
            "Actual Status                 int64\n",
            "Predicted Scores            float64\n",
            "Predicted Prioritization     object\n",
            "Length: 83, dtype: object\n"
          ],
          "name": "stdout"
        }
      ]
    },
    {
      "cell_type": "code",
      "metadata": {
        "id": "Udh4LXBO1Urt",
        "colab_type": "code",
        "outputId": "6d73bd15-860c-4fed-ac07-b096322dd465",
        "colab": {
          "base_uri": "https://localhost:8080/",
          "height": 221
        }
      },
      "source": [
        "## Calculating patient age and issue age\n",
        "import numpy as np\n",
        "df['AGE'] = (pd.datetime.now() - pd.to_datetime(df['DOB']))\n",
        "df['AGE_ISSUE'] = (pd.datetime.now() - pd.to_datetime(df['LIST DT']))\n",
        "#print(df['AGE'].dtype)\n",
        "df['AGE'].astype('timedelta64[D]')\n",
        "df['AGE_ISSUE'].astype('timedelta64[D]')"
      ],
      "execution_count": 45,
      "outputs": [
        {
          "output_type": "execute_result",
          "data": {
            "text/plain": [
              "0        394.0\n",
              "1        394.0\n",
              "2        394.0\n",
              "3        394.0\n",
              "4        394.0\n",
              "         ...  \n",
              "77518     44.0\n",
              "77519     44.0\n",
              "77520     44.0\n",
              "77521     44.0\n",
              "77522     44.0\n",
              "Name: AGE_ISSUE, Length: 77523, dtype: float64"
            ]
          },
          "metadata": {
            "tags": []
          },
          "execution_count": 45
        }
      ]
    },
    {
      "cell_type": "code",
      "metadata": {
        "id": "MeCeZhzV6rKF",
        "colab_type": "code",
        "colab": {}
      },
      "source": [
        "## handling dates\n",
        "\n",
        "df['LIST DT']=pd.to_datetime(df['LIST DT'])\n",
        "df['LIST DT'] = df['LIST DT'].apply(lambda x: x.toordinal())\n",
        "\n",
        "df['ADMIT DT']=pd.to_datetime(df['ADMIT DT'])\n",
        "df['ADMIT DT'] = df['ADMIT DT'].apply(lambda x: x.toordinal())\n",
        "\n",
        "df['DSCHG DT']=pd.to_datetime(df['DSCHG DT'])\n",
        "df['DSCHG DT'] = df['DSCHG DT'].apply(lambda x: x.toordinal())\n",
        "\n",
        "df['DOB']=pd.to_datetime(df['DOB'])\n",
        "df['DOB'] = df['DOB'].apply(lambda x: x.toordinal())"
      ],
      "execution_count": 0,
      "outputs": []
    },
    {
      "cell_type": "code",
      "metadata": {
        "id": "Vq7Kr3UJ61R7",
        "colab_type": "code",
        "colab": {}
      },
      "source": [
        "## Filling NaTs in datetimecolumns in priproc date and accident date\n",
        "\n",
        "df.rename(columns={\"PRI_PROC_DATE\":\"PRI PROC DATE\"},inplace = True)\n",
        "\n",
        "\n",
        "df['PRI PROC DATE']=pd.to_datetime(df['PRI PROC DATE'])\n",
        "df['ACCIDENT DATE']=pd.to_datetime(df['ACCIDENT DATE'])\n",
        "\n",
        "end = pd.to_datetime('2017-12-15')\n",
        "\n",
        "df['PRI PROC DATE'].fillna(end,inplace=True)\n",
        "df['ACCIDENT DATE'].fillna(end,inplace=True)\n",
        "\n",
        "#df['ACCIDENT DATE'].isnull()\n",
        "#df['PRI PROC DATE'].isnull()"
      ],
      "execution_count": 0,
      "outputs": []
    },
    {
      "cell_type": "code",
      "metadata": {
        "id": "9nLUWcaj8U0X",
        "colab_type": "code",
        "colab": {}
      },
      "source": [
        "## Converting Accident Date and PriProc Date into Dates and Ordinal\n",
        "df['ACCIDENT DATE']=pd.to_datetime(df['ACCIDENT DATE'])\n",
        "df['ACCIDENT DATE'] = df['ACCIDENT DATE'].apply(lambda x: x.toordinal())\n",
        "\n",
        "df['PRI PROC DATE']=pd.to_datetime(df['PRI PROC DATE'])\n",
        "df['PRI PROC DATE'] = df['PRI PROC DATE'].apply(lambda x: x.toordinal())"
      ],
      "execution_count": 0,
      "outputs": []
    },
    {
      "cell_type": "code",
      "metadata": {
        "id": "6ww3q8Qt6FEj",
        "colab_type": "code",
        "colab": {}
      },
      "source": [
        "#df2 = df['DISP']\n",
        "#df2[0].to_numeric\n",
        "#print(df2[0].to_decimal)"
      ],
      "execution_count": 0,
      "outputs": []
    },
    {
      "cell_type": "code",
      "metadata": {
        "id": "FD4tP3h96SQb",
        "colab_type": "code",
        "colab": {}
      },
      "source": [
        "#print(str.isdecimal(df2[0]))"
      ],
      "execution_count": 0,
      "outputs": []
    },
    {
      "cell_type": "code",
      "metadata": {
        "id": "oso41bmhAss1",
        "colab_type": "code",
        "colab": {}
      },
      "source": [
        "df[\"DISP\"]= df[\"DISP\"].astype(str)"
      ],
      "execution_count": 0,
      "outputs": []
    },
    {
      "cell_type": "code",
      "metadata": {
        "id": "CXzqfb_m8bsh",
        "colab_type": "code",
        "colab": {}
      },
      "source": [
        "## handling object data type (looking for non numeric values in supposedly numeric columns ## For DISP\n",
        "A = len(df.index)\n",
        "for x in range(0,A):\n",
        "  #print(df.iloc[x,1])\n",
        "  if (str.isdigit(df.iloc[x,1])) == False :\n",
        "    df.iloc[x,1] = st.mode(df.iloc[:,1])\n",
        "    #print(df.iloc[x,1])"
      ],
      "execution_count": 0,
      "outputs": []
    },
    {
      "cell_type": "code",
      "metadata": {
        "id": "1koL7wDXB8gd",
        "colab_type": "code",
        "colab": {}
      },
      "source": [
        "df[\"DISP\"]= df[\"DISP\"].astype(float)"
      ],
      "execution_count": 0,
      "outputs": []
    },
    {
      "cell_type": "code",
      "metadata": {
        "id": "seqaI5c7RLYf",
        "colab_type": "code",
        "colab": {}
      },
      "source": [
        "df[\"ZIP5\"]= df[\"ZIP5\"].astype(str)"
      ],
      "execution_count": 0,
      "outputs": []
    },
    {
      "cell_type": "code",
      "metadata": {
        "id": "IVC1M-ReRZf0",
        "colab_type": "code",
        "colab": {}
      },
      "source": [
        "for x in range(0,A):\n",
        "  #print(df.iloc[x,1])\n",
        "  if (str.isdigit(df.iloc[x,4])) == False :\n",
        "    df.iloc[x,4] = st.mode(df.iloc[:,4])"
      ],
      "execution_count": 0,
      "outputs": []
    },
    {
      "cell_type": "code",
      "metadata": {
        "id": "KNZNwp1lcLke",
        "colab_type": "code",
        "colab": {}
      },
      "source": [
        "df[\"ZIP5\"]= df[\"ZIP5\"].astype(float)"
      ],
      "execution_count": 0,
      "outputs": []
    },
    {
      "cell_type": "code",
      "metadata": {
        "id": "lShhwfbucGp8",
        "colab_type": "code",
        "colab": {}
      },
      "source": [
        "df[\"PT AREA\"]= df[\"PT AREA\"].astype(str)"
      ],
      "execution_count": 0,
      "outputs": []
    },
    {
      "cell_type": "code",
      "metadata": {
        "id": "u4BGDnllWrNx",
        "colab_type": "code",
        "colab": {}
      },
      "source": [
        "for x in range(0,A):\n",
        "  #print(df.iloc[x,1])\n",
        "  if (str.isdigit(df.iloc[x,16])) == False :\n",
        "    df.iloc[x,16] = st.mode(df.iloc[:,16])"
      ],
      "execution_count": 0,
      "outputs": []
    },
    {
      "cell_type": "code",
      "metadata": {
        "id": "6K36PwzYV-I3",
        "colab_type": "code",
        "colab": {}
      },
      "source": [
        "df[\"PT AREA\"]= df[\"PT AREA\"].astype(float)"
      ],
      "execution_count": 0,
      "outputs": []
    },
    {
      "cell_type": "code",
      "metadata": {
        "id": "2NqZAWDnHHzX",
        "colab_type": "code",
        "colab": {}
      },
      "source": [
        "#df = df1[['DISP','CALLS','DU413_CALLS','ZIP5','DOB','CITY','STATE','INIT BAL','CHARGES','CLIENT NAME','PT SEX','PT MS','LIST DT','PT AREA','PT PF','RP PF','SEED #','ADMIT DT','DSCHG DT','TU SCORE','BNKCRD AVLBLE','AMT PDUE 12 MNT','NUM DEROGAT ITM','TOTL PRIOR PMTS','ADMIT TYPE','ASSGN INDICATOR','F/C','INS CO NAME','CHAPTER','LD CAUSE','BCARD HIGH CRDT','AGENCY CODE','ACCIDENT DATE','PAT TOT PMTS','PAT TOT ADJS','ALL INS PMTS','ALL INS ADJS','ACCT TOT CHRGS','COMISSION RATE','SERIES NUM','Service Locatn','Total Paid','Service Type','DRG CODE','PRI_PROC_DATE']]"
      ],
      "execution_count": 0,
      "outputs": []
    },
    {
      "cell_type": "code",
      "metadata": {
        "id": "7ats1FN0zrrp",
        "colab_type": "code",
        "outputId": "dadb91fd-6fa0-4da5-ee99-396302429c97",
        "colab": {
          "base_uri": "https://localhost:8080/",
          "height": 221
        }
      },
      "source": [
        "## Calculating patient age and issue age\n",
        "import numpy as np\n",
        "df['AGE'] = (pd.datetime.now() - pd.to_datetime(df['DOB']))\n",
        "df['AGE_ISSUE'] = (pd.datetime.now() - pd.to_datetime(df['LIST DT']))\n",
        "#print(df['AGE'].dtype)\n",
        "df['AGE'].astype('timedelta64[D]')\n",
        "df['AGE_ISSUE'].astype('timedelta64[D]')"
      ],
      "execution_count": 65,
      "outputs": [
        {
          "output_type": "execute_result",
          "data": {
            "text/plain": [
              "0        18318.0\n",
              "1        18318.0\n",
              "2        18318.0\n",
              "3        18318.0\n",
              "4        18318.0\n",
              "          ...   \n",
              "77518    18318.0\n",
              "77519    18318.0\n",
              "77520    18318.0\n",
              "77521    18318.0\n",
              "77522    18318.0\n",
              "Name: AGE_ISSUE, Length: 77523, dtype: float64"
            ]
          },
          "metadata": {
            "tags": []
          },
          "execution_count": 65
        }
      ]
    },
    {
      "cell_type": "code",
      "metadata": {
        "id": "05d2S0nmCrhU",
        "colab_type": "code",
        "outputId": "e80d9904-eb6c-43ab-a7b0-d1854d1dd692",
        "colab": {
          "base_uri": "https://localhost:8080/",
          "height": 221
        }
      },
      "source": [
        "print(df.dtypes)"
      ],
      "execution_count": 67,
      "outputs": [
        {
          "output_type": "stream",
          "text": [
            "FACS #                                int64\n",
            "DISP                                float64\n",
            "CALLS                               float64\n",
            "DU413_CALLS                         float64\n",
            "ZIP5                                float64\n",
            "                                 ...       \n",
            "Actual Status                         int64\n",
            "Predicted Scores                    float64\n",
            "Predicted Prioritization             object\n",
            "AGE                         timedelta64[ns]\n",
            "AGE_ISSUE                   timedelta64[ns]\n",
            "Length: 85, dtype: object\n"
          ],
          "name": "stdout"
        }
      ]
    },
    {
      "cell_type": "code",
      "metadata": {
        "id": "m_FTg5I9C0kP",
        "colab_type": "code",
        "colab": {}
      },
      "source": [
        "## handling dates\n",
        "\n",
        "df['LIST DT']=pd.to_datetime(df['LIST DT'])\n",
        "df['LIST DT'] = df['LIST DT'].apply(lambda x: x.toordinal())\n",
        "\n",
        "df['ADMIT DT']=pd.to_datetime(df['ADMIT DT'])\n",
        "df['ADMIT DT'] = df['ADMIT DT'].apply(lambda x: x.toordinal())\n",
        "\n",
        "df['DSCHG DT']=pd.to_datetime(df['DSCHG DT'])\n",
        "df['DSCHG DT'] = df['DSCHG DT'].apply(lambda x: x.toordinal())\n",
        "\n",
        "df['DOB']=pd.to_datetime(df['DOB'])\n",
        "df['DOB'] = df['DOB'].apply(lambda x: x.toordinal())"
      ],
      "execution_count": 0,
      "outputs": []
    },
    {
      "cell_type": "code",
      "metadata": {
        "id": "PRjoOCwyC-et",
        "colab_type": "code",
        "colab": {}
      },
      "source": [
        "df['PRI PROC DATE']=pd.to_datetime(df['PRI PROC DATE'])\n",
        "df['ACCIDENT DATE']=pd.to_datetime(df['ACCIDENT DATE'])\n",
        "\n",
        "end = pd.to_datetime('2017-12-15')\n",
        "\n",
        "df['PRI PROC DATE'].fillna(end,inplace=True)\n",
        "df['ACCIDENT DATE'].fillna(end,inplace=True)"
      ],
      "execution_count": 0,
      "outputs": []
    },
    {
      "cell_type": "code",
      "metadata": {
        "id": "DP2mk7tVDS0W",
        "colab_type": "code",
        "colab": {}
      },
      "source": [
        "## Converting Accident Date and PriProc Date into Dates and Ordinal\n",
        "df['ACCIDENT DATE']=pd.to_datetime(df['ACCIDENT DATE'])\n",
        "df['ACCIDENT DATE'] = df['ACCIDENT DATE'].apply(lambda x: x.toordinal())\n",
        "\n",
        "df['PRI PROC DATE']=pd.to_datetime(df['PRI PROC DATE'])\n",
        "df['PRI PROC DATE'] = df['PRI PROC DATE'].apply(lambda x: x.toordinal())"
      ],
      "execution_count": 0,
      "outputs": []
    },
    {
      "cell_type": "code",
      "metadata": {
        "id": "UwUD50AoMifw",
        "colab_type": "code",
        "colab": {}
      },
      "source": [
        "from sklearn import preprocessing\n",
        "le = preprocessing.LabelEncoder()\n",
        "df['STATE'] = le.fit_transform(df['STATE'].astype(str))\n",
        "df['CITY'] = le.fit_transform(df['STATE'].astype(str))\n",
        "df['PT SEX'] = le.fit_transform(df['PT SEX'].astype(str))\n",
        "df['PT MS'] = le.fit_transform(df['PT MS'].astype(str))\n",
        "df['PT PF'] = le.fit_transform(df['PT PF'].astype(str))\n",
        "df['RP PF'] = le.fit_transform(df['RP PF'].astype(str))\n",
        "df['ADMIT TYPE'] = le.fit_transform(df['ADMIT TYPE'].astype(str))\n",
        "df['F/C'] = le.fit_transform(df['F/C'].astype(str))\n",
        "df['INS CO NAME'] = le.fit_transform(df['INS CO NAME'].astype(str))\n",
        "df['LD CAUSE'] = le.fit_transform(df['LD CAUSE'].astype(str))\n",
        "df['AGENCY CODE'] = le.fit_transform(df['AGENCY CODE'].astype(str))\n",
        "df['Service Locatn'] = le.fit_transform(df['Service Locatn'].astype(str))\n",
        "#df['IA SCORE'] = le.fit_transform(df['IA SCORE'].astype(str))\n",
        "df['ASSGN INDICATOR'] = le.fit_transform(df['ASSGN INDICATOR'].astype(str))\n",
        "df['CHAPTER'] = le.fit_transform(df['CHAPTER'].astype(str))\n",
        "df['FLD DATA 1'] = le.fit_transform(df['FLD DATA 1'].astype(str))\n",
        "df['CLIENT NAME'] = le.fit_transform(df['CLIENT NAME'].astype(str))"
      ],
      "execution_count": 0,
      "outputs": []
    },
    {
      "cell_type": "code",
      "metadata": {
        "id": "EC_VdSGXNuXu",
        "colab_type": "code",
        "colab": {}
      },
      "source": [
        "df1 = df[['DISP','CALLS','DU413_CALLS','ZIP5','DOB','CITY','STATE','INIT BAL','CHARGES','CLIENT NAME','PT SEX','PT MS','LIST DT','PT AREA','PT PF','RP PF','SEED #','ADMIT DT','DSCHG DT','TU SCORE','BNKCRD AVLBLE','AMT PDUE 12 MNT','NUM DEROGAT ITM','TOTL PRIOR PMTS','ADMIT TYPE','ASSGN INDICATOR','F/C','INS CO NAME','CHAPTER','LD CAUSE','BCARD HIGH CRDT','AGENCY CODE','ACCIDENT DATE','PAT TOT PMTS','PAT TOT ADJS','ALL INS PMTS','ALL INS ADJS','ACCT TOT CHRGS','COMISSION RATE','SERIES NUM','Service Locatn','Total Paid','Service Type','DRG CODE','PRI PROC DATE']]"
      ],
      "execution_count": 0,
      "outputs": []
    },
    {
      "cell_type": "code",
      "metadata": {
        "id": "qw5fToSqcolx",
        "colab_type": "code",
        "colab": {}
      },
      "source": [
        "df = df1"
      ],
      "execution_count": 0,
      "outputs": []
    },
    {
      "cell_type": "code",
      "metadata": {
        "id": "v-tzwJZAN2Js",
        "colab_type": "code",
        "colab": {
          "base_uri": "https://localhost:8080/",
          "height": 799
        },
        "outputId": "c3509e21-28b2-497a-9c70-b28b4aafbc5b"
      },
      "source": [
        "print(df.dtypes)"
      ],
      "execution_count": 74,
      "outputs": [
        {
          "output_type": "stream",
          "text": [
            "DISP               float64\n",
            "CALLS              float64\n",
            "DU413_CALLS        float64\n",
            "ZIP5               float64\n",
            "DOB                  int64\n",
            "CITY                 int64\n",
            "STATE                int64\n",
            "INIT BAL           float64\n",
            "CHARGES            float64\n",
            "CLIENT NAME          int64\n",
            "PT SEX               int64\n",
            "PT MS                int64\n",
            "LIST DT              int64\n",
            "PT AREA            float64\n",
            "PT PF                int64\n",
            "RP PF                int64\n",
            "SEED #               int64\n",
            "ADMIT DT             int64\n",
            "DSCHG DT             int64\n",
            "TU SCORE           float64\n",
            "BNKCRD AVLBLE        int64\n",
            "AMT PDUE 12 MNT      int64\n",
            "NUM DEROGAT ITM      int64\n",
            "TOTL PRIOR PMTS    float64\n",
            "ADMIT TYPE           int64\n",
            "ASSGN INDICATOR      int64\n",
            "F/C                  int64\n",
            "INS CO NAME          int64\n",
            "CHAPTER              int64\n",
            "LD CAUSE             int64\n",
            "BCARD HIGH CRDT    float64\n",
            "AGENCY CODE          int64\n",
            "ACCIDENT DATE        int64\n",
            "PAT TOT PMTS       float64\n",
            "PAT TOT ADJS       float64\n",
            "ALL INS PMTS       float64\n",
            "ALL INS ADJS       float64\n",
            "ACCT TOT CHRGS     float64\n",
            "COMISSION RATE       int64\n",
            "SERIES NUM           int64\n",
            "Service Locatn       int64\n",
            "Total Paid         float64\n",
            "Service Type         int64\n",
            "DRG CODE           float64\n",
            "PRI PROC DATE        int64\n",
            "dtype: object\n"
          ],
          "name": "stdout"
        }
      ]
    },
    {
      "cell_type": "code",
      "metadata": {
        "id": "aPC9N0n-EVaa",
        "colab_type": "code",
        "colab": {}
      },
      "source": [
        "from sklearn.impute import SimpleImputer\n",
        "imp = SimpleImputer(strategy=\"most_frequent\")\n",
        "data1 = pd.DataFrame(imp.fit_transform(df),columns=df.columns, index=df.index)"
      ],
      "execution_count": 0,
      "outputs": []
    }
  ]
}