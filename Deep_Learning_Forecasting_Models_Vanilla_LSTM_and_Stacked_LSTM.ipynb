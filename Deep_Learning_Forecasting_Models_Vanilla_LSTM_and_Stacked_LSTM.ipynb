{
  "nbformat": 4,
  "nbformat_minor": 0,
  "metadata": {
    "colab": {
      "provenance": []
    },
    "kernelspec": {
      "name": "python3",
      "display_name": "Python 3"
    },
    "language_info": {
      "name": "python"
    }
  },
  "cells": [
    {
      "cell_type": "markdown",
      "source": [
        "## Deep Learning Models - LSTM and Stacked LSTM Built . Accuracy Metrics from both models obtained. Next 12 Predictions from Vanilla LSTM Model and Stacked LSTM Model obtained, printed and downloaded as csv file."
      ],
      "metadata": {
        "id": "bFBgxWJ1eqGz"
      }
    },
    {
      "cell_type": "markdown",
      "source": [
        "## Importing relevant packages"
      ],
      "metadata": {
        "id": "iJjFRu1Metpc"
      }
    },
    {
      "cell_type": "code",
      "execution_count": 1,
      "metadata": {
        "id": "F5C_6SfGwA3I"
      },
      "outputs": [],
      "source": [
        "import pandas as pd\n",
        "import numpy as np\n",
        "import sklearn\n",
        "import seaborn as sns\n",
        "import matplotlib.pyplot as plt"
      ]
    },
    {
      "cell_type": "markdown",
      "source": [
        "# Reading the data and extracting time series data"
      ],
      "metadata": {
        "id": "wXgQfbVStx71"
      }
    },
    {
      "cell_type": "code",
      "source": [
        "df = pd.read_csv('EL_Month.csv')"
      ],
      "metadata": {
        "id": "LxARXaEFw1eN"
      },
      "execution_count": 2,
      "outputs": []
    },
    {
      "cell_type": "code",
      "source": [
        "df1 = df[['Month','Series 1']]"
      ],
      "metadata": {
        "id": "KxVKsYPlw8ow"
      },
      "execution_count": 3,
      "outputs": []
    },
    {
      "cell_type": "code",
      "source": [
        "df2 = df[['Month','Series 2']]"
      ],
      "metadata": {
        "id": "fKTJ9t-IxHTf"
      },
      "execution_count": 4,
      "outputs": []
    },
    {
      "cell_type": "code",
      "source": [
        "from keras.models import Sequential\n",
        "from keras.layers import LSTM, Dense"
      ],
      "metadata": {
        "id": "ryo5qZO4xYQK"
      },
      "execution_count": 5,
      "outputs": []
    },
    {
      "cell_type": "code",
      "source": [
        "data1 = df1['Series 1']"
      ],
      "metadata": {
        "id": "CdOsZrPY4OKw"
      },
      "execution_count": 6,
      "outputs": []
    },
    {
      "cell_type": "code",
      "source": [
        "# X,y = split_series(data1, 10, 1)"
      ],
      "metadata": {
        "id": "clND3oxY_Azt"
      },
      "execution_count": 7,
      "outputs": []
    },
    {
      "cell_type": "code",
      "source": [
        "data = pd.DataFrame(data1, columns=['Series 1'])"
      ],
      "metadata": {
        "id": "EqzQXJr94gl2"
      },
      "execution_count": 8,
      "outputs": []
    },
    {
      "cell_type": "markdown",
      "source": [
        "Train Test Split"
      ],
      "metadata": {
        "id": "wQJcIYkouMeu"
      }
    },
    {
      "cell_type": "code",
      "source": [
        "train_size = int(len(data) * 0.85)\n",
        "test_size = len(data) - train_size\n",
        "train, test = data[0:train_size], data[train_size:len(data)]\n",
        "print(len(train), len(test))"
      ],
      "metadata": {
        "id": "vcJtGHyR4XJm",
        "colab": {
          "base_uri": "https://localhost:8080/"
        },
        "outputId": "942f712b-e9a0-4bfb-f6e8-ed6fb6dc73f4"
      },
      "execution_count": 9,
      "outputs": [
        {
          "output_type": "stream",
          "name": "stdout",
          "text": [
            "173 31\n"
          ]
        }
      ]
    },
    {
      "cell_type": "code",
      "source": [
        "#train.shape"
      ],
      "metadata": {
        "id": "O33AsTIu4-ol"
      },
      "execution_count": 10,
      "outputs": []
    },
    {
      "cell_type": "code",
      "source": [
        "#train"
      ],
      "metadata": {
        "id": "5gMjYv5haUWp"
      },
      "execution_count": 11,
      "outputs": []
    },
    {
      "cell_type": "code",
      "source": [
        "#test"
      ],
      "metadata": {
        "id": "PFdTjuYcfyAI"
      },
      "execution_count": 12,
      "outputs": []
    },
    {
      "cell_type": "markdown",
      "source": [
        "# Converting Object Data Type into Float"
      ],
      "metadata": {
        "id": "gMDdPPectl3N"
      }
    },
    {
      "cell_type": "code",
      "source": [
        "C = []\n",
        "for z in range(len(train['Series 1'])):\n",
        "  a1 = train['Series 1'][z].replace(\",\",\"\")\n",
        "  b1 = float(a1)\n",
        "  #print(b1)\n",
        "  C.append(b1)"
      ],
      "metadata": {
        "id": "W6CszRAobdGv"
      },
      "execution_count": 13,
      "outputs": []
    },
    {
      "cell_type": "code",
      "source": [
        "z1 = len(test['Series 1'])"
      ],
      "metadata": {
        "id": "Z6LL3k5igQsK"
      },
      "execution_count": 14,
      "outputs": []
    },
    {
      "cell_type": "code",
      "source": [
        "D = []\n",
        "for z12 in range(len(train),len(train)+ len(test['Series 1'])):\n",
        "  #print(z1)\n",
        "  a1 = test['Series 1'][z12].replace(\",\",\"\")\n",
        "  b1 = float(a1)\n",
        "  #print(b1)\n",
        "  c1 = test['Series 1'][z12].replace(\",\",\"\")\n",
        "  d1 = float(a1)\n",
        "  #print(d1)\n",
        "  D.append(d1)"
      ],
      "metadata": {
        "id": "lMJz_rZwfLp4"
      },
      "execution_count": 15,
      "outputs": []
    },
    {
      "cell_type": "code",
      "source": [
        "## Data Visualization"
      ],
      "metadata": {
        "id": "se6ISv1iwEa-"
      },
      "execution_count": 16,
      "outputs": []
    },
    {
      "cell_type": "code",
      "source": [
        "DC = np.append(C,D)\n",
        "Data12 = pd.DataFrame({'Month':df['Month'],'Values':DC})\n",
        "dfnew = Data12.set_index('Month')"
      ],
      "metadata": {
        "id": "IN_AKoIHwfRQ"
      },
      "execution_count": 17,
      "outputs": []
    },
    {
      "cell_type": "code",
      "source": [
        "sns.lineplot(data=Data12[['Month', 'Values']],linewidth=2.5, palette=\"tab10\")\n",
        "\n",
        "# plot two columns using Seaborn with labels and legend\n",
        "#sns.lineplot(data=df[['x', 'y1', 'y2']], linewidth=2.5, palette=\"tab10\")\n",
        "plt.xlabel('Month No.')\n",
        "plt.ylabel('Values')\n",
        "plt.title('Values Against Month TimeSeries')\n",
        "plt.legend(title='Legend', loc='upper left')"
      ],
      "metadata": {
        "colab": {
          "base_uri": "https://localhost:8080/",
          "height": 489
        },
        "id": "59n3ODLWwtXY",
        "outputId": "71a7a1f3-2cf0-43f0-a949-e72973e14f09"
      },
      "execution_count": 18,
      "outputs": [
        {
          "output_type": "execute_result",
          "data": {
            "text/plain": [
              "<matplotlib.legend.Legend at 0x7cb1f5990b20>"
            ]
          },
          "metadata": {},
          "execution_count": 18
        },
        {
          "output_type": "display_data",
          "data": {
            "text/plain": [
              "<Figure size 640x480 with 1 Axes>"
            ],
            "image/png": "[encoded data removed]"
          },
          "metadata": {}
        }
      ]
    },
    {
      "cell_type": "code",
      "source": [
        "## Visualizing minute details of data pattern"
      ],
      "metadata": {
        "id": "sLrKKfhQw_AU"
      },
      "execution_count": 19,
      "outputs": []
    },
    {
      "cell_type": "code",
      "source": [
        "Data3 = Data12.iloc[len(Data12)-40:len(Data12)]"
      ],
      "metadata": {
        "id": "K7AWLRGixDKb"
      },
      "execution_count": 20,
      "outputs": []
    },
    {
      "cell_type": "code",
      "source": [
        "sns.lineplot(data=Data3[['Month', 'Values']],linewidth=2.5, palette=\"tab10\")\n",
        "\n",
        "# plot two columns using Seaborn with labels and legend\n",
        "#sns.lineplot(data=df[['x', 'y1', 'y2']], linewidth=2.5, palette=\"tab10\")\n",
        "plt.xlabel('Month No.')\n",
        "plt.ylabel('Values')\n",
        "plt.title('Values Against Month TimeSeries')\n",
        "plt.legend(title='Legend', loc='upper left')"
      ],
      "metadata": {
        "colab": {
          "base_uri": "https://localhost:8080/",
          "height": 489
        },
        "id": "_IL33k97xGyW",
        "outputId": "24837b7a-1949-4372-809a-ee7fe59c3767"
      },
      "execution_count": 21,
      "outputs": [
        {
          "output_type": "execute_result",
          "data": {
            "text/plain": [
              "<matplotlib.legend.Legend at 0x7cb1f5992a70>"
            ]
          },
          "metadata": {},
          "execution_count": 21
        },
        {
          "output_type": "display_data",
          "data": {
            "text/plain": [
              "<Figure size 640x480 with 1 Axes>"
            ],
            "image/png": "[encoded data removed]"
          },
          "metadata": {}
        }
      ]
    },
    {
      "cell_type": "markdown",
      "source": [
        "# Data Scaling"
      ],
      "metadata": {
        "id": "B1aNXOwJfy-2"
      }
    },
    {
      "cell_type": "code",
      "source": [
        "## Since data has only one feature .. no scaling is required in the data"
      ],
      "metadata": {
        "id": "Qx7vfi6IUoJj"
      },
      "execution_count": 22,
      "outputs": []
    },
    {
      "cell_type": "markdown",
      "source": [
        "# Preparing the data"
      ],
      "metadata": {
        "id": "A65ENAkNtXSe"
      }
    },
    {
      "cell_type": "code",
      "source": [
        "# univariate data preparation\n",
        "from numpy import array\n",
        "\n",
        "# split a univariate sequence into samples\n",
        "def split_sequence(sequence, n_steps):\n",
        "\tX, y = [], []\n",
        "\tfor i in range(len(sequence)):\n",
        "\t\t# find the end of this pattern\n",
        "\t\tend_ix = i + n_steps\n",
        "\t\t# check if we are beyond the sequence\n",
        "\t\tif end_ix > len(sequence)-1:\n",
        "\t\t\tbreak\n",
        "\t\t# gather input and output parts of the pattern\n",
        "\t\tseq_x, seq_y = sequence[i:end_ix], sequence[end_ix]\n",
        "\t\tX.append(seq_x)\n",
        "\t\ty.append(seq_y)\n",
        "\treturn numpy.array(X),numpy.array(y)"
      ],
      "metadata": {
        "id": "4hcFEtriCYjk"
      },
      "execution_count": 23,
      "outputs": []
    },
    {
      "cell_type": "code",
      "source": [
        "look_back = 5\n",
        "import numpy\n",
        "trainX1, trainY1 = split_sequence(C, look_back)\n",
        "testX1, testY1 = split_sequence(D, look_back)"
      ],
      "metadata": {
        "id": "8HipnVLUB6ok"
      },
      "execution_count": 24,
      "outputs": []
    },
    {
      "cell_type": "code",
      "source": [
        "trainX1.shape"
      ],
      "metadata": {
        "id": "XBZKK4FEL2H9",
        "colab": {
          "base_uri": "https://localhost:8080/"
        },
        "outputId": "88038baa-46b5-4db8-de71-92484b957c3f"
      },
      "execution_count": 26,
      "outputs": [
        {
          "output_type": "execute_result",
          "data": {
            "text/plain": [
              "(168, 5)"
            ]
          },
          "metadata": {},
          "execution_count": 26
        }
      ]
    },
    {
      "cell_type": "markdown",
      "source": [
        "# Shaping the input data"
      ],
      "metadata": {
        "id": "pinYSMk6tO4A"
      }
    },
    {
      "cell_type": "code",
      "source": [
        "n_features = 1"
      ],
      "metadata": {
        "id": "Hbo_aXA2Nj0q"
      },
      "execution_count": 29,
      "outputs": []
    },
    {
      "cell_type": "code",
      "source": [
        "trainX = trainX1.reshape((trainX1.shape[0], trainX1.shape[1],n_features))\n",
        "testX = testX1.reshape((testX1.shape[0], testX1.shape[1],n_features))"
      ],
      "metadata": {
        "id": "jzpsNkCNNaJc"
      },
      "execution_count": 30,
      "outputs": []
    },
    {
      "cell_type": "markdown",
      "source": [
        "# Training The Vanilla LSTM Model"
      ],
      "metadata": {
        "id": "uik20tF0sYZ-"
      }
    },
    {
      "cell_type": "code",
      "source": [
        "n_features = 1"
      ],
      "metadata": {
        "id": "2YVDmBNdXqd1"
      },
      "execution_count": 34,
      "outputs": []
    },
    {
      "cell_type": "code",
      "source": [
        "# create and fit the LSTM network\n",
        "model = Sequential()\n",
        "model.add(LSTM(50,activation='relu', input_shape=(look_back, n_features)))\n",
        "model.add(Dense(1))\n",
        "model.compile(loss='mean_squared_error', optimizer='adam')\n",
        "model.fit(trainX1, trainY1, epochs=50, batch_size=50, verbose=2)"
      ],
      "metadata": {
        "id": "fmZmcJNAPhLL",
        "colab": {
          "base_uri": "https://localhost:8080/"
        },
        "outputId": "77c40cf1-105d-4e56-aa2b-4f3113503442"
      },
      "execution_count": 35,
      "outputs": [
        {
          "output_type": "stream",
          "name": "stdout",
          "text": [
            "Epoch 1/50\n",
            "4/4 - 4s - loss: 47429544.0000 - 4s/epoch - 1s/step\n",
            "Epoch 2/50\n",
            "4/4 - 0s - loss: 45311860.0000 - 31ms/epoch - 8ms/step\n",
            "Epoch 3/50\n",
            "4/4 - 0s - loss: 43203736.0000 - 32ms/epoch - 8ms/step\n",
            "Epoch 4/50\n",
            "4/4 - 0s - loss: 40815284.0000 - 36ms/epoch - 9ms/step\n",
            "Epoch 5/50\n",
            "4/4 - 0s - loss: 37846944.0000 - 60ms/epoch - 15ms/step\n",
            "Epoch 6/50\n",
            "4/4 - 0s - loss: 35145284.0000 - 40ms/epoch - 10ms/step\n",
            "Epoch 7/50\n",
            "4/4 - 0s - loss: 32550012.0000 - 70ms/epoch - 18ms/step\n",
            "Epoch 8/50\n",
            "4/4 - 0s - loss: 29764526.0000 - 33ms/epoch - 8ms/step\n",
            "Epoch 9/50\n",
            "4/4 - 0s - loss: 26972260.0000 - 43ms/epoch - 11ms/step\n",
            "Epoch 10/50\n",
            "4/4 - 0s - loss: 24206192.0000 - 33ms/epoch - 8ms/step\n",
            "Epoch 11/50\n",
            "4/4 - 0s - loss: 21475666.0000 - 31ms/epoch - 8ms/step\n",
            "Epoch 12/50\n",
            "4/4 - 0s - loss: 17557680.0000 - 31ms/epoch - 8ms/step\n",
            "Epoch 13/50\n",
            "4/4 - 0s - loss: 13634036.0000 - 32ms/epoch - 8ms/step\n",
            "Epoch 14/50\n",
            "4/4 - 0s - loss: 9779697.0000 - 35ms/epoch - 9ms/step\n",
            "Epoch 15/50\n",
            "4/4 - 0s - loss: 7186496.0000 - 35ms/epoch - 9ms/step\n",
            "Epoch 16/50\n",
            "4/4 - 0s - loss: 5332546.5000 - 40ms/epoch - 10ms/step\n",
            "Epoch 17/50\n",
            "4/4 - 0s - loss: 3875035.7500 - 32ms/epoch - 8ms/step\n",
            "Epoch 18/50\n",
            "4/4 - 0s - loss: 2622177.5000 - 34ms/epoch - 9ms/step\n",
            "Epoch 19/50\n",
            "4/4 - 0s - loss: 1972559.2500 - 36ms/epoch - 9ms/step\n",
            "Epoch 20/50\n",
            "4/4 - 0s - loss: 1675192.6250 - 35ms/epoch - 9ms/step\n",
            "Epoch 21/50\n",
            "4/4 - 0s - loss: 1739406.8750 - 33ms/epoch - 8ms/step\n",
            "Epoch 22/50\n",
            "4/4 - 0s - loss: 1933662.8750 - 33ms/epoch - 8ms/step\n",
            "Epoch 23/50\n",
            "4/4 - 0s - loss: 1739058.1250 - 39ms/epoch - 10ms/step\n",
            "Epoch 24/50\n",
            "4/4 - 0s - loss: 1751240.7500 - 35ms/epoch - 9ms/step\n",
            "Epoch 25/50\n",
            "4/4 - 0s - loss: 1913965.3750 - 32ms/epoch - 8ms/step\n",
            "Epoch 26/50\n",
            "4/4 - 0s - loss: 1912640.0000 - 30ms/epoch - 8ms/step\n",
            "Epoch 27/50\n",
            "4/4 - 0s - loss: 1497346.5000 - 29ms/epoch - 7ms/step\n",
            "Epoch 28/50\n",
            "4/4 - 0s - loss: 1642484.0000 - 32ms/epoch - 8ms/step\n",
            "Epoch 29/50\n",
            "4/4 - 0s - loss: 1571148.6250 - 41ms/epoch - 10ms/step\n",
            "Epoch 30/50\n",
            "4/4 - 0s - loss: 1578677.8750 - 45ms/epoch - 11ms/step\n",
            "Epoch 31/50\n",
            "4/4 - 0s - loss: 1866075.7500 - 30ms/epoch - 7ms/step\n",
            "Epoch 32/50\n",
            "4/4 - 0s - loss: 1747141.5000 - 31ms/epoch - 8ms/step\n",
            "Epoch 33/50\n",
            "4/4 - 0s - loss: 1717641.5000 - 39ms/epoch - 10ms/step\n",
            "Epoch 34/50\n",
            "4/4 - 0s - loss: 1894703.3750 - 37ms/epoch - 9ms/step\n",
            "Epoch 35/50\n",
            "4/4 - 0s - loss: 1878794.5000 - 39ms/epoch - 10ms/step\n",
            "Epoch 36/50\n",
            "4/4 - 0s - loss: 1592712.1250 - 36ms/epoch - 9ms/step\n",
            "Epoch 37/50\n",
            "4/4 - 0s - loss: 1486873.1250 - 30ms/epoch - 7ms/step\n",
            "Epoch 38/50\n",
            "4/4 - 0s - loss: 1268019.8750 - 29ms/epoch - 7ms/step\n",
            "Epoch 39/50\n",
            "4/4 - 0s - loss: 1236694.6250 - 43ms/epoch - 11ms/step\n",
            "Epoch 40/50\n",
            "4/4 - 0s - loss: 1290732.5000 - 38ms/epoch - 10ms/step\n",
            "Epoch 41/50\n",
            "4/4 - 0s - loss: 1447334.6250 - 41ms/epoch - 10ms/step\n",
            "Epoch 42/50\n",
            "4/4 - 0s - loss: 1215237.5000 - 51ms/epoch - 13ms/step\n",
            "Epoch 43/50\n",
            "4/4 - 0s - loss: 1246122.5000 - 47ms/epoch - 12ms/step\n",
            "Epoch 44/50\n",
            "4/4 - 0s - loss: 1516518.5000 - 32ms/epoch - 8ms/step\n",
            "Epoch 45/50\n",
            "4/4 - 0s - loss: 1380683.6250 - 38ms/epoch - 10ms/step\n",
            "Epoch 46/50\n",
            "4/4 - 0s - loss: 1344364.0000 - 30ms/epoch - 8ms/step\n",
            "Epoch 47/50\n",
            "4/4 - 0s - loss: 1195986.1250 - 34ms/epoch - 8ms/step\n",
            "Epoch 48/50\n",
            "4/4 - 0s - loss: 1226081.0000 - 36ms/epoch - 9ms/step\n",
            "Epoch 49/50\n",
            "4/4 - 0s - loss: 1265833.7500 - 51ms/epoch - 13ms/step\n",
            "Epoch 50/50\n",
            "4/4 - 0s - loss: 1269329.6250 - 39ms/epoch - 10ms/step\n"
          ]
        },
        {
          "output_type": "execute_result",
          "data": {
            "text/plain": [
              "<keras.src.callbacks.History at 0x7cb1f041b8b0>"
            ]
          },
          "metadata": {},
          "execution_count": 35
        }
      ]
    },
    {
      "cell_type": "code",
      "source": [],
      "metadata": {
        "id": "Qw6plhxFsPrX"
      },
      "execution_count": 35,
      "outputs": []
    },
    {
      "cell_type": "markdown",
      "source": [
        "# Predictions"
      ],
      "metadata": {
        "id": "bBjwQM2zsRF8"
      }
    },
    {
      "cell_type": "code",
      "source": [
        "n_steps = look_back"
      ],
      "metadata": {
        "id": "XLJ79cgsQVas"
      },
      "execution_count": 36,
      "outputs": []
    },
    {
      "cell_type": "code",
      "source": [
        "# demonstrate prediction\n",
        "x_input = array([6529, 8529, 10529,11529,5529])\n",
        "x_input = x_input.reshape((1, n_steps, n_features))\n",
        "yhat = model.predict(x_input, verbose=0)\n",
        "print(yhat)"
      ],
      "metadata": {
        "id": "kKlhwt7fQBI-",
        "colab": {
          "base_uri": "https://localhost:8080/"
        },
        "outputId": "b7f0f48d-46b6-4dc9-c650-3c32fe6426b4"
      },
      "execution_count": 37,
      "outputs": [
        {
          "output_type": "stream",
          "name": "stdout",
          "text": [
            "[[5501.2573]]\n"
          ]
        }
      ]
    },
    {
      "cell_type": "code",
      "source": [
        "trainPredict = model.predict(trainX1)\n",
        "testPredict = model.predict(testX1)"
      ],
      "metadata": {
        "id": "mkjTdx_ZbyxR",
        "colab": {
          "base_uri": "https://localhost:8080/"
        },
        "outputId": "d7890ab5-bbb2-416c-bce5-2cb638ac68e5"
      },
      "execution_count": 38,
      "outputs": [
        {
          "output_type": "stream",
          "name": "stdout",
          "text": [
            "6/6 [==============================] - 0s 4ms/step\n",
            "1/1 [==============================] - 0s 39ms/step\n"
          ]
        }
      ]
    },
    {
      "cell_type": "code",
      "source": [
        "from sklearn.metrics import mean_squared_error"
      ],
      "metadata": {
        "id": "P3eAGEnKtf2r"
      },
      "execution_count": 39,
      "outputs": []
    },
    {
      "cell_type": "code",
      "source": [],
      "metadata": {
        "id": "6wdpomRGduEJ"
      },
      "execution_count": 39,
      "outputs": []
    },
    {
      "cell_type": "markdown",
      "source": [
        "# Accuracy Metrics"
      ],
      "metadata": {
        "id": "zJUr6EMXsH0K"
      }
    },
    {
      "cell_type": "code",
      "source": [
        "# make predictions\n",
        "import math\n",
        "trainPredict = model.predict(trainX1)\n",
        "testPredict = model.predict(testX1)\n",
        "trainScore = math.sqrt(mean_squared_error(trainY1, trainPredict))\n",
        "print('Train Score: %.2f RMSE' % (trainScore))\n",
        "testScore = math.sqrt(mean_squared_error(testY1, testPredict))\n",
        "print('Test Score: %.2f RMSE' % (testScore))"
      ],
      "metadata": {
        "id": "R1ar0L9YP7u3",
        "colab": {
          "base_uri": "https://localhost:8080/"
        },
        "outputId": "0f20907e-2fbf-49ce-b6cf-3413f07b4897"
      },
      "execution_count": 40,
      "outputs": [
        {
          "output_type": "stream",
          "name": "stdout",
          "text": [
            "6/6 [==============================] - 0s 5ms/step\n",
            "1/1 [==============================] - 0s 45ms/step\n",
            "Train Score: 1152.89 RMSE\n",
            "Test Score: 1884.00 RMSE\n"
          ]
        }
      ]
    },
    {
      "cell_type": "code",
      "source": [
        "## Finding Mape"
      ],
      "metadata": {
        "id": "yuoXRLGOdvum"
      },
      "execution_count": 41,
      "outputs": []
    },
    {
      "cell_type": "code",
      "source": [
        "import numpy as np\n",
        "\n",
        "def mape(actual, pred):\n",
        "    actual, pred = np.array(actual), np.array(pred)\n",
        "    return np.mean(np.abs((actual - pred) / actual)) * 100"
      ],
      "metadata": {
        "id": "aXyuHfhYPM5E"
      },
      "execution_count": 42,
      "outputs": []
    },
    {
      "cell_type": "code",
      "source": [
        "mape_train = mape(trainY1, trainPredict)\n",
        "mape_train"
      ],
      "metadata": {
        "id": "wivc7bDJeEfs",
        "colab": {
          "base_uri": "https://localhost:8080/"
        },
        "outputId": "c126982b-825f-4ff2-dec3-5f478b9bbf02"
      },
      "execution_count": 43,
      "outputs": [
        {
          "output_type": "execute_result",
          "data": {
            "text/plain": [
              "29.546938875345813"
            ]
          },
          "metadata": {},
          "execution_count": 43
        }
      ]
    },
    {
      "cell_type": "code",
      "source": [
        "mape_test = mape(testY1, testPredict)\n",
        "mape_test"
      ],
      "metadata": {
        "id": "W9TxMnRleKr-",
        "colab": {
          "base_uri": "https://localhost:8080/"
        },
        "outputId": "5be40bf1-14c0-4d27-83bf-e56bceea73ee"
      },
      "execution_count": 44,
      "outputs": [
        {
          "output_type": "execute_result",
          "data": {
            "text/plain": [
              "13.135832250185747"
            ]
          },
          "metadata": {},
          "execution_count": 44
        }
      ]
    },
    {
      "cell_type": "code",
      "source": [
        "Accuracy_train  = 100 - mape_train\n",
        "Accuracy_test = 100 - mape_test\n",
        "acc_train = round(Accuracy_train, 2)\n",
        "acc_test = round(Accuracy_test, 2)\n"
      ],
      "metadata": {
        "id": "MGGa-IytxSlR"
      },
      "execution_count": 45,
      "outputs": []
    },
    {
      "cell_type": "code",
      "source": [
        "print(\"Train Accuracy of the model :\",acc_train , \"%\")"
      ],
      "metadata": {
        "colab": {
          "base_uri": "https://localhost:8080/"
        },
        "id": "pb3chOGTzfLy",
        "outputId": "4f22b1e1-a316-4230-f611-1b52d18d6dc3"
      },
      "execution_count": 46,
      "outputs": [
        {
          "output_type": "stream",
          "name": "stdout",
          "text": [
            "Train Accuracy of the model : 70.45 %\n"
          ]
        }
      ]
    },
    {
      "cell_type": "code",
      "source": [
        "print(\"Test Accuracy of the model :\",acc_test , \"%\")"
      ],
      "metadata": {
        "colab": {
          "base_uri": "https://localhost:8080/"
        },
        "id": "4CYKCxqIyHKC",
        "outputId": "a62f65fd-bc92-4d6f-eca3-3f80ddd4a5eb"
      },
      "execution_count": 47,
      "outputs": [
        {
          "output_type": "stream",
          "name": "stdout",
          "text": [
            "Test Accuracy of the model : 86.86 %\n"
          ]
        }
      ]
    },
    {
      "cell_type": "code",
      "source": [
        "## Predicting Next 12 Values"
      ],
      "metadata": {
        "id": "W5ArvVETeU10"
      },
      "execution_count": 48,
      "outputs": []
    },
    {
      "cell_type": "markdown",
      "source": [
        "# Predicting Next 12 values\n"
      ],
      "metadata": {
        "id": "LqEjvaPXr7u8"
      }
    },
    {
      "cell_type": "code",
      "source": [
        "E = np.append(C,D)"
      ],
      "metadata": {
        "id": "ghX-VigJj3wo"
      },
      "execution_count": 49,
      "outputs": []
    },
    {
      "cell_type": "code",
      "source": [
        "F = E[len(E)-5:]"
      ],
      "metadata": {
        "id": "S0kpt1k3j-rn"
      },
      "execution_count": 50,
      "outputs": []
    },
    {
      "cell_type": "code",
      "source": [
        "G = F.astype(int)"
      ],
      "metadata": {
        "id": "Lvh47nAdoJZv"
      },
      "execution_count": 51,
      "outputs": []
    },
    {
      "cell_type": "code",
      "source": [
        "# First Prediction\n",
        "x_input = array([9161, 8188, 7949,10277,13828])\n",
        "x_input = G.reshape((1, n_steps, n_features))\n",
        "yhat1 = model.predict(x_input, verbose=0)\n",
        "print(yhat1)"
      ],
      "metadata": {
        "id": "npyNjT7amuZS",
        "colab": {
          "base_uri": "https://localhost:8080/"
        },
        "outputId": "5d7d690b-5ed1-4a57-cd49-a9e38f25998d"
      },
      "execution_count": 52,
      "outputs": [
        {
          "output_type": "stream",
          "name": "stdout",
          "text": [
            "[[9410.117]]\n"
          ]
        }
      ]
    },
    {
      "cell_type": "code",
      "source": [
        "F = np.append(F,yhat1)\n",
        "G = F.astype(int)"
      ],
      "metadata": {
        "id": "bXUHbMbJnNwY"
      },
      "execution_count": 53,
      "outputs": []
    },
    {
      "cell_type": "code",
      "source": [
        "for i in range(11):\n",
        "  x_input = G[len(G)-5:len(G)].reshape((1, n_steps, n_features))\n",
        "  yhat1 = model.predict(x_input, verbose=0)\n",
        "  #print(yhat1)\n",
        "  F = np.append(F,yhat1)\n",
        "  G = F.astype(int)"
      ],
      "metadata": {
        "id": "Y_z1458hpHMd"
      },
      "execution_count": 54,
      "outputs": []
    },
    {
      "cell_type": "code",
      "source": [
        "F"
      ],
      "metadata": {
        "id": "GN2b7W13qgr9",
        "colab": {
          "base_uri": "https://localhost:8080/"
        },
        "outputId": "988253b5-58c4-406f-fbae-0ebc2174f185"
      },
      "execution_count": 55,
      "outputs": [
        {
          "output_type": "execute_result",
          "data": {
            "text/plain": [
              "array([ 9161.        ,  8188.        ,  7949.        , 10277.        ,\n",
              "       13828.        ,  9410.1171875 ,  9417.50878906,  8074.09228516,\n",
              "        8337.1875    ,  8298.80566406,  9212.58691406,  9211.83984375,\n",
              "        9494.54199219,  9590.80664062, 10114.82617188, 10515.19824219,\n",
              "       10791.62402344])"
            ]
          },
          "metadata": {},
          "execution_count": 55
        }
      ]
    },
    {
      "cell_type": "markdown",
      "source": [
        "# Below are the next 12 predictions"
      ],
      "metadata": {
        "id": "6lKLG698ul_x"
      }
    },
    {
      "cell_type": "code",
      "source": [
        "out = F[len(F)-12:len(F)]"
      ],
      "metadata": {
        "id": "r7ThRSYfqkHp"
      },
      "execution_count": 56,
      "outputs": []
    },
    {
      "cell_type": "code",
      "source": [
        "out"
      ],
      "metadata": {
        "id": "6lpnL0lfuf6w",
        "colab": {
          "base_uri": "https://localhost:8080/"
        },
        "outputId": "d5e8372f-9f27-403b-af1b-b10d4013a880"
      },
      "execution_count": 57,
      "outputs": [
        {
          "output_type": "execute_result",
          "data": {
            "text/plain": [
              "array([ 9410.1171875 ,  9417.50878906,  8074.09228516,  8337.1875    ,\n",
              "        8298.80566406,  9212.58691406,  9211.83984375,  9494.54199219,\n",
              "        9590.80664062, 10114.82617188, 10515.19824219, 10791.62402344])"
            ]
          },
          "metadata": {},
          "execution_count": 57
        }
      ]
    },
    {
      "cell_type": "code",
      "source": [
        "Output_df = pd.DataFrame(out, columns=['Predictions'])"
      ],
      "metadata": {
        "id": "Kul64bo3gPgH"
      },
      "execution_count": 58,
      "outputs": []
    },
    {
      "cell_type": "code",
      "source": [
        "Output_df.to_csv(\"LSTM_Forecasting_Predictions.csv\")"
      ],
      "metadata": {
        "id": "pd8ySQX9gUy0"
      },
      "execution_count": 59,
      "outputs": []
    },
    {
      "cell_type": "code",
      "source": [
        "import pandas as pd\n",
        "import numpy as np; np.random.seed(1)\n",
        "import matplotlib.pyplot as plt\n",
        "from matplotlib.pyplot import *\n",
        "\n",
        "plt.title(\"Chart - Actuals v/s Forecasts For Test Data (Vanilla LSTM)\")\n",
        "plt.xlabel(\"Month\")\n",
        "plt.ylabel(\"Values\")\n",
        "\n",
        "\n",
        "plt.plot(testY1)\n",
        "plt.plot(testPredict)\n",
        "\n",
        "plt.gcf().autofmt_xdate()\n",
        "\n",
        "plt.show()"
      ],
      "metadata": {
        "colab": {
          "base_uri": "https://localhost:8080/",
          "height": 435
        },
        "id": "EVbP0EON9tua",
        "outputId": "876f1318-7fd3-4bed-9fca-360952abbdf8"
      },
      "execution_count": 60,
      "outputs": [
        {
          "output_type": "display_data",
          "data": {
            "text/plain": [
              "<Figure size 640x480 with 1 Axes>"
            ],
            "image/png": "[encoded data removed]"
          },
          "metadata": {}
        }
      ]
    },
    {
      "cell_type": "markdown",
      "source": [
        "# Stacked LSTM"
      ],
      "metadata": {
        "id": "XIhgYwa5W5bm"
      }
    },
    {
      "cell_type": "code",
      "source": [
        "# define Stacked LSTM model\n",
        "model_s = Sequential()\n",
        "model_s.add(LSTM(50, activation='relu', return_sequences=True, input_shape=(n_steps, n_features)))\n",
        "model_s.add(LSTM(50, activation='relu'))\n",
        "model_s.add(Dense(1))\n",
        "model_s.compile(optimizer='adam', loss='mse')\n",
        "# fit model\n",
        "model_s.fit(trainX1, trainY1, epochs=200, verbose=0)\n"
      ],
      "metadata": {
        "id": "ZsAiAMdSuZ_U",
        "colab": {
          "base_uri": "https://localhost:8080/"
        },
        "outputId": "eace0a8a-127b-4c00-dc7c-36af9872bdd6"
      },
      "execution_count": 61,
      "outputs": [
        {
          "output_type": "execute_result",
          "data": {
            "text/plain": [
              "<keras.src.callbacks.History at 0x7cb1e107c490>"
            ]
          },
          "metadata": {},
          "execution_count": 61
        }
      ]
    },
    {
      "cell_type": "code",
      "source": [
        "# demonstrate prediction from Stacked LSTM Model\n",
        "x_input = array([6529, 8529, 10529,11529,5529])\n",
        "x_input = x_input.reshape((1, n_steps, n_features))\n",
        "yhat = model_s.predict(x_input, verbose=0)\n",
        "print(yhat)"
      ],
      "metadata": {
        "colab": {
          "base_uri": "https://localhost:8080/"
        },
        "id": "YMIhTmJEX7P9",
        "outputId": "b606f6ba-37e6-4aea-b7c2-914f622ba28a"
      },
      "execution_count": 62,
      "outputs": [
        {
          "output_type": "stream",
          "name": "stdout",
          "text": [
            "[[7252.7847]]\n"
          ]
        }
      ]
    },
    {
      "cell_type": "code",
      "source": [
        "# make predictions\n",
        "import math\n",
        "trainPredict_s = model_s.predict(trainX1)\n",
        "testPredict_s = model_s.predict(testX1)\n",
        "trainScore = math.sqrt(mean_squared_error(trainY1, trainPredict_s))\n",
        "print('Train Score: %.2f RMSE' % (trainScore))\n",
        "testScore = math.sqrt(mean_squared_error(testY1, testPredict_s))\n",
        "print('Test Score: %.2f RMSE' % (testScore))"
      ],
      "metadata": {
        "colab": {
          "base_uri": "https://localhost:8080/"
        },
        "id": "Z6Bk_WUZYWty",
        "outputId": "52ded594-5145-4b4e-9238-9637b177de16"
      },
      "execution_count": 63,
      "outputs": [
        {
          "output_type": "stream",
          "name": "stdout",
          "text": [
            "6/6 [==============================] - 0s 5ms/step\n",
            "1/1 [==============================] - 0s 22ms/step\n",
            "Train Score: 1202.68 RMSE\n",
            "Test Score: 2085.87 RMSE\n"
          ]
        }
      ]
    },
    {
      "cell_type": "code",
      "source": [
        "mape(trainY1, trainPredict_s)"
      ],
      "metadata": {
        "colab": {
          "base_uri": "https://localhost:8080/"
        },
        "id": "pB4-TczSZEvN",
        "outputId": "dad5752b-40c8-4c9f-da4b-5b0d11a87943"
      },
      "execution_count": 64,
      "outputs": [
        {
          "output_type": "execute_result",
          "data": {
            "text/plain": [
              "28.29459207895852"
            ]
          },
          "metadata": {},
          "execution_count": 64
        }
      ]
    },
    {
      "cell_type": "code",
      "source": [
        "mape(testY1,testPredict_s)"
      ],
      "metadata": {
        "colab": {
          "base_uri": "https://localhost:8080/"
        },
        "id": "1rll0EfvZPmd",
        "outputId": "209edb25-d26d-434d-84b2-1c7449bab375"
      },
      "execution_count": 65,
      "outputs": [
        {
          "output_type": "execute_result",
          "data": {
            "text/plain": [
              "12.045656873909397"
            ]
          },
          "metadata": {},
          "execution_count": 65
        }
      ]
    },
    {
      "cell_type": "code",
      "source": [
        "mape_train = mape(trainY1, trainPredict_s)\n",
        "mape_train"
      ],
      "metadata": {
        "colab": {
          "base_uri": "https://localhost:8080/"
        },
        "id": "bac3RTkrz1uk",
        "outputId": "e9313037-6ca8-47aa-df3f-0a9075ab9048"
      },
      "execution_count": 66,
      "outputs": [
        {
          "output_type": "execute_result",
          "data": {
            "text/plain": [
              "28.29459207895852"
            ]
          },
          "metadata": {},
          "execution_count": 66
        }
      ]
    },
    {
      "cell_type": "code",
      "source": [
        "mape_test = mape(testY1, testPredict_s)\n",
        "mape_test"
      ],
      "metadata": {
        "colab": {
          "base_uri": "https://localhost:8080/"
        },
        "id": "fCN3Knxoz7fw",
        "outputId": "eda23d45-f089-45c9-e148-eaa8b3ead5ab"
      },
      "execution_count": 67,
      "outputs": [
        {
          "output_type": "execute_result",
          "data": {
            "text/plain": [
              "12.045656873909397"
            ]
          },
          "metadata": {},
          "execution_count": 67
        }
      ]
    },
    {
      "cell_type": "code",
      "source": [
        "Accuracy_train  = 100 - mape_train\n",
        "Accuracy_test = 100 - mape_test\n",
        "acc_train = round(Accuracy_train, 2)\n",
        "acc_test = round(Accuracy_test, 2)"
      ],
      "metadata": {
        "id": "ZywPi2o3ZXK4"
      },
      "execution_count": 68,
      "outputs": []
    },
    {
      "cell_type": "code",
      "source": [
        "print(\"Train Accuracy of the model :\",acc_train , \"%\")"
      ],
      "metadata": {
        "id": "jHN0SjDydP16",
        "colab": {
          "base_uri": "https://localhost:8080/"
        },
        "outputId": "ffe7bcc0-02a3-49ac-ce08-520393093bac"
      },
      "execution_count": 69,
      "outputs": [
        {
          "output_type": "stream",
          "name": "stdout",
          "text": [
            "Train Accuracy of the model : 71.71 %\n"
          ]
        }
      ]
    },
    {
      "cell_type": "code",
      "source": [
        "print(\"Test Accuracy of the model :\",acc_test , \"%\")"
      ],
      "metadata": {
        "colab": {
          "base_uri": "https://localhost:8080/"
        },
        "id": "N6odfreV0uZ3",
        "outputId": "c3df538d-0b64-4c67-c06e-b1b6e84cfd28"
      },
      "execution_count": 70,
      "outputs": [
        {
          "output_type": "stream",
          "name": "stdout",
          "text": [
            "Test Accuracy of the model : 87.95 %\n"
          ]
        }
      ]
    },
    {
      "cell_type": "markdown",
      "source": [
        "# We are getting slightly higher accuracy with Stacked LSTM in comparison with Vanilla LSTM"
      ],
      "metadata": {
        "id": "j6EHzIh4-IJP"
      }
    },
    {
      "cell_type": "code",
      "source": [
        "## First Prediction with Stacked LSTM"
      ],
      "metadata": {
        "id": "A0L209GI1V8X"
      },
      "execution_count": 71,
      "outputs": []
    },
    {
      "cell_type": "code",
      "source": [
        "E1 = np.append(C,D)"
      ],
      "metadata": {
        "id": "Pfmjpo8Y1qvM"
      },
      "execution_count": 72,
      "outputs": []
    },
    {
      "cell_type": "code",
      "source": [
        "F = E1[len(E1)-5:]"
      ],
      "metadata": {
        "id": "XOgTk_Gt3DpE"
      },
      "execution_count": 73,
      "outputs": []
    },
    {
      "cell_type": "code",
      "source": [
        "F1 = F"
      ],
      "metadata": {
        "id": "CYNR7n9u3tuG"
      },
      "execution_count": 74,
      "outputs": []
    },
    {
      "cell_type": "code",
      "source": [
        "G1 = F1.astype(int)"
      ],
      "metadata": {
        "id": "dG6AFzdK3J9U"
      },
      "execution_count": 75,
      "outputs": []
    },
    {
      "cell_type": "code",
      "source": [
        "x_input = array([9161, 8188, 7949,10277,13828])\n",
        "x_input = G1.reshape((1, n_steps, n_features))\n",
        "yhat1 = model_s.predict(x_input, verbose=0)\n",
        "print(yhat1)"
      ],
      "metadata": {
        "colab": {
          "base_uri": "https://localhost:8080/"
        },
        "id": "xij6eeID3L5B",
        "outputId": "d1a030e1-61cc-49b3-871a-7087fce526c1"
      },
      "execution_count": 77,
      "outputs": [
        {
          "output_type": "stream",
          "name": "stdout",
          "text": [
            "[[10323.942]]\n"
          ]
        }
      ]
    },
    {
      "cell_type": "code",
      "source": [
        "F1 = np.append(F1,yhat1)\n",
        "G1 = F1.astype(int)"
      ],
      "metadata": {
        "id": "SzZcJNEV3aut"
      },
      "execution_count": 78,
      "outputs": []
    },
    {
      "cell_type": "code",
      "source": [
        "for i in range(11):\n",
        "  x_input = G1[len(G1)-5:len(G1)].reshape((1, n_steps, n_features))\n",
        "  yhat1 = model_s.predict(x_input, verbose=0)\n",
        "  #print(yhat1)\n",
        "  F1 = np.append(F1,yhat1)\n",
        "  G1 = F1.astype(int)"
      ],
      "metadata": {
        "id": "JwfVsAsP3gP0"
      },
      "execution_count": 79,
      "outputs": []
    },
    {
      "cell_type": "code",
      "source": [
        "F1"
      ],
      "metadata": {
        "colab": {
          "base_uri": "https://localhost:8080/"
        },
        "id": "WrcZ5L9g3ptc",
        "outputId": "4edad64f-dcfa-459e-eff8-8a28aeac34c3"
      },
      "execution_count": 80,
      "outputs": [
        {
          "output_type": "execute_result",
          "data": {
            "text/plain": [
              "array([ 9161.        ,  8188.        ,  7949.        , 10277.        ,\n",
              "       13828.        , 10323.94238281,  9363.28515625,  9377.61425781,\n",
              "       10133.40136719, 10218.00195312, 10377.26855469, 10179.86914062,\n",
              "       10289.79980469, 10565.12597656, 10782.36230469, 10886.86230469,\n",
              "       10904.31835938])"
            ]
          },
          "metadata": {},
          "execution_count": 80
        }
      ]
    },
    {
      "cell_type": "code",
      "source": [
        "out_s = F1[len(F)-12:len(F1)]"
      ],
      "metadata": {
        "id": "SKhR-hv1326T"
      },
      "execution_count": 81,
      "outputs": []
    },
    {
      "cell_type": "code",
      "source": [
        "out_s"
      ],
      "metadata": {
        "colab": {
          "base_uri": "https://localhost:8080/"
        },
        "id": "BVG1GP5D3-jV",
        "outputId": "8ed53179-4bb8-4c44-bd93-3a27e76425f4"
      },
      "execution_count": 82,
      "outputs": [
        {
          "output_type": "execute_result",
          "data": {
            "text/plain": [
              "array([10377.26855469, 10179.86914062, 10289.79980469, 10565.12597656,\n",
              "       10782.36230469, 10886.86230469, 10904.31835938])"
            ]
          },
          "metadata": {},
          "execution_count": 82
        }
      ]
    },
    {
      "cell_type": "code",
      "source": [
        "out_s_df = pd.DataFrame(out_s, columns=['Predictions'])"
      ],
      "metadata": {
        "id": "abtTm0x69Z8M"
      },
      "execution_count": 83,
      "outputs": []
    },
    {
      "cell_type": "code",
      "source": [
        "out_s_df.to_csv(\"Stacked_LSTM_Forecasting_12Forecasts.csv\")"
      ],
      "metadata": {
        "id": "OtQhOr8b9eYb"
      },
      "execution_count": 84,
      "outputs": []
    },
    {
      "cell_type": "code",
      "source": [
        "import pandas as pd\n",
        "import numpy as np; np.random.seed(1)\n",
        "import matplotlib.pyplot as plt\n",
        "from matplotlib.pyplot import *\n",
        "\n",
        "plt.title(\"Chart - Actuals v/s Forecasts For Test Data (Stacked LSTM)\")\n",
        "plt.xlabel(\"Month\")\n",
        "plt.ylabel(\"Values\")\n",
        "\n",
        "\n",
        "plt.plot(testY1)\n",
        "plt.plot(testPredict_s)\n",
        "\n",
        "plt.gcf().autofmt_xdate()\n",
        "\n",
        "plt.show()\n",
        "\n",
        "\n"
      ],
      "metadata": {
        "colab": {
          "base_uri": "https://localhost:8080/",
          "height": 435
        },
        "id": "7Vi4W6cq5LYf",
        "outputId": "7f3ff710-c721-4eff-cc8e-b6479a9788f1"
      },
      "execution_count": 85,
      "outputs": [
        {
          "output_type": "display_data",
          "data": {
            "text/plain": [
              "<Figure size 640x480 with 1 Axes>"
            ],
            "image/png": "[encoded data removed]"
          },
          "metadata": {}
        }
      ]
    },
    {
      "cell_type": "code",
      "source": [],
      "metadata": {
        "id": "YBJpdBVL4wbX"
      },
      "execution_count": null,
      "outputs": []
    },
    {
      "cell_type": "markdown",
      "source": [
        "# Accuracy is slightly higher with Stacked LSTM in comparison with Vanilla LSTM. Test Accuracy with Stacked LSTM is ~88% and with Vanilla LSTM is ~87%."
      ],
      "metadata": {
        "id": "UffQSj1RACmL"
      }
    },
    {
      "cell_type": "code",
      "source": [],
      "metadata": {
        "id": "9IyV6pDIASvK"
      },
      "execution_count": null,
      "outputs": []
    }
  ]
}