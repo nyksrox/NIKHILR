{
  "nbformat": 4,
  "nbformat_minor": 0,
  "metadata": {
    "colab": {
      "name": "LSTM_TimeSeries_V2.ipynb",
      "provenance": [],
      "collapsed_sections": [],
      "include_colab_link": true
    },
    "kernelspec": {
      "name": "python3",
      "display_name": "Python 3"
    }
  },
  "cells": [
    {
      "cell_type": "markdown",
      "metadata": {
        "id": "view-in-github",
        "colab_type": "text"
      },
      "source": [
        "<a href=\"https://colab.research.google.com/github/nyksrox/NIKHILR/blob/master/Timeseries%20Using%20LSTM.ipynb\" target=\"_parent\"><img src=\"https://colab.research.google.com/assets/colab-badge.svg\" alt=\"Open In Colab\"/></a>"
      ]
    },
    {
      "cell_type": "code",
      "metadata": {
        "id": "an-5z_D10uZM",
        "colab_type": "code",
        "colab": {
          "base_uri": "https://localhost:8080/",
          "height": 80
        },
        "outputId": "a5f51246-fc32-45c8-b51f-a34a239627d3"
      },
      "source": [
        "import numpy\n",
        "import matplotlib.pyplot as plt\n",
        "import pandas\n",
        "import math\n",
        "import pandas as pd\n",
        "from keras.models import Sequential\n",
        "from keras.layers import Dense\n",
        "from keras.layers import LSTM\n",
        "from sklearn.preprocessing import MinMaxScaler\n",
        "from sklearn.metrics import mean_squared_error"
      ],
      "execution_count": null,
      "outputs": [
        {
          "output_type": "stream",
          "text": [
            "Using TensorFlow backend.\n"
          ],
          "name": "stderr"
        },
        {
          "output_type": "display_data",
          "data": {
            "text/html": [
              "<p style=\"color: red;\">\n",
              "The default version of TensorFlow in Colab will soon switch to TensorFlow 2.x.<br>\n",
              "We recommend you <a href=\"https://www.tensorflow.org/guide/migrate\" target=\"_blank\">upgrade</a> now \n",
              "or ensure your notebook will continue to use TensorFlow 1.x via the <code>%tensorflow_version 1.x</code> magic:\n",
              "<a href=\"https://colab.research.google.com/notebooks/tensorflow_version.ipynb\" target=\"_blank\">more info</a>.</p>\n"
            ],
            "text/plain": [
              "<IPython.core.display.HTML object>"
            ]
          },
          "metadata": {
            "tags": []
          }
        }
      ]
    },
    {
      "cell_type": "code",
      "metadata": {
        "id": "w9xZn8PL0_n4",
        "colab_type": "code",
        "colab": {
          "resources": {
            "http://localhost:8080/nbextensions/google.colab/files.js": {
              "data": "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",
              "ok": true,
              "headers": [
                [
                  "content-type",
                  "application/javascript"
                ]
              ],
              "status": 200,
              "status_text": "OK"
            }
          },
          "base_uri": "https://localhost:8080/",
          "height": 346
        },
        "outputId": "30e45f8b-481e-4222-ccb9-68be68e66b74"
      },
      "source": [
        "from google.colab import files\n",
        "uploaded = files.upload()"
      ],
      "execution_count": null,
      "outputs": [
        {
          "output_type": "display_data",
          "data": {
            "text/html": [
              "\n",
              "     <input type=\"file\" id=\"files-d66878c6-61da-4528-82a2-3938686d417f\" name=\"files[]\" multiple disabled />\n",
              "     <output id=\"result-d66878c6-61da-4528-82a2-3938686d417f\">\n",
              "      Upload widget is only available when the cell has been executed in the\n",
              "      current browser session. Please rerun this cell to enable.\n",
              "      </output>\n",
              "      <script src=\"/nbextensions/google.colab/files.js\"></script> "
            ],
            "text/plain": [
              "<IPython.core.display.HTML object>"
            ]
          },
          "metadata": {
            "tags": []
          }
        },
        {
          "output_type": "error",
          "ename": "KeyboardInterrupt",
          "evalue": "ignored",
          "traceback": [
            "\u001b[0;31m---------------------------------------------------------------------------\u001b[0m",
            "\u001b[0;31mKeyboardInterrupt\u001b[0m                         Traceback (most recent call last)",
            "\u001b[0;32m<ipython-input-3-21dc3c638f66>\u001b[0m in \u001b[0;36m<module>\u001b[0;34m()\u001b[0m\n\u001b[1;32m      1\u001b[0m \u001b[0;32mfrom\u001b[0m \u001b[0mgoogle\u001b[0m\u001b[0;34m.\u001b[0m\u001b[0mcolab\u001b[0m \u001b[0;32mimport\u001b[0m \u001b[0mfiles\u001b[0m\u001b[0;34m\u001b[0m\u001b[0;34m\u001b[0m\u001b[0m\n\u001b[0;32m----> 2\u001b[0;31m \u001b[0muploaded\u001b[0m \u001b[0;34m=\u001b[0m \u001b[0mfiles\u001b[0m\u001b[0;34m.\u001b[0m\u001b[0mupload\u001b[0m\u001b[0;34m(\u001b[0m\u001b[0;34m)\u001b[0m\u001b[0;34m\u001b[0m\u001b[0;34m\u001b[0m\u001b[0m\n\u001b[0m",
            "\u001b[0;32m/usr/local/lib/python3.6/dist-packages/google/colab/files.py\u001b[0m in \u001b[0;36mupload\u001b[0;34m()\u001b[0m\n\u001b[1;32m     62\u001b[0m   result = _output.eval_js(\n\u001b[1;32m     63\u001b[0m       'google.colab._files._uploadFiles(\"{input_id}\", \"{output_id}\")'.format(\n\u001b[0;32m---> 64\u001b[0;31m           input_id=input_id, output_id=output_id))\n\u001b[0m\u001b[1;32m     65\u001b[0m   \u001b[0mfiles\u001b[0m \u001b[0;34m=\u001b[0m \u001b[0m_collections\u001b[0m\u001b[0;34m.\u001b[0m\u001b[0mdefaultdict\u001b[0m\u001b[0;34m(\u001b[0m\u001b[0m_six\u001b[0m\u001b[0;34m.\u001b[0m\u001b[0mbinary_type\u001b[0m\u001b[0;34m)\u001b[0m\u001b[0;34m\u001b[0m\u001b[0;34m\u001b[0m\u001b[0m\n\u001b[1;32m     66\u001b[0m   \u001b[0;31m# Mapping from original filename to filename as saved locally.\u001b[0m\u001b[0;34m\u001b[0m\u001b[0;34m\u001b[0m\u001b[0;34m\u001b[0m\u001b[0m\n",
            "\u001b[0;32m/usr/local/lib/python3.6/dist-packages/google/colab/output/_js.py\u001b[0m in \u001b[0;36meval_js\u001b[0;34m(script, ignore_result)\u001b[0m\n\u001b[1;32m     37\u001b[0m   \u001b[0;32mif\u001b[0m \u001b[0mignore_result\u001b[0m\u001b[0;34m:\u001b[0m\u001b[0;34m\u001b[0m\u001b[0;34m\u001b[0m\u001b[0m\n\u001b[1;32m     38\u001b[0m     \u001b[0;32mreturn\u001b[0m\u001b[0;34m\u001b[0m\u001b[0;34m\u001b[0m\u001b[0m\n\u001b[0;32m---> 39\u001b[0;31m   \u001b[0;32mreturn\u001b[0m \u001b[0m_message\u001b[0m\u001b[0;34m.\u001b[0m\u001b[0mread_reply_from_input\u001b[0m\u001b[0;34m(\u001b[0m\u001b[0mrequest_id\u001b[0m\u001b[0;34m)\u001b[0m\u001b[0;34m\u001b[0m\u001b[0;34m\u001b[0m\u001b[0m\n\u001b[0m\u001b[1;32m     40\u001b[0m \u001b[0;34m\u001b[0m\u001b[0m\n\u001b[1;32m     41\u001b[0m \u001b[0;34m\u001b[0m\u001b[0m\n",
            "\u001b[0;32m/usr/local/lib/python3.6/dist-packages/google/colab/_message.py\u001b[0m in \u001b[0;36mread_reply_from_input\u001b[0;34m(message_id, timeout_sec)\u001b[0m\n\u001b[1;32m     99\u001b[0m     \u001b[0mreply\u001b[0m \u001b[0;34m=\u001b[0m \u001b[0m_read_next_input_message\u001b[0m\u001b[0;34m(\u001b[0m\u001b[0;34m)\u001b[0m\u001b[0;34m\u001b[0m\u001b[0;34m\u001b[0m\u001b[0m\n\u001b[1;32m    100\u001b[0m     \u001b[0;32mif\u001b[0m \u001b[0mreply\u001b[0m \u001b[0;34m==\u001b[0m \u001b[0m_NOT_READY\u001b[0m \u001b[0;32mor\u001b[0m \u001b[0;32mnot\u001b[0m \u001b[0misinstance\u001b[0m\u001b[0;34m(\u001b[0m\u001b[0mreply\u001b[0m\u001b[0;34m,\u001b[0m \u001b[0mdict\u001b[0m\u001b[0;34m)\u001b[0m\u001b[0;34m:\u001b[0m\u001b[0;34m\u001b[0m\u001b[0;34m\u001b[0m\u001b[0m\n\u001b[0;32m--> 101\u001b[0;31m       \u001b[0mtime\u001b[0m\u001b[0;34m.\u001b[0m\u001b[0msleep\u001b[0m\u001b[0;34m(\u001b[0m\u001b[0;36m0.025\u001b[0m\u001b[0;34m)\u001b[0m\u001b[0;34m\u001b[0m\u001b[0;34m\u001b[0m\u001b[0m\n\u001b[0m\u001b[1;32m    102\u001b[0m       \u001b[0;32mcontinue\u001b[0m\u001b[0;34m\u001b[0m\u001b[0;34m\u001b[0m\u001b[0m\n\u001b[1;32m    103\u001b[0m     if (reply.get('type') == 'colab_reply' and\n",
            "\u001b[0;31mKeyboardInterrupt\u001b[0m: "
          ]
        }
      ]
    },
    {
      "cell_type": "code",
      "metadata": {
        "id": "Wy7ThIlT3ZiM",
        "colab_type": "code",
        "colab": {}
      },
      "source": [
        "import io\n",
        "df2 = pd.read_csv(io.BytesIO(uploaded['Train_ts_Data.csv']),usecols=[1])\n"
      ],
      "execution_count": null,
      "outputs": []
    },
    {
      "cell_type": "code",
      "metadata": {
        "id": "TA5WLf9RB2JT",
        "colab_type": "code",
        "colab": {
          "base_uri": "https://localhost:8080/",
          "height": 34
        },
        "outputId": "6a94a517-4321-40c6-87f2-7c32d2fed85e"
      },
      "source": [
        "print(df2.shape)"
      ],
      "execution_count": null,
      "outputs": [
        {
          "output_type": "stream",
          "text": [
            "(2010, 1)\n"
          ],
          "name": "stdout"
        }
      ]
    },
    {
      "cell_type": "code",
      "metadata": {
        "id": "wmIJh85-COwu",
        "colab_type": "code",
        "colab": {}
      },
      "source": [
        "scaler= MinMaxScaler(feature_range=(0,1))\n",
        "data=scaler.fit_transform(df2)"
      ],
      "execution_count": null,
      "outputs": []
    },
    {
      "cell_type": "code",
      "metadata": {
        "id": "0ZBdjU8yF9Y3",
        "colab_type": "code",
        "colab": {
          "base_uri": "https://localhost:8080/",
          "height": 119
        },
        "outputId": "3c3d2e90-bc9f-4164-d44e-5fb23cde6578"
      },
      "source": [
        "# Converting numpy array into pandas dataframe\n",
        "data1 = pd.DataFrame(data)\n",
        "print(data1.head())"
      ],
      "execution_count": null,
      "outputs": [
        {
          "output_type": "stream",
          "text": [
            "          0\n",
            "0  0.213979\n",
            "1  0.201376\n",
            "2  0.229833\n",
            "3  0.262370\n",
            "4  0.252291\n"
          ],
          "name": "stdout"
        }
      ]
    },
    {
      "cell_type": "code",
      "metadata": {
        "id": "LtmSwcKsCgg1",
        "colab_type": "code",
        "colab": {
          "base_uri": "https://localhost:8080/",
          "height": 34
        },
        "outputId": "ab18884b-fdfa-4f0c-8e8e-cfb8db1ae0ea"
      },
      "source": [
        "train_size = int(len(data) * 0.85)\n",
        "test_size = len(data) - train_size\n",
        "train, test = data[0:train_size,:], data[train_size:len(data),:]\n",
        "print(len(train), len(test))"
      ],
      "execution_count": null,
      "outputs": [
        {
          "output_type": "stream",
          "text": [
            "1708 302\n"
          ],
          "name": "stdout"
        }
      ]
    },
    {
      "cell_type": "code",
      "metadata": {
        "id": "zkX-Yo6NC3RQ",
        "colab_type": "code",
        "colab": {
          "base_uri": "https://localhost:8080/",
          "height": 34
        },
        "outputId": "ae205246-1c31-4748-be40-cbb143cc3dc0"
      },
      "source": [
        "def create_data(data, look_back=1):\n",
        "\tdataX, dataY = [], []\n",
        "\tfor i in range(len(data)-look_back-1):\n",
        "\t\ta = data[i:(i+look_back), 0]\n",
        "\t\tdataX.append(a)\n",
        "\t\tdataY.append(data[i + look_back, 0])\n",
        "\treturn numpy.array(dataX), numpy.array(dataY)\n",
        "print(\"done\")"
      ],
      "execution_count": null,
      "outputs": [
        {
          "output_type": "stream",
          "text": [
            "done\n"
          ],
          "name": "stdout"
        }
      ]
    },
    {
      "cell_type": "code",
      "metadata": {
        "id": "nwm-xMLctEBZ",
        "colab_type": "code",
        "colab": {
          "base_uri": "https://localhost:8080/",
          "height": 34
        },
        "outputId": "03946a84-db59-474e-c88a-636768ff0128"
      },
      "source": [
        "print(data.shape)"
      ],
      "execution_count": null,
      "outputs": [
        {
          "output_type": "stream",
          "text": [
            "(2010, 1)\n"
          ],
          "name": "stdout"
        }
      ]
    },
    {
      "cell_type": "code",
      "metadata": {
        "id": "64Fb4i_SC5df",
        "colab_type": "code",
        "colab": {}
      },
      "source": [
        "look_back = 1\n",
        "trainX, trainY = create_data(train, look_back)\n",
        "testX, testY = create_data(test, look_back)"
      ],
      "execution_count": null,
      "outputs": []
    },
    {
      "cell_type": "code",
      "metadata": {
        "id": "XQ3dvYa1udqJ",
        "colab_type": "code",
        "colab": {
          "base_uri": "https://localhost:8080/",
          "height": 51
        },
        "outputId": "02a833e8-a9ba-46e5-9eec-cf42d6d9b1ed"
      },
      "source": [
        "print(len(trainX))\n",
        "print(trainX.shape[0])"
      ],
      "execution_count": null,
      "outputs": [
        {
          "output_type": "stream",
          "text": [
            "1706\n",
            "1706\n"
          ],
          "name": "stdout"
        }
      ]
    },
    {
      "cell_type": "code",
      "metadata": {
        "id": "i16z6d7CDQ0b",
        "colab_type": "code",
        "colab": {}
      },
      "source": [
        "# reshape input to be [samples, time steps, features]\n",
        "trainX = numpy.reshape(trainX, (trainX.shape[0], 1, trainX.shape[1]))\n",
        "testX = numpy.reshape(testX, (testX.shape[0], 1, testX.shape[1]))"
      ],
      "execution_count": null,
      "outputs": []
    },
    {
      "cell_type": "code",
      "metadata": {
        "id": "giQw-YCbDdnd",
        "colab_type": "code",
        "colab": {
          "base_uri": "https://localhost:8080/",
          "height": 1000
        },
        "outputId": "44b64f12-9b52-4012-c9fe-5233cd188b4e"
      },
      "source": [
        "# create and fit the LSTM network\n",
        "model = Sequential()\n",
        "model.add(LSTM(4, input_shape=(1, look_back)))\n",
        "model.add(Dense(1))\n",
        "model.compile(loss='mean_squared_error', optimizer='adam')\n",
        "model.fit(trainX, trainY, epochs=50, batch_size=50, verbose=2)"
      ],
      "execution_count": null,
      "outputs": [
        {
          "output_type": "stream",
          "text": [
            "WARNING:tensorflow:From /usr/local/lib/python3.6/dist-packages/keras/backend/tensorflow_backend.py:66: The name tf.get_default_graph is deprecated. Please use tf.compat.v1.get_default_graph instead.\n",
            "\n",
            "WARNING:tensorflow:From /usr/local/lib/python3.6/dist-packages/keras/backend/tensorflow_backend.py:541: The name tf.placeholder is deprecated. Please use tf.compat.v1.placeholder instead.\n",
            "\n",
            "WARNING:tensorflow:From /usr/local/lib/python3.6/dist-packages/keras/backend/tensorflow_backend.py:4432: The name tf.random_uniform is deprecated. Please use tf.random.uniform instead.\n",
            "\n",
            "WARNING:tensorflow:From /usr/local/lib/python3.6/dist-packages/keras/optimizers.py:793: The name tf.train.Optimizer is deprecated. Please use tf.compat.v1.train.Optimizer instead.\n",
            "\n",
            "WARNING:tensorflow:From /usr/local/lib/python3.6/dist-packages/tensorflow_core/python/ops/math_grad.py:1424: where (from tensorflow.python.ops.array_ops) is deprecated and will be removed in a future version.\n",
            "Instructions for updating:\n",
            "Use tf.where in 2.0, which has the same broadcast rule as np.where\n",
            "WARNING:tensorflow:From /usr/local/lib/python3.6/dist-packages/keras/backend/tensorflow_backend.py:1033: The name tf.assign_add is deprecated. Please use tf.compat.v1.assign_add instead.\n",
            "\n",
            "WARNING:tensorflow:From /usr/local/lib/python3.6/dist-packages/keras/backend/tensorflow_backend.py:1020: The name tf.assign is deprecated. Please use tf.compat.v1.assign instead.\n",
            "\n",
            "WARNING:tensorflow:From /usr/local/lib/python3.6/dist-packages/keras/backend/tensorflow_backend.py:3005: The name tf.Session is deprecated. Please use tf.compat.v1.Session instead.\n",
            "\n",
            "Epoch 1/50\n",
            "WARNING:tensorflow:From /usr/local/lib/python3.6/dist-packages/keras/backend/tensorflow_backend.py:190: The name tf.get_default_session is deprecated. Please use tf.compat.v1.get_default_session instead.\n",
            "\n",
            "WARNING:tensorflow:From /usr/local/lib/python3.6/dist-packages/keras/backend/tensorflow_backend.py:197: The name tf.ConfigProto is deprecated. Please use tf.compat.v1.ConfigProto instead.\n",
            "\n",
            "WARNING:tensorflow:From /usr/local/lib/python3.6/dist-packages/keras/backend/tensorflow_backend.py:207: The name tf.global_variables is deprecated. Please use tf.compat.v1.global_variables instead.\n",
            "\n",
            "WARNING:tensorflow:From /usr/local/lib/python3.6/dist-packages/keras/backend/tensorflow_backend.py:216: The name tf.is_variable_initialized is deprecated. Please use tf.compat.v1.is_variable_initialized instead.\n",
            "\n",
            "WARNING:tensorflow:From /usr/local/lib/python3.6/dist-packages/keras/backend/tensorflow_backend.py:223: The name tf.variables_initializer is deprecated. Please use tf.compat.v1.variables_initializer instead.\n",
            "\n",
            " - 1s - loss: 0.1659\n",
            "Epoch 2/50\n",
            " - 0s - loss: 0.1128\n",
            "Epoch 3/50\n",
            " - 0s - loss: 0.0752\n",
            "Epoch 4/50\n",
            " - 0s - loss: 0.0505\n",
            "Epoch 5/50\n",
            " - 0s - loss: 0.0360\n",
            "Epoch 6/50\n",
            " - 0s - loss: 0.0284\n",
            "Epoch 7/50\n",
            " - 0s - loss: 0.0250\n",
            "Epoch 8/50\n",
            " - 0s - loss: 0.0236\n",
            "Epoch 9/50\n",
            " - 0s - loss: 0.0229\n",
            "Epoch 10/50\n",
            " - 0s - loss: 0.0225\n",
            "Epoch 11/50\n",
            " - 0s - loss: 0.0220\n",
            "Epoch 12/50\n",
            " - 0s - loss: 0.0216\n",
            "Epoch 13/50\n",
            " - 0s - loss: 0.0212\n",
            "Epoch 14/50\n",
            " - 0s - loss: 0.0208\n",
            "Epoch 15/50\n",
            " - 0s - loss: 0.0204\n",
            "Epoch 16/50\n",
            " - 0s - loss: 0.0200\n",
            "Epoch 17/50\n",
            " - 0s - loss: 0.0196\n",
            "Epoch 18/50\n",
            " - 0s - loss: 0.0192\n",
            "Epoch 19/50\n",
            " - 0s - loss: 0.0188\n",
            "Epoch 20/50\n",
            " - 0s - loss: 0.0184\n",
            "Epoch 21/50\n",
            " - 0s - loss: 0.0180\n",
            "Epoch 22/50\n",
            " - 0s - loss: 0.0177\n",
            "Epoch 23/50\n",
            " - 0s - loss: 0.0174\n",
            "Epoch 24/50\n",
            " - 0s - loss: 0.0171\n",
            "Epoch 25/50\n",
            " - 0s - loss: 0.0168\n",
            "Epoch 26/50\n",
            " - 0s - loss: 0.0165\n",
            "Epoch 27/50\n",
            " - 0s - loss: 0.0163\n",
            "Epoch 28/50\n",
            " - 0s - loss: 0.0161\n",
            "Epoch 29/50\n",
            " - 0s - loss: 0.0159\n",
            "Epoch 30/50\n",
            " - 0s - loss: 0.0157\n",
            "Epoch 31/50\n",
            " - 0s - loss: 0.0155\n",
            "Epoch 32/50\n",
            " - 0s - loss: 0.0154\n",
            "Epoch 33/50\n",
            " - 0s - loss: 0.0153\n",
            "Epoch 34/50\n",
            " - 0s - loss: 0.0151\n",
            "Epoch 35/50\n",
            " - 0s - loss: 0.0150\n",
            "Epoch 36/50\n",
            " - 0s - loss: 0.0150\n",
            "Epoch 37/50\n",
            " - 0s - loss: 0.0149\n",
            "Epoch 38/50\n",
            " - 0s - loss: 0.0148\n",
            "Epoch 39/50\n",
            " - 0s - loss: 0.0148\n",
            "Epoch 40/50\n",
            " - 0s - loss: 0.0147\n",
            "Epoch 41/50\n",
            " - 0s - loss: 0.0148\n",
            "Epoch 42/50\n",
            " - 0s - loss: 0.0147\n",
            "Epoch 43/50\n",
            " - 0s - loss: 0.0147\n",
            "Epoch 44/50\n",
            " - 0s - loss: 0.0147\n",
            "Epoch 45/50\n",
            " - 0s - loss: 0.0146\n",
            "Epoch 46/50\n",
            " - 0s - loss: 0.0146\n",
            "Epoch 47/50\n",
            " - 0s - loss: 0.0146\n",
            "Epoch 48/50\n",
            " - 0s - loss: 0.0146\n",
            "Epoch 49/50\n",
            " - 0s - loss: 0.0146\n",
            "Epoch 50/50\n",
            " - 0s - loss: 0.0146\n"
          ],
          "name": "stdout"
        },
        {
          "output_type": "execute_result",
          "data": {
            "text/plain": [
              "<keras.callbacks.History at 0x7fec992ff7b8>"
            ]
          },
          "metadata": {
            "tags": []
          },
          "execution_count": 14
        }
      ]
    },
    {
      "cell_type": "code",
      "metadata": {
        "id": "c9T8jgpLDwmb",
        "colab_type": "code",
        "colab": {
          "base_uri": "https://localhost:8080/",
          "height": 51
        },
        "outputId": "c5dbc5c3-faed-4bcc-d66a-0770f00ed5b7"
      },
      "source": [
        "# make predictions\n",
        "trainPredict = model.predict(trainX)\n",
        "testPredict = model.predict(testX)\n",
        "# invert predictions\n",
        "trainPredict = scaler.inverse_transform(trainPredict)\n",
        "trainY = scaler.inverse_transform([trainY])\n",
        "testPredict = scaler.inverse_transform(testPredict)\n",
        "testY = scaler.inverse_transform([testY])\n",
        "# calculate root mean squared error\n",
        "trainScore = math.sqrt(mean_squared_error(trainY[0], trainPredict[:,0]))\n",
        "print('Train Score: %.2f RMSE' % (trainScore))\n",
        "testScore = math.sqrt(mean_squared_error(testY[0], testPredict[:,0]))\n",
        "print('Test Score: %.2f RMSE' % (testScore))\n"
      ],
      "execution_count": null,
      "outputs": [
        {
          "output_type": "stream",
          "text": [
            "Train Score: 6570.41 RMSE\n",
            "Test Score: 9759.24 RMSE\n"
          ],
          "name": "stdout"
        }
      ]
    },
    {
      "cell_type": "code",
      "metadata": {
        "id": "5oX6clAui7e4",
        "colab_type": "code",
        "colab": {}
      },
      "source": [
        "d1 = pd.DataFrame(testY)\n",
        "d2 = pd.DataFrame(testPredict)"
      ],
      "execution_count": null,
      "outputs": []
    },
    {
      "cell_type": "code",
      "metadata": {
        "id": "OE_r1_VciXBG",
        "colab_type": "code",
        "colab": {
          "base_uri": "https://localhost:8080/",
          "height": 527
        },
        "outputId": "bcd4bf93-e32c-4681-d8f3-74ff592f4c0b"
      },
      "source": [
        "print(testY)\n",
        "#print(testPredict)"
      ],
      "execution_count": null,
      "outputs": [
        {
          "output_type": "stream",
          "text": [
            "[[31755. 48840. 43443. 20994. 22357. 29046. 26196. 19142. 50154. 49395.\n",
            "  40225. 42415. 45667. 42985. 25910. 45117. 39565. 37877. 41495. 35848.\n",
            "  30206. 21812. 47202. 44497. 43397. 37488. 34558. 35816. 26408. 46371.\n",
            "  43588. 40130. 33175. 40610. 41515. 29567. 56980. 52419. 51411. 46542.\n",
            "  44291. 42778. 26334. 46169. 46752. 44236. 42742. 39849. 30700. 21980.\n",
            "  43493. 29043. 35859. 49716. 52179. 46847. 29273. 53785. 49606. 54160.\n",
            "  50855. 46790. 45379. 32730. 51783. 44547. 50039. 47455. 51578. 36136.\n",
            "  24534. 42854. 38073. 42858. 42345. 42161. 35649. 19826. 42811. 50955.\n",
            "  42570. 43085. 38691. 24790. 21887. 45669. 44900. 49682. 50707. 49608.\n",
            "  51060. 31190. 60419. 45981. 57034. 45800. 44638. 48289. 32794. 47147.\n",
            "  45981. 46114. 44312. 42227. 41247. 28035. 44395. 39659. 43522. 41444.\n",
            "  40658. 30347. 24465. 45963. 44255. 43669. 45939. 44988. 38224. 26845.\n",
            "  32291. 43372. 45379. 45544. 42206. 33313. 27642. 53336. 54792. 50869.\n",
            "  53396. 49899. 44411. 28539. 47054. 46731. 36951. 17564. 41202. 34824.\n",
            "  24562. 50144. 48978. 48908. 48526. 44320. 58678. 39617. 62361. 46385.\n",
            "  43331. 41635. 59584. 47934. 31519. 51579. 50589. 47898. 46399. 47648.\n",
            "  37184. 25845. 40702. 41620. 35536. 36923. 32672. 36488. 25917. 41796.\n",
            "  35605. 37775. 38986. 36363. 28558. 17574. 32632. 37827. 35463. 38203.\n",
            "  35851. 36222. 23886. 34538. 33982. 39896. 42728. 43617. 33551. 22709.\n",
            "  42468. 44199. 46112. 46730. 40986. 33559. 36709. 45483. 42303. 41482.\n",
            "  32753. 40380. 33597. 24635. 44632. 43396. 46112. 46730. 40986. 42076.\n",
            "  27962. 45125. 46463. 30675. 42439. 43350. 33464. 22607. 44722. 46035.\n",
            "  41903. 40755. 42261. 42282. 25957. 42745. 41604. 41323. 43001. 40678.\n",
            "  31949. 24045. 40773. 41760. 39564. 37154. 38692. 37801. 42589. 49558.\n",
            "  42687. 42694. 41172. 40716. 38770. 23133. 47569. 42402. 40411. 42096.\n",
            "  44182. 39078. 28863. 50709. 47784. 47969. 45557. 44150. 41398. 26613.\n",
            "  44034. 44309. 41795. 41800. 42941. 34660. 25196. 44665. 44890. 46608.\n",
            "  48523. 49091. 44032. 27976. 43282. 46906. 49861. 47440. 45682. 38111.\n",
            "  27391. 28094. 48988. 50350. 24016. 46923. 43817. 29498. 49501. 48723.\n",
            "  46681. 44744. 39343. 31375. 24122. 47475. 46400. 47914. 43522. 42933.]]\n"
          ],
          "name": "stdout"
        }
      ]
    },
    {
      "cell_type": "code",
      "metadata": {
        "id": "LseYNKf9q6aE",
        "colab_type": "code",
        "colab": {
          "base_uri": "https://localhost:8080/",
          "height": 85
        },
        "outputId": "9d3ace29-d883-4876-af4c-e2b279345720"
      },
      "source": [
        "de1 = pd.DataFrame(testY)\n",
        "#print(type(de1)\n",
        "print(de1)"
      ],
      "execution_count": null,
      "outputs": [
        {
          "output_type": "stream",
          "text": [
            "       0        1        2        3    ...      296      297      298      299\n",
            "0  31755.0  48840.0  43443.0  20994.0  ...  46400.0  47914.0  43522.0  42933.0\n",
            "\n",
            "[1 rows x 300 columns]\n"
          ],
          "name": "stdout"
        }
      ]
    },
    {
      "cell_type": "code",
      "metadata": {
        "id": "EuZuFJh1qarx",
        "colab_type": "code",
        "colab": {}
      },
      "source": [
        "def divide_chunks(l, n): \n",
        "      \n",
        "    # looping till length l \n",
        "    for i in range(0, len(l), n):  \n",
        "        yield l[i:i + n]"
      ],
      "execution_count": null,
      "outputs": []
    },
    {
      "cell_type": "code",
      "metadata": {
        "id": "Z_jhVi4mqdHV",
        "colab_type": "code",
        "colab": {
          "base_uri": "https://localhost:8080/",
          "height": 663
        },
        "outputId": "ec55eac4-d7d9-45d6-be17-f47d987ede40"
      },
      "source": [
        "n = 1\n",
        "  \n",
        "x = list(divide_chunks(testY, n)) \n",
        "print (x) "
      ],
      "execution_count": null,
      "outputs": [
        {
          "output_type": "stream",
          "text": [
            "[array([[31755., 48840., 43443., 20994., 22357., 29046., 26196., 19142.,\n",
            "        50154., 49395., 40225., 42415., 45667., 42985., 25910., 45117.,\n",
            "        39565., 37877., 41495., 35848., 30206., 21812., 47202., 44497.,\n",
            "        43397., 37488., 34558., 35816., 26408., 46371., 43588., 40130.,\n",
            "        33175., 40610., 41515., 29567., 56980., 52419., 51411., 46542.,\n",
            "        44291., 42778., 26334., 46169., 46752., 44236., 42742., 39849.,\n",
            "        30700., 21980., 43493., 29043., 35859., 49716., 52179., 46847.,\n",
            "        29273., 53785., 49606., 54160., 50855., 46790., 45379., 32730.,\n",
            "        51783., 44547., 50039., 47455., 51578., 36136., 24534., 42854.,\n",
            "        38073., 42858., 42345., 42161., 35649., 19826., 42811., 50955.,\n",
            "        42570., 43085., 38691., 24790., 21887., 45669., 44900., 49682.,\n",
            "        50707., 49608., 51060., 31190., 60419., 45981., 57034., 45800.,\n",
            "        44638., 48289., 32794., 47147., 45981., 46114., 44312., 42227.,\n",
            "        41247., 28035., 44395., 39659., 43522., 41444., 40658., 30347.,\n",
            "        24465., 45963., 44255., 43669., 45939., 44988., 38224., 26845.,\n",
            "        32291., 43372., 45379., 45544., 42206., 33313., 27642., 53336.,\n",
            "        54792., 50869., 53396., 49899., 44411., 28539., 47054., 46731.,\n",
            "        36951., 17564., 41202., 34824., 24562., 50144., 48978., 48908.,\n",
            "        48526., 44320., 58678., 39617., 62361., 46385., 43331., 41635.,\n",
            "        59584., 47934., 31519., 51579., 50589., 47898., 46399., 47648.,\n",
            "        37184., 25845., 40702., 41620., 35536., 36923., 32672., 36488.,\n",
            "        25917., 41796., 35605., 37775., 38986., 36363., 28558., 17574.,\n",
            "        32632., 37827., 35463., 38203., 35851., 36222., 23886., 34538.,\n",
            "        33982., 39896., 42728., 43617., 33551., 22709., 42468., 44199.,\n",
            "        46112., 46730., 40986., 33559., 36709., 45483., 42303., 41482.,\n",
            "        32753., 40380., 33597., 24635., 44632., 43396., 46112., 46730.,\n",
            "        40986., 42076., 27962., 45125., 46463., 30675., 42439., 43350.,\n",
            "        33464., 22607., 44722., 46035., 41903., 40755., 42261., 42282.,\n",
            "        25957., 42745., 41604., 41323., 43001., 40678., 31949., 24045.,\n",
            "        40773., 41760., 39564., 37154., 38692., 37801., 42589., 49558.,\n",
            "        42687., 42694., 41172., 40716., 38770., 23133., 47569., 42402.,\n",
            "        40411., 42096., 44182., 39078., 28863., 50709., 47784., 47969.,\n",
            "        45557., 44150., 41398., 26613., 44034., 44309., 41795., 41800.,\n",
            "        42941., 34660., 25196., 44665., 44890., 46608., 48523., 49091.,\n",
            "        44032., 27976., 43282., 46906., 49861., 47440., 45682., 38111.,\n",
            "        27391., 28094., 48988., 50350., 24016., 46923., 43817., 29498.,\n",
            "        49501., 48723., 46681., 44744., 39343., 31375., 24122., 47475.,\n",
            "        46400., 47914., 43522., 42933.]])]\n"
          ],
          "name": "stdout"
        }
      ]
    },
    {
      "cell_type": "code",
      "metadata": {
        "id": "vCpoJD_fgz27",
        "colab_type": "code",
        "colab": {}
      },
      "source": [
        "import sklearn"
      ],
      "execution_count": null,
      "outputs": []
    },
    {
      "cell_type": "code",
      "metadata": {
        "id": "aynMbFdPhOOf",
        "colab_type": "code",
        "colab": {}
      },
      "source": [
        "from sklearn import metrics"
      ],
      "execution_count": null,
      "outputs": []
    },
    {
      "cell_type": "code",
      "metadata": {
        "id": "T-btfG8khQQH",
        "colab_type": "code",
        "colab": {
          "base_uri": "https://localhost:8080/",
          "height": 340
        },
        "outputId": "f47097d5-d7de-4749-81aa-e89eb288d710"
      },
      "source": [
        "Accuracy = metrics.accuracy_score(testY,testPredict)\n",
        "acc = Accuracy*100\n",
        "print(\"Accuracy:\",acc,\"%\")"
      ],
      "execution_count": null,
      "outputs": [
        {
          "output_type": "error",
          "ename": "ValueError",
          "evalue": "ignored",
          "traceback": [
            "\u001b[0;31m---------------------------------------------------------------------------\u001b[0m",
            "\u001b[0;31mValueError\u001b[0m                                Traceback (most recent call last)",
            "\u001b[0;32m<ipython-input-21-af68a7149cba>\u001b[0m in \u001b[0;36m<module>\u001b[0;34m()\u001b[0m\n\u001b[0;32m----> 1\u001b[0;31m \u001b[0mAccuracy\u001b[0m \u001b[0;34m=\u001b[0m \u001b[0mmetrics\u001b[0m\u001b[0;34m.\u001b[0m\u001b[0maccuracy_score\u001b[0m\u001b[0;34m(\u001b[0m\u001b[0mtestY\u001b[0m\u001b[0;34m,\u001b[0m\u001b[0mtestPredict\u001b[0m\u001b[0;34m)\u001b[0m\u001b[0;34m\u001b[0m\u001b[0;34m\u001b[0m\u001b[0m\n\u001b[0m\u001b[1;32m      2\u001b[0m \u001b[0macc\u001b[0m \u001b[0;34m=\u001b[0m \u001b[0mAccuracy\u001b[0m\u001b[0;34m*\u001b[0m\u001b[0;36m100\u001b[0m\u001b[0;34m\u001b[0m\u001b[0;34m\u001b[0m\u001b[0m\n\u001b[1;32m      3\u001b[0m \u001b[0mprint\u001b[0m\u001b[0;34m(\u001b[0m\u001b[0;34m\"Accuracy:\"\u001b[0m\u001b[0;34m,\u001b[0m\u001b[0macc\u001b[0m\u001b[0;34m,\u001b[0m\u001b[0;34m\"%\"\u001b[0m\u001b[0;34m)\u001b[0m\u001b[0;34m\u001b[0m\u001b[0;34m\u001b[0m\u001b[0m\n",
            "\u001b[0;32m/usr/local/lib/python3.6/dist-packages/sklearn/metrics/classification.py\u001b[0m in \u001b[0;36maccuracy_score\u001b[0;34m(y_true, y_pred, normalize, sample_weight)\u001b[0m\n\u001b[1;32m    174\u001b[0m \u001b[0;34m\u001b[0m\u001b[0m\n\u001b[1;32m    175\u001b[0m     \u001b[0;31m# Compute accuracy for each possible representation\u001b[0m\u001b[0;34m\u001b[0m\u001b[0;34m\u001b[0m\u001b[0;34m\u001b[0m\u001b[0m\n\u001b[0;32m--> 176\u001b[0;31m     \u001b[0my_type\u001b[0m\u001b[0;34m,\u001b[0m \u001b[0my_true\u001b[0m\u001b[0;34m,\u001b[0m \u001b[0my_pred\u001b[0m \u001b[0;34m=\u001b[0m \u001b[0m_check_targets\u001b[0m\u001b[0;34m(\u001b[0m\u001b[0my_true\u001b[0m\u001b[0;34m,\u001b[0m \u001b[0my_pred\u001b[0m\u001b[0;34m)\u001b[0m\u001b[0;34m\u001b[0m\u001b[0;34m\u001b[0m\u001b[0m\n\u001b[0m\u001b[1;32m    177\u001b[0m     \u001b[0mcheck_consistent_length\u001b[0m\u001b[0;34m(\u001b[0m\u001b[0my_true\u001b[0m\u001b[0;34m,\u001b[0m \u001b[0my_pred\u001b[0m\u001b[0;34m,\u001b[0m \u001b[0msample_weight\u001b[0m\u001b[0;34m)\u001b[0m\u001b[0;34m\u001b[0m\u001b[0;34m\u001b[0m\u001b[0m\n\u001b[1;32m    178\u001b[0m     \u001b[0;32mif\u001b[0m \u001b[0my_type\u001b[0m\u001b[0;34m.\u001b[0m\u001b[0mstartswith\u001b[0m\u001b[0;34m(\u001b[0m\u001b[0;34m'multilabel'\u001b[0m\u001b[0;34m)\u001b[0m\u001b[0;34m:\u001b[0m\u001b[0;34m\u001b[0m\u001b[0;34m\u001b[0m\u001b[0m\n",
            "\u001b[0;32m/usr/local/lib/python3.6/dist-packages/sklearn/metrics/classification.py\u001b[0m in \u001b[0;36m_check_targets\u001b[0;34m(y_true, y_pred)\u001b[0m\n\u001b[1;32m     69\u001b[0m     \u001b[0my_pred\u001b[0m \u001b[0;34m:\u001b[0m \u001b[0marray\u001b[0m \u001b[0;32mor\u001b[0m \u001b[0mindicator\u001b[0m \u001b[0mmatrix\u001b[0m\u001b[0;34m\u001b[0m\u001b[0;34m\u001b[0m\u001b[0m\n\u001b[1;32m     70\u001b[0m     \"\"\"\n\u001b[0;32m---> 71\u001b[0;31m     \u001b[0mcheck_consistent_length\u001b[0m\u001b[0;34m(\u001b[0m\u001b[0my_true\u001b[0m\u001b[0;34m,\u001b[0m \u001b[0my_pred\u001b[0m\u001b[0;34m)\u001b[0m\u001b[0;34m\u001b[0m\u001b[0;34m\u001b[0m\u001b[0m\n\u001b[0m\u001b[1;32m     72\u001b[0m     \u001b[0mtype_true\u001b[0m \u001b[0;34m=\u001b[0m \u001b[0mtype_of_target\u001b[0m\u001b[0;34m(\u001b[0m\u001b[0my_true\u001b[0m\u001b[0;34m)\u001b[0m\u001b[0;34m\u001b[0m\u001b[0;34m\u001b[0m\u001b[0m\n\u001b[1;32m     73\u001b[0m     \u001b[0mtype_pred\u001b[0m \u001b[0;34m=\u001b[0m \u001b[0mtype_of_target\u001b[0m\u001b[0;34m(\u001b[0m\u001b[0my_pred\u001b[0m\u001b[0;34m)\u001b[0m\u001b[0;34m\u001b[0m\u001b[0;34m\u001b[0m\u001b[0m\n",
            "\u001b[0;32m/usr/local/lib/python3.6/dist-packages/sklearn/utils/validation.py\u001b[0m in \u001b[0;36mcheck_consistent_length\u001b[0;34m(*arrays)\u001b[0m\n\u001b[1;32m    203\u001b[0m     \u001b[0;32mif\u001b[0m \u001b[0mlen\u001b[0m\u001b[0;34m(\u001b[0m\u001b[0muniques\u001b[0m\u001b[0;34m)\u001b[0m \u001b[0;34m>\u001b[0m \u001b[0;36m1\u001b[0m\u001b[0;34m:\u001b[0m\u001b[0;34m\u001b[0m\u001b[0;34m\u001b[0m\u001b[0m\n\u001b[1;32m    204\u001b[0m         raise ValueError(\"Found input variables with inconsistent numbers of\"\n\u001b[0;32m--> 205\u001b[0;31m                          \" samples: %r\" % [int(l) for l in lengths])\n\u001b[0m\u001b[1;32m    206\u001b[0m \u001b[0;34m\u001b[0m\u001b[0m\n\u001b[1;32m    207\u001b[0m \u001b[0;34m\u001b[0m\u001b[0m\n",
            "\u001b[0;31mValueError\u001b[0m: Found input variables with inconsistent numbers of samples: [1, 300]"
          ]
        }
      ]
    },
    {
      "cell_type": "code",
      "metadata": {
        "id": "rvdvUA8hJCkw",
        "colab_type": "code",
        "colab": {
          "base_uri": "https://localhost:8080/",
          "height": 34
        },
        "outputId": "298d20df-4fa0-471e-c603-cf9202955e02"
      },
      "source": [
        "t1 = pd.DataFrame(testY)\n",
        "print(len(t1))\n",
        "tPredict = pd.DataFrame(testPredict)\n",
        "#print(len(tPredict))\n",
        "\n",
        "t1.to_csv('testY.csv')\n",
        "tPredict.to_csv('tPredict.csv')\n",
        "\n",
        "files.download('testY.csv')\n",
        "files.download('tPredict.csv')"
      ],
      "execution_count": null,
      "outputs": [
        {
          "output_type": "stream",
          "text": [
            "1\n"
          ],
          "name": "stdout"
        }
      ]
    },
    {
      "cell_type": "code",
      "metadata": {
        "id": "GHFrrfKFsmIu",
        "colab_type": "code",
        "colab": {
          "base_uri": "https://localhost:8080/",
          "height": 1000
        },
        "outputId": "b4d76cd7-9bfd-49c8-8696-8dd99eb56bd3"
      },
      "source": [
        "import numpy as np\n",
        "t2 = np.reshape(testY,(300,1))\n",
        "print(testPredict)\n"
      ],
      "execution_count": null,
      "outputs": [
        {
          "output_type": "stream",
          "text": [
            "[[44407.97 ]\n",
            " [30951.592]\n",
            " [44713.58 ]\n",
            " [40265.92 ]\n",
            " [23108.4  ]\n",
            " [24048.51 ]\n",
            " [28894.07 ]\n",
            " [26785.361]\n",
            " [21859.623]\n",
            " [45803.03 ]\n",
            " [45173.52 ]\n",
            " [37646.684]\n",
            " [39425.883]\n",
            " [42092.11 ]\n",
            " [39891.305]\n",
            " [26577.2  ]\n",
            " [41639.484]\n",
            " [37113.61 ]\n",
            " [35757.727]\n",
            " [38676.62 ]\n",
            " [34143.87 ]\n",
            " [29769.154]\n",
            " [23670.516]\n",
            " [43358.35 ]\n",
            " [41130.004]\n",
            " [40228.273]\n",
            " [35446.906]\n",
            " [33127.98 ]\n",
            " [34118.57 ]\n",
            " [26940.084]\n",
            " [42672.336]\n",
            " [40384.633]\n",
            " [37569.855]\n",
            " [32048.557]\n",
            " [37958.344]\n",
            " [38692.883]\n",
            " [29285.959]\n",
            " [51475.387]\n",
            " [47684.16 ]\n",
            " [46846.617]\n",
            " [42813.41 ]\n",
            " [40960.914]\n",
            " [39722.184]\n",
            " [26886.035]\n",
            " [42505.758]\n",
            " [42986.723]\n",
            " [40915.785]\n",
            " [39692.777]\n",
            " [37342.8  ]\n",
            " [30144.574]\n",
            " [23786.742]\n",
            " [40306.85 ]\n",
            " [28891.814]\n",
            " [34152.57 ]\n",
            " [45439.69 ]\n",
            " [47484.69 ]\n",
            " [43065.14 ]\n",
            " [29064.582]\n",
            " [48819.69 ]\n",
            " [45348.47 ]\n",
            " [49131.465]\n",
            " [46384.883]\n",
            " [43018.086]\n",
            " [41855.023]\n",
            " [31703.512]\n",
            " [47155.66 ]\n",
            " [41171.06 ]\n",
            " [45707.62 ]\n",
            " [43567.434]\n",
            " [46985.336]\n",
            " [34371.793]\n",
            " [25585.045]\n",
            " [39784.27 ]\n",
            " [35914.582]\n",
            " [39787.527]\n",
            " [39368.78 ]\n",
            " [39218.77 ]\n",
            " [33986.613]\n",
            " [22316.898]\n",
            " [39749.133]\n",
            " [46467.906]\n",
            " [39552.35 ]\n",
            " [39973.055]\n",
            " [36410.17 ]\n",
            " [25768.441]\n",
            " [23722.373]\n",
            " [42093.76 ]\n",
            " [41461.074]\n",
            " [45411.5  ]\n",
            " [46262.008]\n",
            " [45350.12 ]\n",
            " [46555.105]\n",
            " [30518.523]\n",
            " [54327.95 ]\n",
            " [42350.79 ]\n",
            " [51520.25 ]\n",
            " [42201.66 ]\n",
            " [41245.8  ]\n",
            " [44257.297]\n",
            " [31753.066]\n",
            " [43312.914]\n",
            " [42350.79 ]\n",
            " [42460.418]\n",
            " [40978.15 ]\n",
            " [39272.566]\n",
            " [38475.086]\n",
            " [28139.09 ]\n",
            " [41046.266]\n",
            " [37189.438]\n",
            " [40330.586]\n",
            " [38635.16 ]\n",
            " [37997.23 ]\n",
            " [29876.146]\n",
            " [25535.709]\n",
            " [42335.953]\n",
            " [40931.38 ]\n",
            " [40450.97 ]\n",
            " [42316.18 ]\n",
            " [41533.406]\n",
            " [36035.527]\n",
            " [27260.129]\n",
            " [31364.25 ]\n",
            " [40207.812]\n",
            " [41855.023]\n",
            " [41990.84 ]\n",
            " [39255.445]\n",
            " [32155.793]\n",
            " [27847.63 ]\n",
            " [48446.402]\n",
            " [49656.926]\n",
            " [46396.508]\n",
            " [48496.28 ]\n",
            " [45591.477]\n",
            " [41059.406]\n",
            " [28514.541]\n",
            " [43236.09 ]\n",
            " [42969.387]\n",
            " [35018.895]\n",
            " [20822.836]\n",
            " [38438.543]\n",
            " [33336.766]\n",
            " [25605.078]\n",
            " [45794.74 ]\n",
            " [44827.906]\n",
            " [44769.914]\n",
            " [44453.504]\n",
            " [40984.715]\n",
            " [52885.027]\n",
            " [37155.555]\n",
            " [55933.617]\n",
            " [42683.88 ]\n",
            " [40174.266]\n",
            " [38790.473]\n",
            " [53636.27 ]\n",
            " [43963.535]\n",
            " [30770.457]\n",
            " [46986.17 ]\n",
            " [46164.05 ]\n",
            " [43933.754]\n",
            " [42695.43 ]\n",
            " [43726.98 ]\n",
            " [35204.45 ]\n",
            " [26529.982]\n",
            " [38032.89 ]\n",
            " [38778.273]\n",
            " [33897.406]\n",
            " [34996.617]\n",
            " [31658.625]\n",
            " [34650.906]\n",
            " [26582.287]\n",
            " [38921.484]\n",
            " [33951.875]\n",
            " [35676.16 ]\n",
            " [36647.277]\n",
            " [34551.723]\n",
            " [28528.73 ]\n",
            " [20829.324]\n",
            " [31627.678]\n",
            " [35717.74 ]\n",
            " [33839.805]\n",
            " [36018.707]\n",
            " [34146.246]\n",
            " [34439.934]\n",
            " [25123.332]\n",
            " [33112.297]\n",
            " [32677.152]\n",
            " [37380.76 ]\n",
            " [39681.34 ]\n",
            " [40408.387]\n",
            " [32340.979]\n",
            " [24294.092]\n",
            " [39469.125]\n",
            " [40885.434]\n",
            " [42458.766]\n",
            " [42968.56 ]\n",
            " [38263.2  ]\n",
            " [32347.215]\n",
            " [34826.434]\n",
            " [41940.62 ]\n",
            " [39334.535]\n",
            " [38666.06 ]\n",
            " [31721.314]\n",
            " [37772.098]\n",
            " [32376.814]\n",
            " [25657.336]\n",
            " [41240.867]\n",
            " [40227.457]\n",
            " [42458.766]\n",
            " [42968.56 ]\n",
            " [38263.2  ]\n",
            " [39149.5  ]\n",
            " [28084.87 ]\n",
            " [41646.055]\n",
            " [42748.227]\n",
            " [30125.535]\n",
            " [39445.457]\n",
            " [40189.81 ]\n",
            " [32273.25 ]\n",
            " [24222.812]\n",
            " [41314.797]\n",
            " [42395.297]\n",
            " [39008.59 ]\n",
            " [38075.85 ]\n",
            " [39300.285]\n",
            " [39317.41 ]\n",
            " [26611.361]\n",
            " [39695.23 ]\n",
            " [38765.258]\n",
            " [38536.83 ]\n",
            " [39904.39 ]\n",
            " [38013.438]\n",
            " [31100.748]\n",
            " [25236.287]\n",
            " [38090.44 ]\n",
            " [38892.18 ]\n",
            " [37112.81 ]\n",
            " [35180.547]\n",
            " [36410.973]\n",
            " [35696.953]\n",
            " [39567.86 ]\n",
            " [45308.668]\n",
            " [39647.87 ]\n",
            " [39653.582]\n",
            " [38414.176]\n",
            " [38044.234]\n",
            " [36473.633]\n",
            " [24591.396]\n",
            " [43661.664]\n",
            " [39415.27 ]\n",
            " [37797.188]\n",
            " [39165.793]\n",
            " [40871.49 ]\n",
            " [36721.285]\n",
            " [28756.865]\n",
            " [46263.668]\n",
            " [43839.457]\n",
            " [43992.484]\n",
            " [42001.54 ]\n",
            " [40845.246]\n",
            " [38597.77 ]\n",
            " [27090.033]\n",
            " [40750.098]\n",
            " [40975.688]\n",
            " [38920.664]\n",
            " [38924.73 ]\n",
            " [39855.355]\n",
            " [33208.   ]\n",
            " [26060.42 ]\n",
            " [41267.973]\n",
            " [41452.848]\n",
            " [42867.863]\n",
            " [44451.027]\n",
            " [44921.547]\n",
            " [40748.465]\n",
            " [28095.264]\n",
            " [40134.18 ]\n",
            " [43113.867]\n",
            " [45559.96 ]\n",
            " [43555.027]\n",
            " [42104.47 ]\n",
            " [35945.008]\n",
            " [27662.086]\n",
            " [28182.945]\n",
            " [44836.19 ]\n",
            " [45965.68 ]\n",
            " [25215.672]\n",
            " [43127.9  ]\n",
            " [40572.223]\n",
            " [29233.947]\n",
            " [45261.406]\n",
            " [44616.656]\n",
            " [42928.12 ]\n",
            " [41332.875]\n",
            " [36934.66 ]\n",
            " [30660.1  ]\n",
            " [25291.068]\n",
            " [43583.96 ]\n",
            " [42696.26 ]\n",
            " [43946.98 ]\n",
            " [40330.586]]\n"
          ],
          "name": "stdout"
        }
      ]
    },
    {
      "cell_type": "code",
      "metadata": {
        "id": "d977m1xAtEi7",
        "colab_type": "code",
        "colab": {
          "base_uri": "https://localhost:8080/",
          "height": 34
        },
        "outputId": "94b10c8e-f9d5-458d-8816-2b3065381d48"
      },
      "source": [
        "print(len(testPredict))"
      ],
      "execution_count": null,
      "outputs": [
        {
          "output_type": "stream",
          "text": [
            "300\n"
          ],
          "name": "stdout"
        }
      ]
    },
    {
      "cell_type": "code",
      "metadata": {
        "id": "0lJuBnzyr06i",
        "colab_type": "code",
        "colab": {}
      },
      "source": [
        "#Accuracy = metrics.accuracy_score(t2,testPredict)\n",
        "#acc = Accuracy*100\n",
        "\n",
        "import numpy as np\n",
        "\n",
        "def mean_absolute_percentage_error(y_true, y_pred): \n",
        "    y_true, y_pred = np.array(y_true), np.array(y_pred)\n",
        "    return np.mean(np.abs((y_true - y_pred) / y_true)) * 100"
      ],
      "execution_count": null,
      "outputs": []
    },
    {
      "cell_type": "code",
      "metadata": {
        "id": "Ic4wXIdxuqf0",
        "colab_type": "code",
        "colab": {
          "base_uri": "https://localhost:8080/",
          "height": 34
        },
        "outputId": "3fd72d2d-d15e-44c8-9f91-322d855ac888"
      },
      "source": [
        "print(mean_absolute_percentage_error(t2,testPredict))"
      ],
      "execution_count": null,
      "outputs": [
        {
          "output_type": "stream",
          "text": [
            "18.97346313750313\n"
          ],
          "name": "stdout"
        }
      ]
    },
    {
      "cell_type": "code",
      "metadata": {
        "id": "AqpQYn_4IrHj",
        "colab_type": "code",
        "colab": {
          "base_uri": "https://localhost:8080/",
          "height": 374
        },
        "outputId": "34bd7de3-fc93-4738-e58b-9a0094605171"
      },
      "source": [
        "from google.colab import files\n",
        "t1.to_csv('testData.csv') \n",
        "files.download('testData.csv')\n",
        "testPredict.TO_CSV('Predictions.csv')\n",
        "files.download('Predictions.csv')"
      ],
      "execution_count": null,
      "outputs": [
        {
          "output_type": "error",
          "ename": "MessageError",
          "evalue": "ignored",
          "traceback": [
            "\u001b[0;31m---------------------------------------------------------------------------\u001b[0m",
            "\u001b[0;31mMessageError\u001b[0m                              Traceback (most recent call last)",
            "\u001b[0;32m<ipython-input-32-2d472ae83269>\u001b[0m in \u001b[0;36m<module>\u001b[0;34m()\u001b[0m\n\u001b[1;32m      1\u001b[0m \u001b[0;32mfrom\u001b[0m \u001b[0mgoogle\u001b[0m\u001b[0;34m.\u001b[0m\u001b[0mcolab\u001b[0m \u001b[0;32mimport\u001b[0m \u001b[0mfiles\u001b[0m\u001b[0;34m\u001b[0m\u001b[0;34m\u001b[0m\u001b[0m\n\u001b[1;32m      2\u001b[0m \u001b[0mt1\u001b[0m\u001b[0;34m.\u001b[0m\u001b[0mto_csv\u001b[0m\u001b[0;34m(\u001b[0m\u001b[0;34m'testData.csv'\u001b[0m\u001b[0;34m)\u001b[0m\u001b[0;34m\u001b[0m\u001b[0;34m\u001b[0m\u001b[0m\n\u001b[0;32m----> 3\u001b[0;31m \u001b[0mfiles\u001b[0m\u001b[0;34m.\u001b[0m\u001b[0mdownload\u001b[0m\u001b[0;34m(\u001b[0m\u001b[0;34m'testData.csv'\u001b[0m\u001b[0;34m)\u001b[0m\u001b[0;34m\u001b[0m\u001b[0;34m\u001b[0m\u001b[0m\n\u001b[0m\u001b[1;32m      4\u001b[0m \u001b[0mtestPredict\u001b[0m\u001b[0;34m.\u001b[0m\u001b[0mTO_CSV\u001b[0m\u001b[0;34m(\u001b[0m\u001b[0;34m'Predictions.csv'\u001b[0m\u001b[0;34m)\u001b[0m\u001b[0;34m\u001b[0m\u001b[0;34m\u001b[0m\u001b[0m\n\u001b[1;32m      5\u001b[0m \u001b[0mfiles\u001b[0m\u001b[0;34m.\u001b[0m\u001b[0mdownload\u001b[0m\u001b[0;34m(\u001b[0m\u001b[0;34m'Predictions.csv'\u001b[0m\u001b[0;34m)\u001b[0m\u001b[0;34m\u001b[0m\u001b[0;34m\u001b[0m\u001b[0m\n",
            "\u001b[0;32m/usr/local/lib/python3.6/dist-packages/google/colab/files.py\u001b[0m in \u001b[0;36mdownload\u001b[0;34m(filename)\u001b[0m\n\u001b[1;32m    176\u001b[0m       \u001b[0;34m'port'\u001b[0m\u001b[0;34m:\u001b[0m \u001b[0mport\u001b[0m\u001b[0;34m,\u001b[0m\u001b[0;34m\u001b[0m\u001b[0;34m\u001b[0m\u001b[0m\n\u001b[1;32m    177\u001b[0m       \u001b[0;34m'path'\u001b[0m\u001b[0;34m:\u001b[0m \u001b[0m_os\u001b[0m\u001b[0;34m.\u001b[0m\u001b[0mpath\u001b[0m\u001b[0;34m.\u001b[0m\u001b[0mabspath\u001b[0m\u001b[0;34m(\u001b[0m\u001b[0mfilename\u001b[0m\u001b[0;34m)\u001b[0m\u001b[0;34m,\u001b[0m\u001b[0;34m\u001b[0m\u001b[0;34m\u001b[0m\u001b[0m\n\u001b[0;32m--> 178\u001b[0;31m       \u001b[0;34m'name'\u001b[0m\u001b[0;34m:\u001b[0m \u001b[0m_os\u001b[0m\u001b[0;34m.\u001b[0m\u001b[0mpath\u001b[0m\u001b[0;34m.\u001b[0m\u001b[0mbasename\u001b[0m\u001b[0;34m(\u001b[0m\u001b[0mfilename\u001b[0m\u001b[0;34m)\u001b[0m\u001b[0;34m,\u001b[0m\u001b[0;34m\u001b[0m\u001b[0;34m\u001b[0m\u001b[0m\n\u001b[0m\u001b[1;32m    179\u001b[0m   })\n",
            "\u001b[0;32m/usr/local/lib/python3.6/dist-packages/google/colab/output/_js.py\u001b[0m in \u001b[0;36meval_js\u001b[0;34m(script, ignore_result)\u001b[0m\n\u001b[1;32m     37\u001b[0m   \u001b[0;32mif\u001b[0m \u001b[0mignore_result\u001b[0m\u001b[0;34m:\u001b[0m\u001b[0;34m\u001b[0m\u001b[0;34m\u001b[0m\u001b[0m\n\u001b[1;32m     38\u001b[0m     \u001b[0;32mreturn\u001b[0m\u001b[0;34m\u001b[0m\u001b[0;34m\u001b[0m\u001b[0m\n\u001b[0;32m---> 39\u001b[0;31m   \u001b[0;32mreturn\u001b[0m \u001b[0m_message\u001b[0m\u001b[0;34m.\u001b[0m\u001b[0mread_reply_from_input\u001b[0m\u001b[0;34m(\u001b[0m\u001b[0mrequest_id\u001b[0m\u001b[0;34m)\u001b[0m\u001b[0;34m\u001b[0m\u001b[0;34m\u001b[0m\u001b[0m\n\u001b[0m\u001b[1;32m     40\u001b[0m \u001b[0;34m\u001b[0m\u001b[0m\n\u001b[1;32m     41\u001b[0m \u001b[0;34m\u001b[0m\u001b[0m\n",
            "\u001b[0;32m/usr/local/lib/python3.6/dist-packages/google/colab/_message.py\u001b[0m in \u001b[0;36mread_reply_from_input\u001b[0;34m(message_id, timeout_sec)\u001b[0m\n\u001b[1;32m    104\u001b[0m         reply.get('colab_msg_id') == message_id):\n\u001b[1;32m    105\u001b[0m       \u001b[0;32mif\u001b[0m \u001b[0;34m'error'\u001b[0m \u001b[0;32min\u001b[0m \u001b[0mreply\u001b[0m\u001b[0;34m:\u001b[0m\u001b[0;34m\u001b[0m\u001b[0;34m\u001b[0m\u001b[0m\n\u001b[0;32m--> 106\u001b[0;31m         \u001b[0;32mraise\u001b[0m \u001b[0mMessageError\u001b[0m\u001b[0;34m(\u001b[0m\u001b[0mreply\u001b[0m\u001b[0;34m[\u001b[0m\u001b[0;34m'error'\u001b[0m\u001b[0;34m]\u001b[0m\u001b[0;34m)\u001b[0m\u001b[0;34m\u001b[0m\u001b[0;34m\u001b[0m\u001b[0m\n\u001b[0m\u001b[1;32m    107\u001b[0m       \u001b[0;32mreturn\u001b[0m \u001b[0mreply\u001b[0m\u001b[0;34m.\u001b[0m\u001b[0mget\u001b[0m\u001b[0;34m(\u001b[0m\u001b[0;34m'data'\u001b[0m\u001b[0;34m,\u001b[0m \u001b[0;32mNone\u001b[0m\u001b[0;34m)\u001b[0m\u001b[0;34m\u001b[0m\u001b[0;34m\u001b[0m\u001b[0m\n\u001b[1;32m    108\u001b[0m \u001b[0;34m\u001b[0m\u001b[0m\n",
            "\u001b[0;31mMessageError\u001b[0m: TypeError: Failed to fetch"
          ]
        }
      ]
    },
    {
      "cell_type": "code",
      "metadata": {
        "id": "Aou8JosqD60e",
        "colab_type": "code",
        "colab": {
          "base_uri": "https://localhost:8080/",
          "height": 282
        },
        "outputId": "551cd59b-ce80-456d-af3d-9f408c65c924"
      },
      "source": [
        "# shift train predictions for plotting\n",
        "trainPredictPlot = numpy.empty_like(data)\n",
        "trainPredictPlot[:, :] = numpy.nan\n",
        "trainPredictPlot[look_back:len(trainPredict)+look_back, :] = trainPredict\n",
        "# shift test predictions for plotting\n",
        "testPredictPlot = numpy.empty_like(data)\n",
        "testPredictPlot[:, :] = numpy.nan\n",
        "testPredictPlot[len(trainPredict)+(look_back*2)+1:len(data)-1, :] = testPredict\n",
        "# plot baseline and predictions\n",
        "plt.plot(scaler.inverse_transform(data))\n",
        "plt.plot(trainPredictPlot)\n",
        "plt.plot(testPredictPlot)\n",
        "plt.show()\n",
        "type(testPredictPlot)"
      ],
      "execution_count": null,
      "outputs": [
        {
          "output_type": "display_data",
          "data": {
            "image/png": "[encoded data removed]",
            "text/plain": [
              "<Figure size 432x288 with 1 Axes>"
            ]
          },
          "metadata": {
            "tags": []
          }
        },
        {
          "output_type": "execute_result",
          "data": {
            "text/plain": [
              "numpy.ndarray"
            ]
          },
          "metadata": {
            "tags": []
          },
          "execution_count": 21
        }
      ]
    },
    {
      "cell_type": "code",
      "metadata": {
        "id": "NfIlCX1qv7tg",
        "colab_type": "code",
        "colab": {
          "base_uri": "https://localhost:8080/",
          "height": 265
        },
        "outputId": "4c960c28-ddf8-49dd-a90f-5c9144e1473c"
      },
      "source": [
        "plt.plot(t2)\n",
        "plt.plot(testPredict)\n",
        "plt.show()"
      ],
      "execution_count": null,
      "outputs": [
        {
          "output_type": "display_data",
          "data": {
            "image/png": "[encoded data removed]",
            "text/plain": [
              "<Figure size 432x288 with 1 Axes>"
            ]
          },
          "metadata": {
            "tags": []
          }
        }
      ]
    },
    {
      "cell_type": "code",
      "metadata": {
        "id": "qum2hR2dENXr",
        "colab_type": "code",
        "colab": {}
      },
      "source": [
        ""
      ],
      "execution_count": null,
      "outputs": []
    }
  ]
}