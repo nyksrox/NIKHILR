{
  "nbformat": 4,
  "nbformat_minor": 0,
  "metadata": {
    "kernelspec": {
      "display_name": "Python 3",
      "language": "python",
      "name": "python3"
    },
    "language_info": {
      "codemirror_mode": {
        "name": "ipython",
        "version": 3
      },
      "file_extension": ".py",
      "mimetype": "text/x-python",
      "name": "python",
      "nbconvert_exporter": "python",
      "pygments_lexer": "ipython3",
      "version": "3.7.3"
    },
    "colab": {
      "name": "Concatenation_Excel Files-April.ipynb",
      "provenance": [],
      "collapsed_sections": [],
      "include_colab_link": true
    }
  },
  "cells": [
    {
      "cell_type": "markdown",
      "metadata": {
        "id": "view-in-github",
        "colab_type": "text"
      },
      "source": [
        "<a href=\"https://colab.research.google.com/github/nyksrox/NIKHILR/blob/master/Concatenation_Excel_Files_April.ipynb\" target=\"_parent\"><img src=\"https://colab.research.google.com/assets/colab-badge.svg\" alt=\"Open In Colab\"/></a>"
      ]
    },
    {
      "cell_type": "code",
      "metadata": {
        "id": "SW1Q667bp0IT",
        "colab_type": "code",
        "colab": {},
        "outputId": "972dc7c7-e457-4151-aae1-fd2f10f3749e"
      },
      "source": [
        "import pandas as pd\n",
        "print(\"a\")"
      ],
      "execution_count": null,
      "outputs": [
        {
          "output_type": "stream",
          "text": [
            "a\n"
          ],
          "name": "stdout"
        }
      ]
    },
    {
      "cell_type": "code",
      "metadata": {
        "id": "2bh1_gCEp0IY",
        "colab_type": "code",
        "colab": {},
        "outputId": "e9ae3286-619c-4466-9eab-a934ac51d4d7"
      },
      "source": [
        "import os, glob\n",
        "\n",
        "path = \"C:/Users/nikhilran/Desktop/Molina/Collated Data/Data/April/\"\n",
        "print(path)"
      ],
      "execution_count": null,
      "outputs": [
        {
          "output_type": "stream",
          "text": [
            "C:/Users/nikhilran/Desktop/Molina/Collated Data/Data/April/\n"
          ],
          "name": "stdout"
        }
      ]
    },
    {
      "cell_type": "code",
      "metadata": {
        "id": "FSBgXsMkp0Ic",
        "colab_type": "code",
        "colab": {}
      },
      "source": [
        "all_files = glob.glob(os.path.join(path, \"Inventory dump 04*.xlsx\"))"
      ],
      "execution_count": null,
      "outputs": []
    },
    {
      "cell_type": "code",
      "metadata": {
        "id": "7ZS2HjYgp0If",
        "colab_type": "code",
        "colab": {},
        "outputId": "ed9c50e7-aaed-4118-aa4e-559d0f4783f7"
      },
      "source": [
        "df_merged = (pd.read_excel(f) for f in all_files)\n",
        "df_merged1   = pd.concat(df_merged, ignore_index=True)\n",
        "df_merged1.to_csv( \"C:/Users/nikhilran/Desktop/Molina/Collated Data/Data/April/mergedMarch.csv\")"
      ],
      "execution_count": null,
      "outputs": [
        {
          "output_type": "stream",
          "text": [
            "C:\\ProgramData\\Anaconda\\lib\\site-packages\\ipykernel_launcher.py:2: FutureWarning: Sorting because non-concatenation axis is not aligned. A future version\n",
            "of pandas will change to not sort by default.\n",
            "\n",
            "To accept the future behavior, pass 'sort=False'.\n",
            "\n",
            "To retain the current behavior and silence the warning, pass 'sort=True'.\n",
            "\n",
            "  \n"
          ],
          "name": "stderr"
        }
      ]
    },
    {
      "cell_type": "code",
      "metadata": {
        "id": "UMgOGq8lp0Ii",
        "colab_type": "code",
        "colab": {},
        "outputId": "a387f82b-f832-418c-b9e7-74088c006c20"
      },
      "source": [
        "dfnew = pd.read_csv(\"C:/Users/nikhilran/Desktop/Singing River BD/merged.csv\")"
      ],
      "execution_count": null,
      "outputs": [
        {
          "output_type": "stream",
          "text": [
            "C:\\ProgramData\\Anaconda\\lib\\site-packages\\IPython\\core\\interactiveshell.py:3049: DtypeWarning: Columns (25,36,38,47,59,69) have mixed types. Specify dtype option on import or set low_memory=False.\n",
            "  interactivity=interactivity, compiler=compiler, result=result)\n"
          ],
          "name": "stderr"
        }
      ]
    },
    {
      "cell_type": "code",
      "metadata": {
        "id": "-c2v7klsp0Ik",
        "colab_type": "code",
        "colab": {},
        "outputId": "0bd9efdb-2c36-4d34-e578-589a995a972c"
      },
      "source": [
        "print(dfnew[\"FACS #\"].count())"
      ],
      "execution_count": null,
      "outputs": [
        {
          "output_type": "stream",
          "text": [
            "2745253\n"
          ],
          "name": "stdout"
        }
      ]
    },
    {
      "cell_type": "code",
      "metadata": {
        "id": "h3l8CbmLp0In",
        "colab_type": "code",
        "colab": {}
      },
      "source": [
        "df_new = dfnew.drop_duplicates('FACS #',keep = 'first')"
      ],
      "execution_count": null,
      "outputs": []
    },
    {
      "cell_type": "code",
      "metadata": {
        "id": "9DsFEeGXp0Iq",
        "colab_type": "code",
        "colab": {},
        "outputId": "d0de58b8-df95-412e-a658-4e76874660bb"
      },
      "source": [
        "print(df_new[\"FACS #\"].count())"
      ],
      "execution_count": null,
      "outputs": [
        {
          "output_type": "stream",
          "text": [
            "94329\n"
          ],
          "name": "stdout"
        }
      ]
    },
    {
      "cell_type": "code",
      "metadata": {
        "id": "4mqpsteop0It",
        "colab_type": "code",
        "colab": {}
      },
      "source": [
        "df_new.to_csv(\"C:/Users/nikhilran/Desktop/Singing River BD/uniquemerged.csv\")"
      ],
      "execution_count": null,
      "outputs": []
    },
    {
      "cell_type": "code",
      "metadata": {
        "id": "IfSNW9BZp0Iw",
        "colab_type": "code",
        "colab": {}
      },
      "source": [
        "df = pd.read_csv(\"C:/Users/nikhilran/Desktop/Singing River BD/uniquemerged.csv\")"
      ],
      "execution_count": null,
      "outputs": []
    },
    {
      "cell_type": "code",
      "metadata": {
        "id": "hA4krxG7p0Iy",
        "colab_type": "code",
        "colab": {}
      },
      "source": [
        "d = pd.read_csv(\"C:\\\\Users\\\\nikhilran\\\\Desktop\\\\Singing River BD\\\\new_final_payments_data.csv\")"
      ],
      "execution_count": null,
      "outputs": []
    },
    {
      "cell_type": "code",
      "metadata": {
        "id": "IweZieYlp0I1",
        "colab_type": "code",
        "colab": {}
      },
      "source": [
        "df = df.assign(result=df['FACS #'].isin(d['ACCOUNT_NUM']).astype(int))"
      ],
      "execution_count": null,
      "outputs": []
    },
    {
      "cell_type": "code",
      "metadata": {
        "id": "Y7A5vM8Np0I3",
        "colab_type": "code",
        "colab": {},
        "outputId": "51ec0b18-87e3-445b-dd2e-5fd61aebc628"
      },
      "source": [
        "print(df.dtypes)"
      ],
      "execution_count": null,
      "outputs": [
        {
          "output_type": "stream",
          "text": [
            "Unnamed: 0           int64\n",
            "Unnamed: 0.1         int64\n",
            "ACCOUNT TYPE       float64\n",
            "ACCT STATUS         object\n",
            "ADMIT DT            object\n",
            "ADMIT TYPE         float64\n",
            "AGENCY CODE        float64\n",
            "ALL INS ADJS       float64\n",
            "ALL INS PMTS       float64\n",
            "AMT PDUE 12 MNT      int64\n",
            "ASSGN INDICATOR    float64\n",
            "BCARD HIGH CRDT      int64\n",
            "BNKCRD AVLBLE        int64\n",
            "CALLS                int64\n",
            "CASE NUM           float64\n",
            "CHAPTER            float64\n",
            "CHARGES            float64\n",
            "CITY                object\n",
            "CLIENT NAME         object\n",
            "COMISSION RATE     float64\n",
            "CRB TU              object\n",
            "DEPARTMENT          object\n",
            "DETAIL INVOICE      object\n",
            "DETAIL SEQ NUM     float64\n",
            "DG01 NUM DEROG       int64\n",
            "DIAGNOSIS CODE     float64\n",
            "DISP                object\n",
            "DOB                 object\n",
            "DOD                float64\n",
            "DRG CODE           float64\n",
            "                    ...   \n",
            "PRI PROC CODE      float64\n",
            "PRI PROC DATE      float64\n",
            "PRIO DIAG CODE     float64\n",
            "PROC CODE 1        float64\n",
            "PT AREA            float64\n",
            "PT MS               object\n",
            "PT PF               object\n",
            "PT REP CODE         object\n",
            "PT SEX              object\n",
            "PT TYPE LB          object\n",
            "PT VIP ID          float64\n",
            "RP AREA            float64\n",
            "RP PF               object\n",
            "SEED #               int64\n",
            "SERIES NUM         float64\n",
            "SERVICE AREA        object\n",
            "STATE               object\n",
            "Service Code        object\n",
            "Service Descr       object\n",
            "Service Locatn      object\n",
            "Service Type        object\n",
            "TU SCORE           float64\n",
            "Total Paid         float64\n",
            "Unnamed: 48        float64\n",
            "Unnamed: 49        float64\n",
            "Unnamed: 71        float64\n",
            "Unnamed: 72        float64\n",
            "VISIT ID           float64\n",
            "ZIP5               float64\n",
            "result               int32\n",
            "Length: 81, dtype: object\n"
          ],
          "name": "stdout"
        }
      ]
    },
    {
      "cell_type": "code",
      "metadata": {
        "id": "ElJOrnyWp0I6",
        "colab_type": "code",
        "colab": {}
      },
      "source": [
        "df.to_csv(\"C:/Users/nikhilran/Desktop/Singing River BD/Puniquemerged.csv\")"
      ],
      "execution_count": null,
      "outputs": []
    },
    {
      "cell_type": "code",
      "metadata": {
        "id": "0AHVeUnNp0I-",
        "colab_type": "code",
        "colab": {},
        "outputId": "3f78c435-eaf4-46b1-9cb4-14ebbbf29b2a"
      },
      "source": [
        "df1 = pd.read_csv(\"C:/Users/nikhilran/Desktop/Singing River BD/Puniquemerged.csv\") "
      ],
      "execution_count": null,
      "outputs": [
        {
          "output_type": "stream",
          "text": [
            "C:\\ProgramData\\Anaconda\\lib\\site-packages\\IPython\\core\\interactiveshell.py:3049: DtypeWarning: Columns (27,38,40,49,61,71) have mixed types. Specify dtype option on import or set low_memory=False.\n",
            "  interactivity=interactivity, compiler=compiler, result=result)\n"
          ],
          "name": "stderr"
        }
      ]
    },
    {
      "cell_type": "code",
      "metadata": {
        "id": "RQFH3UpDp0JA",
        "colab_type": "code",
        "colab": {},
        "outputId": "fb89064a-48de-4bd0-8950-901d823cff6d"
      },
      "source": [
        "print(df1.describe())"
      ],
      "execution_count": null,
      "outputs": [
        {
          "output_type": "stream",
          "text": [
            "         Unnamed: 0  Unnamed: 0.1  Unnamed: 0.1.1  ACCOUNT TYPE  ADMIT TYPE  \\\n",
            "count  94329.000000  9.432900e+04    9.432900e+04           0.0         0.0   \n",
            "mean   47164.000000  4.600090e+05    4.600090e+05           NaN         NaN   \n",
            "std    27230.581108  7.627733e+05    7.627733e+05           NaN         NaN   \n",
            "min        0.000000  0.000000e+00    0.000000e+00           NaN         NaN   \n",
            "25%    23582.000000  2.358200e+04    2.358200e+04           NaN         NaN   \n",
            "50%    47164.000000  7.852200e+04    7.852200e+04           NaN         NaN   \n",
            "75%    70746.000000  5.563740e+05    5.563740e+05           NaN         NaN   \n",
            "max    94328.000000  2.745247e+06    2.745247e+06           NaN         NaN   \n",
            "\n",
            "       AGENCY CODE  ALL INS ADJS  ALL INS PMTS  AMT PDUE 12 MNT  \\\n",
            "count          0.0       27707.0       27707.0     94329.000000   \n",
            "mean           NaN           0.0           0.0       106.287483   \n",
            "std            NaN           0.0           0.0      1871.902635   \n",
            "min            NaN           0.0           0.0         0.000000   \n",
            "25%            NaN           0.0           0.0         0.000000   \n",
            "50%            NaN           0.0           0.0         0.000000   \n",
            "75%            NaN           0.0           0.0         0.000000   \n",
            "max            NaN           0.0           0.0    309665.000000   \n",
            "\n",
            "       ASSGN INDICATOR  ...  SERIES NUM      TU SCORE     Total Paid  \\\n",
            "count              0.0  ...         0.0  75794.000000   94329.000000   \n",
            "mean               NaN  ...         NaN    663.479642    -588.468654   \n",
            "std                NaN  ...         NaN     88.879911    2828.095878   \n",
            "min                NaN  ...         NaN    273.000000 -215000.000000   \n",
            "25%                NaN  ...         NaN    605.000000    -196.440000   \n",
            "50%                NaN  ...         NaN    658.000000       0.000000   \n",
            "75%                NaN  ...         NaN    716.000000       0.000000   \n",
            "max                NaN  ...         NaN    850.000000    9797.000000   \n",
            "\n",
            "       Unnamed: 48  Unnamed: 49  Unnamed: 71  Unnamed: 72  VISIT ID  \\\n",
            "count          0.0          0.0          0.0          0.0       0.0   \n",
            "mean           NaN          NaN          NaN          NaN       NaN   \n",
            "std            NaN          NaN          NaN          NaN       NaN   \n",
            "min            NaN          NaN          NaN          NaN       NaN   \n",
            "25%            NaN          NaN          NaN          NaN       NaN   \n",
            "50%            NaN          NaN          NaN          NaN       NaN   \n",
            "75%            NaN          NaN          NaN          NaN       NaN   \n",
            "max            NaN          NaN          NaN          NaN       NaN   \n",
            "\n",
            "               ZIP5        result  \n",
            "count  89558.000000  94329.000000  \n",
            "mean   39643.670392      0.035800  \n",
            "std     3686.154530      0.185793  \n",
            "min       20.000000      0.000000  \n",
            "25%    39553.000000      0.000000  \n",
            "50%    39563.000000      0.000000  \n",
            "75%    39565.000000      0.000000  \n",
            "max    99716.000000      1.000000  \n",
            "\n",
            "[8 rows x 53 columns]\n"
          ],
          "name": "stdout"
        }
      ]
    },
    {
      "cell_type": "code",
      "metadata": {
        "id": "JLUcCdrtp0JD",
        "colab_type": "code",
        "colab": {},
        "outputId": "27310550-70ce-425c-edd9-853000d2c628"
      },
      "source": [
        "print(df1.dtypes)"
      ],
      "execution_count": null,
      "outputs": [
        {
          "output_type": "stream",
          "text": [
            "Unnamed: 0           int64\n",
            "Unnamed: 0.1         int64\n",
            "Unnamed: 0.1.1       int64\n",
            "ACCOUNT TYPE       float64\n",
            "ACCT STATUS         object\n",
            "ADMIT DT            object\n",
            "ADMIT TYPE         float64\n",
            "AGENCY CODE        float64\n",
            "ALL INS ADJS       float64\n",
            "ALL INS PMTS       float64\n",
            "AMT PDUE 12 MNT      int64\n",
            "ASSGN INDICATOR    float64\n",
            "BCARD HIGH CRDT      int64\n",
            "BNKCRD AVLBLE        int64\n",
            "CALLS                int64\n",
            "CASE NUM           float64\n",
            "CHAPTER            float64\n",
            "CHARGES            float64\n",
            "CITY                object\n",
            "CLIENT NAME         object\n",
            "COMISSION RATE     float64\n",
            "CRB TU              object\n",
            "DEPARTMENT          object\n",
            "DETAIL INVOICE      object\n",
            "DETAIL SEQ NUM     float64\n",
            "DG01 NUM DEROG       int64\n",
            "DIAGNOSIS CODE     float64\n",
            "DISP                object\n",
            "DOB                 object\n",
            "DOD                float64\n",
            "                    ...   \n",
            "PRI PROC CODE      float64\n",
            "PRI PROC DATE      float64\n",
            "PRIO DIAG CODE     float64\n",
            "PROC CODE 1        float64\n",
            "PT AREA            float64\n",
            "PT MS               object\n",
            "PT PF               object\n",
            "PT REP CODE         object\n",
            "PT SEX              object\n",
            "PT TYPE LB          object\n",
            "PT VIP ID          float64\n",
            "RP AREA            float64\n",
            "RP PF               object\n",
            "SEED #               int64\n",
            "SERIES NUM         float64\n",
            "SERVICE AREA        object\n",
            "STATE               object\n",
            "Service Code        object\n",
            "Service Descr       object\n",
            "Service Locatn      object\n",
            "Service Type        object\n",
            "TU SCORE           float64\n",
            "Total Paid         float64\n",
            "Unnamed: 48        float64\n",
            "Unnamed: 49        float64\n",
            "Unnamed: 71        float64\n",
            "Unnamed: 72        float64\n",
            "VISIT ID           float64\n",
            "ZIP5               float64\n",
            "result               int64\n",
            "Length: 82, dtype: object\n"
          ],
          "name": "stdout"
        }
      ]
    },
    {
      "cell_type": "code",
      "metadata": {
        "id": "OunSTTimp0JF",
        "colab_type": "code",
        "colab": {}
      },
      "source": [
        "df_final = df1[['ZIP5','FC','DOB','CITY','STATE','INIT BAL','CHARGES','CLIENT NAME','Service Type','PT SEX','PT MS','LIST DT','PT AREA','ADMIT DT','DSCHG DT','TU SCORE','BCARD HIGH CRDT','AMT PDUE 12 MNT','Service Locatn','result']]"
      ],
      "execution_count": null,
      "outputs": []
    },
    {
      "cell_type": "code",
      "metadata": {
        "id": "V69WAy0np0JJ",
        "colab_type": "code",
        "colab": {}
      },
      "source": [
        "df_final1 = df_final[df_final['Service Type']=='HB']"
      ],
      "execution_count": null,
      "outputs": []
    },
    {
      "cell_type": "code",
      "metadata": {
        "id": "Ed_SoC4hp0JL",
        "colab_type": "code",
        "colab": {}
      },
      "source": [
        "df_final2 = df_final[df_final['Service Type']=='PB']"
      ],
      "execution_count": null,
      "outputs": []
    },
    {
      "cell_type": "code",
      "metadata": {
        "id": "ik0kDO2Dp0JN",
        "colab_type": "code",
        "colab": {},
        "outputId": "054c9cae-6f37-4d20-b67c-fb2da5ec135f"
      },
      "source": [
        "print(df_final1.dtypes)"
      ],
      "execution_count": null,
      "outputs": [
        {
          "output_type": "stream",
          "text": [
            "ZIP5               float64\n",
            "FC                  object\n",
            "DOB                 object\n",
            "CITY                object\n",
            "STATE               object\n",
            "INIT BAL           float64\n",
            "CHARGES            float64\n",
            "CLIENT NAME         object\n",
            "Service Type        object\n",
            "PT SEX              object\n",
            "PT MS               object\n",
            "LIST DT             object\n",
            "PT AREA            float64\n",
            "ADMIT DT            object\n",
            "DSCHG DT            object\n",
            "TU SCORE           float64\n",
            "BCARD HIGH CRDT      int64\n",
            "AMT PDUE 12 MNT      int64\n",
            "Service Locatn      object\n",
            "result               int64\n",
            "dtype: object\n"
          ],
          "name": "stdout"
        }
      ]
    },
    {
      "cell_type": "code",
      "metadata": {
        "id": "NF-43utop0JQ",
        "colab_type": "code",
        "colab": {}
      },
      "source": [
        "from sklearn import preprocessing"
      ],
      "execution_count": null,
      "outputs": []
    },
    {
      "cell_type": "code",
      "metadata": {
        "id": "ASIp-N9Sp0JS",
        "colab_type": "code",
        "colab": {},
        "outputId": "47a5dfd3-7c1d-4194-e670-001838772bbc"
      },
      "source": [
        "le = preprocessing.LabelEncoder()\n",
        "df_final1['STATE'] = le.fit_transform(df_final1['STATE'].astype(str))"
      ],
      "execution_count": null,
      "outputs": [
        {
          "output_type": "stream",
          "text": [
            "C:\\ProgramData\\Anaconda\\lib\\site-packages\\ipykernel_launcher.py:2: SettingWithCopyWarning: \n",
            "A value is trying to be set on a copy of a slice from a DataFrame.\n",
            "Try using .loc[row_indexer,col_indexer] = value instead\n",
            "\n",
            "See the caveats in the documentation: http://pandas.pydata.org/pandas-docs/stable/indexing.html#indexing-view-versus-copy\n",
            "  \n"
          ],
          "name": "stderr"
        }
      ]
    },
    {
      "cell_type": "code",
      "metadata": {
        "id": "Exceh9AGp0JU",
        "colab_type": "code",
        "colab": {},
        "outputId": "79c453f1-044d-4838-e2b7-ebf5289918c9"
      },
      "source": [
        "df_final1['FC'] = le.fit_transform(df_final1['FC'].astype(str))\n",
        "df_final1['CITY'] = le.fit_transform(df_final1['CITY'].astype(str))\n",
        "df_final1['CLIENT NAME'] = le.fit_transform(df_final1['CLIENT NAME'].astype(str))\n",
        "df_final1['Service Locatn'] = le.fit_transform(df_final1['STATE'].astype(str))\n",
        "df_final1['PT MS'] = le.fit_transform(df_final1['PT MS'].astype(str))\n",
        "df_final1['PT SEX'] = le.fit_transform(df_final1['PT SEX'].astype(str))"
      ],
      "execution_count": null,
      "outputs": [
        {
          "output_type": "stream",
          "text": [
            "C:\\ProgramData\\Anaconda\\lib\\site-packages\\ipykernel_launcher.py:1: SettingWithCopyWarning: \n",
            "A value is trying to be set on a copy of a slice from a DataFrame.\n",
            "Try using .loc[row_indexer,col_indexer] = value instead\n",
            "\n",
            "See the caveats in the documentation: http://pandas.pydata.org/pandas-docs/stable/indexing.html#indexing-view-versus-copy\n",
            "  \"\"\"Entry point for launching an IPython kernel.\n",
            "C:\\ProgramData\\Anaconda\\lib\\site-packages\\ipykernel_launcher.py:2: SettingWithCopyWarning: \n",
            "A value is trying to be set on a copy of a slice from a DataFrame.\n",
            "Try using .loc[row_indexer,col_indexer] = value instead\n",
            "\n",
            "See the caveats in the documentation: http://pandas.pydata.org/pandas-docs/stable/indexing.html#indexing-view-versus-copy\n",
            "  \n",
            "C:\\ProgramData\\Anaconda\\lib\\site-packages\\ipykernel_launcher.py:3: SettingWithCopyWarning: \n",
            "A value is trying to be set on a copy of a slice from a DataFrame.\n",
            "Try using .loc[row_indexer,col_indexer] = value instead\n",
            "\n",
            "See the caveats in the documentation: http://pandas.pydata.org/pandas-docs/stable/indexing.html#indexing-view-versus-copy\n",
            "  This is separate from the ipykernel package so we can avoid doing imports until\n",
            "C:\\ProgramData\\Anaconda\\lib\\site-packages\\ipykernel_launcher.py:4: SettingWithCopyWarning: \n",
            "A value is trying to be set on a copy of a slice from a DataFrame.\n",
            "Try using .loc[row_indexer,col_indexer] = value instead\n",
            "\n",
            "See the caveats in the documentation: http://pandas.pydata.org/pandas-docs/stable/indexing.html#indexing-view-versus-copy\n",
            "  after removing the cwd from sys.path.\n",
            "C:\\ProgramData\\Anaconda\\lib\\site-packages\\ipykernel_launcher.py:5: SettingWithCopyWarning: \n",
            "A value is trying to be set on a copy of a slice from a DataFrame.\n",
            "Try using .loc[row_indexer,col_indexer] = value instead\n",
            "\n",
            "See the caveats in the documentation: http://pandas.pydata.org/pandas-docs/stable/indexing.html#indexing-view-versus-copy\n",
            "  \"\"\"\n",
            "C:\\ProgramData\\Anaconda\\lib\\site-packages\\ipykernel_launcher.py:6: SettingWithCopyWarning: \n",
            "A value is trying to be set on a copy of a slice from a DataFrame.\n",
            "Try using .loc[row_indexer,col_indexer] = value instead\n",
            "\n",
            "See the caveats in the documentation: http://pandas.pydata.org/pandas-docs/stable/indexing.html#indexing-view-versus-copy\n",
            "  \n"
          ],
          "name": "stderr"
        }
      ]
    },
    {
      "cell_type": "code",
      "metadata": {
        "id": "VqyWIBfCp0JX",
        "colab_type": "code",
        "colab": {},
        "outputId": "5389632a-2f66-492b-c5d2-930504b220ea"
      },
      "source": [
        "print(df_final1.dtypes)"
      ],
      "execution_count": null,
      "outputs": [
        {
          "output_type": "stream",
          "text": [
            "ZIP5               float64\n",
            "FC                   int32\n",
            "DOB                 object\n",
            "CITY                 int32\n",
            "STATE                int32\n",
            "INIT BAL           float64\n",
            "CHARGES            float64\n",
            "CLIENT NAME          int32\n",
            "Service Type        object\n",
            "PT SEX               int32\n",
            "PT MS                int32\n",
            "LIST DT             object\n",
            "PT AREA            float64\n",
            "ADMIT DT            object\n",
            "DSCHG DT            object\n",
            "TU SCORE           float64\n",
            "BCARD HIGH CRDT      int64\n",
            "AMT PDUE 12 MNT      int64\n",
            "Service Locatn       int32\n",
            "result               int64\n",
            "dtype: object\n"
          ],
          "name": "stdout"
        }
      ]
    },
    {
      "cell_type": "code",
      "metadata": {
        "id": "sqf68zxjp0JZ",
        "colab_type": "code",
        "colab": {},
        "outputId": "cb84208e-f530-40f9-d883-45cc4e1ee2b6"
      },
      "source": [
        "## handling dates\n",
        "\n",
        "df_new['LIST DT']=pd.to_datetime(df_new['LIST DT'])\n",
        "#df_new['LIST DT'] = df_new['LIST DT'].apply(lambda x: x.toordinal())\n",
        "\n",
        "df_new['ADMIT DT']=pd.to_datetime(df_new['ADMIT DT'])\n",
        "#df_new['ADMIT DT'] = df_new['ADMIT DT'].apply(lambda x: x.toordinal())\n",
        "\n",
        "df_new['DSCHG DT']=pd.to_datetime(df_new['DSCHG DT'])\n",
        "#df_new['DSCHG DT'] = df_new['DSCHG DT'].apply(lambda x: x.toordinal())\n",
        "\n",
        "df_new['DOB']=pd.to_datetime(df_new['DOB'])\n",
        "#df_new['DOB'] = df_new['DOB'].apply(lambda x: x.toordinal())"
      ],
      "execution_count": null,
      "outputs": [
        {
          "output_type": "stream",
          "text": [
            "C:\\ProgramData\\Anaconda\\lib\\site-packages\\ipykernel_launcher.py:3: SettingWithCopyWarning: \n",
            "A value is trying to be set on a copy of a slice from a DataFrame.\n",
            "Try using .loc[row_indexer,col_indexer] = value instead\n",
            "\n",
            "See the caveats in the documentation: http://pandas.pydata.org/pandas-docs/stable/indexing.html#indexing-view-versus-copy\n",
            "  This is separate from the ipykernel package so we can avoid doing imports until\n",
            "C:\\ProgramData\\Anaconda\\lib\\site-packages\\ipykernel_launcher.py:6: SettingWithCopyWarning: \n",
            "A value is trying to be set on a copy of a slice from a DataFrame.\n",
            "Try using .loc[row_indexer,col_indexer] = value instead\n",
            "\n",
            "See the caveats in the documentation: http://pandas.pydata.org/pandas-docs/stable/indexing.html#indexing-view-versus-copy\n",
            "  \n",
            "C:\\ProgramData\\Anaconda\\lib\\site-packages\\ipykernel_launcher.py:9: SettingWithCopyWarning: \n",
            "A value is trying to be set on a copy of a slice from a DataFrame.\n",
            "Try using .loc[row_indexer,col_indexer] = value instead\n",
            "\n",
            "See the caveats in the documentation: http://pandas.pydata.org/pandas-docs/stable/indexing.html#indexing-view-versus-copy\n",
            "  if __name__ == '__main__':\n",
            "C:\\ProgramData\\Anaconda\\lib\\site-packages\\ipykernel_launcher.py:12: SettingWithCopyWarning: \n",
            "A value is trying to be set on a copy of a slice from a DataFrame.\n",
            "Try using .loc[row_indexer,col_indexer] = value instead\n",
            "\n",
            "See the caveats in the documentation: http://pandas.pydata.org/pandas-docs/stable/indexing.html#indexing-view-versus-copy\n",
            "  if sys.path[0] == '':\n"
          ],
          "name": "stderr"
        }
      ]
    },
    {
      "cell_type": "code",
      "metadata": {
        "id": "5tGUj9AWp0Jc",
        "colab_type": "code",
        "colab": {},
        "outputId": "2d822591-6245-4d92-c445-bc308d1e8a79"
      },
      "source": [
        "print(df_new.dtypes)"
      ],
      "execution_count": null,
      "outputs": [
        {
          "output_type": "stream",
          "text": [
            "ZIP5                      float64\n",
            "FC                          int32\n",
            "DOB                datetime64[ns]\n",
            "CITY                        int32\n",
            "STATE                       int32\n",
            "INIT BAL                  float64\n",
            "CHARGES                   float64\n",
            "CLIENT NAME                 int32\n",
            "PT SEX                      int32\n",
            "PT MS                       int32\n",
            "LIST DT            datetime64[ns]\n",
            "PT AREA                   float64\n",
            "ADMIT DT           datetime64[ns]\n",
            "DSCHG DT           datetime64[ns]\n",
            "TU SCORE                  float64\n",
            "BCARD HIGH CRDT             int64\n",
            "AMT PDUE 12 MNT           float64\n",
            "Service Locatn              int32\n",
            "result                      int64\n",
            "dtype: object\n"
          ],
          "name": "stdout"
        }
      ]
    },
    {
      "cell_type": "code",
      "metadata": {
        "id": "bibfPW-Cp0Jf",
        "colab_type": "code",
        "colab": {},
        "outputId": "9b79e8f8-967b-4d75-afb8-7c79fa0e5b43"
      },
      "source": [
        "## Calculating patient age and issue age\n",
        "import numpy as np\n",
        "df_final1['AGE'] = (pd.datetime.now() - pd.to_datetime(df_final1['DOB']))\n",
        "df_final1['AGE_ISSUE'] = (pd.datetime.now() - pd.to_datetime(df_final1['LIST DT']))\n",
        "df_final1['SL'] = (pd.to_datetime(df_final1['ADMIT DT']) - pd.to_datetime(df_final1['DSCHG DT']))\n",
        "#print(df['AGE'].dtype)\n",
        "df_final1['AGE'].astype('timedelta64[D]')\n",
        "df_final1['AGE_ISSUE'].astype('timedelta64[D]')"
      ],
      "execution_count": null,
      "outputs": [
        {
          "output_type": "stream",
          "text": [
            "C:\\ProgramData\\Anaconda\\lib\\site-packages\\ipykernel_launcher.py:3: SettingWithCopyWarning: \n",
            "A value is trying to be set on a copy of a slice from a DataFrame.\n",
            "Try using .loc[row_indexer,col_indexer] = value instead\n",
            "\n",
            "See the caveats in the documentation: http://pandas.pydata.org/pandas-docs/stable/indexing.html#indexing-view-versus-copy\n",
            "  This is separate from the ipykernel package so we can avoid doing imports until\n",
            "C:\\ProgramData\\Anaconda\\lib\\site-packages\\ipykernel_launcher.py:4: SettingWithCopyWarning: \n",
            "A value is trying to be set on a copy of a slice from a DataFrame.\n",
            "Try using .loc[row_indexer,col_indexer] = value instead\n",
            "\n",
            "See the caveats in the documentation: http://pandas.pydata.org/pandas-docs/stable/indexing.html#indexing-view-versus-copy\n",
            "  after removing the cwd from sys.path.\n",
            "C:\\ProgramData\\Anaconda\\lib\\site-packages\\ipykernel_launcher.py:5: SettingWithCopyWarning: \n",
            "A value is trying to be set on a copy of a slice from a DataFrame.\n",
            "Try using .loc[row_indexer,col_indexer] = value instead\n",
            "\n",
            "See the caveats in the documentation: http://pandas.pydata.org/pandas-docs/stable/indexing.html#indexing-view-versus-copy\n",
            "  \"\"\"\n"
          ],
          "name": "stderr"
        },
        {
          "output_type": "execute_result",
          "data": {
            "text/plain": [
              "2        735.0\n",
              "8        735.0\n",
              "18       735.0\n",
              "38       726.0\n",
              "39       726.0\n",
              "41       726.0\n",
              "42       726.0\n",
              "43       726.0\n",
              "44       726.0\n",
              "46       726.0\n",
              "53       726.0\n",
              "55       726.0\n",
              "57       726.0\n",
              "59       726.0\n",
              "76       726.0\n",
              "91       721.0\n",
              "100      701.0\n",
              "1309     678.0\n",
              "1310     678.0\n",
              "1311     678.0\n",
              "1312     678.0\n",
              "1313     678.0\n",
              "1314     678.0\n",
              "1315     678.0\n",
              "1316     678.0\n",
              "1317     678.0\n",
              "1318     678.0\n",
              "1319     678.0\n",
              "1320     678.0\n",
              "1321     678.0\n",
              "         ...  \n",
              "94221     16.0\n",
              "94222     16.0\n",
              "94223     16.0\n",
              "94224     16.0\n",
              "94225     16.0\n",
              "94226     16.0\n",
              "94227     16.0\n",
              "94228     16.0\n",
              "94229     16.0\n",
              "94231     16.0\n",
              "94232     16.0\n",
              "94235     16.0\n",
              "94236     16.0\n",
              "94240     16.0\n",
              "94241     16.0\n",
              "94242     16.0\n",
              "94243     16.0\n",
              "94247     16.0\n",
              "94255      9.0\n",
              "94256     15.0\n",
              "94261      9.0\n",
              "94263      9.0\n",
              "94264      9.0\n",
              "94265      9.0\n",
              "94269      9.0\n",
              "94273      9.0\n",
              "94275      9.0\n",
              "94284     12.0\n",
              "94310      9.0\n",
              "94324      9.0\n",
              "Name: AGE_ISSUE, Length: 18328, dtype: float64"
            ]
          },
          "metadata": {
            "tags": []
          },
          "execution_count": 60
        }
      ]
    },
    {
      "cell_type": "code",
      "metadata": {
        "id": "CvRXuy20p0Jh",
        "colab_type": "code",
        "colab": {},
        "outputId": "e3f32ab8-10ae-455a-d16c-7ed8d030b919"
      },
      "source": [
        "df_final1['AGE'] = (df_final1['AGE'] - df_final1['AGE'].min()).apply(lambda x: x.days)\n",
        "df_final1['AGE_ISSUE'] = (df_final1['AGE_ISSUE'] - df_final1['AGE_ISSUE'].min()).apply(lambda x: x.days)\n",
        "df_final1['SL'] = (df_final1['SL'] - df_final1['SL'].min()).apply(lambda x: x.days)"
      ],
      "execution_count": null,
      "outputs": [
        {
          "output_type": "stream",
          "text": [
            "C:\\ProgramData\\Anaconda\\lib\\site-packages\\ipykernel_launcher.py:1: SettingWithCopyWarning: \n",
            "A value is trying to be set on a copy of a slice from a DataFrame.\n",
            "Try using .loc[row_indexer,col_indexer] = value instead\n",
            "\n",
            "See the caveats in the documentation: http://pandas.pydata.org/pandas-docs/stable/indexing.html#indexing-view-versus-copy\n",
            "  \"\"\"Entry point for launching an IPython kernel.\n",
            "C:\\ProgramData\\Anaconda\\lib\\site-packages\\ipykernel_launcher.py:2: SettingWithCopyWarning: \n",
            "A value is trying to be set on a copy of a slice from a DataFrame.\n",
            "Try using .loc[row_indexer,col_indexer] = value instead\n",
            "\n",
            "See the caveats in the documentation: http://pandas.pydata.org/pandas-docs/stable/indexing.html#indexing-view-versus-copy\n",
            "  \n",
            "C:\\ProgramData\\Anaconda\\lib\\site-packages\\ipykernel_launcher.py:3: SettingWithCopyWarning: \n",
            "A value is trying to be set on a copy of a slice from a DataFrame.\n",
            "Try using .loc[row_indexer,col_indexer] = value instead\n",
            "\n",
            "See the caveats in the documentation: http://pandas.pydata.org/pandas-docs/stable/indexing.html#indexing-view-versus-copy\n",
            "  This is separate from the ipykernel package so we can avoid doing imports until\n"
          ],
          "name": "stderr"
        }
      ]
    },
    {
      "cell_type": "code",
      "metadata": {
        "id": "dU4aFBBzp0Jj",
        "colab_type": "code",
        "colab": {},
        "outputId": "688d397f-aefc-4244-a738-c364c83cc510"
      },
      "source": [
        "#df_new.drop(['DOB','LIST DT'], axis=1,inplace=True)\n",
        "print(df_final1.dtypes)"
      ],
      "execution_count": null,
      "outputs": [
        {
          "output_type": "stream",
          "text": [
            "ZIP5               float64\n",
            "FC                   int32\n",
            "DOB                 object\n",
            "CITY                 int32\n",
            "STATE                int32\n",
            "INIT BAL           float64\n",
            "CHARGES            float64\n",
            "CLIENT NAME          int32\n",
            "Service Type        object\n",
            "PT SEX               int32\n",
            "PT MS                int32\n",
            "LIST DT             object\n",
            "PT AREA            float64\n",
            "ADMIT DT            object\n",
            "DSCHG DT            object\n",
            "TU SCORE           float64\n",
            "BCARD HIGH CRDT      int64\n",
            "AMT PDUE 12 MNT      int64\n",
            "Service Locatn       int32\n",
            "result               int64\n",
            "AGE                  int64\n",
            "AGE_ISSUE            int64\n",
            "SL                 float64\n",
            "dtype: object\n"
          ],
          "name": "stdout"
        }
      ]
    },
    {
      "cell_type": "code",
      "metadata": {
        "id": "7ObaioBjp0Jl",
        "colab_type": "code",
        "colab": {},
        "outputId": "27665acd-bb7d-4087-e5a0-2daf3c4f2055"
      },
      "source": [
        "df_final1.drop(['DOB','LIST DT','ADMIT DT','DSCHG DT','Service Type'],axis=1,inplace=True)"
      ],
      "execution_count": null,
      "outputs": [
        {
          "output_type": "stream",
          "text": [
            "C:\\ProgramData\\Anaconda\\lib\\site-packages\\pandas\\core\\frame.py:3940: SettingWithCopyWarning: \n",
            "A value is trying to be set on a copy of a slice from a DataFrame\n",
            "\n",
            "See the caveats in the documentation: http://pandas.pydata.org/pandas-docs/stable/indexing.html#indexing-view-versus-copy\n",
            "  errors=errors)\n"
          ],
          "name": "stderr"
        }
      ]
    },
    {
      "cell_type": "code",
      "metadata": {
        "id": "ykDzDcGTp0Jo",
        "colab_type": "code",
        "colab": {},
        "outputId": "99bfd294-c91e-4436-a294-dd2e7d8c1870"
      },
      "source": [
        "print(df_final1.dtypes)"
      ],
      "execution_count": null,
      "outputs": [
        {
          "output_type": "stream",
          "text": [
            "ZIP5               float64\n",
            "FC                   int32\n",
            "CITY                 int32\n",
            "STATE                int32\n",
            "INIT BAL           float64\n",
            "CHARGES            float64\n",
            "CLIENT NAME          int32\n",
            "PT SEX               int32\n",
            "PT MS                int32\n",
            "PT AREA            float64\n",
            "TU SCORE           float64\n",
            "BCARD HIGH CRDT      int64\n",
            "AMT PDUE 12 MNT      int64\n",
            "Service Locatn       int32\n",
            "result               int64\n",
            "AGE                  int64\n",
            "AGE_ISSUE            int64\n",
            "SL                 float64\n",
            "dtype: object\n"
          ],
          "name": "stdout"
        }
      ]
    },
    {
      "cell_type": "code",
      "metadata": {
        "id": "47W2m3Lzp0Jq",
        "colab_type": "code",
        "colab": {},
        "outputId": "c5721f18-9e99-42a2-d148-05e62ad27cf1"
      },
      "source": [
        "pd.isnull(df_final1).sum() > 0"
      ],
      "execution_count": null,
      "outputs": [
        {
          "output_type": "execute_result",
          "data": {
            "text/plain": [
              "ZIP5                True\n",
              "FC                 False\n",
              "CITY               False\n",
              "STATE              False\n",
              "INIT BAL           False\n",
              "CHARGES            False\n",
              "CLIENT NAME        False\n",
              "PT SEX             False\n",
              "PT MS              False\n",
              "PT AREA             True\n",
              "TU SCORE            True\n",
              "BCARD HIGH CRDT    False\n",
              "AMT PDUE 12 MNT    False\n",
              "Service Locatn     False\n",
              "result             False\n",
              "AGE                False\n",
              "AGE_ISSUE          False\n",
              "SL                  True\n",
              "dtype: bool"
            ]
          },
          "metadata": {
            "tags": []
          },
          "execution_count": 68
        }
      ]
    },
    {
      "cell_type": "code",
      "metadata": {
        "id": "Z6jq3BGsp0Jt",
        "colab_type": "code",
        "colab": {}
      },
      "source": [
        "from sklearn.impute import SimpleImputer\n",
        "imp = SimpleImputer(strategy=\"most_frequent\")\n",
        "data = pd.DataFrame(imp.fit_transform(df_final1),columns=df_final1.columns, index=df_final1.index)"
      ],
      "execution_count": null,
      "outputs": []
    },
    {
      "cell_type": "code",
      "metadata": {
        "id": "sfRsuDVyp0Jv",
        "colab_type": "code",
        "colab": {},
        "outputId": "7f38b700-dc79-4d25-be29-02abeec29d88"
      },
      "source": [
        "pd.isnull(data).sum() > 0"
      ],
      "execution_count": null,
      "outputs": [
        {
          "output_type": "execute_result",
          "data": {
            "text/plain": [
              "ZIP5               False\n",
              "FC                 False\n",
              "CITY               False\n",
              "STATE              False\n",
              "INIT BAL           False\n",
              "CHARGES            False\n",
              "CLIENT NAME        False\n",
              "PT SEX             False\n",
              "PT MS              False\n",
              "PT AREA            False\n",
              "TU SCORE           False\n",
              "BCARD HIGH CRDT    False\n",
              "AMT PDUE 12 MNT    False\n",
              "Service Locatn     False\n",
              "result             False\n",
              "AGE                False\n",
              "AGE_ISSUE          False\n",
              "SL                 False\n",
              "dtype: bool"
            ]
          },
          "metadata": {
            "tags": []
          },
          "execution_count": 70
        }
      ]
    },
    {
      "cell_type": "code",
      "metadata": {
        "id": "NPGAkTr7p0Jz",
        "colab_type": "code",
        "colab": {}
      },
      "source": [
        "data.to_csv(\"C:\\\\Users\\\\nikhilran\\\\Desktop\\\\Singing River BD\\\\HBNewFinal_SingingRiversBD.csv\")"
      ],
      "execution_count": null,
      "outputs": []
    },
    {
      "cell_type": "code",
      "metadata": {
        "id": "GKfVSTsXp0J1",
        "colab_type": "code",
        "colab": {}
      },
      "source": [
        "X = data.drop('result',axis=1)\n",
        "y = data['result']"
      ],
      "execution_count": null,
      "outputs": []
    },
    {
      "cell_type": "code",
      "metadata": {
        "id": "FNZ6hHAup0J4",
        "colab_type": "code",
        "colab": {}
      },
      "source": [
        "from sklearn.model_selection import train_test_split\n",
        "X_train, X_test, y_train, y_test = train_test_split(X, y, test_size=0.33, random_state=42)"
      ],
      "execution_count": null,
      "outputs": []
    },
    {
      "cell_type": "code",
      "metadata": {
        "id": "t3nlO_qtp0J6",
        "colab_type": "code",
        "colab": {},
        "outputId": "d8aa6b01-aed8-4921-d864-664f597fad0e"
      },
      "source": [
        "from sklearn.ensemble import RandomForestClassifier\n",
        "# random forest model creation\n",
        "rfc = RandomForestClassifier()\n",
        "clf = rfc.fit(X_train,y_train)"
      ],
      "execution_count": null,
      "outputs": [
        {
          "output_type": "stream",
          "text": [
            "C:\\ProgramData\\Anaconda\\lib\\site-packages\\sklearn\\ensemble\\forest.py:246: FutureWarning: The default value of n_estimators will change from 10 in version 0.20 to 100 in 0.22.\n",
            "  \"10 in version 0.20 to 100 in 0.22.\", FutureWarning)\n"
          ],
          "name": "stderr"
        }
      ]
    },
    {
      "cell_type": "code",
      "metadata": {
        "id": "1KCCTMH1p0J9",
        "colab_type": "code",
        "colab": {},
        "outputId": "b92b02d5-f4dc-456b-c298-f6dc81fe4b4b"
      },
      "source": [
        "y_pred = clf.predict(X_test)\n",
        "import sklearn\n",
        "Accuracy = sklearn.metrics.accuracy_score(y_test,y_pred)\n",
        "acc = Accuracy*100\n",
        "print(acc)"
      ],
      "execution_count": null,
      "outputs": [
        {
          "output_type": "stream",
          "text": [
            "97.58637791370475\n"
          ],
          "name": "stdout"
        }
      ]
    },
    {
      "cell_type": "code",
      "metadata": {
        "id": "3vLGTfSqp0KA",
        "colab_type": "code",
        "colab": {}
      },
      "source": [
        "probTest1 = clf.predict_proba(X_test)\n",
        "prob_Test1 = probTest1[:,1]"
      ],
      "execution_count": null,
      "outputs": []
    },
    {
      "cell_type": "code",
      "metadata": {
        "id": "hVlrc9zSp0KD",
        "colab_type": "code",
        "colab": {},
        "outputId": "55e803a7-eeaa-46c6-c6c7-adcfe942e7fa"
      },
      "source": [
        "## Train AUC\n",
        "from sklearn.metrics import roc_curve\n",
        "from sklearn.metrics import roc_auc_score\n",
        "\n",
        "auc1 = roc_auc_score(y_test,prob_Test1)\n",
        "print('AUC: %.2f' % auc1)"
      ],
      "execution_count": null,
      "outputs": [
        {
          "output_type": "stream",
          "text": [
            "AUC: 0.74\n"
          ],
          "name": "stdout"
        }
      ]
    },
    {
      "cell_type": "code",
      "metadata": {
        "id": "zuVyF3jbp0KF",
        "colab_type": "code",
        "colab": {}
      },
      "source": [
        ""
      ],
      "execution_count": null,
      "outputs": []
    }
  ]
}