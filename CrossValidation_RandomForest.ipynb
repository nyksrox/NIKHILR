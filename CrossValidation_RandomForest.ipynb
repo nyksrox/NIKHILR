{
  "nbformat": 4,
  "nbformat_minor": 0,
  "metadata": {
    "kernelspec": {
      "display_name": "Python 3",
      "language": "python",
      "name": "python3"
    },
    "language_info": {
      "codemirror_mode": {
        "name": "ipython",
        "version": 3
      },
      "file_extension": ".py",
      "mimetype": "text/x-python",
      "name": "python",
      "nbconvert_exporter": "python",
      "pygments_lexer": "ipython3",
      "version": "3.7.3"
    },
    "colab": {
      "name": "CrossValidation_RandomForest.ipynb",
      "provenance": [],
      "collapsed_sections": [],
      "include_colab_link": true
    }
  },
  "cells": [
    {
      "cell_type": "markdown",
      "metadata": {
        "id": "view-in-github",
        "colab_type": "text"
      },
      "source": [
        "<a href=\"https://colab.research.google.com/github/nyksrox/NIKHILR/blob/master/CrossValidation_RandomForest.ipynb\" target=\"_parent\"><img src=\"https://colab.research.google.com/assets/colab-badge.svg\" alt=\"Open In Colab\"/></a>"
      ]
    },
    {
      "cell_type": "code",
      "metadata": {
        "id": "S20gb99w9Oit",
        "colab_type": "code",
        "colab": {}
      },
      "source": [
        "import pandas as pd\n",
        "import numpy as np\n",
        "import sklearn\n",
        "from matplotlib import pyplot as plt\n",
        "from datetime import datetime\n"
      ],
      "execution_count": null,
      "outputs": []
    },
    {
      "cell_type": "code",
      "metadata": {
        "id": "UBIUS7IZ9Oix",
        "colab_type": "code",
        "colab": {}
      },
      "source": [
        "data = pd.read_csv(\"C:\\\\Users\\\\nikhilran\\\\Desktop\\\\HealthCareExperiments\\\\N\\\\JMH_Data_V1.csv\")"
      ],
      "execution_count": null,
      "outputs": []
    },
    {
      "cell_type": "code",
      "metadata": {
        "id": "evOprOnQ9Oi0",
        "colab_type": "code",
        "colab": {}
      },
      "source": [
        "data['LIST DT']=pd.to_datetime(data['LIST DT'])\n",
        "data['LIST DT'] = data['LIST DT'].apply(lambda x: x.toordinal())\n",
        "\n",
        "data['ADMIT DT']=pd.to_datetime(data['ADMIT DT'])\n",
        "data['ADMIT DT'] = data['ADMIT DT'].apply(lambda x: x.toordinal())\n",
        "\n",
        "data['DSCHG DT']=pd.to_datetime(data['DSCHG DT'])\n",
        "data['DSCHG DT'] = data['DSCHG DT'].apply(lambda x: x.toordinal())\n",
        "\n",
        "data['DOB']=pd.to_datetime(data['DOB'])\n",
        "data['DOB'] = data['DOB'].apply(lambda x: x.toordinal())"
      ],
      "execution_count": null,
      "outputs": []
    },
    {
      "cell_type": "code",
      "metadata": {
        "id": "N3x-7PA49Oi3",
        "colab_type": "code",
        "colab": {}
      },
      "source": [
        "from sklearn.impute import SimpleImputer\n",
        "imp = SimpleImputer(strategy=\"most_frequent\")\n",
        "data1 = pd.DataFrame(imp.fit_transform(data),columns=data.columns, index=data.index)\n",
        "#print(imp.fit_transform(data))"
      ],
      "execution_count": null,
      "outputs": []
    },
    {
      "cell_type": "code",
      "metadata": {
        "id": "7AVdNCS79Oi6",
        "colab_type": "code",
        "colab": {},
        "outputId": "d8897d73-55a0-4381-d653-f9714ad7e9ad"
      },
      "source": [
        "print(\"Before OverSampling, counts of label '1': {}\".format(sum(data1['Payment Status']==1)))\n",
        "print(\"Before OverSampling, counts of label '0': {} \\n\".format(sum(data1['Payment Status']==0)))\n",
        "\n"
      ],
      "execution_count": null,
      "outputs": [
        {
          "output_type": "stream",
          "text": [
            "Before OverSampling, counts of label '1': 7793\n",
            "Before OverSampling, counts of label '0': 48323 \n",
            "\n"
          ],
          "name": "stdout"
        }
      ]
    },
    {
      "cell_type": "code",
      "metadata": {
        "id": "hp4diRj89Oi9",
        "colab_type": "code",
        "colab": {}
      },
      "source": [
        "# Separate majority and minority classes\n",
        "df_majority = data1[data1['Payment Status']==0]\n",
        "df_minority = data1[data1['Payment Status']==1]"
      ],
      "execution_count": null,
      "outputs": []
    },
    {
      "cell_type": "code",
      "metadata": {
        "id": "1tetdjlT9OjA",
        "colab_type": "code",
        "colab": {}
      },
      "source": [
        "from sklearn.utils import resample"
      ],
      "execution_count": null,
      "outputs": []
    },
    {
      "cell_type": "code",
      "metadata": {
        "id": "49xQiIeu9OjD",
        "colab_type": "code",
        "colab": {}
      },
      "source": [
        "# Upsample minority class\n",
        "df_minority_upsampled = resample(df_minority, \n",
        "                                 replace=True,     # sample with replacement\n",
        "                                 n_samples=48323,    # to match majority class\n",
        "                                 random_state=123) # reproducible results"
      ],
      "execution_count": null,
      "outputs": []
    },
    {
      "cell_type": "code",
      "metadata": {
        "id": "NjFMQIVG9OjG",
        "colab_type": "code",
        "colab": {}
      },
      "source": [
        "# Combine majority class with upsampled minority class\n",
        "df_upsampled = pd.concat([df_majority, df_minority_upsampled])\n"
      ],
      "execution_count": null,
      "outputs": []
    },
    {
      "cell_type": "code",
      "metadata": {
        "id": "GeYwbqIi9OjJ",
        "colab_type": "code",
        "colab": {},
        "outputId": "f644e476-5894-4554-c948-7d1614337c10"
      },
      "source": [
        "print(\"After OverSampling, counts of label '1': {}\".format(sum(df_upsampled['Payment Status']==1)))\n",
        "print(\"After OverSampling, counts of label '0': {} \\n\".format(sum(df_upsampled['Payment Status']==0)))"
      ],
      "execution_count": null,
      "outputs": [
        {
          "output_type": "stream",
          "text": [
            "After OverSampling, counts of label '1': 48323\n",
            "After OverSampling, counts of label '0': 48323 \n",
            "\n"
          ],
          "name": "stdout"
        }
      ]
    },
    {
      "cell_type": "code",
      "metadata": {
        "id": "7N-_1eQ59OjL",
        "colab_type": "code",
        "colab": {}
      },
      "source": [
        "X = df_upsampled.drop(columns=['Payment Status'])\n",
        "#x = x1.drop(columns=['IA SCORE'])"
      ],
      "execution_count": null,
      "outputs": []
    },
    {
      "cell_type": "code",
      "metadata": {
        "id": "br1Q0BAM9OjO",
        "colab_type": "code",
        "colab": {}
      },
      "source": [
        "y = df_upsampled['Payment Status']"
      ],
      "execution_count": null,
      "outputs": []
    },
    {
      "cell_type": "code",
      "metadata": {
        "id": "79LWoVHd9OjR",
        "colab_type": "code",
        "colab": {}
      },
      "source": [
        "from sklearn.model_selection import train_test_split"
      ],
      "execution_count": null,
      "outputs": []
    },
    {
      "cell_type": "code",
      "metadata": {
        "id": "6EPTfYhw9OjT",
        "colab_type": "code",
        "colab": {}
      },
      "source": [
        "X_train, X_test, y_train, y_test = train_test_split(X, y, test_size=0.33, random_state=42)"
      ],
      "execution_count": null,
      "outputs": []
    },
    {
      "cell_type": "code",
      "metadata": {
        "id": "22Kcm1nB9OjW",
        "colab_type": "code",
        "colab": {}
      },
      "source": [
        "from sklearn.ensemble import RandomForestClassifier"
      ],
      "execution_count": null,
      "outputs": []
    },
    {
      "cell_type": "code",
      "metadata": {
        "id": "UKu0IHmj9OjY",
        "colab_type": "code",
        "colab": {},
        "outputId": "891baaeb-62a7-40b4-f628-7c8493206d17"
      },
      "source": [
        "# random forest model creation\n",
        "rfc = RandomForestClassifier()\n",
        "clf = rfc.fit(X_train,y_train)"
      ],
      "execution_count": null,
      "outputs": [
        {
          "output_type": "stream",
          "text": [
            "C:\\ProgramData\\Anaconda\\lib\\site-packages\\sklearn\\ensemble\\forest.py:246: FutureWarning: The default value of n_estimators will change from 10 in version 0.20 to 100 in 0.22.\n",
            "  \"10 in version 0.20 to 100 in 0.22.\", FutureWarning)\n"
          ],
          "name": "stderr"
        }
      ]
    },
    {
      "cell_type": "code",
      "metadata": {
        "id": "vmiy32KU9Ojd",
        "colab_type": "code",
        "colab": {},
        "outputId": "219663f7-784e-45de-936b-1208af149350"
      },
      "source": [
        "from sklearn.model_selection import cross_val_score\n",
        "import numpy as np\n",
        "\n",
        "# 10-Fold Cross validation\n",
        "print(np.mean(cross_val_score(clf, X_train, y_train, cv=10,scoring='recall')))"
      ],
      "execution_count": null,
      "outputs": [
        {
          "output_type": "stream",
          "text": [
            "0.9851677213751138\n"
          ],
          "name": "stdout"
        }
      ]
    },
    {
      "cell_type": "code",
      "metadata": {
        "id": "XUKI_qwP9Ojf",
        "colab_type": "code",
        "colab": {},
        "outputId": "d6cd6711-9fb2-4758-f697-ff1aac426733"
      },
      "source": [
        "print(np.mean(cross_val_score(clf, X_train, y_train, cv=10,scoring='accuracy')))"
      ],
      "execution_count": null,
      "outputs": [
        {
          "output_type": "stream",
          "text": [
            "0.9665338438535713\n"
          ],
          "name": "stdout"
        }
      ]
    },
    {
      "cell_type": "code",
      "metadata": {
        "id": "VEiYT91Y9Oji",
        "colab_type": "code",
        "colab": {},
        "outputId": "b9fcebfd-61e1-4403-ff7e-21106235fa66"
      },
      "source": [
        "# from sklearn.model_selection import RandomizedSearchCV\n",
        "# # number of trees in random forest\n",
        "# n_estimators = [int(x) for x in np.linspace(start = 200, stop = 2000, num = 10)]\n",
        "\n",
        "# # number of features at every split\n",
        "# max_features = ['auto','sqrt']\n",
        "\n",
        "# # max depth\n",
        "# max_depth = [int(x) for x in np.linspace(100, 500, num = 11)]\n",
        "# max_depth.append(None)\n",
        "\n",
        "# # create random grid\n",
        "# random_grid = {\n",
        "#  'n_estimators':n_estimators,\n",
        "#  'max_features':max_features,\n",
        "#  'max_depth':max_depth\n",
        "#  }\n",
        "# # Random search of parameters\n",
        "# rfc_random = RandomizedSearchCV(estimator = rfc, param_distributions = random_grid, n_iter = 100, cv = 3, verbose=2, random_state=42, n_jobs = -1)\n",
        "# # Fit the model\n",
        "# rfc_random.fit(X_train, y_train)\n",
        "# # print results\n",
        "# print(rfc_random.best_params_)"
      ],
      "execution_count": null,
      "outputs": [
        {
          "output_type": "stream",
          "text": [
            "Fitting 3 folds for each of 100 candidates, totalling 300 fits\n"
          ],
          "name": "stdout"
        },
        {
          "output_type": "stream",
          "text": [
            "[Parallel(n_jobs=-1)]: Using backend LokyBackend with 8 concurrent workers.\n",
            "[Parallel(n_jobs=-1)]: Done  25 tasks      | elapsed: 25.2min\n",
            "[Parallel(n_jobs=-1)]: Done 146 tasks      | elapsed: 102.1min\n"
          ],
          "name": "stderr"
        }
      ]
    },
    {
      "cell_type": "code",
      "metadata": {
        "id": "hBCrFBgo9Ojl",
        "colab_type": "code",
        "colab": {}
      },
      "source": [
        "y_pred=clf.predict(X_test)\n",
        "y_true = y_test"
      ],
      "execution_count": null,
      "outputs": []
    },
    {
      "cell_type": "code",
      "metadata": {
        "id": "_6Fo9u0l9Ojn",
        "colab_type": "code",
        "colab": {}
      },
      "source": [
        "#y_pred.to_frame()\n",
        "#print(y_pred)\n",
        "np.savetxt(\"C:\\\\Users\\\\nikhilran\\\\Desktop\\\\HealthCareExperiments\\\\N\\\\RandomForestPrediction1.csv\",y_pred, delimiter=\",\")"
      ],
      "execution_count": null,
      "outputs": []
    },
    {
      "cell_type": "code",
      "metadata": {
        "id": "WOpNn3iJ9Ojp",
        "colab_type": "code",
        "colab": {}
      },
      "source": [
        "prob = clf.predict_proba(X_test)"
      ],
      "execution_count": null,
      "outputs": []
    },
    {
      "cell_type": "code",
      "metadata": {
        "id": "waD-70fL9Ojs",
        "colab_type": "code",
        "colab": {}
      },
      "source": [
        "probs = prob[:, 1]"
      ],
      "execution_count": null,
      "outputs": []
    },
    {
      "cell_type": "code",
      "metadata": {
        "id": "PeAGMBM39Oju",
        "colab_type": "code",
        "colab": {},
        "outputId": "4bf6c09a-1ca6-4f27-97a8-d864a5497a00"
      },
      "source": [
        "print(probs)"
      ],
      "execution_count": null,
      "outputs": [
        {
          "output_type": "stream",
          "text": [
            "[0.  0.9 0.1 ... 0.  0.  0. ]\n"
          ],
          "name": "stdout"
        }
      ]
    },
    {
      "cell_type": "code",
      "metadata": {
        "id": "A2pzG2089Ojx",
        "colab_type": "code",
        "colab": {},
        "outputId": "e805a84f-d794-4af1-fc6d-377ca325dcfd"
      },
      "source": [
        "print(y_pred.astype(int))"
      ],
      "execution_count": null,
      "outputs": [
        {
          "output_type": "stream",
          "text": [
            "[0 1 0 ... 0 0 0]\n"
          ],
          "name": "stdout"
        }
      ]
    },
    {
      "cell_type": "code",
      "metadata": {
        "id": "H99RdCpB9Ojz",
        "colab_type": "code",
        "colab": {}
      },
      "source": [
        "from sklearn.metrics import roc_curve\n",
        "from sklearn.metrics import roc_auc_score\n"
      ],
      "execution_count": null,
      "outputs": []
    },
    {
      "cell_type": "code",
      "metadata": {
        "id": "j1TipWN29Oj1",
        "colab_type": "code",
        "colab": {},
        "outputId": "2676aca4-0097-4c19-da6c-9e7eb650aee1"
      },
      "source": [
        "auc1 = roc_auc_score(y_test, probs)\n",
        "print(auc1)"
      ],
      "execution_count": null,
      "outputs": [
        {
          "output_type": "stream",
          "text": [
            "0.9940258725777023\n"
          ],
          "name": "stdout"
        }
      ]
    },
    {
      "cell_type": "code",
      "metadata": {
        "id": "EPwgaPxN9Oj4",
        "colab_type": "code",
        "colab": {}
      },
      "source": [
        "fpr, tpr, thresholds = roc_curve(y_test, probs)\n",
        "#roc_auc = auc(fpr, tpr)\n"
      ],
      "execution_count": null,
      "outputs": []
    },
    {
      "cell_type": "code",
      "metadata": {
        "id": "TKmAXdEd9Oj6",
        "colab_type": "code",
        "colab": {},
        "outputId": "d4ff4d28-3a67-42a5-f806-fe6fd225d09a"
      },
      "source": [
        "print(fpr)\n",
        "print(tpr)\n",
        "print(thresholds)"
      ],
      "execution_count": null,
      "outputs": [
        {
          "output_type": "stream",
          "text": [
            "[0.        0.003625  0.0115    0.02025   0.0325625 0.0493125 0.079125\n",
            " 0.125625  0.206     0.3440625 0.586875  1.       ]\n",
            "[0.         0.84176419 0.93557317 0.967472   0.98338996 0.98955581\n",
            " 0.99207248 0.99389707 0.99591041 0.99767208 0.99905625 1.        ]\n",
            "[2.  1.  0.9 0.8 0.7 0.6 0.5 0.4 0.3 0.2 0.1 0. ]\n"
          ],
          "name": "stdout"
        }
      ]
    },
    {
      "cell_type": "code",
      "metadata": {
        "id": "_VG2tRoZ9Oj8",
        "colab_type": "code",
        "colab": {},
        "outputId": "77e8fd6f-a79c-4c3b-dc74-e023b0039d0e"
      },
      "source": [
        "print(sklearn.metrics.auc(fpr,tpr))"
      ],
      "execution_count": null,
      "outputs": [
        {
          "output_type": "stream",
          "text": [
            "0.9940258725777023\n"
          ],
          "name": "stdout"
        }
      ]
    },
    {
      "cell_type": "code",
      "metadata": {
        "id": "W-HgeGIx9Oj_",
        "colab_type": "code",
        "colab": {},
        "outputId": "3b8b4256-bde0-4773-b741-a5039531b2e2"
      },
      "source": [
        "fp_rate, tp_rate, thresholds = roc_curve(y_test,probs)\n",
        "print(sklearn.metrics.auc(fp_rate, tp_rate))"
      ],
      "execution_count": null,
      "outputs": [
        {
          "output_type": "stream",
          "text": [
            "0.9940258725777023\n"
          ],
          "name": "stdout"
        }
      ]
    },
    {
      "cell_type": "code",
      "metadata": {
        "scrolled": true,
        "id": "D85NdygW9OkC",
        "colab_type": "code",
        "colab": {},
        "outputId": "8da00d6e-252a-4d22-d112-8f6cb03b2336"
      },
      "source": [
        "import matplotlib.pyplot as plt\n",
        "plt.plot(fp_rate,tp_rate)\n",
        "plt.plot([0, 1], [0, 1],'r--')\n",
        "plt.show()"
      ],
      "execution_count": null,
      "outputs": [
        {
          "output_type": "display_data",
          "data": {
            "image/png": "[encoded data removed]",
            "text/plain": [
              "<Figure size 432x288 with 1 Axes>"
            ]
          },
          "metadata": {
            "tags": [],
            "needs_background": "light"
          }
        }
      ]
    },
    {
      "cell_type": "code",
      "metadata": {
        "id": "Qc6bvMqz9OkF",
        "colab_type": "code",
        "colab": {},
        "outputId": "95123e44-3418-4479-eb9f-ed44a0170866"
      },
      "source": [
        "print(y_pred)"
      ],
      "execution_count": null,
      "outputs": [
        {
          "output_type": "stream",
          "text": [
            "[0. 1. 0. ... 0. 0. 0.]\n"
          ],
          "name": "stdout"
        }
      ]
    },
    {
      "cell_type": "code",
      "metadata": {
        "id": "QXxp2bfW9OkH",
        "colab_type": "code",
        "colab": {}
      },
      "source": [
        "from sklearn import metrics"
      ],
      "execution_count": null,
      "outputs": []
    },
    {
      "cell_type": "code",
      "metadata": {
        "id": "ras1GpLK9OkJ",
        "colab_type": "code",
        "colab": {}
      },
      "source": [
        "#print(\"Accuracy:\",metrics.accuracy_score(y_test, y_pred))\n",
        "#print(\"Precision:\",metrics.precision_score(y_test, y_pred))\n",
        "#print(\"Recall:\",metrics.recall_score(y_test, y_pred))\n",
        "\n",
        "Accuracy = metrics.accuracy_score(y_test,y_pred)\n",
        "acc = Accuracy*100"
      ],
      "execution_count": null,
      "outputs": []
    },
    {
      "cell_type": "code",
      "metadata": {
        "id": "hBVIrjkq9OkL",
        "colab_type": "code",
        "colab": {},
        "outputId": "4c9c4e05-ec3b-407a-a6dd-d66bbf63c289"
      },
      "source": [
        "print(\"Accuracy:\",acc,\"%\")"
      ],
      "execution_count": null,
      "outputs": [
        {
          "output_type": "stream",
          "text": [
            "Accuracy: 97.00570640245815 %\n"
          ],
          "name": "stdout"
        }
      ]
    },
    {
      "cell_type": "code",
      "metadata": {
        "id": "jDnSJZLB9OkO",
        "colab_type": "code",
        "colab": {},
        "outputId": "7679cd01-317b-46ba-f16e-22392dfb9865"
      },
      "source": [
        "cnf_matrix = metrics.confusion_matrix(y_test, y_pred)\n",
        "print(cnf_matrix)"
      ],
      "execution_count": null,
      "outputs": [
        {
          "output_type": "stream",
          "text": [
            "[[15211   789]\n",
            " [  166 15728]]\n"
          ],
          "name": "stdout"
        }
      ]
    },
    {
      "cell_type": "code",
      "metadata": {
        "id": "wxu4n7zJ9OkR",
        "colab_type": "code",
        "colab": {},
        "outputId": "01018fed-3c0c-488e-bab3-eff82a285064"
      },
      "source": [
        "from sklearn.metrics import classification_report\n",
        "print(classification_report(y_test,y_pred))"
      ],
      "execution_count": null,
      "outputs": [
        {
          "output_type": "stream",
          "text": [
            "              precision    recall  f1-score   support\n",
            "\n",
            "         0.0       0.99      0.95      0.97     16000\n",
            "         1.0       0.95      0.99      0.97     15894\n",
            "\n",
            "   micro avg       0.97      0.97      0.97     31894\n",
            "   macro avg       0.97      0.97      0.97     31894\n",
            "weighted avg       0.97      0.97      0.97     31894\n",
            "\n"
          ],
          "name": "stdout"
        }
      ]
    },
    {
      "cell_type": "code",
      "metadata": {
        "id": "mQ7WPk3h9OkT",
        "colab_type": "code",
        "colab": {}
      },
      "source": [
        "import numpy as np\n",
        "import matplotlib.pyplot as plt\n",
        "import seaborn as sns\n",
        "%matplotlib inline"
      ],
      "execution_count": null,
      "outputs": []
    },
    {
      "cell_type": "code",
      "metadata": {
        "id": "RNkRfg_-9OkV",
        "colab_type": "code",
        "colab": {},
        "outputId": "d0c7dca4-db74-4f8b-cbb3-1c85782aef31"
      },
      "source": [
        "class_names=[0,1] # name  of classes\n",
        "fig, ax = plt.subplots()\n",
        "tick_marks = np.arange(len(class_names))\n",
        "plt.xticks(tick_marks, class_names)\n",
        "plt.yticks(tick_marks, class_names)\n",
        "# create heatmap\n",
        "sns.heatmap(pd.DataFrame(cnf_matrix), annot=True, cmap=\"YlGnBu\" ,fmt='g')\n",
        "ax.xaxis.set_label_position(\"top\")\n",
        "plt.tight_layout()\n",
        "plt.title('Confusion matrix', y=1.1)\n",
        "plt.ylabel('Actual label')\n",
        "plt.xlabel('Predicted label')"
      ],
      "execution_count": null,
      "outputs": [
        {
          "output_type": "execute_result",
          "data": {
            "text/plain": [
              "Text(0.5, 257.44, 'Predicted label')"
            ]
          },
          "metadata": {
            "tags": []
          },
          "execution_count": 40
        },
        {
          "output_type": "display_data",
          "data": {
            "image/png": "[encoded data removed]",
            "text/plain": [
              "<Figure size 432x288 with 2 Axes>"
            ]
          },
          "metadata": {
            "tags": [],
            "needs_background": "light"
          }
        }
      ]
    },
    {
      "cell_type": "code",
      "metadata": {
        "id": "ZXbwabXB9OkY",
        "colab_type": "code",
        "colab": {}
      },
      "source": [
        "a = sklearn.metrics.precision_score(y_test,y_pred)"
      ],
      "execution_count": null,
      "outputs": []
    },
    {
      "cell_type": "code",
      "metadata": {
        "id": "y7VKlI7I9Okc",
        "colab_type": "code",
        "colab": {},
        "outputId": "c287fa11-a3ea-4450-a75f-608d92a733c8"
      },
      "source": [
        "print(a)"
      ],
      "execution_count": null,
      "outputs": [
        {
          "output_type": "stream",
          "text": [
            "0.9522310346915299\n"
          ],
          "name": "stdout"
        }
      ]
    },
    {
      "cell_type": "code",
      "metadata": {
        "id": "YRifl_-L9Oke",
        "colab_type": "code",
        "colab": {}
      },
      "source": [
        "b = sklearn.metrics.recall_score(y_test,y_pred)"
      ],
      "execution_count": null,
      "outputs": []
    },
    {
      "cell_type": "code",
      "metadata": {
        "id": "9Qctd84K9Okg",
        "colab_type": "code",
        "colab": {},
        "outputId": "139b8623-397b-4271-e08e-d9da89310f2c"
      },
      "source": [
        "print(b)"
      ],
      "execution_count": null,
      "outputs": [
        {
          "output_type": "stream",
          "text": [
            "0.9895558072228514\n"
          ],
          "name": "stdout"
        }
      ]
    },
    {
      "cell_type": "code",
      "metadata": {
        "id": "6QhdaICg9Okk",
        "colab_type": "code",
        "colab": {},
        "outputId": "e36da80b-7885-4ae9-f944-ae7589303d86"
      },
      "source": [
        "c = sklearn.metrics.f1_score(y_test,y_pred)\n",
        "print(c)"
      ],
      "execution_count": null,
      "outputs": [
        {
          "output_type": "stream",
          "text": [
            "0.9705346950109531\n"
          ],
          "name": "stdout"
        }
      ]
    },
    {
      "cell_type": "code",
      "metadata": {
        "id": "8bEHs2Ng9Okm",
        "colab_type": "code",
        "colab": {}
      },
      "source": [
        "# Increasing Recall \n",
        "\n",
        "y_pred_prob = probs.reshape(1,-1)"
      ],
      "execution_count": null,
      "outputs": []
    },
    {
      "cell_type": "code",
      "metadata": {
        "id": "5UkgHz8E9Oko",
        "colab_type": "code",
        "colab": {},
        "outputId": "bac4ad62-8bc6-4750-bed7-e19a66cc7f9b"
      },
      "source": [
        "print(y_pred_prob)"
      ],
      "execution_count": null,
      "outputs": [
        {
          "output_type": "stream",
          "text": [
            "[[0.18222966 0.80534854 0.40558146 ... 0.43920773 0.40117844 0.45449081]]\n"
          ],
          "name": "stdout"
        }
      ]
    },
    {
      "cell_type": "code",
      "metadata": {
        "id": "snWd8cfC9Okr",
        "colab_type": "code",
        "colab": {},
        "outputId": "75423680-b367-42f7-bd78-1dd9f8dc53be"
      },
      "source": [
        "from sklearn.preprocessing import binarize\n",
        "y_pred_class = binarize(y_pred_prob,0.40)[0]\n",
        "print(y_pred_class.astype(int))"
      ],
      "execution_count": null,
      "outputs": [
        {
          "output_type": "stream",
          "text": [
            "[0 1 1 ... 1 1 1]\n"
          ],
          "name": "stdout"
        }
      ]
    },
    {
      "cell_type": "code",
      "metadata": {
        "id": "QeI_7wXw9Oks",
        "colab_type": "code",
        "colab": {},
        "outputId": "ecc3b778-4863-4fbd-eb5b-9dce89f0900c"
      },
      "source": [
        "from sklearn.metrics import classification_report\n",
        "print(classification_report(y_test,y_pred_class))"
      ],
      "execution_count": null,
      "outputs": [
        {
          "output_type": "stream",
          "text": [
            "              precision    recall  f1-score   support\n",
            "\n",
            "         0.0       0.74      0.31      0.44     16000\n",
            "         1.0       0.56      0.89      0.69     15894\n",
            "\n",
            "   micro avg       0.60      0.60      0.60     31894\n",
            "   macro avg       0.65      0.60      0.56     31894\n",
            "weighted avg       0.65      0.60      0.56     31894\n",
            "\n"
          ],
          "name": "stdout"
        }
      ]
    },
    {
      "cell_type": "code",
      "metadata": {
        "id": "n9-wZDoG9Oku",
        "colab_type": "code",
        "colab": {},
        "outputId": "a6ed9acc-1e87-4f94-dfa3-573f75400707"
      },
      "source": [
        "cnf_matrix1 = metrics.confusion_matrix(y_test, y_pred_class)\n",
        "print(cnf_matrix1)"
      ],
      "execution_count": null,
      "outputs": [
        {
          "output_type": "stream",
          "text": [
            "[[ 5012 10988]\n",
            " [ 1786 14108]]\n"
          ],
          "name": "stdout"
        }
      ]
    },
    {
      "cell_type": "code",
      "metadata": {
        "id": "_UZfyRKE9Okx",
        "colab_type": "code",
        "colab": {},
        "outputId": "d86e4440-c01e-49a8-b40f-4fa59ce02499"
      },
      "source": [
        "class_names=[0,1] # name  of classes\n",
        "fig, ax = plt.subplots()\n",
        "tick_marks = np.arange(len(class_names))\n",
        "plt.xticks(tick_marks, class_names)\n",
        "plt.yticks(tick_marks, class_names)\n",
        "# create heatmap\n",
        "sns.heatmap(pd.DataFrame(cnf_matrix1), annot=True, cmap=\"YlGnBu\" ,fmt='g')\n",
        "ax.xaxis.set_label_position(\"top\")\n",
        "plt.tight_layout()\n",
        "plt.title('Confusion matrix', y=1.1)\n",
        "plt.ylabel('Actual label')\n",
        "plt.xlabel('Predicted label')"
      ],
      "execution_count": null,
      "outputs": [
        {
          "output_type": "execute_result",
          "data": {
            "text/plain": [
              "Text(0.5, 257.44, 'Predicted label')"
            ]
          },
          "metadata": {
            "tags": []
          },
          "execution_count": 62
        },
        {
          "output_type": "display_data",
          "data": {
            "image/png": "[encoded data removed]",
            "text/plain": [
              "<Figure size 432x288 with 2 Axes>"
            ]
          },
          "metadata": {
            "tags": [],
            "needs_background": "light"
          }
        }
      ]
    },
    {
      "cell_type": "code",
      "metadata": {
        "id": "2X2AHkpD9Okz",
        "colab_type": "code",
        "colab": {},
        "outputId": "e9f891cb-a9aa-4bcc-82ea-c58f4cd57926"
      },
      "source": [
        "Accuracy = metrics.accuracy_score(y_test,y_pred_class)\n",
        "acc = Accuracy*100\n",
        "print(acc)"
      ],
      "execution_count": null,
      "outputs": [
        {
          "output_type": "stream",
          "text": [
            "62.626199285132\n"
          ],
          "name": "stdout"
        }
      ]
    },
    {
      "cell_type": "code",
      "metadata": {
        "id": "ez09Hh-t9Ok2",
        "colab_type": "code",
        "colab": {},
        "outputId": "a174f3ad-30ed-4a55-c8a2-e2930f1571fb"
      },
      "source": [
        "auc1 = roc_auc_score(, probs)\n",
        "print(auc1)"
      ],
      "execution_count": null,
      "outputs": [
        {
          "output_type": "stream",
          "text": [
            "0.7398450869825091\n"
          ],
          "name": "stdout"
        }
      ]
    },
    {
      "cell_type": "code",
      "metadata": {
        "id": "0u8_0qyL9Ok5",
        "colab_type": "code",
        "colab": {}
      },
      "source": [
        ""
      ],
      "execution_count": null,
      "outputs": []
    }
  ]
}