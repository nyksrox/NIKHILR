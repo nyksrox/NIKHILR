{
  "nbformat": 4,
  "nbformat_minor": 0,
  "metadata": {
    "kernelspec": {
      "display_name": "Python 3",
      "language": "python",
      "name": "python3"
    },
    "language_info": {
      "codemirror_mode": {
        "name": "ipython",
        "version": 3
      },
      "file_extension": ".py",
      "mimetype": "text/x-python",
      "name": "python",
      "nbconvert_exporter": "python",
      "pygments_lexer": "ipython3",
      "version": "3.7.3"
    },
    "colab": {
      "name": "Multiple Linear Regression Model.ipynb",
      "provenance": [],
      "collapsed_sections": [],
      "include_colab_link": true
    }
  },
  "cells": [
    {
      "cell_type": "markdown",
      "metadata": {
        "id": "view-in-github",
        "colab_type": "text"
      },
      "source": [
        "<a href=\"https://colab.research.google.com/github/nyksrox/NIKHILR/blob/master/Multiple_Linear_Regression_Model%20For%20Predicting%20Collections.ipynb\" target=\"_parent\"><img src=\"https://colab.research.google.com/assets/colab-badge.svg\" alt=\"Open In Colab\"/></a>"
      ]
    },
    {
      "cell_type": "code",
      "metadata": {
        "id": "WnLk4yHwy1au",
        "colab_type": "code",
        "colab": {}
      },
      "source": [
        "import pandas as pd\n",
        "import sklearn as sk\n"
      ],
      "execution_count": null,
      "outputs": []
    },
    {
      "cell_type": "code",
      "metadata": {
        "id": "IJAkkksVy1az",
        "colab_type": "code",
        "colab": {}
      },
      "source": [
        "df = pd.read_csv(\"C:\\\\Users\\\\nikhilran\\\\Desktop\\\\Presentation\\\\NewHealthCare_27_02.csv\",index_col=False)\n"
      ],
      "execution_count": null,
      "outputs": []
    },
    {
      "cell_type": "code",
      "metadata": {
        "id": "NCVBqQp0y1a2",
        "colab_type": "code",
        "colab": {},
        "outputId": "99029185-e534-4213-d7a3-392af779a9d8"
      },
      "source": [
        "print(df.dtypes)"
      ],
      "execution_count": null,
      "outputs": [
        {
          "output_type": "stream",
          "text": [
            "DISP                 int64\n",
            "CALLS                int64\n",
            "DU413_CALLS          int64\n",
            "ZIP5               float64\n",
            "DOB                  int64\n",
            "CITY                 int64\n",
            "STATE                int64\n",
            "INIT BAL           float64\n",
            "CHARGES            float64\n",
            "CLIENT NAME          int64\n",
            "PT SEX               int64\n",
            "PT MS                int64\n",
            "LIST DT              int64\n",
            "PT AREA            float64\n",
            "PT PF                int64\n",
            "RP PF                int64\n",
            "SEED #               int64\n",
            "ADMIT DT             int64\n",
            "DSCHG DT             int64\n",
            "TU SCORE             int64\n",
            "BNKCRD AVLBLE        int64\n",
            "AMT PDUE 12 MNT      int64\n",
            "NUM DEROGAT ITM      int64\n",
            "TOTL PRIOR PMTS      int64\n",
            "ADMIT TYPE           int64\n",
            "ASSGN INDICATOR      int64\n",
            "F/C                  int64\n",
            "INS CO NAME          int64\n",
            "CHAPTER              int64\n",
            "LD CAUSE             int64\n",
            "BCARD HIGH CRDT      int64\n",
            "AGENCY CODE          int64\n",
            "ACCIDENT DATE        int64\n",
            "PAT TOT PMTS       float64\n",
            "PAT TOT ADJS       float64\n",
            "ALL INS PMTS       float64\n",
            "ALL INS ADJS       float64\n",
            "ACCT TOT CHRGS     float64\n",
            "COMISSION RATE       int64\n",
            "SERIES NUM           int64\n",
            "Service Locatn       int64\n",
            "Total Paid         float64\n",
            "Service Type         int64\n",
            "DRG CODE           float64\n",
            "PRI PROC DATE        int64\n",
            "Payment Status       int64\n",
            "AGE                float64\n",
            "AGE_ISSUE          float64\n",
            "dtype: object\n"
          ],
          "name": "stdout"
        }
      ]
    },
    {
      "cell_type": "code",
      "metadata": {
        "id": "RKr4wAmOy1a8",
        "colab_type": "code",
        "colab": {}
      },
      "source": [
        "from sklearn.impute import SimpleImputer\n",
        "imp = SimpleImputer(strategy=\"most_frequent\")\n",
        "df1 = pd.DataFrame(imp.fit_transform(df),columns=df.columns, index=df.index)"
      ],
      "execution_count": null,
      "outputs": []
    },
    {
      "cell_type": "code",
      "metadata": {
        "id": "3R4kVDVRy1bA",
        "colab_type": "code",
        "colab": {}
      },
      "source": [
        "y = df1.loc[:,'Total Paid']"
      ],
      "execution_count": null,
      "outputs": []
    },
    {
      "cell_type": "code",
      "metadata": {
        "id": "ZgfPK1Mwy1bD",
        "colab_type": "code",
        "colab": {}
      },
      "source": [
        "X = df1.drop(['Total Paid'],axis = 1)"
      ],
      "execution_count": null,
      "outputs": []
    },
    {
      "cell_type": "code",
      "metadata": {
        "id": "XeqkwO2by1bF",
        "colab_type": "code",
        "colab": {}
      },
      "source": [
        "from sklearn.model_selection import train_test_split\n",
        "X_train, X_test, y_train, y_test = train_test_split(X, y, test_size=0.33, random_state=42)"
      ],
      "execution_count": null,
      "outputs": []
    },
    {
      "cell_type": "code",
      "metadata": {
        "id": "SG1HwjuJy1bI",
        "colab_type": "code",
        "colab": {},
        "outputId": "fb6946da-c5be-4709-eb7c-3fa2d56b3f61"
      },
      "source": [
        "from sklearn.linear_model import LinearRegression\n",
        "regressor = LinearRegression()\n",
        "regressor.fit(X_train,y_train)"
      ],
      "execution_count": null,
      "outputs": [
        {
          "output_type": "execute_result",
          "data": {
            "text/plain": [
              "LinearRegression(copy_X=True, fit_intercept=True, n_jobs=None,\n",
              "         normalize=False)"
            ]
          },
          "metadata": {
            "tags": []
          },
          "execution_count": 8
        }
      ]
    },
    {
      "cell_type": "code",
      "metadata": {
        "id": "2-nz1y6Ly1bM",
        "colab_type": "code",
        "colab": {},
        "outputId": "d98ee306-77a3-4ce4-8562-c442655a0e7a"
      },
      "source": [
        "print(regressor.intercept_)"
      ],
      "execution_count": null,
      "outputs": [
        {
          "output_type": "stream",
          "text": [
            "15647.479491792079\n"
          ],
          "name": "stdout"
        }
      ]
    },
    {
      "cell_type": "code",
      "metadata": {
        "id": "P6Bdaprly1bP",
        "colab_type": "code",
        "colab": {},
        "outputId": "3f8be975-9a80-41f6-f8ac-13b1fb393573"
      },
      "source": [
        "print(regressor.coef_)"
      ],
      "execution_count": null,
      "outputs": [
        {
          "output_type": "stream",
          "text": [
            "[-2.62223465e-03  1.85527155e-04  5.50963035e-06  2.70550769e-04\n",
            "  8.72283095e-08  1.58247353e-05 -7.94854049e-05 -1.98428263e-02\n",
            "  1.47362299e-02 -1.14471478e-06 -2.13176106e-06 -1.27967867e-06\n",
            " -2.16720138e-16  5.77144555e-03 -5.70301346e-06 -1.90237598e-06\n",
            " -1.26520147e-04 -5.20847193e-03 -5.04828438e-03  4.11015140e-03\n",
            " -6.75062208e-04 -2.43708998e-04  6.70385340e-07  0.00000000e+00\n",
            "  7.94644562e-04  3.66131080e-05 -3.12769455e-05  9.35686521e-03\n",
            "  1.08891116e-06  5.41258976e-07  1.79558766e-03 -4.33487215e-06\n",
            " -1.17863429e-03  9.93572432e-01  2.06425977e-04  2.59960856e-02\n",
            "  1.96464027e-02  5.02823979e-03  0.00000000e+00  0.00000000e+00\n",
            " -6.93198658e-06  8.24644723e-03  3.25089385e-02 -1.53849116e-03\n",
            "  8.74831677e-06 -4.60785923e-18 -2.74649247e-15]\n"
          ],
          "name": "stdout"
        }
      ]
    },
    {
      "cell_type": "code",
      "metadata": {
        "id": "ixTMSaPzy1bS",
        "colab_type": "code",
        "colab": {}
      },
      "source": [
        "y_pred = regressor.predict(X_test)"
      ],
      "execution_count": null,
      "outputs": []
    },
    {
      "cell_type": "code",
      "metadata": {
        "id": "R9U4owMOy1bW",
        "colab_type": "code",
        "colab": {}
      },
      "source": [
        "#seed = 7\n",
        "#from sklearn.model_selection import KFold\n",
        "#kfold = KFold(n_splits=10, random_state=seed)\n",
        "#model = LinearRegression()\n",
        "#scoring = 'r2'\n",
        "#results = model_selection.cross_val_score(model, X, y, cv=kfold, scoring=scoring)\n",
        "#print(\"R^2: %.3f (%.3f)\") % (results.mean(), results.std())"
      ],
      "execution_count": null,
      "outputs": []
    },
    {
      "cell_type": "code",
      "metadata": {
        "id": "Acr2HAyIy1bZ",
        "colab_type": "code",
        "colab": {}
      },
      "source": [
        "from sklearn.metrics import r2_score"
      ],
      "execution_count": null,
      "outputs": []
    },
    {
      "cell_type": "code",
      "metadata": {
        "id": "g6A1LYedy1bc",
        "colab_type": "code",
        "colab": {}
      },
      "source": [
        "score = r2_score(y_test,y_pred)"
      ],
      "execution_count": null,
      "outputs": []
    },
    {
      "cell_type": "code",
      "metadata": {
        "id": "p15F3nZry1bg",
        "colab_type": "code",
        "colab": {},
        "outputId": "da53429a-188f-4460-e899-e2f98d9a12bc"
      },
      "source": [
        "print(\"R-Square score for the model :\", score)"
      ],
      "execution_count": null,
      "outputs": [
        {
          "output_type": "stream",
          "text": [
            "R-Square score for the model : 0.9983865712125445\n"
          ],
          "name": "stdout"
        }
      ]
    },
    {
      "cell_type": "code",
      "metadata": {
        "id": "xhH3zO87y1bj",
        "colab_type": "code",
        "colab": {}
      },
      "source": [
        ""
      ],
      "execution_count": null,
      "outputs": []
    }
  ]
}