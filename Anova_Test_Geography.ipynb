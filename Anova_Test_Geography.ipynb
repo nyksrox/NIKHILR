{
  "nbformat": 4,
  "nbformat_minor": 0,
  "metadata": {
    "kernelspec": {
      "display_name": "Python 3",
      "language": "python",
      "name": "python3"
    },
    "language_info": {
      "codemirror_mode": {
        "name": "ipython",
        "version": 3
      },
      "file_extension": ".py",
      "mimetype": "text/x-python",
      "name": "python",
      "nbconvert_exporter": "python",
      "pygments_lexer": "ipython3",
      "version": "3.7.3"
    },
    "colab": {
      "name": "Anova_Test - Geography.ipynb",
      "provenance": [],
      "collapsed_sections": [],
      "include_colab_link": true
    }
  },
  "cells": [
    {
      "cell_type": "markdown",
      "metadata": {
        "id": "view-in-github",
        "colab_type": "text"
      },
      "source": [
        "<a href=\"https://colab.research.google.com/github/nyksrox/NIKHILR/blob/master/Anova_Test_Geography.ipynb\" target=\"_parent\"><img src=\"https://colab.research.google.com/assets/colab-badge.svg\" alt=\"Open In Colab\"/></a>"
      ]
    },
    {
      "cell_type": "code",
      "metadata": {
        "id": "fnyVMvZNGMZy",
        "colab_type": "code",
        "colab": {}
      },
      "source": [
        "import pandas as pd\n",
        "import numpy as np\n",
        "\n",
        "from scipy import stats\n",
        "# chi-squared test with similar proportions\n",
        "#from scipy.stats import chi2_contingency\n",
        "#from scipy.stats import chi2\n",
        "    \n",
        "data = pd.read_csv(\"C:\\\\Users\\\\nikhilran\\\\Desktop\\\\Anupam\\\\chiSquare\\\\X2.csv\")"
      ],
      "execution_count": null,
      "outputs": []
    },
    {
      "cell_type": "code",
      "metadata": {
        "id": "9hoVZNAxGMZ6",
        "colab_type": "code",
        "colab": {}
      },
      "source": [
        "data1 = data[data['Geography']==\"03729E6F7fXbc314R8bNnkaFKAoVvA==\"]\n",
        "data11 = data1['Mean Scores']"
      ],
      "execution_count": null,
      "outputs": []
    },
    {
      "cell_type": "code",
      "metadata": {
        "id": "67pNNwCtGMaB",
        "colab_type": "code",
        "colab": {}
      },
      "source": [
        "data2 = data[data['Geography']==\"0F26E09D7fXbc314R8aNgUxjFgCEZA==\"]\n",
        "data22 = data2['Mean Scores']"
      ],
      "execution_count": null,
      "outputs": []
    },
    {
      "cell_type": "code",
      "metadata": {
        "id": "sToDOiYaGMaI",
        "colab_type": "code",
        "colab": {}
      },
      "source": [
        "data3 = data[data['Geography']==\"2C2661C2zRNZlqObOuasgXNlHW3zFQ==\"]\n",
        "data33 = data3['Mean Scores']"
      ],
      "execution_count": null,
      "outputs": []
    },
    {
      "cell_type": "code",
      "metadata": {
        "id": "Rddn0O6eGMaP",
        "colab_type": "code",
        "colab": {}
      },
      "source": [
        "data4 = data[data['Geography']==\"3A7909CEINBgeiMD1sMaxv8Zj8T9aw==\"]\n",
        "data44 = data4['Mean Scores']"
      ],
      "execution_count": null,
      "outputs": []
    },
    {
      "cell_type": "code",
      "metadata": {
        "id": "5YKe_HyTGMaW",
        "colab_type": "code",
        "colab": {}
      },
      "source": [
        "data5 = data[data['Geography']==\"B00A8BB47fXbc314R8aoXSZLVh63fQ==\"]\n",
        "data55 = data5['Mean Scores']"
      ],
      "execution_count": null,
      "outputs": []
    },
    {
      "cell_type": "code",
      "metadata": {
        "id": "E0Jvn67eGMab",
        "colab_type": "code",
        "colab": {},
        "outputId": "9c7418f0-11a3-40af-983f-4cc5dffcbe79"
      },
      "source": [
        "import scipy\n",
        "scipy.stats.f_oneway(data11,data22,data33,data44,data55)"
      ],
      "execution_count": null,
      "outputs": [
        {
          "output_type": "execute_result",
          "data": {
            "text/plain": [
              "F_onewayResult(statistic=13290.832640965416, pvalue=0.0)"
            ]
          },
          "metadata": {
            "tags": []
          },
          "execution_count": 7
        }
      ]
    },
    {
      "cell_type": "code",
      "metadata": {
        "id": "lUI9g7GLGMai",
        "colab_type": "code",
        "colab": {},
        "outputId": "2d38a6f9-3783-4331-82fc-030bdf6c5937"
      },
      "source": [
        "scipy.stats.kruskal(data11,data22,data33,data44,data55)"
      ],
      "execution_count": null,
      "outputs": [
        {
          "output_type": "stream",
          "text": [
            "C:\\Users\\nikhilran\\AppData\\Roaming\\Python\\Python37\\site-packages\\scipy\\stats\\stats.py:5879: RuntimeWarning: overflow encountered in long_scalars\n",
            "  h = 12.0 / (totaln * (totaln + 1)) * ssbn - 3 * (totaln + 1)\n"
          ],
          "name": "stderr"
        },
        {
          "output_type": "execute_result",
          "data": {
            "text/plain": [
              "KruskalResult(statistic=41213831779.88709, pvalue=0.0)"
            ]
          },
          "metadata": {
            "tags": []
          },
          "execution_count": 8
        }
      ]
    },
    {
      "cell_type": "code",
      "metadata": {
        "id": "mcSIP4NlGMal",
        "colab_type": "code",
        "colab": {}
      },
      "source": [
        "#a = stats.ttest_ind(data11, data22,equal_var=True)"
      ],
      "execution_count": null,
      "outputs": []
    },
    {
      "cell_type": "code",
      "metadata": {
        "id": "CiEiGYfBGMap",
        "colab_type": "code",
        "colab": {},
        "outputId": "d22d4e89-7e23-41de-c557-39d2f2adfd8a"
      },
      "source": [
        "#print(a)\n",
        "#print(a.statistic)"
      ],
      "execution_count": null,
      "outputs": [
        {
          "output_type": "stream",
          "text": [
            "Ttest_indResult(statistic=-64.93768314295343, pvalue=0.0)\n",
            "-64.93768314295343\n"
          ],
          "name": "stdout"
        }
      ]
    },
    {
      "cell_type": "code",
      "metadata": {
        "id": "sqLJ1S_QGMar",
        "colab_type": "code",
        "colab": {},
        "outputId": "665e03ca-191a-4449-a0ac-f0b56b3b1c65"
      },
      "source": [
        "#print(len(data11))"
      ],
      "execution_count": null,
      "outputs": [
        {
          "output_type": "stream",
          "text": [
            "272480\n"
          ],
          "name": "stdout"
        }
      ]
    },
    {
      "cell_type": "code",
      "metadata": {
        "id": "ii4wrMKIGMau",
        "colab_type": "code",
        "colab": {},
        "outputId": "f1ad7697-4217-4cf0-dd84-32830b4e7036"
      },
      "source": [
        "from statistics import *\n",
        "from scipy import sem"
      ],
      "execution_count": null,
      "outputs": [
        {
          "output_type": "error",
          "ename": "ImportError",
          "evalue": "cannot import name 'sem' from 'scipy' (C:\\Users\\nikhilran\\AppData\\Roaming\\Python\\Python37\\site-packages\\scipy\\__init__.py)",
          "traceback": [
            "\u001b[1;31m---------------------------------------------------------------------------\u001b[0m",
            "\u001b[1;31mImportError\u001b[0m                               Traceback (most recent call last)",
            "\u001b[1;32m<ipython-input-19-431c591af7e9>\u001b[0m in \u001b[0;36m<module>\u001b[1;34m\u001b[0m\n\u001b[0;32m      1\u001b[0m \u001b[1;32mfrom\u001b[0m \u001b[0mstatistics\u001b[0m \u001b[1;32mimport\u001b[0m \u001b[1;33m*\u001b[0m\u001b[1;33m\u001b[0m\u001b[1;33m\u001b[0m\u001b[0m\n\u001b[1;32m----> 2\u001b[1;33m \u001b[1;32mfrom\u001b[0m \u001b[0mscipy\u001b[0m \u001b[1;32mimport\u001b[0m \u001b[0msem\u001b[0m\u001b[1;33m\u001b[0m\u001b[1;33m\u001b[0m\u001b[0m\n\u001b[0m",
            "\u001b[1;31mImportError\u001b[0m: cannot import name 'sem' from 'scipy' (C:\\Users\\nikhilran\\AppData\\Roaming\\Python\\Python37\\site-packages\\scipy\\__init__.py)"
          ]
        }
      ]
    },
    {
      "cell_type": "code",
      "metadata": {
        "id": "P484gvBSGMax",
        "colab_type": "code",
        "colab": {},
        "outputId": "7b45bc30-a995-4164-d525-22d67a98aabb"
      },
      "source": [
        "print(data11.head())\n",
        "print(data22.head())"
      ],
      "execution_count": null,
      "outputs": [
        {
          "output_type": "stream",
          "text": [
            "0     5\n",
            "5     5\n",
            "11    5\n",
            "12    0\n",
            "27    4\n",
            "Name: Mean Scores, dtype: int64\n",
            "1    0\n",
            "2    5\n",
            "3    0\n",
            "4    0\n",
            "6    1\n",
            "Name: Mean Scores, dtype: int64\n"
          ],
          "name": "stdout"
        }
      ]
    },
    {
      "cell_type": "code",
      "metadata": {
        "id": "aD3eNqnuGMa1",
        "colab_type": "code",
        "colab": {}
      },
      "source": [
        "# function for calculating the t-test for two independent samples\n",
        "def independent_ttest(data1, data2, alpha):\n",
        "\t# calculate means\n",
        "\tmean1, mean2 = mean(data1), mean(data2)\n",
        "\t# calculate standard errors\n",
        "\tse1, se2 = sem(data1), sem(data2)\n",
        "    // calculation of standard error of mean\n",
        "\t# standard error on the difference between the samples\n",
        "\tsed = sqrt(se1**2.0 + se2**2.0)\n",
        "\t# calculate the t statistic\n",
        "\tt_stat = (mean1 - mean2) / sed\n",
        "\t# degrees of freedom\n",
        "\tdf = len(data1) + len(data2) - 2\n",
        "\t# calculate the critical value\n",
        "\tcv = t.ppf(1.0 - alpha, df)\n",
        "\t# calculate the p-value\n",
        "\tp = (1.0 - t.cdf(abs(t_stat), df)) * 2.0\n",
        "\t# return everything\n",
        "\treturn t_stat, df, cv, p"
      ],
      "execution_count": null,
      "outputs": []
    },
    {
      "cell_type": "code",
      "metadata": {
        "id": "m1ot5aLKGMa6",
        "colab_type": "code",
        "colab": {},
        "outputId": "b023c69a-66e2-4526-8fba-6dd1c5318687"
      },
      "source": [
        "independent_ttest(data11,data22,0.05)"
      ],
      "execution_count": null,
      "outputs": [
        {
          "output_type": "error",
          "ename": "NameError",
          "evalue": "name 'sem' is not defined",
          "traceback": [
            "\u001b[1;31m---------------------------------------------------------------------------\u001b[0m",
            "\u001b[1;31mNameError\u001b[0m                                 Traceback (most recent call last)",
            "\u001b[1;32m<ipython-input-16-450909f8d041>\u001b[0m in \u001b[0;36m<module>\u001b[1;34m\u001b[0m\n\u001b[1;32m----> 1\u001b[1;33m \u001b[0mindependent_ttest\u001b[0m\u001b[1;33m(\u001b[0m\u001b[0mdata11\u001b[0m\u001b[1;33m,\u001b[0m\u001b[0mdata22\u001b[0m\u001b[1;33m,\u001b[0m\u001b[1;36m0.05\u001b[0m\u001b[1;33m)\u001b[0m\u001b[1;33m\u001b[0m\u001b[1;33m\u001b[0m\u001b[0m\n\u001b[0m",
            "\u001b[1;32m<ipython-input-15-4124a7b43346>\u001b[0m in \u001b[0;36mindependent_ttest\u001b[1;34m(data1, data2, alpha)\u001b[0m\n\u001b[0;32m      4\u001b[0m         \u001b[0mmean1\u001b[0m\u001b[1;33m,\u001b[0m \u001b[0mmean2\u001b[0m \u001b[1;33m=\u001b[0m \u001b[0mmean\u001b[0m\u001b[1;33m(\u001b[0m\u001b[0mdata1\u001b[0m\u001b[1;33m)\u001b[0m\u001b[1;33m,\u001b[0m \u001b[0mmean\u001b[0m\u001b[1;33m(\u001b[0m\u001b[0mdata2\u001b[0m\u001b[1;33m)\u001b[0m\u001b[1;33m\u001b[0m\u001b[1;33m\u001b[0m\u001b[0m\n\u001b[0;32m      5\u001b[0m         \u001b[1;31m# calculate standard errors\u001b[0m\u001b[1;33m\u001b[0m\u001b[1;33m\u001b[0m\u001b[1;33m\u001b[0m\u001b[0m\n\u001b[1;32m----> 6\u001b[1;33m         \u001b[0mse1\u001b[0m\u001b[1;33m,\u001b[0m \u001b[0mse2\u001b[0m \u001b[1;33m=\u001b[0m \u001b[0msem\u001b[0m\u001b[1;33m(\u001b[0m\u001b[0mdata1\u001b[0m\u001b[1;33m)\u001b[0m\u001b[1;33m,\u001b[0m \u001b[0msem\u001b[0m\u001b[1;33m(\u001b[0m\u001b[0mdata2\u001b[0m\u001b[1;33m)\u001b[0m\u001b[1;33m\u001b[0m\u001b[1;33m\u001b[0m\u001b[0m\n\u001b[0m\u001b[0;32m      7\u001b[0m         \u001b[1;31m# standard error on the difference between the samples\u001b[0m\u001b[1;33m\u001b[0m\u001b[1;33m\u001b[0m\u001b[1;33m\u001b[0m\u001b[0m\n\u001b[0;32m      8\u001b[0m         \u001b[0msed\u001b[0m \u001b[1;33m=\u001b[0m \u001b[0msqrt\u001b[0m\u001b[1;33m(\u001b[0m\u001b[0mse1\u001b[0m\u001b[1;33m**\u001b[0m\u001b[1;36m2.0\u001b[0m \u001b[1;33m+\u001b[0m \u001b[0mse2\u001b[0m\u001b[1;33m**\u001b[0m\u001b[1;36m2.0\u001b[0m\u001b[1;33m)\u001b[0m\u001b[1;33m\u001b[0m\u001b[1;33m\u001b[0m\u001b[0m\n",
            "\u001b[1;31mNameError\u001b[0m: name 'sem' is not defined"
          ]
        }
      ]
    },
    {
      "cell_type": "code",
      "metadata": {
        "id": "zVs23vJHGMa9",
        "colab_type": "code",
        "colab": {}
      },
      "source": [
        "dice = pd.DataFrame([data11,data22]).to_numpy()"
      ],
      "execution_count": null,
      "outputs": []
    },
    {
      "cell_type": "code",
      "metadata": {
        "id": "WZy1PvuTGMbB",
        "colab_type": "code",
        "colab": {},
        "outputId": "55597e09-fc24-488a-e064-2d0a85d5f906"
      },
      "source": [
        "stat, p, dof, expected = chi2_contingency(dice)"
      ],
      "execution_count": null,
      "outputs": [
        {
          "output_type": "stream",
          "text": [
            "C:\\Users\\nikhilran\\AppData\\Roaming\\Python\\Python37\\site-packages\\scipy\\stats\\contingency.py:244: RuntimeWarning: invalid value encountered in less\n",
            "  if np.any(observed < 0):\n",
            "C:\\Users\\nikhilran\\AppData\\Roaming\\Python\\Python37\\site-packages\\scipy\\stats\\_distn_infrastructure.py:901: RuntimeWarning: invalid value encountered in greater\n",
            "  return (a < x) & (x < b)\n",
            "C:\\Users\\nikhilran\\AppData\\Roaming\\Python\\Python37\\site-packages\\scipy\\stats\\_distn_infrastructure.py:901: RuntimeWarning: invalid value encountered in less\n",
            "  return (a < x) & (x < b)\n",
            "C:\\Users\\nikhilran\\AppData\\Roaming\\Python\\Python37\\site-packages\\scipy\\stats\\_distn_infrastructure.py:1892: RuntimeWarning: invalid value encountered in less_equal\n",
            "  cond2 = cond0 & (x <= _a)\n"
          ],
          "name": "stderr"
        }
      ]
    },
    {
      "cell_type": "code",
      "metadata": {
        "id": "qUFg_42JGMbE",
        "colab_type": "code",
        "colab": {},
        "outputId": "5c16f21d-db27-44d5-a3b1-c3034508b64f"
      },
      "source": [
        "print('dof=%d' % dof)\n",
        "print(expected)\n",
        "# interpret test-statistic\n",
        "prob = 0.95\n",
        "critical = chi2.ppf(prob, dof)\n",
        "print('probability=%.3f, critical=%.3f, stat=%.3f' % (prob, critical, stat))\n",
        "if abs(stat) >= critical:\n",
        "\tprint('Dependent (reject H0)')\n",
        "else:\n",
        "\tprint('Independent (fail to reject H0)')\n",
        "# interpret p-value\n",
        "alpha = 1.0 - prob\n",
        "print('significance=%.3f, p=%.3f' % (alpha, p))\n",
        "if p <= alpha:\n",
        "\tprint('Dependent (reject H0)')\n",
        "else:\n",
        "\tprint('Independent (fail to reject H0)')"
      ],
      "execution_count": null,
      "outputs": [
        {
          "output_type": "stream",
          "text": [
            "dof=617519\n",
            "[[nan nan nan ... nan nan nan]\n",
            " [nan nan nan ... nan nan nan]]\n",
            "probability=0.950, critical=619348.099, stat=nan\n",
            "Independent (fail to reject H0)\n",
            "significance=0.050, p=nan\n",
            "Independent (fail to reject H0)\n"
          ],
          "name": "stdout"
        }
      ]
    },
    {
      "cell_type": "code",
      "metadata": {
        "id": "cTWInadqGMbJ",
        "colab_type": "code",
        "colab": {}
      },
      "source": [
        ""
      ],
      "execution_count": null,
      "outputs": []
    }
  ]
}